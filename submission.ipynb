{
  "nbformat": 4,
  "nbformat_minor": 0,
  "metadata": {
    "colab": {
      "name": "submission.ipynb",
      "provenance": [],
      "collapsed_sections": [],
      "machine_shape": "hm"
    },
    "kernelspec": {
      "name": "python3",
      "display_name": "Python 3"
    },
    "accelerator": "GPU"
  },
  "cells": [
    {
      "cell_type": "code",
      "metadata": {
        "id": "7zzNtLROKps0",
        "colab_type": "code",
        "outputId": "189a7968-5a5e-4818-c81b-f5891945b6a1",
        "colab": {
          "base_uri": "https://localhost:8080/",
          "height": 118
        }
      },
      "source": [
        "from google.colab import drive\n",
        "drive.mount('/content/drive')"
      ],
      "execution_count": 1,
      "outputs": [
        {
          "output_type": "stream",
          "text": [
            "Go to this URL in a browser: https://accounts.google.com/o/oauth2/auth?client_id=947318989803-6bn6qk8qdgf4n4g3pfee6491hc0brc4i.apps.googleusercontent.com&redirect_uri=urn%3aietf%3awg%3aoauth%3a2.0%3aoob&response_type=code&scope=email%20https%3a%2f%2fwww.googleapis.com%2fauth%2fdocs.test%20https%3a%2f%2fwww.googleapis.com%2fauth%2fdrive%20https%3a%2f%2fwww.googleapis.com%2fauth%2fdrive.photos.readonly%20https%3a%2f%2fwww.googleapis.com%2fauth%2fpeopleapi.readonly\n",
            "\n",
            "Enter your authorization code:\n",
            "··········\n",
            "Mounted at /content/drive\n"
          ],
          "name": "stdout"
        }
      ]
    },
    {
      "cell_type": "code",
      "metadata": {
        "id": "eodyo4zVIMcF",
        "colab_type": "code",
        "outputId": "efc323d6-6177-49ed-e58b-1afb732480de",
        "colab": {
          "base_uri": "https://localhost:8080/",
          "height": 635
        }
      },
      "source": [
        "%tensorflow_version 1.x\n",
        "!pip install tensorflow-gpu==1.14.0"
      ],
      "execution_count": 2,
      "outputs": [
        {
          "output_type": "stream",
          "text": [
            "TensorFlow 1.x selected.\n",
            "Collecting tensorflow-gpu==1.14.0\n",
            "\u001b[?25l  Downloading https://files.pythonhosted.org/packages/76/04/43153bfdfcf6c9a4c38ecdb971ca9a75b9a791bb69a764d652c359aca504/tensorflow_gpu-1.14.0-cp36-cp36m-manylinux1_x86_64.whl (377.0MB)\n",
            "\u001b[K     |████████████████████████████████| 377.0MB 42kB/s \n",
            "\u001b[?25hCollecting tensorboard<1.15.0,>=1.14.0\n",
            "\u001b[?25l  Downloading https://files.pythonhosted.org/packages/91/2d/2ed263449a078cd9c8a9ba50ebd50123adf1f8cfbea1492f9084169b89d9/tensorboard-1.14.0-py3-none-any.whl (3.1MB)\n",
            "\u001b[K     |████████████████████████████████| 3.2MB 29.9MB/s \n",
            "\u001b[?25hRequirement already satisfied: keras-preprocessing>=1.0.5 in /usr/local/lib/python3.6/dist-packages (from tensorflow-gpu==1.14.0) (1.1.0)\n",
            "Requirement already satisfied: google-pasta>=0.1.6 in /usr/local/lib/python3.6/dist-packages (from tensorflow-gpu==1.14.0) (0.2.0)\n",
            "Requirement already satisfied: six>=1.10.0 in /usr/local/lib/python3.6/dist-packages (from tensorflow-gpu==1.14.0) (1.12.0)\n",
            "Requirement already satisfied: wheel>=0.26 in /usr/local/lib/python3.6/dist-packages (from tensorflow-gpu==1.14.0) (0.34.2)\n",
            "Requirement already satisfied: gast>=0.2.0 in /usr/local/lib/python3.6/dist-packages (from tensorflow-gpu==1.14.0) (0.3.3)\n",
            "Requirement already satisfied: keras-applications>=1.0.6 in /usr/local/lib/python3.6/dist-packages (from tensorflow-gpu==1.14.0) (1.0.8)\n",
            "Requirement already satisfied: wrapt>=1.11.1 in /usr/local/lib/python3.6/dist-packages (from tensorflow-gpu==1.14.0) (1.12.1)\n",
            "Requirement already satisfied: protobuf>=3.6.1 in /usr/local/lib/python3.6/dist-packages (from tensorflow-gpu==1.14.0) (3.10.0)\n",
            "Requirement already satisfied: termcolor>=1.1.0 in /usr/local/lib/python3.6/dist-packages (from tensorflow-gpu==1.14.0) (1.1.0)\n",
            "Requirement already satisfied: numpy<2.0,>=1.14.5 in /usr/local/lib/python3.6/dist-packages (from tensorflow-gpu==1.14.0) (1.18.2)\n",
            "Requirement already satisfied: astor>=0.6.0 in /usr/local/lib/python3.6/dist-packages (from tensorflow-gpu==1.14.0) (0.8.1)\n",
            "Requirement already satisfied: absl-py>=0.7.0 in /usr/local/lib/python3.6/dist-packages (from tensorflow-gpu==1.14.0) (0.9.0)\n",
            "Requirement already satisfied: grpcio>=1.8.6 in /usr/local/lib/python3.6/dist-packages (from tensorflow-gpu==1.14.0) (1.28.1)\n",
            "Collecting tensorflow-estimator<1.15.0rc0,>=1.14.0rc0\n",
            "\u001b[?25l  Downloading https://files.pythonhosted.org/packages/3c/d5/21860a5b11caf0678fbc8319341b0ae21a07156911132e0e71bffed0510d/tensorflow_estimator-1.14.0-py2.py3-none-any.whl (488kB)\n",
            "\u001b[K     |████████████████████████████████| 491kB 42.4MB/s \n",
            "\u001b[?25hRequirement already satisfied: werkzeug>=0.11.15 in /usr/local/lib/python3.6/dist-packages (from tensorboard<1.15.0,>=1.14.0->tensorflow-gpu==1.14.0) (1.0.1)\n",
            "Requirement already satisfied: markdown>=2.6.8 in /usr/local/lib/python3.6/dist-packages (from tensorboard<1.15.0,>=1.14.0->tensorflow-gpu==1.14.0) (3.2.1)\n",
            "Requirement already satisfied: setuptools>=41.0.0 in /usr/local/lib/python3.6/dist-packages (from tensorboard<1.15.0,>=1.14.0->tensorflow-gpu==1.14.0) (46.1.3)\n",
            "Requirement already satisfied: h5py in /usr/local/lib/python3.6/dist-packages (from keras-applications>=1.0.6->tensorflow-gpu==1.14.0) (2.10.0)\n",
            "\u001b[31mERROR: tensorflow 1.15.2 has requirement gast==0.2.2, but you'll have gast 0.3.3 which is incompatible.\u001b[0m\n",
            "\u001b[31mERROR: tensorflow 1.15.2 has requirement tensorboard<1.16.0,>=1.15.0, but you'll have tensorboard 1.14.0 which is incompatible.\u001b[0m\n",
            "\u001b[31mERROR: tensorflow 1.15.2 has requirement tensorflow-estimator==1.15.1, but you'll have tensorflow-estimator 1.14.0 which is incompatible.\u001b[0m\n",
            "Installing collected packages: tensorboard, tensorflow-estimator, tensorflow-gpu\n",
            "  Found existing installation: tensorboard 1.15.0\n",
            "    Uninstalling tensorboard-1.15.0:\n",
            "      Successfully uninstalled tensorboard-1.15.0\n",
            "  Found existing installation: tensorflow-estimator 1.15.1\n",
            "    Uninstalling tensorflow-estimator-1.15.1:\n",
            "      Successfully uninstalled tensorflow-estimator-1.15.1\n",
            "Successfully installed tensorboard-2.2.0 tensorflow-estimator-2.2.0rc0 tensorflow-gpu-1.14.0\n"
          ],
          "name": "stdout"
        }
      ]
    },
    {
      "cell_type": "code",
      "metadata": {
        "id": "qIptQgjW4Qtl",
        "colab_type": "code",
        "outputId": "e52265ae-f53f-4b2f-e8c7-8ba051be4fe4",
        "colab": {
          "base_uri": "https://localhost:8080/",
          "height": 115
        }
      },
      "source": [
        "!pip install bert-tensorflow"
      ],
      "execution_count": 3,
      "outputs": [
        {
          "output_type": "stream",
          "text": [
            "Collecting bert-tensorflow\n",
            "\u001b[?25l  Downloading https://files.pythonhosted.org/packages/a6/66/7eb4e8b6ea35b7cc54c322c816f976167a43019750279a8473d355800a93/bert_tensorflow-1.0.1-py2.py3-none-any.whl (67kB)\n",
            "\r\u001b[K     |████▉                           | 10kB 21.2MB/s eta 0:00:01\r\u001b[K     |█████████▊                      | 20kB 1.7MB/s eta 0:00:01\r\u001b[K     |██████████████▋                 | 30kB 2.5MB/s eta 0:00:01\r\u001b[K     |███████████████████▍            | 40kB 1.7MB/s eta 0:00:01\r\u001b[K     |████████████████████████▎       | 51kB 2.1MB/s eta 0:00:01\r\u001b[K     |█████████████████████████████▏  | 61kB 2.5MB/s eta 0:00:01\r\u001b[K     |████████████████████████████████| 71kB 2.2MB/s \n",
            "\u001b[?25hRequirement already satisfied: six in /usr/local/lib/python3.6/dist-packages (from bert-tensorflow) (1.12.0)\n",
            "Installing collected packages: bert-tensorflow\n",
            "Successfully installed bert-tensorflow-1.0.1\n"
          ],
          "name": "stdout"
        }
      ]
    },
    {
      "cell_type": "code",
      "metadata": {
        "id": "lFEUWjyGHvG-",
        "colab_type": "code",
        "outputId": "1af42e02-1deb-452b-cb1b-41a7bdde968a",
        "colab": {
          "base_uri": "https://localhost:8080/",
          "height": 297
        }
      },
      "source": [
        "from sklearn.model_selection import train_test_split\n",
        "import pandas as pd\n",
        "import numpy as np\n",
        "from datetime import datetime\n",
        "import tensorflow as tf\n",
        "import tensorflow_hub as hub\n",
        "from sklearn.model_selection import train_test_split\n",
        "import bert\n",
        "from bert import run_classifier\n",
        "from bert import optimization\n",
        "from bert import tokenization\n",
        "from sklearn.preprocessing import LabelEncoder\n",
        "import matplotlib.pyplot as plt\n",
        "import seaborn as sns"
      ],
      "execution_count": 4,
      "outputs": [
        {
          "output_type": "stream",
          "text": [
            "WARNING:tensorflow:From /usr/local/lib/python3.6/dist-packages/bert/optimization.py:87: The name tf.train.Optimizer is deprecated. Please use tf.compat.v1.train.Optimizer instead.\n",
            "\n"
          ],
          "name": "stdout"
        },
        {
          "output_type": "stream",
          "text": [
            "/usr/local/lib/python3.6/dist-packages/tensorboard/compat/tensorflow_stub/dtypes.py:541: FutureWarning: Passing (type, 1) or '1type' as a synonym of type is deprecated; in a future version of numpy, it will be understood as (type, (1,)) / '(1,)type'.\n",
            "  _np_qint8 = np.dtype([(\"qint8\", np.int8, 1)])\n",
            "/usr/local/lib/python3.6/dist-packages/tensorboard/compat/tensorflow_stub/dtypes.py:542: FutureWarning: Passing (type, 1) or '1type' as a synonym of type is deprecated; in a future version of numpy, it will be understood as (type, (1,)) / '(1,)type'.\n",
            "  _np_quint8 = np.dtype([(\"quint8\", np.uint8, 1)])\n",
            "/usr/local/lib/python3.6/dist-packages/tensorboard/compat/tensorflow_stub/dtypes.py:543: FutureWarning: Passing (type, 1) or '1type' as a synonym of type is deprecated; in a future version of numpy, it will be understood as (type, (1,)) / '(1,)type'.\n",
            "  _np_qint16 = np.dtype([(\"qint16\", np.int16, 1)])\n",
            "/usr/local/lib/python3.6/dist-packages/tensorboard/compat/tensorflow_stub/dtypes.py:544: FutureWarning: Passing (type, 1) or '1type' as a synonym of type is deprecated; in a future version of numpy, it will be understood as (type, (1,)) / '(1,)type'.\n",
            "  _np_quint16 = np.dtype([(\"quint16\", np.uint16, 1)])\n",
            "/usr/local/lib/python3.6/dist-packages/tensorboard/compat/tensorflow_stub/dtypes.py:545: FutureWarning: Passing (type, 1) or '1type' as a synonym of type is deprecated; in a future version of numpy, it will be understood as (type, (1,)) / '(1,)type'.\n",
            "  _np_qint32 = np.dtype([(\"qint32\", np.int32, 1)])\n",
            "/usr/local/lib/python3.6/dist-packages/tensorboard/compat/tensorflow_stub/dtypes.py:550: FutureWarning: Passing (type, 1) or '1type' as a synonym of type is deprecated; in a future version of numpy, it will be understood as (type, (1,)) / '(1,)type'.\n",
            "  np_resource = np.dtype([(\"resource\", np.ubyte, 1)])\n",
            "/usr/local/lib/python3.6/dist-packages/statsmodels/tools/_testing.py:19: FutureWarning: pandas.util.testing is deprecated. Use the functions in the public API at pandas.testing instead.\n",
            "  import pandas.util.testing as tm\n"
          ],
          "name": "stderr"
        }
      ]
    },
    {
      "cell_type": "code",
      "metadata": {
        "id": "UPaMlJU_H3Hv",
        "colab_type": "code",
        "outputId": "bf13fcd1-f968-4f22-e827-9eb8c32eb63c",
        "colab": {
          "base_uri": "https://localhost:8080/",
          "height": 33
        }
      },
      "source": [
        "print(tf.__version__)"
      ],
      "execution_count": 5,
      "outputs": [
        {
          "output_type": "stream",
          "text": [
            "1.15.2\n"
          ],
          "name": "stdout"
        }
      ]
    },
    {
      "cell_type": "code",
      "metadata": {
        "id": "Juouf_SlhgAN",
        "colab_type": "code",
        "outputId": "f08026b1-8b5c-42e7-d054-e5955c94f4bc",
        "colab": {
          "base_uri": "https://localhost:8080/",
          "height": 33
        }
      },
      "source": [
        "import tensorflow as tf\n",
        "tf.test.gpu_device_name()"
      ],
      "execution_count": 6,
      "outputs": [
        {
          "output_type": "execute_result",
          "data": {
            "text/plain": [
              "'/device:GPU:0'"
            ]
          },
          "metadata": {
            "tags": []
          },
          "execution_count": 6
        }
      ]
    },
    {
      "cell_type": "code",
      "metadata": {
        "id": "E1Pq8r6TLXlQ",
        "colab_type": "code",
        "outputId": "a73deec1-1b30-4792-9866-d29118863335",
        "colab": {
          "base_uri": "https://localhost:8080/",
          "height": 50
        }
      },
      "source": [
        "!ls /content/drive/My\\ Drive/logically_test"
      ],
      "execution_count": 7,
      "outputs": [
        {
          "output_type": "stream",
          "text": [
            "app.py\t model.py\t\t  preprocess.py  Report.docx\n",
            "main.py  NLP_data_scientist_test  __pycache__\t sentiment_analysis.ipynb\n"
          ],
          "name": "stdout"
        }
      ]
    },
    {
      "cell_type": "code",
      "metadata": {
        "id": "AxZxtntDtbMT",
        "colab_type": "code",
        "colab": {}
      },
      "source": [
        "df = pd.read_excel('/content/drive/My Drive/logically_test/NLP_data_scientist_test/data/Entity_sentiment_trainV2.xlsx')"
      ],
      "execution_count": 0,
      "outputs": []
    },
    {
      "cell_type": "markdown",
      "metadata": {
        "id": "w0QSpcZLuvuN",
        "colab_type": "text"
      },
      "source": [
        "## **EDA**"
      ]
    },
    {
      "cell_type": "code",
      "metadata": {
        "id": "owtLgg-lCwWY",
        "colab_type": "code",
        "outputId": "6a6294d3-cdf1-4f51-ff07-164961ad9f0b",
        "colab": {
          "base_uri": "https://localhost:8080/",
          "height": 191
        }
      },
      "source": [
        "df.head()"
      ],
      "execution_count": 9,
      "outputs": [
        {
          "output_type": "execute_result",
          "data": {
            "text/html": [
              "<div>\n",
              "<style scoped>\n",
              "    .dataframe tbody tr th:only-of-type {\n",
              "        vertical-align: middle;\n",
              "    }\n",
              "\n",
              "    .dataframe tbody tr th {\n",
              "        vertical-align: top;\n",
              "    }\n",
              "\n",
              "    .dataframe thead th {\n",
              "        text-align: right;\n",
              "    }\n",
              "</style>\n",
              "<table border=\"1\" class=\"dataframe\">\n",
              "  <thead>\n",
              "    <tr style=\"text-align: right;\">\n",
              "      <th></th>\n",
              "      <th>Sentence</th>\n",
              "      <th>Entity</th>\n",
              "      <th>Sentiment</th>\n",
              "    </tr>\n",
              "  </thead>\n",
              "  <tbody>\n",
              "    <tr>\n",
              "      <th>0</th>\n",
              "      <td>The website was very easy to use and my insura...</td>\n",
              "      <td>website</td>\n",
              "      <td>positive</td>\n",
              "    </tr>\n",
              "    <tr>\n",
              "      <th>1</th>\n",
              "      <td>The web sight was easy to understand and I got...</td>\n",
              "      <td>web sight</td>\n",
              "      <td>positive</td>\n",
              "    </tr>\n",
              "    <tr>\n",
              "      <th>2</th>\n",
              "      <td>Having filled in the application on-line I cou...</td>\n",
              "      <td>point</td>\n",
              "      <td>negative</td>\n",
              "    </tr>\n",
              "    <tr>\n",
              "      <th>3</th>\n",
              "      <td>After finding AXA was cheaper than my renewal ...</td>\n",
              "      <td>prices</td>\n",
              "      <td>positive</td>\n",
              "    </tr>\n",
              "    <tr>\n",
              "      <th>4</th>\n",
              "      <td>The quote was a reasonable price compared with...</td>\n",
              "      <td>insurances</td>\n",
              "      <td>positive</td>\n",
              "    </tr>\n",
              "  </tbody>\n",
              "</table>\n",
              "</div>"
            ],
            "text/plain": [
              "                                            Sentence      Entity Sentiment\n",
              "0  The website was very easy to use and my insura...     website  positive\n",
              "1  The web sight was easy to understand and I got...   web sight  positive\n",
              "2  Having filled in the application on-line I cou...       point  negative\n",
              "3  After finding AXA was cheaper than my renewal ...      prices  positive\n",
              "4  The quote was a reasonable price compared with...  insurances  positive"
            ]
          },
          "metadata": {
            "tags": []
          },
          "execution_count": 9
        }
      ]
    },
    {
      "cell_type": "code",
      "metadata": {
        "id": "rp4f-RqXthNG",
        "colab_type": "code",
        "outputId": "408dcf4e-b773-445c-c48a-3b3657c9ffaa",
        "colab": {
          "base_uri": "https://localhost:8080/",
          "height": 33
        }
      },
      "source": [
        "len(df)"
      ],
      "execution_count": 10,
      "outputs": [
        {
          "output_type": "execute_result",
          "data": {
            "text/plain": [
              "5999"
            ]
          },
          "metadata": {
            "tags": []
          },
          "execution_count": 10
        }
      ]
    },
    {
      "cell_type": "code",
      "metadata": {
        "id": "ei5LYN4XuiG_",
        "colab_type": "code",
        "outputId": "70b48b60-cd6e-4dd2-d3f7-90857405f495",
        "colab": {
          "base_uri": "https://localhost:8080/",
          "height": 82
        }
      },
      "source": [
        "df.isnull().sum()"
      ],
      "execution_count": 11,
      "outputs": [
        {
          "output_type": "execute_result",
          "data": {
            "text/plain": [
              "Sentence     0\n",
              "Entity       0\n",
              "Sentiment    0\n",
              "dtype: int64"
            ]
          },
          "metadata": {
            "tags": []
          },
          "execution_count": 11
        }
      ]
    },
    {
      "cell_type": "code",
      "metadata": {
        "id": "fV7vJG9wvc9X",
        "colab_type": "code",
        "colab": {}
      },
      "source": [
        "# Description of the dataset"
      ],
      "execution_count": 0,
      "outputs": []
    },
    {
      "cell_type": "code",
      "metadata": {
        "id": "5i2-VvLLtju6",
        "colab_type": "code",
        "outputId": "dcf1dfc4-ba49-4ce8-ceed-53673d3a99b3",
        "colab": {
          "base_uri": "https://localhost:8080/",
          "height": 162
        }
      },
      "source": [
        "df.describe()"
      ],
      "execution_count": 13,
      "outputs": [
        {
          "output_type": "execute_result",
          "data": {
            "text/html": [
              "<div>\n",
              "<style scoped>\n",
              "    .dataframe tbody tr th:only-of-type {\n",
              "        vertical-align: middle;\n",
              "    }\n",
              "\n",
              "    .dataframe tbody tr th {\n",
              "        vertical-align: top;\n",
              "    }\n",
              "\n",
              "    .dataframe thead th {\n",
              "        text-align: right;\n",
              "    }\n",
              "</style>\n",
              "<table border=\"1\" class=\"dataframe\">\n",
              "  <thead>\n",
              "    <tr style=\"text-align: right;\">\n",
              "      <th></th>\n",
              "      <th>Sentence</th>\n",
              "      <th>Entity</th>\n",
              "      <th>Sentiment</th>\n",
              "    </tr>\n",
              "  </thead>\n",
              "  <tbody>\n",
              "    <tr>\n",
              "      <th>count</th>\n",
              "      <td>5999</td>\n",
              "      <td>5999</td>\n",
              "      <td>5999</td>\n",
              "    </tr>\n",
              "    <tr>\n",
              "      <th>unique</th>\n",
              "      <td>5649</td>\n",
              "      <td>748</td>\n",
              "      <td>2</td>\n",
              "    </tr>\n",
              "    <tr>\n",
              "      <th>top</th>\n",
              "      <td>Found website very easy to use and quick with ...</td>\n",
              "      <td>service</td>\n",
              "      <td>positive</td>\n",
              "    </tr>\n",
              "    <tr>\n",
              "      <th>freq</th>\n",
              "      <td>2</td>\n",
              "      <td>705</td>\n",
              "      <td>4100</td>\n",
              "    </tr>\n",
              "  </tbody>\n",
              "</table>\n",
              "</div>"
            ],
            "text/plain": [
              "                                                 Sentence   Entity Sentiment\n",
              "count                                                5999     5999      5999\n",
              "unique                                               5649      748         2\n",
              "top     Found website very easy to use and quick with ...  service  positive\n",
              "freq                                                    2      705      4100"
            ]
          },
          "metadata": {
            "tags": []
          },
          "execution_count": 13
        }
      ]
    },
    {
      "cell_type": "code",
      "metadata": {
        "id": "r87FLZwFtwCP",
        "colab_type": "code",
        "outputId": "4db23b20-7045-41bb-bcf1-fc0532d30fa4",
        "colab": {
          "base_uri": "https://localhost:8080/",
          "height": 71
        }
      },
      "source": [
        "df1 = df.groupby('Sentiment').count()['Sentence'].reset_index().sort_values(by='Sentence',ascending=False)\n",
        "df1.style.background_gradient(cmap='Purples')"
      ],
      "execution_count": 14,
      "outputs": [
        {
          "output_type": "execute_result",
          "data": {
            "text/html": [
              "<style  type=\"text/css\" >\n",
              "    #T_2c5eca4a_7c25_11ea_90cc_0242ac1c0002row0_col1 {\n",
              "            background-color:  #3f007d;\n",
              "            color:  #f1f1f1;\n",
              "        }    #T_2c5eca4a_7c25_11ea_90cc_0242ac1c0002row1_col1 {\n",
              "            background-color:  #fcfbfd;\n",
              "            color:  #000000;\n",
              "        }</style><table id=\"T_2c5eca4a_7c25_11ea_90cc_0242ac1c0002\" ><thead>    <tr>        <th class=\"blank level0\" ></th>        <th class=\"col_heading level0 col0\" >Sentiment</th>        <th class=\"col_heading level0 col1\" >Sentence</th>    </tr></thead><tbody>\n",
              "                <tr>\n",
              "                        <th id=\"T_2c5eca4a_7c25_11ea_90cc_0242ac1c0002level0_row0\" class=\"row_heading level0 row0\" >1</th>\n",
              "                        <td id=\"T_2c5eca4a_7c25_11ea_90cc_0242ac1c0002row0_col0\" class=\"data row0 col0\" >positive</td>\n",
              "                        <td id=\"T_2c5eca4a_7c25_11ea_90cc_0242ac1c0002row0_col1\" class=\"data row0 col1\" >4100</td>\n",
              "            </tr>\n",
              "            <tr>\n",
              "                        <th id=\"T_2c5eca4a_7c25_11ea_90cc_0242ac1c0002level0_row1\" class=\"row_heading level0 row1\" >0</th>\n",
              "                        <td id=\"T_2c5eca4a_7c25_11ea_90cc_0242ac1c0002row1_col0\" class=\"data row1 col0\" >negative</td>\n",
              "                        <td id=\"T_2c5eca4a_7c25_11ea_90cc_0242ac1c0002row1_col1\" class=\"data row1 col1\" >1899</td>\n",
              "            </tr>\n",
              "    </tbody></table>"
            ],
            "text/plain": [
              "<pandas.io.formats.style.Styler at 0x7f9bb1107550>"
            ]
          },
          "metadata": {
            "tags": []
          },
          "execution_count": 14
        }
      ]
    },
    {
      "cell_type": "code",
      "metadata": {
        "id": "U7hD-bIGvJP-",
        "colab_type": "code",
        "colab": {}
      },
      "source": [
        "# Visualising the labels"
      ],
      "execution_count": 0,
      "outputs": []
    },
    {
      "cell_type": "code",
      "metadata": {
        "id": "KZHpDHnKuHBG",
        "colab_type": "code",
        "outputId": "5ef25a1e-1902-4c2d-ef36-f4ed72a813fb",
        "colab": {
          "base_uri": "https://localhost:8080/",
          "height": 403
        }
      },
      "source": [
        "plt.figure(figsize=(12,6))\n",
        "sns.countplot(x='Sentiment',data=df)"
      ],
      "execution_count": 16,
      "outputs": [
        {
          "output_type": "execute_result",
          "data": {
            "text/plain": [
              "<matplotlib.axes._subplots.AxesSubplot at 0x7f9bb11074e0>"
            ]
          },
          "metadata": {
            "tags": []
          },
          "execution_count": 16
        },
        {
          "output_type": "display_data",
          "data": {
            "image/png": "[encoded data removed]",
            "text/plain": [
              "<Figure size 864x432 with 1 Axes>"
            ]
          },
          "metadata": {
            "tags": [],
            "needs_background": "light"
          }
        }
      ]
    },
    {
      "cell_type": "markdown",
      "metadata": {
        "id": "Vgq_LrP7vZMJ",
        "colab_type": "text"
      },
      "source": [
        "## **PREPROCESSING**"
      ]
    },
    {
      "cell_type": "code",
      "metadata": {
        "id": "Ik_ZSDLJw-jF",
        "colab_type": "code",
        "colab": {}
      },
      "source": [
        "# creating input examples"
      ],
      "execution_count": 0,
      "outputs": []
    },
    {
      "cell_type": "code",
      "metadata": {
        "id": "O8vEItE_Gx6K",
        "colab_type": "code",
        "colab": {}
      },
      "source": [
        "encoder = LabelEncoder()\n",
        "df['label'] = encoder.fit_transform(df['Sentiment'])\n",
        "df['entity_label'] = encoder.fit_transform(df['Entity'])\n",
        "mask = np.random.rand(len(df)) < 0.7 #spliting 70% of data for training and 30% for testing \n",
        "\n",
        "train = df[mask]\n",
        "test = df[~mask]\n",
        "\n",
        "DATA_COLUMN = 'Sentence'\n",
        "ENTITY_COLUMN = 'Entity'\n",
        "LABEL_COLUMN = 'label'\n",
        "# list of labels pos/ neg\n",
        "label_list = [0,1]\n",
        "\n",
        "# BERT's run_classifier code to create examples from the data\n",
        "train_InputExamples = train.apply(lambda x: bert.run_classifier.InputExample(guid=None, \n",
        "                                                                   text_a = x[DATA_COLUMN], \n",
        "                                                                   text_b = x[ENTITY_COLUMN], \n",
        "                                                                   label = x[LABEL_COLUMN]), axis = 1)\n",
        "\n",
        "test_InputExamples = test.apply(lambda x: bert.run_classifier.InputExample(guid=None, \n",
        "                                                                   text_a = x[DATA_COLUMN], \n",
        "                                                                   text_b = x[ENTITY_COLUMN], \n",
        "                                                                   label = x[LABEL_COLUMN]), axis = 1)\n"
      ],
      "execution_count": 0,
      "outputs": []
    },
    {
      "cell_type": "markdown",
      "metadata": {
        "id": "ZRZarY_Evtt-",
        "colab_type": "text"
      },
      "source": [
        "## **Loading BERT**"
      ]
    },
    {
      "cell_type": "code",
      "metadata": {
        "id": "v9DnyoS8I1sP",
        "colab_type": "code",
        "colab": {}
      },
      "source": [
        "# This is a path to an uncased (all lowercase) version of BERT\n",
        "BERT_MODEL_HUB = \"https://tfhub.dev/google/bert_uncased_L-12_H-768_A-12/1\"\n",
        "\n",
        "def create_tokenizer_from_hub_module():\n",
        "  \"\"\"Get the vocab file and casing info from the Hub module.\"\"\"\n",
        "  with tf.Graph().as_default():\n",
        "    bert_module = hub.Module(BERT_MODEL_HUB)\n",
        "    tokenization_info = bert_module(signature=\"tokenization_info\", as_dict=True)\n",
        "    with tf.Session() as sess:\n",
        "      vocab_file, do_lower_case = sess.run([tokenization_info[\"vocab_file\"],\n",
        "                                            tokenization_info[\"do_lower_case\"]])\n",
        "      \n",
        "  return bert.tokenization.FullTokenizer(\n",
        "      vocab_file=vocab_file, do_lower_case=do_lower_case)\n"
      ],
      "execution_count": 0,
      "outputs": []
    },
    {
      "cell_type": "markdown",
      "metadata": {
        "id": "L_BT59Imv1q9",
        "colab_type": "text"
      },
      "source": [
        "**Tokenizing**"
      ]
    },
    {
      "cell_type": "code",
      "metadata": {
        "id": "awKRu7NzxMVM",
        "colab_type": "code",
        "outputId": "90d11a37-59e3-45f1-ad64-4f1d5dc0769c",
        "colab": {
          "base_uri": "https://localhost:8080/",
          "height": 1000
        }
      },
      "source": [
        "tokenizer = create_tokenizer_from_hub_module()\n",
        "\n",
        "# Sequences set to be at most 32 tokens long.\n",
        "MAX_SEQ_LENGTH = 32\n",
        "\n",
        "# train and test features converted to InputFeatures that BERT understands.\n",
        "train_features = bert.run_classifier.convert_examples_to_features(train_InputExamples, label_list, MAX_SEQ_LENGTH, tokenizer)\n",
        "test_features = bert.run_classifier.convert_examples_to_features(test_InputExamples, label_list, MAX_SEQ_LENGTH, tokenizer)\n"
      ],
      "execution_count": 20,
      "outputs": [
        {
          "output_type": "stream",
          "text": [
            "INFO:tensorflow:Saver not created because there are no variables in the graph to restore\n"
          ],
          "name": "stdout"
        },
        {
          "output_type": "stream",
          "text": [
            "INFO:tensorflow:Saver not created because there are no variables in the graph to restore\n"
          ],
          "name": "stderr"
        },
        {
          "output_type": "stream",
          "text": [
            "WARNING:tensorflow:From /usr/local/lib/python3.6/dist-packages/bert/tokenization.py:125: The name tf.gfile.GFile is deprecated. Please use tf.io.gfile.GFile instead.\n",
            "\n"
          ],
          "name": "stdout"
        },
        {
          "output_type": "stream",
          "text": [
            "WARNING:tensorflow:From /usr/local/lib/python3.6/dist-packages/bert/tokenization.py:125: The name tf.gfile.GFile is deprecated. Please use tf.io.gfile.GFile instead.\n",
            "\n"
          ],
          "name": "stderr"
        },
        {
          "output_type": "stream",
          "text": [
            "WARNING:tensorflow:From /usr/local/lib/python3.6/dist-packages/bert/run_classifier.py:774: The name tf.logging.info is deprecated. Please use tf.compat.v1.logging.info instead.\n",
            "\n"
          ],
          "name": "stdout"
        },
        {
          "output_type": "stream",
          "text": [
            "WARNING:tensorflow:From /usr/local/lib/python3.6/dist-packages/bert/run_classifier.py:774: The name tf.logging.info is deprecated. Please use tf.compat.v1.logging.info instead.\n",
            "\n"
          ],
          "name": "stderr"
        },
        {
          "output_type": "stream",
          "text": [
            "INFO:tensorflow:Writing example 0 of 4228\n"
          ],
          "name": "stdout"
        },
        {
          "output_type": "stream",
          "text": [
            "INFO:tensorflow:Writing example 0 of 4228\n"
          ],
          "name": "stderr"
        },
        {
          "output_type": "stream",
          "text": [
            "INFO:tensorflow:*** Example ***\n"
          ],
          "name": "stdout"
        },
        {
          "output_type": "stream",
          "text": [
            "INFO:tensorflow:*** Example ***\n"
          ],
          "name": "stderr"
        },
        {
          "output_type": "stream",
          "text": [
            "INFO:tensorflow:guid: None\n"
          ],
          "name": "stdout"
        },
        {
          "output_type": "stream",
          "text": [
            "INFO:tensorflow:guid: None\n"
          ],
          "name": "stderr"
        },
        {
          "output_type": "stream",
          "text": [
            "INFO:tensorflow:tokens: [CLS] the web sight was easy to understand and i got the cover i wanted and need [SEP] web sight [SEP]\n"
          ],
          "name": "stdout"
        },
        {
          "output_type": "stream",
          "text": [
            "INFO:tensorflow:tokens: [CLS] the web sight was easy to understand and i got the cover i wanted and need [SEP] web sight [SEP]\n"
          ],
          "name": "stderr"
        },
        {
          "output_type": "stream",
          "text": [
            "INFO:tensorflow:input_ids: 101 1996 4773 4356 2001 3733 2000 3305 1998 1045 2288 1996 3104 1045 2359 1998 2342 102 4773 4356 102 0 0 0 0 0 0 0 0 0 0 0\n"
          ],
          "name": "stdout"
        },
        {
          "output_type": "stream",
          "text": [
            "INFO:tensorflow:input_ids: 101 1996 4773 4356 2001 3733 2000 3305 1998 1045 2288 1996 3104 1045 2359 1998 2342 102 4773 4356 102 0 0 0 0 0 0 0 0 0 0 0\n"
          ],
          "name": "stderr"
        },
        {
          "output_type": "stream",
          "text": [
            "INFO:tensorflow:input_mask: 1 1 1 1 1 1 1 1 1 1 1 1 1 1 1 1 1 1 1 1 1 0 0 0 0 0 0 0 0 0 0 0\n"
          ],
          "name": "stdout"
        },
        {
          "output_type": "stream",
          "text": [
            "INFO:tensorflow:input_mask: 1 1 1 1 1 1 1 1 1 1 1 1 1 1 1 1 1 1 1 1 1 0 0 0 0 0 0 0 0 0 0 0\n"
          ],
          "name": "stderr"
        },
        {
          "output_type": "stream",
          "text": [
            "INFO:tensorflow:segment_ids: 0 0 0 0 0 0 0 0 0 0 0 0 0 0 0 0 0 0 1 1 1 0 0 0 0 0 0 0 0 0 0 0\n"
          ],
          "name": "stdout"
        },
        {
          "output_type": "stream",
          "text": [
            "INFO:tensorflow:segment_ids: 0 0 0 0 0 0 0 0 0 0 0 0 0 0 0 0 0 0 1 1 1 0 0 0 0 0 0 0 0 0 0 0\n"
          ],
          "name": "stderr"
        },
        {
          "output_type": "stream",
          "text": [
            "INFO:tensorflow:label: 1 (id = 1)\n"
          ],
          "name": "stdout"
        },
        {
          "output_type": "stream",
          "text": [
            "INFO:tensorflow:label: 1 (id = 1)\n"
          ],
          "name": "stderr"
        },
        {
          "output_type": "stream",
          "text": [
            "INFO:tensorflow:*** Example ***\n"
          ],
          "name": "stdout"
        },
        {
          "output_type": "stream",
          "text": [
            "INFO:tensorflow:*** Example ***\n"
          ],
          "name": "stderr"
        },
        {
          "output_type": "stream",
          "text": [
            "INFO:tensorflow:guid: None\n"
          ],
          "name": "stdout"
        },
        {
          "output_type": "stream",
          "text": [
            "INFO:tensorflow:guid: None\n"
          ],
          "name": "stderr"
        },
        {
          "output_type": "stream",
          "text": [
            "INFO:tensorflow:tokens: [CLS] having filled in the application on - line i could not see the point of answering all the questions again on the phone . [SEP] point [SEP]\n"
          ],
          "name": "stdout"
        },
        {
          "output_type": "stream",
          "text": [
            "INFO:tensorflow:tokens: [CLS] having filled in the application on - line i could not see the point of answering all the questions again on the phone . [SEP] point [SEP]\n"
          ],
          "name": "stderr"
        },
        {
          "output_type": "stream",
          "text": [
            "INFO:tensorflow:input_ids: 101 2383 3561 1999 1996 4646 2006 1011 2240 1045 2071 2025 2156 1996 2391 1997 10739 2035 1996 3980 2153 2006 1996 3042 1012 102 2391 102 0 0 0 0\n"
          ],
          "name": "stdout"
        },
        {
          "output_type": "stream",
          "text": [
            "INFO:tensorflow:input_ids: 101 2383 3561 1999 1996 4646 2006 1011 2240 1045 2071 2025 2156 1996 2391 1997 10739 2035 1996 3980 2153 2006 1996 3042 1012 102 2391 102 0 0 0 0\n"
          ],
          "name": "stderr"
        },
        {
          "output_type": "stream",
          "text": [
            "INFO:tensorflow:input_mask: 1 1 1 1 1 1 1 1 1 1 1 1 1 1 1 1 1 1 1 1 1 1 1 1 1 1 1 1 0 0 0 0\n"
          ],
          "name": "stdout"
        },
        {
          "output_type": "stream",
          "text": [
            "INFO:tensorflow:input_mask: 1 1 1 1 1 1 1 1 1 1 1 1 1 1 1 1 1 1 1 1 1 1 1 1 1 1 1 1 0 0 0 0\n"
          ],
          "name": "stderr"
        },
        {
          "output_type": "stream",
          "text": [
            "INFO:tensorflow:segment_ids: 0 0 0 0 0 0 0 0 0 0 0 0 0 0 0 0 0 0 0 0 0 0 0 0 0 0 1 1 0 0 0 0\n"
          ],
          "name": "stdout"
        },
        {
          "output_type": "stream",
          "text": [
            "INFO:tensorflow:segment_ids: 0 0 0 0 0 0 0 0 0 0 0 0 0 0 0 0 0 0 0 0 0 0 0 0 0 0 1 1 0 0 0 0\n"
          ],
          "name": "stderr"
        },
        {
          "output_type": "stream",
          "text": [
            "INFO:tensorflow:label: 0 (id = 0)\n"
          ],
          "name": "stdout"
        },
        {
          "output_type": "stream",
          "text": [
            "INFO:tensorflow:label: 0 (id = 0)\n"
          ],
          "name": "stderr"
        },
        {
          "output_type": "stream",
          "text": [
            "INFO:tensorflow:*** Example ***\n"
          ],
          "name": "stdout"
        },
        {
          "output_type": "stream",
          "text": [
            "INFO:tensorflow:*** Example ***\n"
          ],
          "name": "stderr"
        },
        {
          "output_type": "stream",
          "text": [
            "INFO:tensorflow:guid: None\n"
          ],
          "name": "stdout"
        },
        {
          "output_type": "stream",
          "text": [
            "INFO:tensorflow:guid: None\n"
          ],
          "name": "stderr"
        },
        {
          "output_type": "stream",
          "text": [
            "INFO:tensorflow:tokens: [CLS] excellent price for insurance and good fast service from professional staff [SEP] price [SEP]\n"
          ],
          "name": "stdout"
        },
        {
          "output_type": "stream",
          "text": [
            "INFO:tensorflow:tokens: [CLS] excellent price for insurance and good fast service from professional staff [SEP] price [SEP]\n"
          ],
          "name": "stderr"
        },
        {
          "output_type": "stream",
          "text": [
            "INFO:tensorflow:input_ids: 101 6581 3976 2005 5427 1998 2204 3435 2326 2013 2658 3095 102 3976 102 0 0 0 0 0 0 0 0 0 0 0 0 0 0 0 0 0\n"
          ],
          "name": "stdout"
        },
        {
          "output_type": "stream",
          "text": [
            "INFO:tensorflow:input_ids: 101 6581 3976 2005 5427 1998 2204 3435 2326 2013 2658 3095 102 3976 102 0 0 0 0 0 0 0 0 0 0 0 0 0 0 0 0 0\n"
          ],
          "name": "stderr"
        },
        {
          "output_type": "stream",
          "text": [
            "INFO:tensorflow:input_mask: 1 1 1 1 1 1 1 1 1 1 1 1 1 1 1 0 0 0 0 0 0 0 0 0 0 0 0 0 0 0 0 0\n"
          ],
          "name": "stdout"
        },
        {
          "output_type": "stream",
          "text": [
            "INFO:tensorflow:input_mask: 1 1 1 1 1 1 1 1 1 1 1 1 1 1 1 0 0 0 0 0 0 0 0 0 0 0 0 0 0 0 0 0\n"
          ],
          "name": "stderr"
        },
        {
          "output_type": "stream",
          "text": [
            "INFO:tensorflow:segment_ids: 0 0 0 0 0 0 0 0 0 0 0 0 0 1 1 0 0 0 0 0 0 0 0 0 0 0 0 0 0 0 0 0\n"
          ],
          "name": "stdout"
        },
        {
          "output_type": "stream",
          "text": [
            "INFO:tensorflow:segment_ids: 0 0 0 0 0 0 0 0 0 0 0 0 0 1 1 0 0 0 0 0 0 0 0 0 0 0 0 0 0 0 0 0\n"
          ],
          "name": "stderr"
        },
        {
          "output_type": "stream",
          "text": [
            "INFO:tensorflow:label: 1 (id = 1)\n"
          ],
          "name": "stdout"
        },
        {
          "output_type": "stream",
          "text": [
            "INFO:tensorflow:label: 1 (id = 1)\n"
          ],
          "name": "stderr"
        },
        {
          "output_type": "stream",
          "text": [
            "INFO:tensorflow:*** Example ***\n"
          ],
          "name": "stdout"
        },
        {
          "output_type": "stream",
          "text": [
            "INFO:tensorflow:*** Example ***\n"
          ],
          "name": "stderr"
        },
        {
          "output_type": "stream",
          "text": [
            "INFO:tensorflow:guid: None\n"
          ],
          "name": "stdout"
        },
        {
          "output_type": "stream",
          "text": [
            "INFO:tensorflow:guid: None\n"
          ],
          "name": "stderr"
        },
        {
          "output_type": "stream",
          "text": [
            "INFO:tensorflow:tokens: [CLS] exhaust ##ive as expected but as i had a company car ( claim free ) for eight years i feel i should have been able to use [SEP] claims bonus [SEP]\n"
          ],
          "name": "stdout"
        },
        {
          "output_type": "stream",
          "text": [
            "INFO:tensorflow:tokens: [CLS] exhaust ##ive as expected but as i had a company car ( claim free ) for eight years i feel i should have been able to use [SEP] claims bonus [SEP]\n"
          ],
          "name": "stderr"
        },
        {
          "output_type": "stream",
          "text": [
            "INFO:tensorflow:input_ids: 101 15095 3512 2004 3517 2021 2004 1045 2018 1037 2194 2482 1006 4366 2489 1007 2005 2809 2086 1045 2514 1045 2323 2031 2042 2583 2000 2224 102 4447 6781 102\n"
          ],
          "name": "stdout"
        },
        {
          "output_type": "stream",
          "text": [
            "INFO:tensorflow:input_ids: 101 15095 3512 2004 3517 2021 2004 1045 2018 1037 2194 2482 1006 4366 2489 1007 2005 2809 2086 1045 2514 1045 2323 2031 2042 2583 2000 2224 102 4447 6781 102\n"
          ],
          "name": "stderr"
        },
        {
          "output_type": "stream",
          "text": [
            "INFO:tensorflow:input_mask: 1 1 1 1 1 1 1 1 1 1 1 1 1 1 1 1 1 1 1 1 1 1 1 1 1 1 1 1 1 1 1 1\n"
          ],
          "name": "stdout"
        },
        {
          "output_type": "stream",
          "text": [
            "INFO:tensorflow:input_mask: 1 1 1 1 1 1 1 1 1 1 1 1 1 1 1 1 1 1 1 1 1 1 1 1 1 1 1 1 1 1 1 1\n"
          ],
          "name": "stderr"
        },
        {
          "output_type": "stream",
          "text": [
            "INFO:tensorflow:segment_ids: 0 0 0 0 0 0 0 0 0 0 0 0 0 0 0 0 0 0 0 0 0 0 0 0 0 0 0 0 0 1 1 1\n"
          ],
          "name": "stdout"
        },
        {
          "output_type": "stream",
          "text": [
            "INFO:tensorflow:segment_ids: 0 0 0 0 0 0 0 0 0 0 0 0 0 0 0 0 0 0 0 0 0 0 0 0 0 0 0 0 0 1 1 1\n"
          ],
          "name": "stderr"
        },
        {
          "output_type": "stream",
          "text": [
            "INFO:tensorflow:label: 0 (id = 0)\n"
          ],
          "name": "stdout"
        },
        {
          "output_type": "stream",
          "text": [
            "INFO:tensorflow:label: 0 (id = 0)\n"
          ],
          "name": "stderr"
        },
        {
          "output_type": "stream",
          "text": [
            "INFO:tensorflow:*** Example ***\n"
          ],
          "name": "stdout"
        },
        {
          "output_type": "stream",
          "text": [
            "INFO:tensorflow:*** Example ***\n"
          ],
          "name": "stderr"
        },
        {
          "output_type": "stream",
          "text": [
            "INFO:tensorflow:guid: None\n"
          ],
          "name": "stdout"
        },
        {
          "output_type": "stream",
          "text": [
            "INFO:tensorflow:guid: None\n"
          ],
          "name": "stderr"
        },
        {
          "output_type": "stream",
          "text": [
            "INFO:tensorflow:tokens: [CLS] web site very user friendly the cost of the insurance was extremely competitive with many optional add on ##s [SEP] site [SEP]\n"
          ],
          "name": "stdout"
        },
        {
          "output_type": "stream",
          "text": [
            "INFO:tensorflow:tokens: [CLS] web site very user friendly the cost of the insurance was extremely competitive with many optional add on ##s [SEP] site [SEP]\n"
          ],
          "name": "stderr"
        },
        {
          "output_type": "stream",
          "text": [
            "INFO:tensorflow:input_ids: 101 4773 2609 2200 5310 5379 1996 3465 1997 1996 5427 2001 5186 6975 2007 2116 11887 5587 2006 2015 102 2609 102 0 0 0 0 0 0 0 0 0\n"
          ],
          "name": "stdout"
        },
        {
          "output_type": "stream",
          "text": [
            "INFO:tensorflow:input_ids: 101 4773 2609 2200 5310 5379 1996 3465 1997 1996 5427 2001 5186 6975 2007 2116 11887 5587 2006 2015 102 2609 102 0 0 0 0 0 0 0 0 0\n"
          ],
          "name": "stderr"
        },
        {
          "output_type": "stream",
          "text": [
            "INFO:tensorflow:input_mask: 1 1 1 1 1 1 1 1 1 1 1 1 1 1 1 1 1 1 1 1 1 1 1 0 0 0 0 0 0 0 0 0\n"
          ],
          "name": "stdout"
        },
        {
          "output_type": "stream",
          "text": [
            "INFO:tensorflow:input_mask: 1 1 1 1 1 1 1 1 1 1 1 1 1 1 1 1 1 1 1 1 1 1 1 0 0 0 0 0 0 0 0 0\n"
          ],
          "name": "stderr"
        },
        {
          "output_type": "stream",
          "text": [
            "INFO:tensorflow:segment_ids: 0 0 0 0 0 0 0 0 0 0 0 0 0 0 0 0 0 0 0 0 0 1 1 0 0 0 0 0 0 0 0 0\n"
          ],
          "name": "stdout"
        },
        {
          "output_type": "stream",
          "text": [
            "INFO:tensorflow:segment_ids: 0 0 0 0 0 0 0 0 0 0 0 0 0 0 0 0 0 0 0 0 0 1 1 0 0 0 0 0 0 0 0 0\n"
          ],
          "name": "stderr"
        },
        {
          "output_type": "stream",
          "text": [
            "INFO:tensorflow:label: 1 (id = 1)\n"
          ],
          "name": "stdout"
        },
        {
          "output_type": "stream",
          "text": [
            "INFO:tensorflow:label: 1 (id = 1)\n"
          ],
          "name": "stderr"
        },
        {
          "output_type": "stream",
          "text": [
            "INFO:tensorflow:Writing example 0 of 1771\n"
          ],
          "name": "stdout"
        },
        {
          "output_type": "stream",
          "text": [
            "INFO:tensorflow:Writing example 0 of 1771\n"
          ],
          "name": "stderr"
        },
        {
          "output_type": "stream",
          "text": [
            "INFO:tensorflow:*** Example ***\n"
          ],
          "name": "stdout"
        },
        {
          "output_type": "stream",
          "text": [
            "INFO:tensorflow:*** Example ***\n"
          ],
          "name": "stderr"
        },
        {
          "output_type": "stream",
          "text": [
            "INFO:tensorflow:guid: None\n"
          ],
          "name": "stdout"
        },
        {
          "output_type": "stream",
          "text": [
            "INFO:tensorflow:guid: None\n"
          ],
          "name": "stderr"
        },
        {
          "output_type": "stream",
          "text": [
            "INFO:tensorflow:tokens: [CLS] the website was very easy to use and my insurance was up and running within a few minutes . . . quick simple brilliant [SEP] website [SEP]\n"
          ],
          "name": "stdout"
        },
        {
          "output_type": "stream",
          "text": [
            "INFO:tensorflow:tokens: [CLS] the website was very easy to use and my insurance was up and running within a few minutes . . . quick simple brilliant [SEP] website [SEP]\n"
          ],
          "name": "stderr"
        },
        {
          "output_type": "stream",
          "text": [
            "INFO:tensorflow:input_ids: 101 1996 4037 2001 2200 3733 2000 2224 1998 2026 5427 2001 2039 1998 2770 2306 1037 2261 2781 1012 1012 1012 4248 3722 8235 102 4037 102 0 0 0 0\n"
          ],
          "name": "stdout"
        },
        {
          "output_type": "stream",
          "text": [
            "INFO:tensorflow:input_ids: 101 1996 4037 2001 2200 3733 2000 2224 1998 2026 5427 2001 2039 1998 2770 2306 1037 2261 2781 1012 1012 1012 4248 3722 8235 102 4037 102 0 0 0 0\n"
          ],
          "name": "stderr"
        },
        {
          "output_type": "stream",
          "text": [
            "INFO:tensorflow:input_mask: 1 1 1 1 1 1 1 1 1 1 1 1 1 1 1 1 1 1 1 1 1 1 1 1 1 1 1 1 0 0 0 0\n"
          ],
          "name": "stdout"
        },
        {
          "output_type": "stream",
          "text": [
            "INFO:tensorflow:input_mask: 1 1 1 1 1 1 1 1 1 1 1 1 1 1 1 1 1 1 1 1 1 1 1 1 1 1 1 1 0 0 0 0\n"
          ],
          "name": "stderr"
        },
        {
          "output_type": "stream",
          "text": [
            "INFO:tensorflow:segment_ids: 0 0 0 0 0 0 0 0 0 0 0 0 0 0 0 0 0 0 0 0 0 0 0 0 0 0 1 1 0 0 0 0\n"
          ],
          "name": "stdout"
        },
        {
          "output_type": "stream",
          "text": [
            "INFO:tensorflow:segment_ids: 0 0 0 0 0 0 0 0 0 0 0 0 0 0 0 0 0 0 0 0 0 0 0 0 0 0 1 1 0 0 0 0\n"
          ],
          "name": "stderr"
        },
        {
          "output_type": "stream",
          "text": [
            "INFO:tensorflow:label: 1 (id = 1)\n"
          ],
          "name": "stdout"
        },
        {
          "output_type": "stream",
          "text": [
            "INFO:tensorflow:label: 1 (id = 1)\n"
          ],
          "name": "stderr"
        },
        {
          "output_type": "stream",
          "text": [
            "INFO:tensorflow:*** Example ***\n"
          ],
          "name": "stdout"
        },
        {
          "output_type": "stream",
          "text": [
            "INFO:tensorflow:*** Example ***\n"
          ],
          "name": "stderr"
        },
        {
          "output_type": "stream",
          "text": [
            "INFO:tensorflow:guid: None\n"
          ],
          "name": "stdout"
        },
        {
          "output_type": "stream",
          "text": [
            "INFO:tensorflow:guid: None\n"
          ],
          "name": "stderr"
        },
        {
          "output_type": "stream",
          "text": [
            "INFO:tensorflow:tokens: [CLS] after finding ax ##a was cheaper than my renewal i instantly went to their website to see the offers and prices they were offering . [SEP] prices [SEP]\n"
          ],
          "name": "stdout"
        },
        {
          "output_type": "stream",
          "text": [
            "INFO:tensorflow:tokens: [CLS] after finding ax ##a was cheaper than my renewal i instantly went to their website to see the offers and prices they were offering . [SEP] prices [SEP]\n"
          ],
          "name": "stderr"
        },
        {
          "output_type": "stream",
          "text": [
            "INFO:tensorflow:input_ids: 101 2044 4531 22260 2050 2001 16269 2084 2026 14524 1045 6880 2253 2000 2037 4037 2000 2156 1996 4107 1998 7597 2027 2020 5378 1012 102 7597 102 0 0 0\n"
          ],
          "name": "stdout"
        },
        {
          "output_type": "stream",
          "text": [
            "INFO:tensorflow:input_ids: 101 2044 4531 22260 2050 2001 16269 2084 2026 14524 1045 6880 2253 2000 2037 4037 2000 2156 1996 4107 1998 7597 2027 2020 5378 1012 102 7597 102 0 0 0\n"
          ],
          "name": "stderr"
        },
        {
          "output_type": "stream",
          "text": [
            "INFO:tensorflow:input_mask: 1 1 1 1 1 1 1 1 1 1 1 1 1 1 1 1 1 1 1 1 1 1 1 1 1 1 1 1 1 0 0 0\n"
          ],
          "name": "stdout"
        },
        {
          "output_type": "stream",
          "text": [
            "INFO:tensorflow:input_mask: 1 1 1 1 1 1 1 1 1 1 1 1 1 1 1 1 1 1 1 1 1 1 1 1 1 1 1 1 1 0 0 0\n"
          ],
          "name": "stderr"
        },
        {
          "output_type": "stream",
          "text": [
            "INFO:tensorflow:segment_ids: 0 0 0 0 0 0 0 0 0 0 0 0 0 0 0 0 0 0 0 0 0 0 0 0 0 0 0 1 1 0 0 0\n"
          ],
          "name": "stdout"
        },
        {
          "output_type": "stream",
          "text": [
            "INFO:tensorflow:segment_ids: 0 0 0 0 0 0 0 0 0 0 0 0 0 0 0 0 0 0 0 0 0 0 0 0 0 0 0 1 1 0 0 0\n"
          ],
          "name": "stderr"
        },
        {
          "output_type": "stream",
          "text": [
            "INFO:tensorflow:label: 1 (id = 1)\n"
          ],
          "name": "stdout"
        },
        {
          "output_type": "stream",
          "text": [
            "INFO:tensorflow:label: 1 (id = 1)\n"
          ],
          "name": "stderr"
        },
        {
          "output_type": "stream",
          "text": [
            "INFO:tensorflow:*** Example ***\n"
          ],
          "name": "stdout"
        },
        {
          "output_type": "stream",
          "text": [
            "INFO:tensorflow:*** Example ***\n"
          ],
          "name": "stderr"
        },
        {
          "output_type": "stream",
          "text": [
            "INFO:tensorflow:guid: None\n"
          ],
          "name": "stdout"
        },
        {
          "output_type": "stream",
          "text": [
            "INFO:tensorflow:guid: None\n"
          ],
          "name": "stderr"
        },
        {
          "output_type": "stream",
          "text": [
            "INFO:tensorflow:tokens: [CLS] the quote was a reasonable price compared with other insurance ##s . [SEP] insurance ##s [SEP]\n"
          ],
          "name": "stdout"
        },
        {
          "output_type": "stream",
          "text": [
            "INFO:tensorflow:tokens: [CLS] the quote was a reasonable price compared with other insurance ##s . [SEP] insurance ##s [SEP]\n"
          ],
          "name": "stderr"
        },
        {
          "output_type": "stream",
          "text": [
            "INFO:tensorflow:input_ids: 101 1996 14686 2001 1037 9608 3976 4102 2007 2060 5427 2015 1012 102 5427 2015 102 0 0 0 0 0 0 0 0 0 0 0 0 0 0 0\n"
          ],
          "name": "stdout"
        },
        {
          "output_type": "stream",
          "text": [
            "INFO:tensorflow:input_ids: 101 1996 14686 2001 1037 9608 3976 4102 2007 2060 5427 2015 1012 102 5427 2015 102 0 0 0 0 0 0 0 0 0 0 0 0 0 0 0\n"
          ],
          "name": "stderr"
        },
        {
          "output_type": "stream",
          "text": [
            "INFO:tensorflow:input_mask: 1 1 1 1 1 1 1 1 1 1 1 1 1 1 1 1 1 0 0 0 0 0 0 0 0 0 0 0 0 0 0 0\n"
          ],
          "name": "stdout"
        },
        {
          "output_type": "stream",
          "text": [
            "INFO:tensorflow:input_mask: 1 1 1 1 1 1 1 1 1 1 1 1 1 1 1 1 1 0 0 0 0 0 0 0 0 0 0 0 0 0 0 0\n"
          ],
          "name": "stderr"
        },
        {
          "output_type": "stream",
          "text": [
            "INFO:tensorflow:segment_ids: 0 0 0 0 0 0 0 0 0 0 0 0 0 0 1 1 1 0 0 0 0 0 0 0 0 0 0 0 0 0 0 0\n"
          ],
          "name": "stdout"
        },
        {
          "output_type": "stream",
          "text": [
            "INFO:tensorflow:segment_ids: 0 0 0 0 0 0 0 0 0 0 0 0 0 0 1 1 1 0 0 0 0 0 0 0 0 0 0 0 0 0 0 0\n"
          ],
          "name": "stderr"
        },
        {
          "output_type": "stream",
          "text": [
            "INFO:tensorflow:label: 1 (id = 1)\n"
          ],
          "name": "stdout"
        },
        {
          "output_type": "stream",
          "text": [
            "INFO:tensorflow:label: 1 (id = 1)\n"
          ],
          "name": "stderr"
        },
        {
          "output_type": "stream",
          "text": [
            "INFO:tensorflow:*** Example ***\n"
          ],
          "name": "stdout"
        },
        {
          "output_type": "stream",
          "text": [
            "INFO:tensorflow:*** Example ***\n"
          ],
          "name": "stderr"
        },
        {
          "output_type": "stream",
          "text": [
            "INFO:tensorflow:guid: None\n"
          ],
          "name": "stdout"
        },
        {
          "output_type": "stream",
          "text": [
            "INFO:tensorflow:guid: None\n"
          ],
          "name": "stderr"
        },
        {
          "output_type": "stream",
          "text": [
            "INFO:tensorflow:tokens: [CLS] easy to use fair price don ' t like auto renewal though . [SEP] renewal [SEP]\n"
          ],
          "name": "stdout"
        },
        {
          "output_type": "stream",
          "text": [
            "INFO:tensorflow:tokens: [CLS] easy to use fair price don ' t like auto renewal though . [SEP] renewal [SEP]\n"
          ],
          "name": "stderr"
        },
        {
          "output_type": "stream",
          "text": [
            "INFO:tensorflow:input_ids: 101 3733 2000 2224 4189 3976 2123 1005 1056 2066 8285 14524 2295 1012 102 14524 102 0 0 0 0 0 0 0 0 0 0 0 0 0 0 0\n"
          ],
          "name": "stdout"
        },
        {
          "output_type": "stream",
          "text": [
            "INFO:tensorflow:input_ids: 101 3733 2000 2224 4189 3976 2123 1005 1056 2066 8285 14524 2295 1012 102 14524 102 0 0 0 0 0 0 0 0 0 0 0 0 0 0 0\n"
          ],
          "name": "stderr"
        },
        {
          "output_type": "stream",
          "text": [
            "INFO:tensorflow:input_mask: 1 1 1 1 1 1 1 1 1 1 1 1 1 1 1 1 1 0 0 0 0 0 0 0 0 0 0 0 0 0 0 0\n"
          ],
          "name": "stdout"
        },
        {
          "output_type": "stream",
          "text": [
            "INFO:tensorflow:input_mask: 1 1 1 1 1 1 1 1 1 1 1 1 1 1 1 1 1 0 0 0 0 0 0 0 0 0 0 0 0 0 0 0\n"
          ],
          "name": "stderr"
        },
        {
          "output_type": "stream",
          "text": [
            "INFO:tensorflow:segment_ids: 0 0 0 0 0 0 0 0 0 0 0 0 0 0 0 1 1 0 0 0 0 0 0 0 0 0 0 0 0 0 0 0\n"
          ],
          "name": "stdout"
        },
        {
          "output_type": "stream",
          "text": [
            "INFO:tensorflow:segment_ids: 0 0 0 0 0 0 0 0 0 0 0 0 0 0 0 1 1 0 0 0 0 0 0 0 0 0 0 0 0 0 0 0\n"
          ],
          "name": "stderr"
        },
        {
          "output_type": "stream",
          "text": [
            "INFO:tensorflow:label: 1 (id = 1)\n"
          ],
          "name": "stdout"
        },
        {
          "output_type": "stream",
          "text": [
            "INFO:tensorflow:label: 1 (id = 1)\n"
          ],
          "name": "stderr"
        },
        {
          "output_type": "stream",
          "text": [
            "INFO:tensorflow:*** Example ***\n"
          ],
          "name": "stdout"
        },
        {
          "output_type": "stream",
          "text": [
            "INFO:tensorflow:*** Example ***\n"
          ],
          "name": "stderr"
        },
        {
          "output_type": "stream",
          "text": [
            "INFO:tensorflow:guid: None\n"
          ],
          "name": "stdout"
        },
        {
          "output_type": "stream",
          "text": [
            "INFO:tensorflow:guid: None\n"
          ],
          "name": "stderr"
        },
        {
          "output_type": "stream",
          "text": [
            "INFO:tensorflow:tokens: [CLS] very expensive for an experienced driver better be good for the price had an accident ( hit in rear by 3rd party ) seemed to put the insurance [SEP] experience [SEP]\n"
          ],
          "name": "stdout"
        },
        {
          "output_type": "stream",
          "text": [
            "INFO:tensorflow:tokens: [CLS] very expensive for an experienced driver better be good for the price had an accident ( hit in rear by 3rd party ) seemed to put the insurance [SEP] experience [SEP]\n"
          ],
          "name": "stderr"
        },
        {
          "output_type": "stream",
          "text": [
            "INFO:tensorflow:input_ids: 101 2200 6450 2005 2019 5281 4062 2488 2022 2204 2005 1996 3976 2018 2019 4926 1006 2718 1999 4373 2011 3822 2283 1007 2790 2000 2404 1996 5427 102 3325 102\n"
          ],
          "name": "stdout"
        },
        {
          "output_type": "stream",
          "text": [
            "INFO:tensorflow:input_ids: 101 2200 6450 2005 2019 5281 4062 2488 2022 2204 2005 1996 3976 2018 2019 4926 1006 2718 1999 4373 2011 3822 2283 1007 2790 2000 2404 1996 5427 102 3325 102\n"
          ],
          "name": "stderr"
        },
        {
          "output_type": "stream",
          "text": [
            "INFO:tensorflow:input_mask: 1 1 1 1 1 1 1 1 1 1 1 1 1 1 1 1 1 1 1 1 1 1 1 1 1 1 1 1 1 1 1 1\n"
          ],
          "name": "stdout"
        },
        {
          "output_type": "stream",
          "text": [
            "INFO:tensorflow:input_mask: 1 1 1 1 1 1 1 1 1 1 1 1 1 1 1 1 1 1 1 1 1 1 1 1 1 1 1 1 1 1 1 1\n"
          ],
          "name": "stderr"
        },
        {
          "output_type": "stream",
          "text": [
            "INFO:tensorflow:segment_ids: 0 0 0 0 0 0 0 0 0 0 0 0 0 0 0 0 0 0 0 0 0 0 0 0 0 0 0 0 0 0 1 1\n"
          ],
          "name": "stdout"
        },
        {
          "output_type": "stream",
          "text": [
            "INFO:tensorflow:segment_ids: 0 0 0 0 0 0 0 0 0 0 0 0 0 0 0 0 0 0 0 0 0 0 0 0 0 0 0 0 0 0 1 1\n"
          ],
          "name": "stderr"
        },
        {
          "output_type": "stream",
          "text": [
            "INFO:tensorflow:label: 0 (id = 0)\n"
          ],
          "name": "stdout"
        },
        {
          "output_type": "stream",
          "text": [
            "INFO:tensorflow:label: 0 (id = 0)\n"
          ],
          "name": "stderr"
        }
      ]
    },
    {
      "cell_type": "markdown",
      "metadata": {
        "id": "y4GH2lDOwAJP",
        "colab_type": "text"
      },
      "source": [
        "**create_model**"
      ]
    },
    {
      "cell_type": "code",
      "metadata": {
        "id": "72xPFN0xJAlp",
        "colab_type": "code",
        "colab": {}
      },
      "source": [
        "def create_model(is_predicting, input_ids, input_mask, segment_ids, labels,\n",
        "                 num_labels):\n",
        "  \"\"\"Creates a classification model.\"\"\"\n",
        "\n",
        "  bert_module = hub.Module(\n",
        "      BERT_MODEL_HUB,\n",
        "      trainable=True)\n",
        "  bert_inputs = dict(\n",
        "      input_ids=input_ids,\n",
        "      input_mask=input_mask,\n",
        "      segment_ids=segment_ids)\n",
        "  bert_outputs = bert_module(\n",
        "      inputs=bert_inputs,\n",
        "      signature=\"tokens\",\n",
        "      as_dict=True)\n",
        "\n",
        "\n",
        "  output_layer = bert_outputs[\"pooled_output\"]\n",
        "\n",
        "  hidden_size = output_layer.shape[-1].value\n",
        "\n",
        "  # layer to tune for politeness data.\n",
        "  output_weights = tf.get_variable(\n",
        "      \"output_weights\", [num_labels, hidden_size],\n",
        "      initializer=tf.truncated_normal_initializer(stddev=0.02))\n",
        "\n",
        "  output_bias = tf.get_variable(\n",
        "      \"output_bias\", [num_labels], initializer=tf.zeros_initializer())\n",
        "\n",
        "  with tf.variable_scope(\"loss\"):\n",
        "\n",
        "    # Dropout to prevent overfitting\n",
        "    output_layer = tf.nn.dropout(output_layer, keep_prob=0.9)\n",
        "\n",
        "    logits = tf.matmul(output_layer, output_weights, transpose_b=True)\n",
        "    logits = tf.nn.bias_add(logits, output_bias)\n",
        "    log_probs = tf.nn.log_softmax(logits, axis=-1)\n",
        "\n",
        "    # one-hot encoding labels\n",
        "    one_hot_labels = tf.one_hot(labels, depth=num_labels, dtype=tf.float32)\n",
        "\n",
        "    predicted_labels = tf.squeeze(tf.argmax(log_probs, axis=-1, output_type=tf.int32))\n",
        "    # for predicting, predicted labels and the probabiltiies are needed.\n",
        "    if is_predicting:\n",
        "      return (predicted_labels, log_probs)\n",
        "\n",
        "    # for train/eval, compute loss between predicted and actual label\n",
        "    per_example_loss = -tf.reduce_sum(one_hot_labels * log_probs, axis=-1)\n",
        "    loss = tf.reduce_mean(per_example_loss)\n",
        "    return (loss, predicted_labels, log_probs)\n",
        "\n",
        "\n"
      ],
      "execution_count": 0,
      "outputs": []
    },
    {
      "cell_type": "code",
      "metadata": {
        "id": "8zkFlz47xetG",
        "colab_type": "code",
        "colab": {}
      },
      "source": [
        "# Model function"
      ],
      "execution_count": 0,
      "outputs": []
    },
    {
      "cell_type": "code",
      "metadata": {
        "id": "6zM8gPX5ZUIq",
        "colab_type": "code",
        "colab": {}
      },
      "source": [
        "# model_fn_builder creates our true model function\n",
        "# using the passed parameters for num_labels, learning_rate, etc.\n",
        "def model_fn_builder(num_labels, learning_rate, num_train_steps,\n",
        "                     num_warmup_steps):\n",
        "  \"\"\"Returns `model_fn` closure for TPUEstimator.\"\"\"\n",
        "  def model_fn(features, labels, mode, params):  # pylint: disable=unused-argument\n",
        "    \"\"\"The `model_fn` for TPUEstimator.\"\"\"\n",
        "\n",
        "    input_ids = features[\"input_ids\"]\n",
        "    input_mask = features[\"input_mask\"]\n",
        "    segment_ids = features[\"segment_ids\"]\n",
        "    label_ids = features[\"label_ids\"]\n",
        "\n",
        "    is_predicting = (mode == tf.estimator.ModeKeys.PREDICT)\n",
        "    \n",
        "    # TRAIN and EVAL\n",
        "    if not is_predicting:\n",
        "\n",
        "      (loss, predicted_labels, log_probs) = create_model(\n",
        "        is_predicting, input_ids, input_mask, segment_ids, label_ids, num_labels)\n",
        "\n",
        "      train_op = bert.optimization.create_optimizer(\n",
        "          loss, learning_rate, num_train_steps, num_warmup_steps, use_tpu=False)\n",
        "\n",
        "      # Calculate evaluation metrics. \n",
        "      def metric_fn(label_ids, predicted_labels):\n",
        "        accuracy = tf.metrics.accuracy(label_ids, predicted_labels)\n",
        "        f1_score = tf.contrib.metrics.f1_score(\n",
        "            label_ids,\n",
        "            predicted_labels)\n",
        "        auc = tf.metrics.auc(\n",
        "            label_ids,\n",
        "            predicted_labels)\n",
        "        recall = tf.metrics.recall(\n",
        "            label_ids,\n",
        "            predicted_labels)\n",
        "        precision = tf.metrics.precision(\n",
        "            label_ids,\n",
        "            predicted_labels) \n",
        "        true_pos = tf.metrics.true_positives(\n",
        "            label_ids,\n",
        "            predicted_labels)\n",
        "        true_neg = tf.metrics.true_negatives(\n",
        "            label_ids,\n",
        "            predicted_labels)   \n",
        "        false_pos = tf.metrics.false_positives(\n",
        "            label_ids,\n",
        "            predicted_labels)  \n",
        "        false_neg = tf.metrics.false_negatives(\n",
        "            label_ids,\n",
        "            predicted_labels)\n",
        "        return {\n",
        "            \"eval_accuracy\": accuracy,\n",
        "            \"f1_score\": f1_score,\n",
        "            \"auc\": auc,\n",
        "            \"precision\": precision,\n",
        "            \"recall\": recall,\n",
        "            \"true_positives\": true_pos,\n",
        "            \"true_negatives\": true_neg,\n",
        "            \"false_positives\": false_pos,\n",
        "            \"false_negatives\": false_neg\n",
        "        }\n",
        "\n",
        "      eval_metrics = metric_fn(label_ids, predicted_labels)\n",
        "\n",
        "      if mode == tf.estimator.ModeKeys.TRAIN:\n",
        "        return tf.estimator.EstimatorSpec(mode=mode,\n",
        "          loss=loss,\n",
        "          train_op=train_op)\n",
        "      else:\n",
        "          return tf.estimator.EstimatorSpec(mode=mode,\n",
        "            loss=loss,\n",
        "            eval_metric_ops=eval_metrics)\n",
        "    else:\n",
        "      (predicted_labels, log_probs) = create_model(\n",
        "        is_predicting, input_ids, input_mask, segment_ids, label_ids, num_labels)\n",
        "\n",
        "      predictions = {\n",
        "          'probabilities': log_probs,\n",
        "          'labels': predicted_labels\n",
        "      }\n",
        "      return tf.estimator.EstimatorSpec(mode, predictions=predictions)\n",
        "\n",
        "  # Return the actual model function in the closure\n",
        "  return model_fn"
      ],
      "execution_count": 0,
      "outputs": []
    },
    {
      "cell_type": "markdown",
      "metadata": {
        "id": "TJV4UOfvwFnp",
        "colab_type": "text"
      },
      "source": [
        "**OUTPUT_DIR**"
      ]
    },
    {
      "cell_type": "code",
      "metadata": {
        "id": "v_MR3HiaxjYo",
        "colab_type": "code",
        "colab": {}
      },
      "source": [
        "# Assigning Output Directory"
      ],
      "execution_count": 0,
      "outputs": []
    },
    {
      "cell_type": "code",
      "metadata": {
        "id": "4-bEkQ97Fbvx",
        "colab_type": "code",
        "outputId": "d6e7ced5-eef2-4c57-b869-1b5a5a2cf02c",
        "colab": {
          "base_uri": "https://localhost:8080/",
          "height": 33
        }
      },
      "source": [
        "OUTPUT_DIR = '/content/drive/My Drive/logically_test/NLP_data_scientist_test/OUTPUT_DIR'#@param {type:\"string\"}\n",
        "DO_DELETE = False #@param {type:\"boolean\"}\n",
        "\n",
        "if DO_DELETE:\n",
        "  try:\n",
        "    tf.gfile.DeleteRecursively(OUTPUT_DIR)\n",
        "  except:\n",
        "    # Doesn't matter if the directory didn't exist\n",
        "    pass\n",
        "tf.gfile.MakeDirs(OUTPUT_DIR)\n",
        "print('***** Model output directory: {} *****'.format(OUTPUT_DIR))"
      ],
      "execution_count": 24,
      "outputs": [
        {
          "output_type": "stream",
          "text": [
            "***** Model output directory: /content/drive/My Drive/logically_test/NLP_data_scientist_test/OUTPUT_DIR *****\n"
          ],
          "name": "stdout"
        }
      ]
    },
    {
      "cell_type": "markdown",
      "metadata": {
        "id": "EE3UGFUlwQNG",
        "colab_type": "text"
      },
      "source": [
        "**CONFIG**"
      ]
    },
    {
      "cell_type": "code",
      "metadata": {
        "id": "jS5Zy78V4B5H",
        "colab_type": "code",
        "outputId": "664ed62b-14b6-4685-f7da-92dc9469499e",
        "colab": {
          "base_uri": "https://localhost:8080/",
          "height": 265
        }
      },
      "source": [
        "# Compute train and warmup steps from batch size\n",
        "MAX_SEQ_LENGTH = 32\n",
        "BATCH_SIZE = 50\n",
        "LEARNING_RATE = 2e-5\n",
        "NUM_TRAIN_EPOCHS = 6\n",
        "# Warmup is a period of time where hte learning rate \n",
        "# is small and gradually increases--usually helps training.\n",
        "WARMUP_PROPORTION = 0.1\n",
        "# Model configs\n",
        "SAVE_CHECKPOINTS_STEPS = 500\n",
        "SAVE_SUMMARY_STEPS = 252\n",
        "\n",
        "# Compute # train and warmup steps from batch size\n",
        "num_train_steps = int(len(train_features) / BATCH_SIZE * NUM_TRAIN_EPOCHS)\n",
        "num_warmup_steps = int(num_train_steps * WARMUP_PROPORTION)\n",
        "\n",
        "# Specify outpit directory and number of checkpoint steps to save\n",
        "run_config = tf.estimator.RunConfig(\n",
        "    model_dir= OUTPUT_DIR,\n",
        "    save_summary_steps=SAVE_SUMMARY_STEPS,\n",
        "    save_checkpoints_steps=SAVE_CHECKPOINTS_STEPS)\n",
        "\n",
        "model_fn = model_fn_builder(\n",
        "  num_labels=len(label_list),\n",
        "  learning_rate=LEARNING_RATE,\n",
        "  num_train_steps=num_train_steps,\n",
        "  num_warmup_steps=num_warmup_steps)\n",
        "\n",
        "estimator = tf.estimator.Estimator(\n",
        "  model_fn=model_fn,\n",
        "  config=run_config,\n",
        "  params={\"batch_size\": BATCH_SIZE},\n",
        "  model_dir = OUTPUT_DIR)\n",
        "\n"
      ],
      "execution_count": 25,
      "outputs": [
        {
          "output_type": "stream",
          "text": [
            "INFO:tensorflow:Using config: {'_model_dir': '/content/drive/My Drive/logically_test/NLP_data_scientist_test/OUTPUT_DIR', '_tf_random_seed': None, '_save_summary_steps': 252, '_save_checkpoints_steps': 500, '_save_checkpoints_secs': None, '_session_config': allow_soft_placement: true\n",
            "graph_options {\n",
            "  rewrite_options {\n",
            "    meta_optimizer_iterations: ONE\n",
            "  }\n",
            "}\n",
            ", '_keep_checkpoint_max': 5, '_keep_checkpoint_every_n_hours': 10000, '_log_step_count_steps': 100, '_train_distribute': None, '_device_fn': None, '_protocol': None, '_eval_distribute': None, '_experimental_distribute': None, '_experimental_max_worker_delay_secs': None, '_service': None, '_cluster_spec': <tensorflow.python.training.server_lib.ClusterSpec object at 0x7f9b49f9e828>, '_task_type': 'worker', '_task_id': 0, '_global_id_in_cluster': 0, '_master': '', '_evaluation_master': '', '_is_chief': True, '_num_ps_replicas': 0, '_num_worker_replicas': 1}\n"
          ],
          "name": "stdout"
        },
        {
          "output_type": "stream",
          "text": [
            "INFO:tensorflow:Using config: {'_model_dir': '/content/drive/My Drive/logically_test/NLP_data_scientist_test/OUTPUT_DIR', '_tf_random_seed': None, '_save_summary_steps': 252, '_save_checkpoints_steps': 500, '_save_checkpoints_secs': None, '_session_config': allow_soft_placement: true\n",
            "graph_options {\n",
            "  rewrite_options {\n",
            "    meta_optimizer_iterations: ONE\n",
            "  }\n",
            "}\n",
            ", '_keep_checkpoint_max': 5, '_keep_checkpoint_every_n_hours': 10000, '_log_step_count_steps': 100, '_train_distribute': None, '_device_fn': None, '_protocol': None, '_eval_distribute': None, '_experimental_distribute': None, '_experimental_max_worker_delay_secs': None, '_service': None, '_cluster_spec': <tensorflow.python.training.server_lib.ClusterSpec object at 0x7f9b49f9e828>, '_task_type': 'worker', '_task_id': 0, '_global_id_in_cluster': 0, '_master': '', '_evaluation_master': '', '_is_chief': True, '_num_ps_replicas': 0, '_num_worker_replicas': 1}\n"
          ],
          "name": "stderr"
        }
      ]
    },
    {
      "cell_type": "code",
      "metadata": {
        "id": "8UqA8Y5WFvPS",
        "colab_type": "code",
        "outputId": "ad46a062-d2e6-4a4e-9c2b-6755494df30c",
        "colab": {
          "base_uri": "https://localhost:8080/",
          "height": 33
        }
      },
      "source": [
        "num_train_steps"
      ],
      "execution_count": 0,
      "outputs": [
        {
          "output_type": "execute_result",
          "data": {
            "text/plain": [
              "505"
            ]
          },
          "metadata": {
            "tags": []
          },
          "execution_count": 286
        }
      ]
    },
    {
      "cell_type": "code",
      "metadata": {
        "id": "WiN60OJVGBJX",
        "colab_type": "code",
        "colab": {}
      },
      "source": [
        "# Create an input function for training. drop_remainder = True for using TPUs.\n",
        "train_input_fn = bert.run_classifier.input_fn_builder(\n",
        "    features=train_features,\n",
        "    seq_length=MAX_SEQ_LENGTH,\n",
        "    is_training=True,\n",
        "    drop_remainder=False)"
      ],
      "execution_count": 0,
      "outputs": []
    },
    {
      "cell_type": "markdown",
      "metadata": {
        "id": "tT3gg9D0wa4x",
        "colab_type": "text"
      },
      "source": [
        "# **TRAINING**"
      ]
    },
    {
      "cell_type": "code",
      "metadata": {
        "id": "Qzxj8cZXGIH_",
        "colab_type": "code",
        "outputId": "9b1446d8-e233-4ce2-e040-405d453dea98",
        "colab": {
          "base_uri": "https://localhost:8080/",
          "height": 817
        }
      },
      "source": [
        "print(f'Beginning Training!')\n",
        "current_time = datetime.now()\n",
        "estimator.train(input_fn=train_input_fn, max_steps=num_train_steps)\n",
        "print(\"Training took time \", datetime.now() - current_time)"
      ],
      "execution_count": 0,
      "outputs": [
        {
          "output_type": "stream",
          "text": [
            "Beginning Training!\n",
            "INFO:tensorflow:Calling model_fn.\n"
          ],
          "name": "stdout"
        },
        {
          "output_type": "stream",
          "text": [
            "INFO:tensorflow:Calling model_fn.\n"
          ],
          "name": "stderr"
        },
        {
          "output_type": "stream",
          "text": [
            "INFO:tensorflow:Saver not created because there are no variables in the graph to restore\n"
          ],
          "name": "stdout"
        },
        {
          "output_type": "stream",
          "text": [
            "INFO:tensorflow:Saver not created because there are no variables in the graph to restore\n",
            "/tensorflow-1.15.2/python3.6/tensorflow_core/python/framework/indexed_slices.py:424: UserWarning: Converting sparse IndexedSlices to a dense Tensor of unknown shape. This may consume a large amount of memory.\n",
            "  \"Converting sparse IndexedSlices to a dense Tensor of unknown shape. \"\n"
          ],
          "name": "stderr"
        },
        {
          "output_type": "stream",
          "text": [
            "INFO:tensorflow:Done calling model_fn.\n"
          ],
          "name": "stdout"
        },
        {
          "output_type": "stream",
          "text": [
            "INFO:tensorflow:Done calling model_fn.\n"
          ],
          "name": "stderr"
        },
        {
          "output_type": "stream",
          "text": [
            "INFO:tensorflow:Create CheckpointSaverHook.\n"
          ],
          "name": "stdout"
        },
        {
          "output_type": "stream",
          "text": [
            "INFO:tensorflow:Create CheckpointSaverHook.\n"
          ],
          "name": "stderr"
        },
        {
          "output_type": "stream",
          "text": [
            "INFO:tensorflow:Graph was finalized.\n"
          ],
          "name": "stdout"
        },
        {
          "output_type": "stream",
          "text": [
            "INFO:tensorflow:Graph was finalized.\n"
          ],
          "name": "stderr"
        },
        {
          "output_type": "stream",
          "text": [
            "INFO:tensorflow:Running local_init_op.\n"
          ],
          "name": "stdout"
        },
        {
          "output_type": "stream",
          "text": [
            "INFO:tensorflow:Running local_init_op.\n"
          ],
          "name": "stderr"
        },
        {
          "output_type": "stream",
          "text": [
            "INFO:tensorflow:Done running local_init_op.\n"
          ],
          "name": "stdout"
        },
        {
          "output_type": "stream",
          "text": [
            "INFO:tensorflow:Done running local_init_op.\n"
          ],
          "name": "stderr"
        },
        {
          "output_type": "stream",
          "text": [
            "INFO:tensorflow:Saving checkpoints for 0 into /content/drive/My Drive/logically_test/NLP_data_scientist_test/OUTPUT_DIR/model.ckpt.\n"
          ],
          "name": "stdout"
        },
        {
          "output_type": "stream",
          "text": [
            "INFO:tensorflow:Saving checkpoints for 0 into /content/drive/My Drive/logically_test/NLP_data_scientist_test/OUTPUT_DIR/model.ckpt.\n"
          ],
          "name": "stderr"
        },
        {
          "output_type": "stream",
          "text": [
            "INFO:tensorflow:loss = 0.6960508, step = 0\n"
          ],
          "name": "stdout"
        },
        {
          "output_type": "stream",
          "text": [
            "INFO:tensorflow:loss = 0.6960508, step = 0\n"
          ],
          "name": "stderr"
        },
        {
          "output_type": "stream",
          "text": [
            "INFO:tensorflow:global_step/sec: 2.93507\n"
          ],
          "name": "stdout"
        },
        {
          "output_type": "stream",
          "text": [
            "INFO:tensorflow:global_step/sec: 2.93507\n"
          ],
          "name": "stderr"
        },
        {
          "output_type": "stream",
          "text": [
            "INFO:tensorflow:loss = 0.14145197, step = 100 (34.072 sec)\n"
          ],
          "name": "stdout"
        },
        {
          "output_type": "stream",
          "text": [
            "INFO:tensorflow:loss = 0.14145197, step = 100 (34.072 sec)\n"
          ],
          "name": "stderr"
        },
        {
          "output_type": "stream",
          "text": [
            "INFO:tensorflow:global_step/sec: 4.49936\n"
          ],
          "name": "stdout"
        },
        {
          "output_type": "stream",
          "text": [
            "INFO:tensorflow:global_step/sec: 4.49936\n"
          ],
          "name": "stderr"
        },
        {
          "output_type": "stream",
          "text": [
            "INFO:tensorflow:loss = 0.10692974, step = 200 (22.225 sec)\n"
          ],
          "name": "stdout"
        },
        {
          "output_type": "stream",
          "text": [
            "INFO:tensorflow:loss = 0.10692974, step = 200 (22.225 sec)\n"
          ],
          "name": "stderr"
        },
        {
          "output_type": "stream",
          "text": [
            "INFO:tensorflow:global_step/sec: 3.17431\n"
          ],
          "name": "stdout"
        },
        {
          "output_type": "stream",
          "text": [
            "INFO:tensorflow:global_step/sec: 3.17431\n"
          ],
          "name": "stderr"
        },
        {
          "output_type": "stream",
          "text": [
            "INFO:tensorflow:loss = 0.004370566, step = 300 (31.503 sec)\n"
          ],
          "name": "stdout"
        },
        {
          "output_type": "stream",
          "text": [
            "INFO:tensorflow:loss = 0.004370566, step = 300 (31.503 sec)\n"
          ],
          "name": "stderr"
        },
        {
          "output_type": "stream",
          "text": [
            "INFO:tensorflow:global_step/sec: 4.56593\n"
          ],
          "name": "stdout"
        },
        {
          "output_type": "stream",
          "text": [
            "INFO:tensorflow:global_step/sec: 4.56593\n"
          ],
          "name": "stderr"
        },
        {
          "output_type": "stream",
          "text": [
            "INFO:tensorflow:loss = 0.0032677948, step = 400 (21.903 sec)\n"
          ],
          "name": "stdout"
        },
        {
          "output_type": "stream",
          "text": [
            "INFO:tensorflow:loss = 0.0032677948, step = 400 (21.903 sec)\n"
          ],
          "name": "stderr"
        },
        {
          "output_type": "stream",
          "text": [
            "INFO:tensorflow:Saving checkpoints for 500 into /content/drive/My Drive/logically_test/NLP_data_scientist_test/OUTPUT_DIR/model.ckpt.\n"
          ],
          "name": "stdout"
        },
        {
          "output_type": "stream",
          "text": [
            "INFO:tensorflow:Saving checkpoints for 500 into /content/drive/My Drive/logically_test/NLP_data_scientist_test/OUTPUT_DIR/model.ckpt.\n"
          ],
          "name": "stderr"
        },
        {
          "output_type": "stream",
          "text": [
            "INFO:tensorflow:global_step/sec: 3.5346\n"
          ],
          "name": "stdout"
        },
        {
          "output_type": "stream",
          "text": [
            "INFO:tensorflow:global_step/sec: 3.5346\n"
          ],
          "name": "stderr"
        },
        {
          "output_type": "stream",
          "text": [
            "INFO:tensorflow:loss = 0.005271162, step = 500 (28.290 sec)\n"
          ],
          "name": "stdout"
        },
        {
          "output_type": "stream",
          "text": [
            "INFO:tensorflow:loss = 0.005271162, step = 500 (28.290 sec)\n"
          ],
          "name": "stderr"
        },
        {
          "output_type": "stream",
          "text": [
            "INFO:tensorflow:Saving checkpoints for 505 into /content/drive/My Drive/logically_test/NLP_data_scientist_test/OUTPUT_DIR/model.ckpt.\n"
          ],
          "name": "stdout"
        },
        {
          "output_type": "stream",
          "text": [
            "INFO:tensorflow:Saving checkpoints for 505 into /content/drive/My Drive/logically_test/NLP_data_scientist_test/OUTPUT_DIR/model.ckpt.\n"
          ],
          "name": "stderr"
        },
        {
          "output_type": "stream",
          "text": [
            "INFO:tensorflow:Loss for final step: 0.004997228.\n"
          ],
          "name": "stdout"
        },
        {
          "output_type": "stream",
          "text": [
            "INFO:tensorflow:Loss for final step: 0.004997228.\n"
          ],
          "name": "stderr"
        },
        {
          "output_type": "stream",
          "text": [
            "Training took time  0:03:44.072552\n"
          ],
          "name": "stdout"
        }
      ]
    },
    {
      "cell_type": "markdown",
      "metadata": {
        "id": "SCK95frhwhxA",
        "colab_type": "text"
      },
      "source": [
        "# **MODEL EVALUATION**"
      ]
    },
    {
      "cell_type": "code",
      "metadata": {
        "id": "xHzWGDFLGLsK",
        "colab_type": "code",
        "colab": {}
      },
      "source": [
        "test_input_fn = run_classifier.input_fn_builder(\n",
        "    features=test_features,\n",
        "    seq_length=MAX_SEQ_LENGTH,\n",
        "    is_training=False,\n",
        "    drop_remainder=False)\n",
        "\n"
      ],
      "execution_count": 0,
      "outputs": []
    },
    {
      "cell_type": "code",
      "metadata": {
        "id": "zLiMuyTpalcT",
        "colab_type": "code",
        "outputId": "48515509-5472-468d-b108-14ba49a94a05",
        "colab": {
          "base_uri": "https://localhost:8080/",
          "height": 427
        }
      },
      "source": [
        "performance_stats = estimator.evaluate(input_fn=test_input_fn, steps=None)\n"
      ],
      "execution_count": 0,
      "outputs": [
        {
          "output_type": "stream",
          "text": [
            "INFO:tensorflow:Calling model_fn.\n"
          ],
          "name": "stdout"
        },
        {
          "output_type": "stream",
          "text": [
            "INFO:tensorflow:Calling model_fn.\n"
          ],
          "name": "stderr"
        },
        {
          "output_type": "stream",
          "text": [
            "INFO:tensorflow:Saver not created because there are no variables in the graph to restore\n"
          ],
          "name": "stdout"
        },
        {
          "output_type": "stream",
          "text": [
            "INFO:tensorflow:Saver not created because there are no variables in the graph to restore\n",
            "/tensorflow-1.15.2/python3.6/tensorflow_core/python/framework/indexed_slices.py:424: UserWarning: Converting sparse IndexedSlices to a dense Tensor of unknown shape. This may consume a large amount of memory.\n",
            "  \"Converting sparse IndexedSlices to a dense Tensor of unknown shape. \"\n"
          ],
          "name": "stderr"
        },
        {
          "output_type": "stream",
          "text": [
            "INFO:tensorflow:Done calling model_fn.\n"
          ],
          "name": "stdout"
        },
        {
          "output_type": "stream",
          "text": [
            "INFO:tensorflow:Done calling model_fn.\n"
          ],
          "name": "stderr"
        },
        {
          "output_type": "stream",
          "text": [
            "INFO:tensorflow:Starting evaluation at 2020-04-11T13:58:44Z\n"
          ],
          "name": "stdout"
        },
        {
          "output_type": "stream",
          "text": [
            "INFO:tensorflow:Starting evaluation at 2020-04-11T13:58:44Z\n"
          ],
          "name": "stderr"
        },
        {
          "output_type": "stream",
          "text": [
            "INFO:tensorflow:Graph was finalized.\n"
          ],
          "name": "stdout"
        },
        {
          "output_type": "stream",
          "text": [
            "INFO:tensorflow:Graph was finalized.\n"
          ],
          "name": "stderr"
        },
        {
          "output_type": "stream",
          "text": [
            "INFO:tensorflow:Restoring parameters from /content/drive/My Drive/logically_test/NLP_data_scientist_test/OUTPUT_DIR/model.ckpt-505\n"
          ],
          "name": "stdout"
        },
        {
          "output_type": "stream",
          "text": [
            "INFO:tensorflow:Restoring parameters from /content/drive/My Drive/logically_test/NLP_data_scientist_test/OUTPUT_DIR/model.ckpt-505\n"
          ],
          "name": "stderr"
        },
        {
          "output_type": "stream",
          "text": [
            "INFO:tensorflow:Running local_init_op.\n"
          ],
          "name": "stdout"
        },
        {
          "output_type": "stream",
          "text": [
            "INFO:tensorflow:Running local_init_op.\n"
          ],
          "name": "stderr"
        },
        {
          "output_type": "stream",
          "text": [
            "INFO:tensorflow:Done running local_init_op.\n"
          ],
          "name": "stdout"
        },
        {
          "output_type": "stream",
          "text": [
            "INFO:tensorflow:Done running local_init_op.\n"
          ],
          "name": "stderr"
        },
        {
          "output_type": "stream",
          "text": [
            "INFO:tensorflow:Finished evaluation at 2020-04-11-13:58:55\n"
          ],
          "name": "stdout"
        },
        {
          "output_type": "stream",
          "text": [
            "INFO:tensorflow:Finished evaluation at 2020-04-11-13:58:55\n"
          ],
          "name": "stderr"
        },
        {
          "output_type": "stream",
          "text": [
            "INFO:tensorflow:Saving dict for global step 505: auc = 0.92359143, eval_accuracy = 0.9305711, f1_score = 0.9482902, false_negatives = 68.0, false_positives = 56.0, global_step = 505, loss = 0.29325274, precision = 0.9530595, recall = 0.94356847, true_negatives = 525.0, true_positives = 1137.0\n"
          ],
          "name": "stdout"
        },
        {
          "output_type": "stream",
          "text": [
            "INFO:tensorflow:Saving dict for global step 505: auc = 0.92359143, eval_accuracy = 0.9305711, f1_score = 0.9482902, false_negatives = 68.0, false_positives = 56.0, global_step = 505, loss = 0.29325274, precision = 0.9530595, recall = 0.94356847, true_negatives = 525.0, true_positives = 1137.0\n"
          ],
          "name": "stderr"
        },
        {
          "output_type": "stream",
          "text": [
            "INFO:tensorflow:Saving 'checkpoint_path' summary for global step 505: /content/drive/My Drive/logically_test/NLP_data_scientist_test/OUTPUT_DIR/model.ckpt-505\n"
          ],
          "name": "stdout"
        },
        {
          "output_type": "stream",
          "text": [
            "INFO:tensorflow:Saving 'checkpoint_path' summary for global step 505: /content/drive/My Drive/logically_test/NLP_data_scientist_test/OUTPUT_DIR/model.ckpt-505\n"
          ],
          "name": "stderr"
        }
      ]
    },
    {
      "cell_type": "markdown",
      "metadata": {
        "id": "SJePgELVwoJd",
        "colab_type": "text"
      },
      "source": [
        "**PERFORMANCE SATS**"
      ]
    },
    {
      "cell_type": "code",
      "metadata": {
        "id": "TI1fGs7unccy",
        "colab_type": "code",
        "outputId": "7d44e78a-9ed3-42a3-8597-d0eec38bd0ca",
        "colab": {
          "base_uri": "https://localhost:8080/",
          "height": 196
        }
      },
      "source": [
        "performance_stats"
      ],
      "execution_count": 0,
      "outputs": [
        {
          "output_type": "execute_result",
          "data": {
            "text/plain": [
              "{'auc': 0.92359143,\n",
              " 'eval_accuracy': 0.9305711,\n",
              " 'f1_score': 0.9482902,\n",
              " 'false_negatives': 68.0,\n",
              " 'false_positives': 56.0,\n",
              " 'global_step': 505,\n",
              " 'loss': 0.29325274,\n",
              " 'precision': 0.9530595,\n",
              " 'recall': 0.94356847,\n",
              " 'true_negatives': 525.0,\n",
              " 'true_positives': 1137.0}"
            ]
          },
          "metadata": {
            "tags": []
          },
          "execution_count": 207
        }
      ]
    },
    {
      "cell_type": "code",
      "metadata": {
        "id": "wQpS6vyjo2Ni",
        "colab_type": "code",
        "colab": {}
      },
      "source": [
        "# load model from checkpoint"
      ],
      "execution_count": 0,
      "outputs": []
    },
    {
      "cell_type": "code",
      "metadata": {
        "id": "ifqlJwtio0IS",
        "colab_type": "code",
        "outputId": "e6eb8959-6cb6-44a0-e539-db0959b5fb18",
        "colab": {
          "base_uri": "https://localhost:8080/",
          "height": 33
        }
      },
      "source": [
        "latest = tf.train.latest_checkpoint('/content/drive/My Drive/logically_test/NLP_data_scientist_test/OUTPUT_DIR')\n",
        "latest"
      ],
      "execution_count": 0,
      "outputs": [
        {
          "output_type": "execute_result",
          "data": {
            "text/plain": [
              "'/content/drive/My Drive/logically_test/NLP_data_scientist_test/OUTPUT_DIR/model.ckpt-505'"
            ]
          },
          "metadata": {
            "tags": []
          },
          "execution_count": 209
        }
      ]
    },
    {
      "cell_type": "markdown",
      "metadata": {
        "id": "skjP1Sn4Rah1",
        "colab_type": "text"
      },
      "source": [
        "latest saved checkpoint for the model"
      ]
    },
    {
      "cell_type": "code",
      "metadata": {
        "id": "1Ng2zwcG_MwV",
        "colab_type": "code",
        "colab": {}
      },
      "source": [
        "sess = tf.Session() \n",
        "saver = tf.train.import_meta_graph('/content/drive/My Drive/logically_test/NLP_data_scientist_test/OUTPUT_DIR/model.ckpt-0.meta') #computational graph\n",
        "model = saver.restore(sess,latest)\n"
      ],
      "execution_count": 0,
      "outputs": []
    },
    {
      "cell_type": "code",
      "metadata": {
        "id": "NhsIjQk_8E8A",
        "colab_type": "code",
        "outputId": "3b10e55c-ea04-41a1-96b2-17e9b9575032",
        "colab": {
          "base_uri": "https://localhost:8080/",
          "height": 33
        }
      },
      "source": [
        "run_config"
      ],
      "execution_count": 0,
      "outputs": [
        {
          "output_type": "execute_result",
          "data": {
            "text/plain": [
              "<tensorflow_estimator.python.estimator.run_config.RunConfig at 0x7f79d0c16898>"
            ]
          },
          "metadata": {
            "tags": []
          },
          "execution_count": 36
        }
      ]
    },
    {
      "cell_type": "markdown",
      "metadata": {
        "id": "Ksf5alJBJbXS",
        "colab_type": "text"
      },
      "source": [
        "**Predict Function**"
      ]
    },
    {
      "cell_type": "code",
      "metadata": {
        "id": "55WOCZV-GNW_",
        "colab_type": "code",
        "colab": {}
      },
      "source": [
        "def getPrediction(in_sentences,entities):\n",
        "  labels = [\"Negative\", \"Positive\"]\n",
        "  input_examples = [run_classifier.InputExample(guid=\"\", text_a = sent, text_b = ent, label = 0) for sent,ent in zip(in_sentences,entities)] # here, \"\" is just a dummy label\n",
        "  input_features = run_classifier.convert_examples_to_features(input_examples, label_list, MAX_SEQ_LENGTH, tokenizer)\n",
        "  predict_input_fn = run_classifier.input_fn_builder(features=input_features, seq_length=MAX_SEQ_LENGTH, is_training=False, drop_remainder=False)\n",
        "  predictions = estimator.predict(predict_input_fn)\n",
        "  return [({\"Sentence\":sentence,\"Entity\":entity, \"pred_prob\":prediction['probabilities'], \"sentiment\":labels[prediction['labels']]}) for sentence, entity, prediction in zip(in_sentences,entities, predictions)]"
      ],
      "execution_count": 0,
      "outputs": []
    },
    {
      "cell_type": "code",
      "metadata": {
        "id": "FV50YJ_83KP1",
        "colab_type": "code",
        "outputId": "61e75853-65d5-4654-c7e6-179c2e079e91",
        "colab": {
          "base_uri": "https://localhost:8080/",
          "height": 765
        }
      },
      "source": [
        "sent = [\"the website was great\", \"the movie was good but I didn't like it\"]\n",
        "ent = [\"website\",\"movie\"]\n",
        "predictions = getPrediction(sent,ent)"
      ],
      "execution_count": 0,
      "outputs": [
        {
          "output_type": "stream",
          "text": [
            "INFO:tensorflow:Writing example 0 of 2\n"
          ],
          "name": "stdout"
        },
        {
          "output_type": "stream",
          "text": [
            "INFO:tensorflow:Writing example 0 of 2\n"
          ],
          "name": "stderr"
        },
        {
          "output_type": "stream",
          "text": [
            "INFO:tensorflow:*** Example ***\n"
          ],
          "name": "stdout"
        },
        {
          "output_type": "stream",
          "text": [
            "INFO:tensorflow:*** Example ***\n"
          ],
          "name": "stderr"
        },
        {
          "output_type": "stream",
          "text": [
            "INFO:tensorflow:guid: \n"
          ],
          "name": "stdout"
        },
        {
          "output_type": "stream",
          "text": [
            "INFO:tensorflow:guid: \n"
          ],
          "name": "stderr"
        },
        {
          "output_type": "stream",
          "text": [
            "INFO:tensorflow:tokens: [CLS] the website was great [SEP] website [SEP]\n"
          ],
          "name": "stdout"
        },
        {
          "output_type": "stream",
          "text": [
            "INFO:tensorflow:tokens: [CLS] the website was great [SEP] website [SEP]\n"
          ],
          "name": "stderr"
        },
        {
          "output_type": "stream",
          "text": [
            "INFO:tensorflow:input_ids: 101 1996 4037 2001 2307 102 4037 102 0 0 0 0 0 0 0 0 0 0 0 0 0 0 0 0 0 0 0 0 0 0 0 0\n"
          ],
          "name": "stdout"
        },
        {
          "output_type": "stream",
          "text": [
            "INFO:tensorflow:input_ids: 101 1996 4037 2001 2307 102 4037 102 0 0 0 0 0 0 0 0 0 0 0 0 0 0 0 0 0 0 0 0 0 0 0 0\n"
          ],
          "name": "stderr"
        },
        {
          "output_type": "stream",
          "text": [
            "INFO:tensorflow:input_mask: 1 1 1 1 1 1 1 1 0 0 0 0 0 0 0 0 0 0 0 0 0 0 0 0 0 0 0 0 0 0 0 0\n"
          ],
          "name": "stdout"
        },
        {
          "output_type": "stream",
          "text": [
            "INFO:tensorflow:input_mask: 1 1 1 1 1 1 1 1 0 0 0 0 0 0 0 0 0 0 0 0 0 0 0 0 0 0 0 0 0 0 0 0\n"
          ],
          "name": "stderr"
        },
        {
          "output_type": "stream",
          "text": [
            "INFO:tensorflow:segment_ids: 0 0 0 0 0 0 1 1 0 0 0 0 0 0 0 0 0 0 0 0 0 0 0 0 0 0 0 0 0 0 0 0\n"
          ],
          "name": "stdout"
        },
        {
          "output_type": "stream",
          "text": [
            "INFO:tensorflow:segment_ids: 0 0 0 0 0 0 1 1 0 0 0 0 0 0 0 0 0 0 0 0 0 0 0 0 0 0 0 0 0 0 0 0\n"
          ],
          "name": "stderr"
        },
        {
          "output_type": "stream",
          "text": [
            "INFO:tensorflow:label: 0 (id = 0)\n"
          ],
          "name": "stdout"
        },
        {
          "output_type": "stream",
          "text": [
            "INFO:tensorflow:label: 0 (id = 0)\n"
          ],
          "name": "stderr"
        },
        {
          "output_type": "stream",
          "text": [
            "INFO:tensorflow:*** Example ***\n"
          ],
          "name": "stdout"
        },
        {
          "output_type": "stream",
          "text": [
            "INFO:tensorflow:*** Example ***\n"
          ],
          "name": "stderr"
        },
        {
          "output_type": "stream",
          "text": [
            "INFO:tensorflow:guid: \n"
          ],
          "name": "stdout"
        },
        {
          "output_type": "stream",
          "text": [
            "INFO:tensorflow:guid: \n"
          ],
          "name": "stderr"
        },
        {
          "output_type": "stream",
          "text": [
            "INFO:tensorflow:tokens: [CLS] the movie was good but i didn ' t like it [SEP] movie [SEP]\n"
          ],
          "name": "stdout"
        },
        {
          "output_type": "stream",
          "text": [
            "INFO:tensorflow:tokens: [CLS] the movie was good but i didn ' t like it [SEP] movie [SEP]\n"
          ],
          "name": "stderr"
        },
        {
          "output_type": "stream",
          "text": [
            "INFO:tensorflow:input_ids: 101 1996 3185 2001 2204 2021 1045 2134 1005 1056 2066 2009 102 3185 102 0 0 0 0 0 0 0 0 0 0 0 0 0 0 0 0 0\n"
          ],
          "name": "stdout"
        },
        {
          "output_type": "stream",
          "text": [
            "INFO:tensorflow:input_ids: 101 1996 3185 2001 2204 2021 1045 2134 1005 1056 2066 2009 102 3185 102 0 0 0 0 0 0 0 0 0 0 0 0 0 0 0 0 0\n"
          ],
          "name": "stderr"
        },
        {
          "output_type": "stream",
          "text": [
            "INFO:tensorflow:input_mask: 1 1 1 1 1 1 1 1 1 1 1 1 1 1 1 0 0 0 0 0 0 0 0 0 0 0 0 0 0 0 0 0\n"
          ],
          "name": "stdout"
        },
        {
          "output_type": "stream",
          "text": [
            "INFO:tensorflow:input_mask: 1 1 1 1 1 1 1 1 1 1 1 1 1 1 1 0 0 0 0 0 0 0 0 0 0 0 0 0 0 0 0 0\n"
          ],
          "name": "stderr"
        },
        {
          "output_type": "stream",
          "text": [
            "INFO:tensorflow:segment_ids: 0 0 0 0 0 0 0 0 0 0 0 0 0 1 1 0 0 0 0 0 0 0 0 0 0 0 0 0 0 0 0 0\n"
          ],
          "name": "stdout"
        },
        {
          "output_type": "stream",
          "text": [
            "INFO:tensorflow:segment_ids: 0 0 0 0 0 0 0 0 0 0 0 0 0 1 1 0 0 0 0 0 0 0 0 0 0 0 0 0 0 0 0 0\n"
          ],
          "name": "stderr"
        },
        {
          "output_type": "stream",
          "text": [
            "INFO:tensorflow:label: 0 (id = 0)\n"
          ],
          "name": "stdout"
        },
        {
          "output_type": "stream",
          "text": [
            "INFO:tensorflow:label: 0 (id = 0)\n"
          ],
          "name": "stderr"
        },
        {
          "output_type": "stream",
          "text": [
            "ERROR:tensorflow:Couldn't match files for checkpoint /content/drive/My Drive/logically_test/NLP_data_scientist_test/OUTPUT_DIR/model.ckpt-759\n"
          ],
          "name": "stdout"
        },
        {
          "output_type": "stream",
          "text": [
            "ERROR:tensorflow:Couldn't match files for checkpoint /content/drive/My Drive/logically_test/NLP_data_scientist_test/OUTPUT_DIR/model.ckpt-759\n"
          ],
          "name": "stderr"
        },
        {
          "output_type": "stream",
          "text": [
            "INFO:tensorflow:Could not find trained model in model_dir: /content/drive/My Drive/logically_test/NLP_data_scientist_test/OUTPUT_DIR, running initialization to predict.\n"
          ],
          "name": "stdout"
        },
        {
          "output_type": "stream",
          "text": [
            "INFO:tensorflow:Could not find trained model in model_dir: /content/drive/My Drive/logically_test/NLP_data_scientist_test/OUTPUT_DIR, running initialization to predict.\n"
          ],
          "name": "stderr"
        },
        {
          "output_type": "stream",
          "text": [
            "INFO:tensorflow:Calling model_fn.\n"
          ],
          "name": "stdout"
        },
        {
          "output_type": "stream",
          "text": [
            "INFO:tensorflow:Calling model_fn.\n"
          ],
          "name": "stderr"
        },
        {
          "output_type": "stream",
          "text": [
            "INFO:tensorflow:Saver not created because there are no variables in the graph to restore\n"
          ],
          "name": "stdout"
        },
        {
          "output_type": "stream",
          "text": [
            "INFO:tensorflow:Saver not created because there are no variables in the graph to restore\n"
          ],
          "name": "stderr"
        },
        {
          "output_type": "stream",
          "text": [
            "INFO:tensorflow:Done calling model_fn.\n"
          ],
          "name": "stdout"
        },
        {
          "output_type": "stream",
          "text": [
            "INFO:tensorflow:Done calling model_fn.\n"
          ],
          "name": "stderr"
        },
        {
          "output_type": "stream",
          "text": [
            "INFO:tensorflow:Graph was finalized.\n"
          ],
          "name": "stdout"
        },
        {
          "output_type": "stream",
          "text": [
            "INFO:tensorflow:Graph was finalized.\n"
          ],
          "name": "stderr"
        },
        {
          "output_type": "stream",
          "text": [
            "INFO:tensorflow:Running local_init_op.\n"
          ],
          "name": "stdout"
        },
        {
          "output_type": "stream",
          "text": [
            "INFO:tensorflow:Running local_init_op.\n"
          ],
          "name": "stderr"
        },
        {
          "output_type": "stream",
          "text": [
            "INFO:tensorflow:Done running local_init_op.\n"
          ],
          "name": "stdout"
        },
        {
          "output_type": "stream",
          "text": [
            "INFO:tensorflow:Done running local_init_op.\n"
          ],
          "name": "stderr"
        }
      ]
    },
    {
      "cell_type": "code",
      "metadata": {
        "id": "R8Rrxldw4hZG",
        "colab_type": "code",
        "outputId": "789ab1c0-c664-44f6-c79e-f9649d947daa",
        "colab": {
          "base_uri": "https://localhost:8080/",
          "height": 147
        }
      },
      "source": [
        "predictions"
      ],
      "execution_count": 0,
      "outputs": [
        {
          "output_type": "execute_result",
          "data": {
            "text/plain": [
              "[{'Entity': 'website',\n",
              "  'Sentence': 'the website was great',\n",
              "  'pred_prob': array([-0.6650544, -0.722052 ], dtype=float32),\n",
              "  'sentiment': 'Negative'},\n",
              " {'Entity': 'movie',\n",
              "  'Sentence': \"the movie was good but I didn't like it\",\n",
              "  'pred_prob': array([-0.6282205 , -0.76258385], dtype=float32),\n",
              "  'sentiment': 'Negative'}]"
            ]
          },
          "metadata": {
            "tags": []
          },
          "execution_count": 58
        }
      ]
    },
    {
      "cell_type": "markdown",
      "metadata": {
        "id": "hg-8qymiI9cN",
        "colab_type": "text"
      },
      "source": [
        "\n",
        "\n",
        "```\n",
        "# This is formatted as code\n",
        "```\n",
        "\n",
        "# **PREDITIONS ON THE TEST SET**\n",
        "\n",
        "> Indented block\n",
        "\n"
      ]
    },
    {
      "cell_type": "code",
      "metadata": {
        "id": "LPwawl6Q462F",
        "colab_type": "code",
        "colab": {}
      },
      "source": [
        "test_set = pd.read_excel('/content/drive/My Drive/logically_test/NLP_data_scientist_test/data/Entity_sentiment_testV2.xlsx')"
      ],
      "execution_count": 0,
      "outputs": []
    },
    {
      "cell_type": "code",
      "metadata": {
        "id": "luJVyjcYTmfO",
        "colab_type": "code",
        "outputId": "cf293f26-c473-484c-d0de-0b6e5b085834",
        "colab": {
          "base_uri": "https://localhost:8080/",
          "height": 191
        }
      },
      "source": [
        "test_set.head()"
      ],
      "execution_count": 0,
      "outputs": [
        {
          "output_type": "execute_result",
          "data": {
            "text/html": [
              "<div>\n",
              "<style scoped>\n",
              "    .dataframe tbody tr th:only-of-type {\n",
              "        vertical-align: middle;\n",
              "    }\n",
              "\n",
              "    .dataframe tbody tr th {\n",
              "        vertical-align: top;\n",
              "    }\n",
              "\n",
              "    .dataframe thead th {\n",
              "        text-align: right;\n",
              "    }\n",
              "</style>\n",
              "<table border=\"1\" class=\"dataframe\">\n",
              "  <thead>\n",
              "    <tr style=\"text-align: right;\">\n",
              "      <th></th>\n",
              "      <th>Sentence</th>\n",
              "      <th>Entity</th>\n",
              "    </tr>\n",
              "  </thead>\n",
              "  <tbody>\n",
              "    <tr>\n",
              "      <th>0</th>\n",
              "      <td>I telephoned AXA customer service as we had a ...</td>\n",
              "      <td>staff</td>\n",
              "    </tr>\n",
              "    <tr>\n",
              "      <th>1</th>\n",
              "      <td>Got the quote on line which was very straightf...</td>\n",
              "      <td>axa</td>\n",
              "    </tr>\n",
              "    <tr>\n",
              "      <th>2</th>\n",
              "      <td>Not enough information on insurance details no...</td>\n",
              "      <td>information</td>\n",
              "    </tr>\n",
              "    <tr>\n",
              "      <th>3</th>\n",
              "      <td>It was admittedly at 11pm but they DO claim to...</td>\n",
              "      <td>service</td>\n",
              "    </tr>\n",
              "    <tr>\n",
              "      <th>4</th>\n",
              "      <td>Good servicewith very little hassleeasy to use...</td>\n",
              "      <td>price</td>\n",
              "    </tr>\n",
              "  </tbody>\n",
              "</table>\n",
              "</div>"
            ],
            "text/plain": [
              "                                            Sentence       Entity\n",
              "0  I telephoned AXA customer service as we had a ...        staff\n",
              "1  Got the quote on line which was very straightf...          axa\n",
              "2  Not enough information on insurance details no...  information\n",
              "3  It was admittedly at 11pm but they DO claim to...      service\n",
              "4  Good servicewith very little hassleeasy to use...        price"
            ]
          },
          "metadata": {
            "tags": []
          },
          "execution_count": 53
        }
      ]
    },
    {
      "cell_type": "code",
      "metadata": {
        "id": "f-xXB6OxTpGy",
        "colab_type": "code",
        "outputId": "df4a05b2-4dae-43e0-e015-b7e4f9222da8",
        "colab": {
          "base_uri": "https://localhost:8080/",
          "height": 1000
        }
      },
      "source": [
        "Sent = list(test_set['Sentence'])\n",
        "Entity = list(test_set['Entity'])\n",
        "pred = getPrediction(Sent,Entity)"
      ],
      "execution_count": 0,
      "outputs": [
        {
          "output_type": "stream",
          "text": [
            "INFO:tensorflow:Writing example 0 of 1290\n"
          ],
          "name": "stdout"
        },
        {
          "output_type": "stream",
          "text": [
            "INFO:tensorflow:Writing example 0 of 1290\n"
          ],
          "name": "stderr"
        },
        {
          "output_type": "stream",
          "text": [
            "INFO:tensorflow:*** Example ***\n"
          ],
          "name": "stdout"
        },
        {
          "output_type": "stream",
          "text": [
            "INFO:tensorflow:*** Example ***\n"
          ],
          "name": "stderr"
        },
        {
          "output_type": "stream",
          "text": [
            "INFO:tensorflow:guid: \n"
          ],
          "name": "stdout"
        },
        {
          "output_type": "stream",
          "text": [
            "INFO:tensorflow:guid: \n"
          ],
          "name": "stderr"
        },
        {
          "output_type": "stream",
          "text": [
            "INFO:tensorflow:tokens: [CLS] i telephone ##d ax ##a customer service as we had a query and the member of staff was very helpful in as much that her polite ##ness made [SEP] staff [SEP]\n"
          ],
          "name": "stdout"
        },
        {
          "output_type": "stream",
          "text": [
            "INFO:tensorflow:tokens: [CLS] i telephone ##d ax ##a customer service as we had a query and the member of staff was very helpful in as much that her polite ##ness made [SEP] staff [SEP]\n"
          ],
          "name": "stderr"
        },
        {
          "output_type": "stream",
          "text": [
            "INFO:tensorflow:input_ids: 101 1045 7026 2094 22260 2050 8013 2326 2004 2057 2018 1037 23032 1998 1996 2266 1997 3095 2001 2200 14044 1999 2004 2172 2008 2014 13205 2791 2081 102 3095 102\n"
          ],
          "name": "stdout"
        },
        {
          "output_type": "stream",
          "text": [
            "INFO:tensorflow:input_ids: 101 1045 7026 2094 22260 2050 8013 2326 2004 2057 2018 1037 23032 1998 1996 2266 1997 3095 2001 2200 14044 1999 2004 2172 2008 2014 13205 2791 2081 102 3095 102\n"
          ],
          "name": "stderr"
        },
        {
          "output_type": "stream",
          "text": [
            "INFO:tensorflow:input_mask: 1 1 1 1 1 1 1 1 1 1 1 1 1 1 1 1 1 1 1 1 1 1 1 1 1 1 1 1 1 1 1 1\n"
          ],
          "name": "stdout"
        },
        {
          "output_type": "stream",
          "text": [
            "INFO:tensorflow:input_mask: 1 1 1 1 1 1 1 1 1 1 1 1 1 1 1 1 1 1 1 1 1 1 1 1 1 1 1 1 1 1 1 1\n"
          ],
          "name": "stderr"
        },
        {
          "output_type": "stream",
          "text": [
            "INFO:tensorflow:segment_ids: 0 0 0 0 0 0 0 0 0 0 0 0 0 0 0 0 0 0 0 0 0 0 0 0 0 0 0 0 0 0 1 1\n"
          ],
          "name": "stdout"
        },
        {
          "output_type": "stream",
          "text": [
            "INFO:tensorflow:segment_ids: 0 0 0 0 0 0 0 0 0 0 0 0 0 0 0 0 0 0 0 0 0 0 0 0 0 0 0 0 0 0 1 1\n"
          ],
          "name": "stderr"
        },
        {
          "output_type": "stream",
          "text": [
            "INFO:tensorflow:label: 0 (id = 0)\n"
          ],
          "name": "stdout"
        },
        {
          "output_type": "stream",
          "text": [
            "INFO:tensorflow:label: 0 (id = 0)\n"
          ],
          "name": "stderr"
        },
        {
          "output_type": "stream",
          "text": [
            "INFO:tensorflow:*** Example ***\n"
          ],
          "name": "stdout"
        },
        {
          "output_type": "stream",
          "text": [
            "INFO:tensorflow:*** Example ***\n"
          ],
          "name": "stderr"
        },
        {
          "output_type": "stream",
          "text": [
            "INFO:tensorflow:guid: \n"
          ],
          "name": "stdout"
        },
        {
          "output_type": "stream",
          "text": [
            "INFO:tensorflow:guid: \n"
          ],
          "name": "stderr"
        },
        {
          "output_type": "stream",
          "text": [
            "INFO:tensorflow:tokens: [CLS] got the quote on line which was very straightforward then rang ax ##a . [SEP] ax ##a [SEP]\n"
          ],
          "name": "stdout"
        },
        {
          "output_type": "stream",
          "text": [
            "INFO:tensorflow:tokens: [CLS] got the quote on line which was very straightforward then rang ax ##a . [SEP] ax ##a [SEP]\n"
          ],
          "name": "stderr"
        },
        {
          "output_type": "stream",
          "text": [
            "INFO:tensorflow:input_ids: 101 2288 1996 14686 2006 2240 2029 2001 2200 19647 2059 8369 22260 2050 1012 102 22260 2050 102 0 0 0 0 0 0 0 0 0 0 0 0 0\n"
          ],
          "name": "stdout"
        },
        {
          "output_type": "stream",
          "text": [
            "INFO:tensorflow:input_ids: 101 2288 1996 14686 2006 2240 2029 2001 2200 19647 2059 8369 22260 2050 1012 102 22260 2050 102 0 0 0 0 0 0 0 0 0 0 0 0 0\n"
          ],
          "name": "stderr"
        },
        {
          "output_type": "stream",
          "text": [
            "INFO:tensorflow:input_mask: 1 1 1 1 1 1 1 1 1 1 1 1 1 1 1 1 1 1 1 0 0 0 0 0 0 0 0 0 0 0 0 0\n"
          ],
          "name": "stdout"
        },
        {
          "output_type": "stream",
          "text": [
            "INFO:tensorflow:input_mask: 1 1 1 1 1 1 1 1 1 1 1 1 1 1 1 1 1 1 1 0 0 0 0 0 0 0 0 0 0 0 0 0\n"
          ],
          "name": "stderr"
        },
        {
          "output_type": "stream",
          "text": [
            "INFO:tensorflow:segment_ids: 0 0 0 0 0 0 0 0 0 0 0 0 0 0 0 0 1 1 1 0 0 0 0 0 0 0 0 0 0 0 0 0\n"
          ],
          "name": "stdout"
        },
        {
          "output_type": "stream",
          "text": [
            "INFO:tensorflow:segment_ids: 0 0 0 0 0 0 0 0 0 0 0 0 0 0 0 0 1 1 1 0 0 0 0 0 0 0 0 0 0 0 0 0\n"
          ],
          "name": "stderr"
        },
        {
          "output_type": "stream",
          "text": [
            "INFO:tensorflow:label: 0 (id = 0)\n"
          ],
          "name": "stdout"
        },
        {
          "output_type": "stream",
          "text": [
            "INFO:tensorflow:label: 0 (id = 0)\n"
          ],
          "name": "stderr"
        },
        {
          "output_type": "stream",
          "text": [
            "INFO:tensorflow:*** Example ***\n"
          ],
          "name": "stdout"
        },
        {
          "output_type": "stream",
          "text": [
            "INFO:tensorflow:*** Example ***\n"
          ],
          "name": "stderr"
        },
        {
          "output_type": "stream",
          "text": [
            "INFO:tensorflow:guid: \n"
          ],
          "name": "stdout"
        },
        {
          "output_type": "stream",
          "text": [
            "INFO:tensorflow:guid: \n"
          ],
          "name": "stderr"
        },
        {
          "output_type": "stream",
          "text": [
            "INFO:tensorflow:tokens: [CLS] not enough information on insurance details no idea what cover i have including 90 days european cover but is that including fully comprehensive [SEP] information [SEP]\n"
          ],
          "name": "stdout"
        },
        {
          "output_type": "stream",
          "text": [
            "INFO:tensorflow:tokens: [CLS] not enough information on insurance details no idea what cover i have including 90 days european cover but is that including fully comprehensive [SEP] information [SEP]\n"
          ],
          "name": "stderr"
        },
        {
          "output_type": "stream",
          "text": [
            "INFO:tensorflow:input_ids: 101 2025 2438 2592 2006 5427 4751 2053 2801 2054 3104 1045 2031 2164 3938 2420 2647 3104 2021 2003 2008 2164 3929 7721 102 2592 102 0 0 0 0 0\n"
          ],
          "name": "stdout"
        },
        {
          "output_type": "stream",
          "text": [
            "INFO:tensorflow:input_ids: 101 2025 2438 2592 2006 5427 4751 2053 2801 2054 3104 1045 2031 2164 3938 2420 2647 3104 2021 2003 2008 2164 3929 7721 102 2592 102 0 0 0 0 0\n"
          ],
          "name": "stderr"
        },
        {
          "output_type": "stream",
          "text": [
            "INFO:tensorflow:input_mask: 1 1 1 1 1 1 1 1 1 1 1 1 1 1 1 1 1 1 1 1 1 1 1 1 1 1 1 0 0 0 0 0\n"
          ],
          "name": "stdout"
        },
        {
          "output_type": "stream",
          "text": [
            "INFO:tensorflow:input_mask: 1 1 1 1 1 1 1 1 1 1 1 1 1 1 1 1 1 1 1 1 1 1 1 1 1 1 1 0 0 0 0 0\n"
          ],
          "name": "stderr"
        },
        {
          "output_type": "stream",
          "text": [
            "INFO:tensorflow:segment_ids: 0 0 0 0 0 0 0 0 0 0 0 0 0 0 0 0 0 0 0 0 0 0 0 0 0 1 1 0 0 0 0 0\n"
          ],
          "name": "stdout"
        },
        {
          "output_type": "stream",
          "text": [
            "INFO:tensorflow:segment_ids: 0 0 0 0 0 0 0 0 0 0 0 0 0 0 0 0 0 0 0 0 0 0 0 0 0 1 1 0 0 0 0 0\n"
          ],
          "name": "stderr"
        },
        {
          "output_type": "stream",
          "text": [
            "INFO:tensorflow:label: 0 (id = 0)\n"
          ],
          "name": "stdout"
        },
        {
          "output_type": "stream",
          "text": [
            "INFO:tensorflow:label: 0 (id = 0)\n"
          ],
          "name": "stderr"
        },
        {
          "output_type": "stream",
          "text": [
            "INFO:tensorflow:*** Example ***\n"
          ],
          "name": "stdout"
        },
        {
          "output_type": "stream",
          "text": [
            "INFO:tensorflow:*** Example ***\n"
          ],
          "name": "stderr"
        },
        {
          "output_type": "stream",
          "text": [
            "INFO:tensorflow:guid: \n"
          ],
          "name": "stdout"
        },
        {
          "output_type": "stream",
          "text": [
            "INFO:tensorflow:guid: \n"
          ],
          "name": "stderr"
        },
        {
          "output_type": "stream",
          "text": [
            "INFO:tensorflow:tokens: [CLS] it was admitted ##ly at 11 ##pm but they do claim to offer a 24 - hour service and there was no message forthcoming to say that the [SEP] service [SEP]\n"
          ],
          "name": "stdout"
        },
        {
          "output_type": "stream",
          "text": [
            "INFO:tensorflow:tokens: [CLS] it was admitted ##ly at 11 ##pm but they do claim to offer a 24 - hour service and there was no message forthcoming to say that the [SEP] service [SEP]\n"
          ],
          "name": "stderr"
        },
        {
          "output_type": "stream",
          "text": [
            "INFO:tensorflow:input_ids: 101 2009 2001 4914 2135 2012 2340 9737 2021 2027 2079 4366 2000 3749 1037 2484 1011 3178 2326 1998 2045 2001 2053 4471 16875 2000 2360 2008 1996 102 2326 102\n"
          ],
          "name": "stdout"
        },
        {
          "output_type": "stream",
          "text": [
            "INFO:tensorflow:input_ids: 101 2009 2001 4914 2135 2012 2340 9737 2021 2027 2079 4366 2000 3749 1037 2484 1011 3178 2326 1998 2045 2001 2053 4471 16875 2000 2360 2008 1996 102 2326 102\n"
          ],
          "name": "stderr"
        },
        {
          "output_type": "stream",
          "text": [
            "INFO:tensorflow:input_mask: 1 1 1 1 1 1 1 1 1 1 1 1 1 1 1 1 1 1 1 1 1 1 1 1 1 1 1 1 1 1 1 1\n"
          ],
          "name": "stdout"
        },
        {
          "output_type": "stream",
          "text": [
            "INFO:tensorflow:input_mask: 1 1 1 1 1 1 1 1 1 1 1 1 1 1 1 1 1 1 1 1 1 1 1 1 1 1 1 1 1 1 1 1\n"
          ],
          "name": "stderr"
        },
        {
          "output_type": "stream",
          "text": [
            "INFO:tensorflow:segment_ids: 0 0 0 0 0 0 0 0 0 0 0 0 0 0 0 0 0 0 0 0 0 0 0 0 0 0 0 0 0 0 1 1\n"
          ],
          "name": "stdout"
        },
        {
          "output_type": "stream",
          "text": [
            "INFO:tensorflow:segment_ids: 0 0 0 0 0 0 0 0 0 0 0 0 0 0 0 0 0 0 0 0 0 0 0 0 0 0 0 0 0 0 1 1\n"
          ],
          "name": "stderr"
        },
        {
          "output_type": "stream",
          "text": [
            "INFO:tensorflow:label: 0 (id = 0)\n"
          ],
          "name": "stdout"
        },
        {
          "output_type": "stream",
          "text": [
            "INFO:tensorflow:label: 0 (id = 0)\n"
          ],
          "name": "stderr"
        },
        {
          "output_type": "stream",
          "text": [
            "INFO:tensorflow:*** Example ***\n"
          ],
          "name": "stdout"
        },
        {
          "output_type": "stream",
          "text": [
            "INFO:tensorflow:*** Example ***\n"
          ],
          "name": "stderr"
        },
        {
          "output_type": "stream",
          "text": [
            "INFO:tensorflow:guid: \n"
          ],
          "name": "stdout"
        },
        {
          "output_type": "stream",
          "text": [
            "INFO:tensorflow:guid: \n"
          ],
          "name": "stderr"
        },
        {
          "output_type": "stream",
          "text": [
            "INFO:tensorflow:tokens: [CLS] good service ##with very little has ##sle ##ea ##sy to use and very good price wise . [SEP] price [SEP]\n"
          ],
          "name": "stdout"
        },
        {
          "output_type": "stream",
          "text": [
            "INFO:tensorflow:tokens: [CLS] good service ##with very little has ##sle ##ea ##sy to use and very good price wise . [SEP] price [SEP]\n"
          ],
          "name": "stderr"
        },
        {
          "output_type": "stream",
          "text": [
            "INFO:tensorflow:input_ids: 101 2204 2326 24415 2200 2210 2038 25016 5243 6508 2000 2224 1998 2200 2204 3976 7968 1012 102 3976 102 0 0 0 0 0 0 0 0 0 0 0\n"
          ],
          "name": "stdout"
        },
        {
          "output_type": "stream",
          "text": [
            "INFO:tensorflow:input_ids: 101 2204 2326 24415 2200 2210 2038 25016 5243 6508 2000 2224 1998 2200 2204 3976 7968 1012 102 3976 102 0 0 0 0 0 0 0 0 0 0 0\n"
          ],
          "name": "stderr"
        },
        {
          "output_type": "stream",
          "text": [
            "INFO:tensorflow:input_mask: 1 1 1 1 1 1 1 1 1 1 1 1 1 1 1 1 1 1 1 1 1 0 0 0 0 0 0 0 0 0 0 0\n"
          ],
          "name": "stdout"
        },
        {
          "output_type": "stream",
          "text": [
            "INFO:tensorflow:input_mask: 1 1 1 1 1 1 1 1 1 1 1 1 1 1 1 1 1 1 1 1 1 0 0 0 0 0 0 0 0 0 0 0\n"
          ],
          "name": "stderr"
        },
        {
          "output_type": "stream",
          "text": [
            "INFO:tensorflow:segment_ids: 0 0 0 0 0 0 0 0 0 0 0 0 0 0 0 0 0 0 0 1 1 0 0 0 0 0 0 0 0 0 0 0\n"
          ],
          "name": "stdout"
        },
        {
          "output_type": "stream",
          "text": [
            "INFO:tensorflow:segment_ids: 0 0 0 0 0 0 0 0 0 0 0 0 0 0 0 0 0 0 0 1 1 0 0 0 0 0 0 0 0 0 0 0\n"
          ],
          "name": "stderr"
        },
        {
          "output_type": "stream",
          "text": [
            "INFO:tensorflow:label: 0 (id = 0)\n"
          ],
          "name": "stdout"
        },
        {
          "output_type": "stream",
          "text": [
            "INFO:tensorflow:label: 0 (id = 0)\n"
          ],
          "name": "stderr"
        },
        {
          "output_type": "stream",
          "text": [
            "ERROR:tensorflow:Couldn't match files for checkpoint /content/drive/My Drive/logically_test/NLP_data_scientist_test/OUTPUT_DIR/model.ckpt-759\n"
          ],
          "name": "stdout"
        },
        {
          "output_type": "stream",
          "text": [
            "ERROR:tensorflow:Couldn't match files for checkpoint /content/drive/My Drive/logically_test/NLP_data_scientist_test/OUTPUT_DIR/model.ckpt-759\n"
          ],
          "name": "stderr"
        },
        {
          "output_type": "stream",
          "text": [
            "INFO:tensorflow:Could not find trained model in model_dir: /content/drive/My Drive/logically_test/NLP_data_scientist_test/OUTPUT_DIR, running initialization to predict.\n"
          ],
          "name": "stdout"
        },
        {
          "output_type": "stream",
          "text": [
            "INFO:tensorflow:Could not find trained model in model_dir: /content/drive/My Drive/logically_test/NLP_data_scientist_test/OUTPUT_DIR, running initialization to predict.\n"
          ],
          "name": "stderr"
        },
        {
          "output_type": "stream",
          "text": [
            "INFO:tensorflow:Calling model_fn.\n"
          ],
          "name": "stdout"
        },
        {
          "output_type": "stream",
          "text": [
            "INFO:tensorflow:Calling model_fn.\n"
          ],
          "name": "stderr"
        },
        {
          "output_type": "stream",
          "text": [
            "INFO:tensorflow:Saver not created because there are no variables in the graph to restore\n"
          ],
          "name": "stdout"
        },
        {
          "output_type": "stream",
          "text": [
            "INFO:tensorflow:Saver not created because there are no variables in the graph to restore\n"
          ],
          "name": "stderr"
        },
        {
          "output_type": "stream",
          "text": [
            "INFO:tensorflow:Done calling model_fn.\n"
          ],
          "name": "stdout"
        },
        {
          "output_type": "stream",
          "text": [
            "INFO:tensorflow:Done calling model_fn.\n"
          ],
          "name": "stderr"
        },
        {
          "output_type": "stream",
          "text": [
            "INFO:tensorflow:Graph was finalized.\n"
          ],
          "name": "stdout"
        },
        {
          "output_type": "stream",
          "text": [
            "INFO:tensorflow:Graph was finalized.\n"
          ],
          "name": "stderr"
        },
        {
          "output_type": "stream",
          "text": [
            "INFO:tensorflow:Running local_init_op.\n"
          ],
          "name": "stdout"
        },
        {
          "output_type": "stream",
          "text": [
            "INFO:tensorflow:Running local_init_op.\n"
          ],
          "name": "stderr"
        },
        {
          "output_type": "stream",
          "text": [
            "INFO:tensorflow:Done running local_init_op.\n"
          ],
          "name": "stdout"
        },
        {
          "output_type": "stream",
          "text": [
            "INFO:tensorflow:Done running local_init_op.\n"
          ],
          "name": "stderr"
        }
      ]
    },
    {
      "cell_type": "code",
      "metadata": {
        "id": "WXRbW0SVUAkS",
        "colab_type": "code",
        "outputId": "c4a96bd7-7289-4802-d6c7-476eee5182dd",
        "colab": {
          "base_uri": "https://localhost:8080/",
          "height": 1000
        }
      },
      "source": [
        "pred"
      ],
      "execution_count": 0,
      "outputs": [
        {
          "output_type": "execute_result",
          "data": {
            "text/plain": [
              "[{'Entity': 'staff',\n",
              "  'Sentence': 'I telephoned AXA customer service as we had a query and the member of staff was very helpful in as much that her politeness made us choose to use AXA for our holiday insurance.',\n",
              "  'pred_prob': array([-7.8432059e+00, -3.9247915e-04], dtype=float32),\n",
              "  'sentiment': 'Positive'},\n",
              " {'Entity': 'axa',\n",
              "  'Sentence': 'Got the quote on line which was very straightforward then rang axa.',\n",
              "  'pred_prob': array([-6.7820563e+00, -1.1345862e-03], dtype=float32),\n",
              "  'sentiment': 'Positive'},\n",
              " {'Entity': 'information',\n",
              "  'Sentence': 'Not enough information on insurance details no idea what cover I have including 90 days European cover but is that including fully comprehensive',\n",
              "  'pred_prob': array([-4.265807  , -0.01414006], dtype=float32),\n",
              "  'sentiment': 'Positive'},\n",
              " {'Entity': 'service',\n",
              "  'Sentence': 'It was admittedly at 11pm but they DO claim to offer a 24-hour service and there was no message forthcoming to say that the site was down for maintenance.',\n",
              "  'pred_prob': array([-0.5145927, -0.9106667], dtype=float32),\n",
              "  'sentiment': 'Negative'},\n",
              " {'Entity': 'price',\n",
              "  'Sentence': 'Good servicewith very little hassleeasy to use and very good price wise.',\n",
              "  'pred_prob': array([-5.3068480e+00, -4.9698628e-03], dtype=float32),\n",
              "  'sentiment': 'Positive'},\n",
              " {'Entity': 'issues',\n",
              "  'Sentence': 'Ok to get quotation and pay but silly issues requiring many reentries just to register to merely print documents',\n",
              "  'pred_prob': array([-3.0006405e-03, -5.8104329e+00], dtype=float32),\n",
              "  'sentiment': 'Negative'},\n",
              " {'Entity': 'office information',\n",
              "  'Sentence': 'i only had one problem with the address it automatically used the post office information which was out of date and i could not change it.',\n",
              "  'pred_prob': array([-2.2701463e-03, -6.0890336e+00], dtype=float32),\n",
              "  'sentiment': 'Negative'},\n",
              " {'Entity': 'aspects',\n",
              "  'Sentence': 'They were very helpful in all aspects of providing proper info for the correct insurance',\n",
              "  'pred_prob': array([-7.6447420e+00, -4.7862995e-04], dtype=float32),\n",
              "  'sentiment': 'Positive'},\n",
              " {'Entity': 'cover',\n",
              "  'Sentence': \"The website was unclear on how to cover a second vehicle when I rang the assistant didn't really know and had to find out.\",\n",
              "  'pred_prob': array([-2.5684009e-03, -5.9657583e+00], dtype=float32),\n",
              "  'sentiment': 'Negative'},\n",
              " {'Entity': 'service',\n",
              "  'Sentence': 'good price &quick online service',\n",
              "  'pred_prob': array([-7.7493215e+00, -4.3108707e-04], dtype=float32),\n",
              "  'sentiment': 'Positive'},\n",
              " {'Entity': 'phone',\n",
              "  'Sentence': 'difficult on line would phone next time',\n",
              "  'pred_prob': array([-2.8035643e-03, -5.8782740e+00], dtype=float32),\n",
              "  'sentiment': 'Negative'},\n",
              " {'Entity': 'service',\n",
              "  'Sentence': 'I am a new customer with AXA car insurance and found the ease of their online service essential to someone who is not a regular IT user.',\n",
              "  'pred_prob': array([-7.4311423e+00, -5.9265213e-04], dtype=float32),\n",
              "  'sentiment': 'Positive'},\n",
              " {'Entity': 'axa',\n",
              "  'Sentence': 'First class service very cheap car insurance will stay with axa thankyou.',\n",
              "  'pred_prob': array([-7.9831190e+00, -3.4123796e-04], dtype=float32),\n",
              "  'sentiment': 'Positive'},\n",
              " {'Entity': 'axa insurance',\n",
              "  'Sentence': 'great service with axa insurance very good telephone communication  always replied to my emails  would recommend them to my friends and family',\n",
              "  'pred_prob': array([-7.9908686e+00, -3.3861626e-04], dtype=float32),\n",
              "  'sentiment': 'Positive'},\n",
              " {'Entity': 'insurance',\n",
              "  'Sentence': 'Quite refreshing from my other insurance company and also a Â£300 save.',\n",
              "  'pred_prob': array([-7.4023390e+00, -6.1004626e-04], dtype=float32),\n",
              "  'sentiment': 'Positive'},\n",
              " {'Entity': 'website',\n",
              "  'Sentence': 'good clear website and easy to use forms',\n",
              "  'pred_prob': array([-7.6811552e+00, -4.6159103e-04], dtype=float32),\n",
              "  'sentiment': 'Positive'},\n",
              " {'Entity': 'information',\n",
              "  'Sentence': 'Therefore took a ridiculous amount of time to complete continually entering the same information',\n",
              "  'pred_prob': array([-4.6083676e-03, -5.3821936e+00], dtype=float32),\n",
              "  'sentiment': 'Negative'},\n",
              " {'Entity': 'advisor',\n",
              "  'Sentence': 'Your advisor David was very thorough when taking this policy out EXCELLENT',\n",
              "  'pred_prob': array([-7.9712887e+00, -3.4528968e-04], dtype=float32),\n",
              "  'sentiment': 'Positive'},\n",
              " {'Entity': 'process',\n",
              "  'Sentence': 'The whole process took me about 10 minutes!',\n",
              "  'pred_prob': array([-4.327364  , -0.01329027], dtype=float32),\n",
              "  'sentiment': 'Positive'},\n",
              " {'Entity': 'password matching critieria',\n",
              "  'Sentence': 'despite password matching critieria would not accept it.',\n",
              "  'pred_prob': array([-2.6068059e-03, -5.9509330e+00], dtype=float32),\n",
              "  'sentiment': 'Negative'},\n",
              " {'Entity': 'insurance',\n",
              "  'Sentence': 'Having recently purchased my home insurance I am delighted with the price I paid and how simple it was to buy',\n",
              "  'pred_prob': array([-7.5413594e+00, -5.3081725e-04], dtype=float32),\n",
              "  'sentiment': 'Positive'},\n",
              " {'Entity': 'brand',\n",
              "  'Sentence': 'We already have car ins with yourselves and bought a brand new car - we phoned for a quote- the sales assistant was very helpful polite and explained things in detail - due to this we accept your insurance for our second car - brilliant service - thank you - would recommend people contact Axa',\n",
              "  'pred_prob': array([-7.6955328e+00, -4.5491836e-04], dtype=float32),\n",
              "  'sentiment': 'Positive'},\n",
              " {'Entity': 'issue',\n",
              "  'Sentence': 'The age of the travellers is the age at issue!',\n",
              "  'pred_prob': array([-0.00936957, -4.674972  ], dtype=float32),\n",
              "  'sentiment': 'Negative'},\n",
              " {'Entity': 'staff',\n",
              "  'Sentence': 'Very nice patient and polite staff.',\n",
              "  'pred_prob': array([-7.7414002e+00, -4.3454266e-04], dtype=float32),\n",
              "  'sentiment': 'Positive'},\n",
              " {'Entity': 'customer service',\n",
              "  'Sentence': 'Very good customer servicerecomending to any new driver',\n",
              "  'pred_prob': array([-7.6389203e+00, -4.8148961e-04], dtype=float32),\n",
              "  'sentiment': 'Positive'},\n",
              " {'Entity': 'value',\n",
              "  'Sentence': 'easyquickgood price and good value and a nice recipe for chicken thrown in',\n",
              "  'pred_prob': array([-7.3855844e+00, -6.2029192e-04], dtype=float32),\n",
              "  'sentiment': 'Positive'},\n",
              " {'Entity': 'patient',\n",
              "  'Sentence': 'She was patient when I struggled to find information required and also informative about where I could find it.',\n",
              "  'pred_prob': array([-7.1656957e+00, -7.7289267e-04], dtype=float32),\n",
              "  'sentiment': 'Positive'},\n",
              " {'Entity': 'service',\n",
              "  'Sentence': 'This service was quick user friendly and the quote was very well priced will recommend this service to all my friends',\n",
              "  'pred_prob': array([-7.9352145e+00, -3.5792144e-04], dtype=float32),\n",
              "  'sentiment': 'Positive'},\n",
              " {'Entity': 'price',\n",
              "  'Sentence': 'Excellent insurance with a fantastic price',\n",
              "  'pred_prob': array([-8.1501513e+00, -2.8868322e-04], dtype=float32),\n",
              "  'sentiment': 'Positive'},\n",
              " {'Entity': 'insurance',\n",
              "  'Sentence': 'very easy to understand web site and good value travel insurance',\n",
              "  'pred_prob': array([-8.0234404e+00, -3.2777182e-04], dtype=float32),\n",
              "  'sentiment': 'Positive'},\n",
              " {'Entity': 'price and policy',\n",
              "  'Sentence': 'Great price and policy compared to my previous company',\n",
              "  'pred_prob': array([-7.1210437e+00, -8.0826989e-04], dtype=float32),\n",
              "  'sentiment': 'Positive'},\n",
              " {'Entity': 'representatives',\n",
              "  'Sentence': 'From the beginning to the end of my contact with AXA their representatives were friendly helpful competent and professional.',\n",
              "  'pred_prob': array([-6.8779950e+00, -1.0307481e-03], dtype=float32),\n",
              "  'sentiment': 'Positive'},\n",
              " {'Entity': 'j grundy',\n",
              "  'Sentence': \"unfortunately felt i had to cancel the problem being that i couldn't get to read the policy as there is no download available and therefore i was buying blind yours j grundy\",\n",
              "  'pred_prob': array([-2.6561478e-03, -5.9321876e+00], dtype=float32),\n",
              "  'sentiment': 'Negative'},\n",
              " {'Entity': 'times',\n",
              "  'Sentence': 'cannot log in tried several times does not recognise my details (abysmal)',\n",
              "  'pred_prob': array([-3.290360e-03, -5.718408e+00], dtype=float32),\n",
              "  'sentiment': 'Negative'},\n",
              " {'Entity': 'questions',\n",
              "  'Sentence': 'Easy to follow prompt & questions to facilitate an smooth purchase.',\n",
              "  'pred_prob': array([-8.118702e+00, -2.979788e-04], dtype=float32),\n",
              "  'sentiment': 'Positive'},\n",
              " {'Entity': 'payments',\n",
              "  'Sentence': 'Quick and easy service very affordable payments very happy',\n",
              "  'pred_prob': array([-8.1285543e+00, -2.9499948e-04], dtype=float32),\n",
              "  'sentiment': 'Positive'},\n",
              " {'Entity': 'service',\n",
              "  'Sentence': 'Excellent service and very helpful which made for a smooth transition from one type of vehicle to another.',\n",
              "  'pred_prob': array([-7.6750126e+00, -4.6445071e-04], dtype=float32),\n",
              "  'sentiment': 'Positive'},\n",
              " {'Entity': 'confirmation',\n",
              "  'Sentence': 'Booked online which was quite easy selection of dates which was in a 7 day period this was followed up by a confirmation.',\n",
              "  'pred_prob': array([-7.4621935e+00, -5.7454291e-04], dtype=float32),\n",
              "  'sentiment': 'Positive'},\n",
              " {'Entity': 'axa',\n",
              "  'Sentence': 'Excellent customer service by axa quickly and efficiently handled my claim.',\n",
              "  'pred_prob': array([-7.9768286e+00, -3.4338300e-04], dtype=float32),\n",
              "  'sentiment': 'Positive'},\n",
              " {'Entity': 'experience',\n",
              "  'Sentence': 'Purchased online so have no experience of customer service.',\n",
              "  'pred_prob': array([-3.0727813e-03, -5.7867122e+00], dtype=float32),\n",
              "  'sentiment': 'Negative'},\n",
              " {'Entity': 'money',\n",
              "  'Sentence': 'Good value for money in comparison to other quotes.',\n",
              "  'pred_prob': array([-6.9916167e+00, -9.1999158e-04], dtype=float32),\n",
              "  'sentiment': 'Positive'},\n",
              " {'Entity': 'price',\n",
              "  'Sentence': 'your online application is very easy to filled compare to other company and easy to understand you give enough time to filled the form.and a quick quot if your price is wright next year you will from me again thank youhave a nice day.',\n",
              "  'pred_prob': array([-7.7370753e+00, -4.3644916e-04], dtype=float32),\n",
              "  'sentiment': 'Positive'},\n",
              " {'Entity': 'salesman',\n",
              "  'Sentence': 'I have to say that I was disappointed by the apparent lack of knowledge of staff over the communication system between commercial and domestic departments when selling my van to get a car...and also when I had sellted back with Axa because of price your salesman bombarded me with yet more extras.',\n",
              "  'pred_prob': array([-3.3552323e-03, -5.6988974e+00], dtype=float32),\n",
              "  'sentiment': 'Negative'},\n",
              " {'Entity': 'website',\n",
              "  'Sentence': 'Your website made the process of finding travel insurance very easy straightforward questions.',\n",
              "  'pred_prob': array([-7.9984756e+00, -3.3599453e-04], dtype=float32),\n",
              "  'sentiment': 'Positive'},\n",
              " {'Entity': 'proof',\n",
              "  'Sentence': 'The proof of how good they are will be if I ever have to claim so all marks are moderated accordingly.',\n",
              "  'pred_prob': array([-1.8500625 , -0.17105809], dtype=float32),\n",
              "  'sentiment': 'Positive'},\n",
              " {'Entity': 'policy',\n",
              "  'Sentence': 'Registering to use the online policy docs was very difficult',\n",
              "  'pred_prob': array([-2.5280917e-03, -5.9815388e+00], dtype=float32),\n",
              "  'sentiment': 'Negative'},\n",
              " {'Entity': 'line service',\n",
              "  'Sentence': 'Good competative quote with excellent levels of cover brilliant online service and exceptional call centres.',\n",
              "  'pred_prob': array([-7.76371e+00, -4.25010e-04], dtype=float32),\n",
              "  'sentiment': 'Positive'},\n",
              " {'Entity': 'cover',\n",
              "  'Sentence': 'Setting up the insurance for our new car and temporary car cover with AXA was very straightforward and the AXA staff were helpful and efficient.',\n",
              "  'pred_prob': array([-7.8890514e+00, -3.7484296e-04], dtype=float32),\n",
              "  'sentiment': 'Positive'},\n",
              " {'Entity': 'service',\n",
              "  'Sentence': 'Great service easy to use website',\n",
              "  'pred_prob': array([-7.9049411e+00, -3.6900386e-04], dtype=float32),\n",
              "  'sentiment': 'Positive'},\n",
              " {'Entity': 'service',\n",
              "  'Sentence': 'Easy to use website clear and easy instructions fast and efficient service',\n",
              "  'pred_prob': array([-7.9460673e+00, -3.5410811e-04], dtype=float32),\n",
              "  'sentiment': 'Positive'},\n",
              " {'Entity': 'price',\n",
              "  'Sentence': 'I shopped around for house insurance and was amazed by the price quoted which was a 3rd cheaper than my highest quote.',\n",
              "  'pred_prob': array([-7.6408925e+00, -4.8053637e-04], dtype=float32),\n",
              "  'sentiment': 'Positive'},\n",
              " {'Entity': 'experience',\n",
              "  'Sentence': 'I found my first experience of choosing my home insurance quite simple',\n",
              "  'pred_prob': array([-7.5739431e+00, -5.1377923e-04], dtype=float32),\n",
              "  'sentiment': 'Positive'},\n",
              " {'Entity': 'insurers',\n",
              "  'Sentence': 'I work for one of the largest motor insurers in the UK and have managed sales and claims teams.',\n",
              "  'pred_prob': array([-7.4076343e+00, -6.0682953e-04], dtype=float32),\n",
              "  'sentiment': 'Positive'},\n",
              " {'Entity': 'service and price',\n",
              "  'Sentence': 'Online service and price great easy to use website!',\n",
              "  'pred_prob': array([-7.875405e+00, -3.800862e-04], dtype=float32),\n",
              "  'sentiment': 'Positive'},\n",
              " {'Entity': 'minutes',\n",
              "  'Sentence': 'Claim was processed in under 30 minutes advisor was very friendly and offered a very reasonable set of options which I took on the spot.',\n",
              "  'pred_prob': array([-7.9595523e+00, -3.4934140e-04], dtype=float32),\n",
              "  'sentiment': 'Positive'},\n",
              " {'Entity': 'information',\n",
              "  'Sentence': 'The agent was transparent with all the information on my new policy.',\n",
              "  'pred_prob': array([-7.6908803e+00, -4.5706314e-04], dtype=float32),\n",
              "  'sentiment': 'Positive'},\n",
              " {'Entity': 'process',\n",
              "  'Sentence': 'Jenny the lady who looked after me was extremely helpful and made the whole process very straight forward.',\n",
              "  'pred_prob': array([-7.619850e+00, -4.907834e-04], dtype=float32),\n",
              "  'sentiment': 'Positive'},\n",
              " {'Entity': 'credit card',\n",
              "  'Sentence': 'Easy to follow website - straight forward and reasonably priced BUT AXA did not state earlier in the process that they charge for credit card payment (which was on the high side!)',\n",
              "  'pred_prob': array([-1.6523175 , -0.21270488], dtype=float32),\n",
              "  'sentiment': 'Positive'},\n",
              " {'Entity': 'advisor',\n",
              "  'Sentence': 'The vehicle insurance advisor was excellent in guiding me through the pros and cons of each grade of insuranceultimately providing me with just the insurance I requiredwith the option(s) of upgrading as required.',\n",
              "  'pred_prob': array([-7.3698196e+00, -6.3018012e-04], dtype=float32),\n",
              "  'sentiment': 'Positive'},\n",
              " {'Entity': 'axa',\n",
              "  'Sentence': 'love axa even thought your more expensive I KNOW you have the proper business ethics behind the policy.',\n",
              "  'pred_prob': array([-2.709152  , -0.06891418], dtype=float32),\n",
              "  'sentiment': 'Positive'},\n",
              " {'Entity': 'premium',\n",
              "  'Sentence': \"Also it would appear that if I cant produce 20 years of no claims bonus my premium may go up Don't you feel it a bit naughty and a bit greedy and ever so slightly sly to let that be known once you have taken my money ?\",\n",
              "  'pred_prob': array([-3.9157397e-03, -5.5446959e+00], dtype=float32),\n",
              "  'sentiment': 'Negative'},\n",
              " {'Entity': 'payment',\n",
              "  'Sentence': 'Very good service easy to follow instructions would recommend to other users very good rates and excellent payment scheme',\n",
              "  'pred_prob': array([-7.7425165e+00, -4.3406602e-04], dtype=float32),\n",
              "  'sentiment': 'Positive'},\n",
              " {'Entity': 'service',\n",
              "  'Sentence': 'Very patient and helpful service from a delightful young lady every step explained and clarified details',\n",
              "  'pred_prob': array([-7.976937e+00, -3.433830e-04], dtype=float32),\n",
              "  'sentiment': 'Positive'},\n",
              " {'Entity': 'debit card',\n",
              "  'Sentence': \"When I gave my debit card details it was refused as a ' foreign' card.\",\n",
              "  'pred_prob': array([-3.2339201e-03, -5.7356744e+00], dtype=float32),\n",
              "  'sentiment': 'Negative'},\n",
              " {'Entity': 'price',\n",
              "  'Sentence': 'very straight forward regarding ease of searching the website  pleased with the over all package and price .',\n",
              "  'pred_prob': array([-7.8436437e+00, -3.9236000e-04], dtype=float32),\n",
              "  'sentiment': 'Positive'},\n",
              " {'Entity': 'insurer',\n",
              "  'Sentence': '£400 cheaper than my last insurer who doubled my premium with no claims made in the 3 years I was with them!',\n",
              "  'pred_prob': array([-5.3767538e+00, -4.6335235e-03], dtype=float32),\n",
              "  'sentiment': 'Positive'},\n",
              " {'Entity': 'price',\n",
              "  'Sentence': 'AXA quoted the best price with the cover i wanted.',\n",
              "  'pred_prob': array([-7.435656e+00, -5.900311e-04], dtype=float32),\n",
              "  'sentiment': 'Positive'},\n",
              " {'Entity': 'service',\n",
              "  'Sentence': 'Excellent friendly customer service and s brilliant price well done Axa all round brilliant service',\n",
              "  'pred_prob': array([-8.1478853e+00, -2.8939827e-04], dtype=float32),\n",
              "  'sentiment': 'Positive'},\n",
              " {'Entity': 'service',\n",
              "  'Sentence': 'Very pleased with the service provided by a very nice lady called Janice she could not have been more helpful.',\n",
              "  'pred_prob': array([-0.15710315, -1.9283761 ], dtype=float32),\n",
              "  'sentiment': 'Negative'},\n",
              " {'Entity': 'website',\n",
              "  'Sentence': 'It was possible to purchase car insurance through AXAs website which is what I wanted to do.',\n",
              "  'pred_prob': array([-7.3216867e+00, -6.6127366e-04], dtype=float32),\n",
              "  'sentiment': 'Positive'},\n",
              " {'Entity': 'paperwork',\n",
              "  'Sentence': 'Cant find my paperwork on my online account so will need to phone in again for assistance.',\n",
              "  'pred_prob': array([-2.5173898e-03, -5.9857855e+00], dtype=float32),\n",
              "  'sentiment': 'Negative'},\n",
              " {'Entity': 'site',\n",
              "  'Sentence': 'Easy site good prices',\n",
              "  'pred_prob': array([-7.7209153e+00, -4.4359858e-04], dtype=float32),\n",
              "  'sentiment': 'Positive'},\n",
              " {'Entity': 'service',\n",
              "  'Sentence': 'Efficient service and pleasant person dealing with everything.',\n",
              "  'pred_prob': array([-7.8778491e+00, -3.7913286e-04], dtype=float32),\n",
              "  'sentiment': 'Positive'},\n",
              " {'Entity': 'service',\n",
              "  'Sentence': 'very helpful and fast service i got the product i needed at the right price.',\n",
              "  'pred_prob': array([-7.5875497e+00, -5.0686864e-04], dtype=float32),\n",
              "  'sentiment': 'Positive'},\n",
              " {'Entity': 'website',\n",
              "  'Sentence': \"Got car insurance for my dad who's 85 they were at least 200 pounds cheaper then anyone else easy to use website\",\n",
              "  'pred_prob': array([-6.7782254e+00, -1.1389919e-03], dtype=float32),\n",
              "  'sentiment': 'Positive'},\n",
              " {'Entity': 'policy',\n",
              "  'Sentence': 'Excellent and fast only issue is being asked for proof of no claims when already have policy with them',\n",
              "  'pred_prob': array([-5.6871233e+00, -3.3950331e-03], dtype=float32),\n",
              "  'sentiment': 'Positive'},\n",
              " {'Entity': 'class',\n",
              "  'Sentence': 'Absolutley first class service spoke with a really pleasant gentleman who sorted out our quote straight away well done AXA!',\n",
              "  'pred_prob': array([-7.7864504e+00, -4.1535811e-04], dtype=float32),\n",
              "  'sentiment': 'Positive'},\n",
              " {'Entity': 'insurer',\n",
              "  'Sentence': \"i would recommend axa and i would buy from them again if they were competitive especially if their renewal notice price was competitive instead of being ridiculously expensive hoping i wouldn't have time to look round as happened with my previous insurer.\",\n",
              "  'pred_prob': array([-6.3796687e+00, -1.6971722e-03], dtype=float32),\n",
              "  'sentiment': 'Positive'},\n",
              " {'Entity': 'requirements',\n",
              "  'Sentence': 'The sales assistant was very thorough and understood my requirements and was efficient and very courteous  throughout the whole process.',\n",
              "  'pred_prob': array([-7.8613286e+00, -3.8544854e-04], dtype=float32),\n",
              "  'sentiment': 'Positive'},\n",
              " {'Entity': 'service',\n",
              "  'Sentence': 'Excellent service but making the purchase online was not easy.',\n",
              "  'pred_prob': array([-0.69707036, -0.6892393 ], dtype=float32),\n",
              "  'sentiment': 'Positive'},\n",
              " {'Entity': 'cover',\n",
              "  'Sentence': 'I chose AXA as I use my car abroad and was fed up having to pay for extended cover for every individual trip.',\n",
              "  'pred_prob': array([-0.8486025 , -0.55863845], dtype=float32),\n",
              "  'sentiment': 'Positive'},\n",
              " {'Entity': 'customer service',\n",
              "  'Sentence': \"It's not common to say in most customer service interactions people exceed expectations but the customer service team here do.\",\n",
              "  'pred_prob': array([-7.3162007e+00, -6.6484755e-04], dtype=float32),\n",
              "  'sentiment': 'Positive'},\n",
              " {'Entity': 'account',\n",
              "  'Sentence': 'did not think i would have to set up an online account to get my documentsi wanted them to be posted.',\n",
              "  'pred_prob': array([-3.8187215e-03, -5.5697379e+00], dtype=float32),\n",
              "  'sentiment': 'Negative'},\n",
              " {'Entity': 'systems',\n",
              "  'Sentence': 'Lastly the next set of no claims bonuses will be posted as registered mail since now I am not comfortable with your computer systems.',\n",
              "  'pred_prob': array([-3.7967516e-03, -5.5755005e+00], dtype=float32),\n",
              "  'sentiment': 'Negative'},\n",
              " {'Entity': 'company',\n",
              "  'Sentence': 'the service I received was excellent very good company would recommend them',\n",
              "  'pred_prob': array([-7.7259135e+00, -4.4133459e-04], dtype=float32),\n",
              "  'sentiment': 'Positive'},\n",
              " {'Entity': 'axa',\n",
              "  'Sentence': 'Being a senior citizen and never bought insurance on line I found this site to be very easy to use had all the information I needed  I also talked to a young lady named Ginette at axa she was a pleasure to talk to and extremely helpful I will cirtainly use this site again thank you very much.',\n",
              "  'pred_prob': array([-7.386527e+00, -6.196963e-04], dtype=float32),\n",
              "  'sentiment': 'Positive'},\n",
              " {'Entity': 'ncd',\n",
              "  'Sentence': \"So far fantastic easy to use website and what's I can finally have protected ncd.\",\n",
              "  'pred_prob': array([-8.0566883e+00, -3.1704645e-04], dtype=float32),\n",
              "  'sentiment': 'Positive'},\n",
              " {'Entity': 'day',\n",
              "  'Sentence': 'He called back as promised this morning  which sadly in the day & age I was shocked at.',\n",
              "  'pred_prob': array([-5.0734114e-03, -5.2862749e+00], dtype=float32),\n",
              "  'sentiment': 'Negative'},\n",
              " {'Entity': 'insurance price',\n",
              "  'Sentence': 'Axa had the best car insurance price.',\n",
              "  'pred_prob': array([-8.0030928e+00, -3.3444533e-04], dtype=float32),\n",
              "  'sentiment': 'Positive'},\n",
              " {'Entity': 'value',\n",
              "  'Sentence': 'The cost of my car insurance was low compare to other companies for an experience driver like myself with over 10 years bonus Excellent value for money.',\n",
              "  'pred_prob': array([-7.8822355e+00, -3.7746457e-04], dtype=float32),\n",
              "  'sentiment': 'Positive'},\n",
              " {'Entity': 'renewal',\n",
              "  'Sentence': \"I have declined to give top marks because I do not like the 'faffing around' required to 'opt out' of agreeing to automatic renewal and feel the option ought to be to 'opt in'.\",\n",
              "  'pred_prob': array([-2.3743315e-03, -6.0442157e+00], dtype=float32),\n",
              "  'sentiment': 'Negative'},\n",
              " {'Entity': 'service',\n",
              "  'Sentence': 'I found your service very good the gentleman I spoke to on the phone was very polite and explained things very clearly',\n",
              "  'pred_prob': array([-8.2227955e+00, -2.6854247e-04], dtype=float32),\n",
              "  'sentiment': 'Positive'},\n",
              " {'Entity': 'documents',\n",
              "  'Sentence': 'The only complaint i have is the fact we have to print our own documents.',\n",
              "  'pred_prob': array([-3.2152645e-03, -5.7414403e+00], dtype=float32),\n",
              "  'sentiment': 'Negative'},\n",
              " {'Entity': 'price',\n",
              "  'Sentence': 'Great price for all types of cover better than other companies in comparison and more things are covered so feels safer',\n",
              "  'pred_prob': array([-5.7291465e+00, -3.2551894e-03], dtype=float32),\n",
              "  'sentiment': 'Positive'},\n",
              " {'Entity': 'website',\n",
              "  'Sentence': 'The business seems to be professional & the website is clear & well thought out.',\n",
              "  'pred_prob': array([-7.7781758e+00, -4.1881372e-04], dtype=float32),\n",
              "  'sentiment': 'Positive'},\n",
              " {'Entity': 'price',\n",
              "  'Sentence': 'Disappointed about the jump in price within 1 day',\n",
              "  'pred_prob': array([-2.3329442e-03, -6.0618033e+00], dtype=float32),\n",
              "  'sentiment': 'Negative'},\n",
              " {'Entity': 'issues',\n",
              "  'Sentence': 'The travel insurance industry need to realise people with medical issues are more discerning  and will NOT be ripped off.',\n",
              "  'pred_prob': array([-0.01640288, -4.118491  ], dtype=float32),\n",
              "  'sentiment': 'Negative'},\n",
              " {'Entity': 'service',\n",
              "  'Sentence': 'Excellent service quick and easy workbook.',\n",
              "  'pred_prob': array([-8.1322231e+00, -2.9392692e-04], dtype=float32),\n",
              "  'sentiment': 'Positive'},\n",
              " {'Entity': 'problem',\n",
              "  'Sentence': '... They paid put no problem and their prices are great.',\n",
              "  'pred_prob': array([-6.9825454e+00, -9.2832855e-04], dtype=float32),\n",
              "  'sentiment': 'Positive'},\n",
              " {'Entity': 'link',\n",
              "  'Sentence': 'I took the policy out at 10.00am its now 19.09pm and I still havent received an email with the link to the axa website...I have my policy nos but slightly perplexed to as why I havent received my link yet...',\n",
              "  'pred_prob': array([-0.04095973, -3.2155764 ], dtype=float32),\n",
              "  'sentiment': 'Negative'},\n",
              " {'Entity': 'gentleman',\n",
              "  'Sentence': 'my telephone purchase of car insurance was with a gentleman called Alan it was positive clear and concise experience making my decision to go AXA easy.',\n",
              "  'pred_prob': array([-7.8438592e+00, -3.9224082e-04], dtype=float32),\n",
              "  'sentiment': 'Positive'},\n",
              " {'Entity': 'site',\n",
              "  'Sentence': 'very easy web site to use good policy at a realistic price recommended',\n",
              "  'pred_prob': array([-7.527530e+00, -5.382043e-04], dtype=float32),\n",
              "  'sentiment': 'Positive'},\n",
              " {'Entity': 'insurance',\n",
              "  'Sentence': 'I thought that the sale rep for AXA insurance was very professional and he took time to answer all my questions.',\n",
              "  'pred_prob': array([-7.8925471e+00, -3.7353215e-04], dtype=float32),\n",
              "  'sentiment': 'Positive'},\n",
              " {'Entity': 'proof',\n",
              "  'Sentence': 'The site was extremely easy to navigate and at the end it was easy to email my proof of no claims discount.',\n",
              "  'pred_prob': array([-6.961006e+00, -9.485751e-04], dtype=float32),\n",
              "  'sentiment': 'Positive'},\n",
              " {'Entity': 'insurers',\n",
              "  'Sentence': \"I've been disappointed with my current insurers service and attitude.\",\n",
              "  'pred_prob': array([-2.6856328e-03, -5.9211922e+00], dtype=float32),\n",
              "  'sentiment': 'Negative'},\n",
              " {'Entity': 'insurance company',\n",
              "  'Sentence': 'Intended to stay with the insurance company I was with but on checking out of interest was pleased with the outcome of their prices and the fast efficient way it was dealt with',\n",
              "  'pred_prob': array([-6.3108215e+00, -1.8181951e-03], dtype=float32),\n",
              "  'sentiment': 'Positive'},\n",
              " {'Entity': 'website',\n",
              "  'Sentence': 'I had a problem accessing the website from my Mac for some reason.',\n",
              "  'pred_prob': array([-2.2869166e-03, -6.0816746e+00], dtype=float32),\n",
              "  'sentiment': 'Negative'},\n",
              " {'Entity': 'insurance',\n",
              "  'Sentence': 'will definitely not buy from axa again if they did what my previous insurer did and renew my insurance take my premium etc without informing me at all.',\n",
              "  'pred_prob': array([-3.3135293e-03, -5.7113981e+00], dtype=float32),\n",
              "  'sentiment': 'Negative'},\n",
              " {'Entity': 'axa',\n",
              "  'Sentence': 'Called me from axa to check my details and completed quote which was 1/2the price of allianz insurance I have second car already with Chaucer insurance and with multi car discount I got it1/2 price for what I was paying with them so overall saved Â£430 which basically was the cost of one insurance policy friendly happy advisor who sorted this out for me and called me back when he said he was going to do very happy with service and advisor',\n",
              "  'pred_prob': array([-7.338842e+00, -6.499562e-04], dtype=float32),\n",
              "  'sentiment': 'Positive'},\n",
              " {'Entity': 'email',\n",
              "  'Sentence': 'No problems with site.A little blip with email address had to use email you sent me.',\n",
              "  'pred_prob': array([-0.0082534, -4.80125  ], dtype=float32),\n",
              "  'sentiment': 'Negative'},\n",
              " {'Entity': 'dean',\n",
              "  'Sentence': 'Salesman dean was really helpful and has great customer service skills',\n",
              "  'pred_prob': array([-7.9041862e+00, -3.6924219e-04], dtype=float32),\n",
              "  'sentiment': 'Positive'},\n",
              " {'Entity': 'departments',\n",
              "  'Sentence': 'The woman on the phone was clear and direct and asked the departments needed before giving me the correct information.',\n",
              "  'pred_prob': array([-7.8226690e+00, -4.0058218e-04], dtype=float32),\n",
              "  'sentiment': 'Positive'},\n",
              " {'Entity': 'problem',\n",
              "  'Sentence': 'buying not a problem but trying to prove my ncb was very difficult as i cancelled another policy to go with axa they tried telling me the ncb was not acceptable due to being on another vehicle had to send several emails before someone with a brain actually approved the ncb',\n",
              "  'pred_prob': array([-3.8727536e-03, -5.5557318e+00], dtype=float32),\n",
              "  'sentiment': 'Negative'},\n",
              " {'Entity': 'prices',\n",
              "  'Sentence': 'I have 3 cars on cover and I am confident I have been given the best prices and the most comprehensive cover available.',\n",
              "  'pred_prob': array([-7.7979927e+00, -4.1059169e-04], dtype=float32),\n",
              "  'sentiment': 'Positive'},\n",
              " {'Entity': 'customer',\n",
              "  'Sentence': 'Have been an AXa customer for many years however on this occasion overall service was wvtrememlh poor.',\n",
              "  'pred_prob': array([-2.7862084e-03, -5.8844714e+00], dtype=float32),\n",
              "  'sentiment': 'Negative'},\n",
              " {'Entity': 'bonus',\n",
              "  'Sentence': 'I have 10 year no claim bonus and when insured I lost 2 years and will become at the end  just 8  years  .',\n",
              "  'pred_prob': array([-0.00786789, -4.8488984 ], dtype=float32),\n",
              "  'sentiment': 'Negative'},\n",
              " {'Entity': 'web site',\n",
              "  'Sentence': 'As a paraglider I need insurance that covers all eventually s and the axa one is the only one that does so brilliant and easy web site to fill in',\n",
              "  'pred_prob': array([-7.1914754e+00, -7.5323816e-04], dtype=float32),\n",
              "  'sentiment': 'Positive'},\n",
              " {'Entity': 'time',\n",
              "  'Sentence': 'After getting  the quote through a comparison site i ended having 2 price increase before the final total amount1st because i brought the start date forward from 4th Sept to 11th August and then secondly a smaller rise of Â£6.07p because... I DONT OWN MY HOUSE this is just another excuse to fleece/ extort money out of a customer its about time the regulator looked into these disgraceful practises.And they were still the cheapest BUT at a final price of Â£277.94 for a 1999 focus 1.6 ghia with a Â£250 excess for a man of 49 with full ncb is crazythe car was only valued at Â£100.',\n",
              "  'pred_prob': array([-4.0736423 , -0.01716168], dtype=float32),\n",
              "  'sentiment': 'Positive'},\n",
              " {'Entity': 'prices',\n",
              "  'Sentence': 'Great prices and very helpful staff',\n",
              "  'pred_prob': array([-7.806134e+00, -4.072552e-04], dtype=float32),\n",
              "  'sentiment': 'Positive'},\n",
              " {'Entity': 'provider',\n",
              "  'Sentence': 'A quick and easy way to change car insurance provider.',\n",
              "  'pred_prob': array([-8.0968266e+00, -3.0453337e-04], dtype=float32),\n",
              "  'sentiment': 'Positive'},\n",
              " {'Entity': 'companies',\n",
              "  'Sentence': 'A fantastic efficient and friendly service a better price than other companies too!!',\n",
              "  'pred_prob': array([-7.313959e+00, -6.663963e-04], dtype=float32),\n",
              "  'sentiment': 'Positive'},\n",
              " {'Entity': 'insurance details',\n",
              "  'Sentence': 'Quick and easy to buy car insurance and ability to print insurance details.',\n",
              "  'pred_prob': array([-7.952310e+00, -3.519631e-04], dtype=float32),\n",
              "  'sentiment': 'Positive'},\n",
              " {'Entity': 'experience',\n",
              "  'Sentence': 'The company gave good value for money and it was a stress free experience.',\n",
              "  'pred_prob': array([-8.0406017e+00, -3.2217082e-04], dtype=float32),\n",
              "  'sentiment': 'Positive'},\n",
              " {'Entity': 'advice',\n",
              "  'Sentence': 'I was very happy with the quote provided on Compare the Market and the advice and help provided by your agent on the telephone.',\n",
              "  'pred_prob': array([-7.7882109e+00, -4.1464315e-04], dtype=float32),\n",
              "  'sentiment': 'Positive'},\n",
              " {'Entity': 'reply',\n",
              "  'Sentence': 'And despite my complaint STILL no one has bothered to call me or reply to me with any kind of an explanation.',\n",
              "  'pred_prob': array([-2.0385454e-03, -6.1965365e+00], dtype=float32),\n",
              "  'sentiment': 'Negative'},\n",
              " {'Entity': 'procedure',\n",
              "  'Sentence': 'The strength and merits of any insurance is in the service and procedure you receive when you invoke the claims procedure.',\n",
              "  'pred_prob': array([-7.4321966e+00, -5.9205643e-04], dtype=float32),\n",
              "  'sentiment': 'Positive'},\n",
              " {'Entity': 'companies',\n",
              "  'Sentence': 'Spoke to two different members of staff when insuring both my cars....both were superb and I genuinely cant complain (which is rare when speaking about insurance companies)...many thanks',\n",
              "  'pred_prob': array([-6.5926132e+00, -1.3713966e-03], dtype=float32),\n",
              "  'sentiment': 'Positive'},\n",
              " {'Entity': 'price',\n",
              "  'Sentence': \"Very good service for the past year and very good staff on phone but just had a quote for this coming year and it's Â£300 more than a quote on a price comparison website.\",\n",
              "  'pred_prob': array([-7.3668566e+00, -6.3208624e-04], dtype=float32),\n",
              "  'sentiment': 'Positive'},\n",
              " {'Entity': 'service',\n",
              "  'Sentence': 'Excellent service but a bit shocked when we were told we could only pay by a one off payment !',\n",
              "  'pred_prob': array([-1.14735   , -0.38195902], dtype=float32),\n",
              "  'sentiment': 'Positive'},\n",
              " {'Entity': 'default auto renewal',\n",
              "  'Sentence': 'i did not like the default auto renewal to the payment card used for initial purchase there should be an opt out option during purchase process rather than burying in the small print what you need to do to stop this.',\n",
              "  'pred_prob': array([-4.7201402e-03, -5.3582773e+00], dtype=float32),\n",
              "  'sentiment': 'Negative'},\n",
              " {'Entity': 'online',\n",
              "  'Sentence': 'All online so no waiting around for paperwork and no administration fees.',\n",
              "  'pred_prob': array([-2.862525e-03, -5.857497e+00], dtype=float32),\n",
              "  'sentiment': 'Negative'},\n",
              " {'Entity': 'agent',\n",
              "  'Sentence': \"The phone call took ages and ages as the poor agent was required to literally read me the entire policy and explain things that had already been explained online - so it was terribly time consuming and a duplication of everything I'd already noted.\",\n",
              "  'pred_prob': array([-3.0416436e-03, -5.7968688e+00], dtype=float32),\n",
              "  'sentiment': 'Negative'},\n",
              " {'Entity': 'telephone',\n",
              "  'Sentence': 'From start to finish a very professional outfit...the cost and telephone chat spot on',\n",
              "  'pred_prob': array([-7.1637673e+00, -7.7444123e-04], dtype=float32),\n",
              "  'sentiment': 'Positive'},\n",
              " {'Entity': 'service',\n",
              "  'Sentence': 'chose car insurance not only on price but also have home insurance and found it to be an excellent service',\n",
              "  'pred_prob': array([-7.8658442e+00, -3.8366110e-04], dtype=float32),\n",
              "  'sentiment': 'Positive'},\n",
              " {'Entity': 'policy',\n",
              "  'Sentence': 'I was frustrated at having to print off the many pages of the policy document and the complexity of accessing information on line.The rapid verbal explanation was difficult to follow.',\n",
              "  'pred_prob': array([-3.339074e-03, -5.703722e+00], dtype=float32),\n",
              "  'sentiment': 'Negative'},\n",
              " {'Entity': 'price',\n",
              "  'Sentence': 'My renewal came through good price paid on line insurance done another year easy motoring',\n",
              "  'pred_prob': array([-7.9051695e+00, -3.6888471e-04], dtype=float32),\n",
              "  'sentiment': 'Positive'},\n",
              " {'Entity': 'process',\n",
              "  'Sentence': 'The whole process was easy to follow and the information was clear and understandable.',\n",
              "  'pred_prob': array([-7.5773354e+00, -5.1211118e-04], dtype=float32),\n",
              "  'sentiment': 'Positive'},\n",
              " {'Entity': 'process',\n",
              "  'Sentence': 'Easy to understand process and my final policy ended up being cheaper than the initial quote off the comparison site.',\n",
              "  'pred_prob': array([-7.5700169e+00, -5.1580474e-04], dtype=float32),\n",
              "  'sentiment': 'Positive'},\n",
              " {'Entity': 'insurance',\n",
              "  'Sentence': 'Very helpful and friendly staff that dealt with my call and made it very easy for me to decide on taking out house insurance.',\n",
              "  'pred_prob': array([-8.093156e+00, -3.057251e-04], dtype=float32),\n",
              "  'sentiment': 'Positive'},\n",
              " {'Entity': 'information',\n",
              "  'Sentence': 'It took me a few seconds to contract my policy with a clear interface with all the information I needed.',\n",
              "  'pred_prob': array([-7.0148268e+00, -8.9891074e-04], dtype=float32),\n",
              "  'sentiment': 'Positive'},\n",
              " {'Entity': 'website',\n",
              "  'Sentence': \"The price from Axa was the best this year for me but it's disappointing to see that all sorts of price 'massaging' is involved if you use the same details when going via different aggregators and directly on their website - which does not inspire confidence.\",\n",
              "  'pred_prob': array([-0.02061092, -3.8922212 ], dtype=float32),\n",
              "  'sentiment': 'Negative'},\n",
              " {'Entity': 'axa',\n",
              "  'Sentence': 'If I had not of been switched on to notice and changed my policy on line it would of cost me annualised out Â£200 more than it did to cancel the existing and take another policy out with axa........crazy and a little disheartening for a loyal customer',\n",
              "  'pred_prob': array([-3.5276108e-03, -5.6488876e+00], dtype=float32),\n",
              "  'sentiment': 'Negative'},\n",
              " {'Entity': 'graham',\n",
              "  'Sentence': 'It was easy to talk to axa insuranceand graham the person I spoke to was very helpful with talking me through all the detailsand sending me all the details',\n",
              "  'pred_prob': array([-8.0778456e+00, -3.1037282e-04], dtype=float32),\n",
              "  'sentiment': 'Positive'},\n",
              " {'Entity': 'service',\n",
              "  'Sentence': 'Very helpful customer service administrator and a better deal than the previous one I looked at.',\n",
              "  'pred_prob': array([-7.7765045e+00, -4.1952869e-04], dtype=float32),\n",
              "  'sentiment': 'Positive'},\n",
              " {'Entity': 'people',\n",
              "  'Sentence': 'I would recommend this company and ask people to look as well as I think they are brilliant',\n",
              "  'pred_prob': array([-7.4305396e+00, -5.9300958e-04], dtype=float32),\n",
              "  'sentiment': 'Positive'},\n",
              " {'Entity': 'insurance',\n",
              "  'Sentence': \"Setting up insurance has been quite straight forward but trying to log in and print off car insurance documents just sends me back to ' make a new quote'  so at this time i cant print them off\",\n",
              "  'pred_prob': array([-0.5954869, -0.8013876], dtype=float32),\n",
              "  'sentiment': 'Negative'},\n",
              " {'Entity': 'service',\n",
              "  'Sentence': 'Was a very easy site to use no messing about and all straight forward  excellent  service',\n",
              "  'pred_prob': array([-7.9494400e+00, -3.5291642e-04], dtype=float32),\n",
              "  'sentiment': 'Positive'},\n",
              " {'Entity': 'website',\n",
              "  'Sentence': 'The website was very user friendly and it was straight-forward to purchase this insurance.',\n",
              "  'pred_prob': array([-7.8673315e+00, -3.8318444e-04], dtype=float32),\n",
              "  'sentiment': 'Positive'},\n",
              " {'Entity': 'phone',\n",
              "  'Sentence': 'took me 5 times phoning onn the phone for 15min each time then when got through took another half hour to go through my internet application had to repete all the information I had given on line and this was supposed to be a quick way to insure your car then when I got my paper work it was wrong another half hour phone call to put things right  very poor show',\n",
              "  'pred_prob': array([-0.00878103, -4.739545  ], dtype=float32),\n",
              "  'sentiment': 'Negative'},\n",
              " {'Entity': 'renewal',\n",
              "  'Sentence': 'This automatic renewal issue is very annoying in all insurance policies.',\n",
              "  'pred_prob': array([-3.5546946e-03, -5.6412787e+00], dtype=float32),\n",
              "  'sentiment': 'Negative'},\n",
              " {'Entity': 'insurance',\n",
              "  'Sentence': 'I took out the car insurance in the wrong name.',\n",
              "  'pred_prob': array([-2.7001372e-03, -5.9157991e+00], dtype=float32),\n",
              "  'sentiment': 'Negative'},\n",
              " {'Entity': 'insurance companies',\n",
              "  'Sentence': 'An easy site to navigate but all insurance companies conceal the add-ons in their initial offer-could be confusing to some-this was no better or worse than most and at least it gets the brain cells working.',\n",
              "  'pred_prob': array([-0.07018974, -2.6914427 ], dtype=float32),\n",
              "  'sentiment': 'Negative'},\n",
              " {'Entity': 'problems',\n",
              "  'Sentence': 'Hannah took time to make sure all problems were sorted carefully.',\n",
              "  'pred_prob': array([-6.4414549e+00, -1.5954159e-03], dtype=float32),\n",
              "  'sentiment': 'Positive'},\n",
              " {'Entity': 'items',\n",
              "  'Sentence': 'highly recommend company as it was easy to join and the online website was very good to navigate and pick items relating to the insurance',\n",
              "  'pred_prob': array([-7.6117148e+00, -4.9471535e-04], dtype=float32),\n",
              "  'sentiment': 'Positive'},\n",
              " {'Entity': 'site',\n",
              "  'Sentence': 'the site has not worked on my mac on the three times i tried.',\n",
              "  'pred_prob': array([-3.1595333e-03, -5.7589116e+00], dtype=float32),\n",
              "  'sentiment': 'Negative'},\n",
              " {'Entity': 'policy',\n",
              "  'Sentence': \"Took 60 mins of my time to purchase the quote I'd saved after pressing 'purchase now' button & having no obvious means of purchsasing - before having 'guess' you have to go to the insurer's site - and a further 30 mins after I purchased of frustration trying to download my policy before giving up to ring them only to have a 10 minute wait without use of any indication as to where you are in the queue or how long you can expect.\",\n",
              "  'pred_prob': array([-3.9487135 , -0.01946772], dtype=float32),\n",
              "  'sentiment': 'Positive'},\n",
              " {'Entity': 'quote',\n",
              "  'Sentence': 'They take a reasonable look at the risks presented and give an appropriate quote.',\n",
              "  'pred_prob': array([-7.5259457e+00, -5.3903833e-04], dtype=float32),\n",
              "  'sentiment': 'Positive'},\n",
              " {'Entity': 'advisor',\n",
              "  'Sentence': 'I recieved excellent service once I got through  to a very polite advisor.',\n",
              "  'pred_prob': array([-7.830876e+00, -3.973648e-04], dtype=float32),\n",
              "  'sentiment': 'Positive'},\n",
              " {'Entity': 'online',\n",
              "  'Sentence': 'Only problem afterwards was that I tried to register myself on my account online and it just would not accept it so I had to phone up to request help.',\n",
              "  'pred_prob': array([-2.1641662e-03, -6.1367884e+00], dtype=float32),\n",
              "  'sentiment': 'Negative'},\n",
              " {'Entity': 'receipt',\n",
              "  'Sentence': 'Although the proof of NCB was sent by post to AXA the same day I have yet to receive confirmation of receipt.',\n",
              "  'pred_prob': array([-0.01172838, -4.451601  ], dtype=float32),\n",
              "  'sentiment': 'Negative'},\n",
              " {'Entity': 'instructions',\n",
              "  'Sentence': 'Very good site and clear easy to follow instructions.',\n",
              "  'pred_prob': array([-7.8776326e+00, -3.7925204e-04], dtype=float32),\n",
              "  'sentiment': 'Positive'},\n",
              " {'Entity': 'standards',\n",
              "  'Sentence': \"Let's hope long term you live up to your standards and put genuine customers to the forefront of your business rewarding such!\",\n",
              "  'pred_prob': array([-7.3725410e+00, -6.2851224e-04], dtype=float32),\n",
              "  'sentiment': 'Positive'},\n",
              " {'Entity': 'problems',\n",
              "  'Sentence': 'This was not the first time I had experienced problems with the AXA website.',\n",
              "  'pred_prob': array([-2.2044899e-03, -6.1183352e+00], dtype=float32),\n",
              "  'sentiment': 'Negative'},\n",
              " {'Entity': 'service',\n",
              "  'Sentence': \"I had excellent service on the phone but was disappointed that it's meant to be an on-line service and phone calls are discouraged by an administration fee.\",\n",
              "  'pred_prob': array([-0.00604942, -5.1108127 ], dtype=float32),\n",
              "  'sentiment': 'Negative'},\n",
              " {'Entity': 'service',\n",
              "  'Sentence': \"Good annual price and I'm hopeful of a good service should I need to speak over the telephone in the future.\",\n",
              "  'pred_prob': array([-8.0643034e+00, -3.1466302e-04], dtype=float32),\n",
              "  'sentiment': 'Positive'},\n",
              " {'Entity': 'confirmation email',\n",
              "  'Sentence': 'I was very happy until I received the confirmation email and discovered I had to print my certificate.',\n",
              "  'pred_prob': array([-0.01476022, -4.2231903 ], dtype=float32),\n",
              "  'sentiment': 'Negative'},\n",
              " {'Entity': 'site',\n",
              "  'Sentence': 'Web site does not work comfortably with an iPad.',\n",
              "  'pred_prob': array([-3.7746625e-03, -5.5813370e+00], dtype=float32),\n",
              "  'sentiment': 'Negative'},\n",
              " {'Entity': 'questions',\n",
              "  'Sentence': 'Background noise in the call centre made some of the questions difficult to hear.',\n",
              "  'pred_prob': array([-2.3721908e-03, -6.0451484e+00], dtype=float32),\n",
              "  'sentiment': 'Negative'},\n",
              " {'Entity': 'price',\n",
              "  'Sentence': 'Good website good price.',\n",
              "  'pred_prob': array([-7.2717319e+00, -6.9510617e-04], dtype=float32),\n",
              "  'sentiment': 'Positive'},\n",
              " {'Entity': 'communication',\n",
              "  'Sentence': 'The website was so easy to use - at no point did I need to contact them using any other form of communication.',\n",
              "  'pred_prob': array([-6.2021184e+00, -2.0272434e-03], dtype=float32),\n",
              "  'sentiment': 'Positive'},\n",
              " {'Entity': 'service',\n",
              "  'Sentence': 'very very good service the representative was very good',\n",
              "  'pred_prob': array([-7.0007496e+00, -9.1165461e-04], dtype=float32),\n",
              "  'sentiment': 'Positive'},\n",
              " {'Entity': 'experience',\n",
              "  'Sentence': \"\\\\n\\\\nAnd yes I will certainly continue to utilise AXA's facilities in the future assuming that my experience thus far is maintained.\",\n",
              "  'pred_prob': array([-7.1484094e+00, -7.8647194e-04], dtype=float32),\n",
              "  'sentiment': 'Positive'},\n",
              " {'Entity': 'prices',\n",
              "  'Sentence': 'Reputable company with great prices',\n",
              "  'pred_prob': array([-7.9700255e+00, -3.4576637e-04], dtype=float32),\n",
              "  'sentiment': 'Positive'},\n",
              " {'Entity': 'money',\n",
              "  'Sentence': 'very easy to deal with good value for money would recommend to anyone I see no need to use another company for my home insurance needs.excellent customer service very polite agents no hassle claims procedure',\n",
              "  'pred_prob': array([-7.8554425e+00, -3.8771264e-04], dtype=float32),\n",
              "  'sentiment': 'Positive'},\n",
              " {'Entity': 'documents',\n",
              "  'Sentence': 'Had problems viewing home insurance documents as only old car insurance documents visible.',\n",
              "  'pred_prob': array([-4.740666e-03, -5.353936e+00], dtype=float32),\n",
              "  'sentiment': 'Negative'},\n",
              " {'Entity': 'claim',\n",
              "  'Sentence': \"Used AXA as I've made a no fuss very quick claim off them in the past and their staff couldn't of been more helpful\",\n",
              "  'pred_prob': array([-1.9182466 , -0.15883653], dtype=float32),\n",
              "  'sentiment': 'Positive'},\n",
              " {'Entity': 'insurance company',\n",
              "  'Sentence': 'the man that help me find my car insurance was really helpful he was friendly and professional my last insurance company was not very nice so it was hard to renew on the phone but you man made me feel better',\n",
              "  'pred_prob': array([-0.01105505, -4.5103927 ], dtype=float32),\n",
              "  'sentiment': 'Negative'},\n",
              " {'Entity': 'internet issue',\n",
              "  'Sentence': 'well i can only comment on the quote via the internet , which was simple and straight forward to use , i did have difficulty with registering and the password reset email never came but that could be an internet issue,',\n",
              "  'pred_prob': array([-0.0092152, -4.6914988], dtype=float32),\n",
              "  'sentiment': 'Negative'},\n",
              " {'Entity': 'range',\n",
              "  'Sentence': 'Went through a range of options and I decided to cancel my previous insurance and start a new policy.',\n",
              "  'pred_prob': array([-3.418198  , -0.03332044], dtype=float32),\n",
              "  'sentiment': 'Positive'},\n",
              " {'Entity': 'holiday',\n",
              "  'Sentence': \"there were cheaper quotes online but they didn't give the same cover needed for my holiday and there wasn't a big difference in the price either.\",\n",
              "  'pred_prob': array([-0.07976981, -2.5682304 ], dtype=float32),\n",
              "  'sentiment': 'Negative'},\n",
              " {'Entity': 'company',\n",
              "  'Sentence': \"Because the person I spoke with was not listening he has put information on the form which I did not give. . . After I had paidin fullthe company said I had to pay another £96 + £30 to change the detailswhich was the fault of the guy who took my details . . . Had he been listening to me instead of concentrating  getting a sale he'd have known what I was saying instead of ripping me of . . .RIPPED\",\n",
              "  'pred_prob': array([-3.4391088e-03, -5.6742702e+00], dtype=float32),\n",
              "  'sentiment': 'Negative'},\n",
              " {'Entity': 'gentleman',\n",
              "  'Sentence': 'The gentleman I spoke to took me through the information I had given to get the initial quote and calmed any fears I had  about the information I had given.',\n",
              "  'pred_prob': array([-7.3202405e+00, -6.6222670e-04], dtype=float32),\n",
              "  'sentiment': 'Positive'},\n",
              " {'Entity': 'pay rise',\n",
              "  'Sentence': '\\\\nShe is very good at her job and i think she deserves a pay rise.',\n",
              "  'pred_prob': array([-7.3581634e+00, -6.3756644e-04], dtype=float32),\n",
              "  'sentiment': 'Positive'},\n",
              " {'Entity': 'prices',\n",
              "  'Sentence': 'Online service easy to use and reasonable prices!',\n",
              "  'pred_prob': array([-7.8369465e+00, -3.9498156e-04], dtype=float32),\n",
              "  'sentiment': 'Positive'},\n",
              " {'Entity': 'no claims',\n",
              "  'Sentence': 'I sent proof of my insurance no claims recorded signed for yet you state you still have not received it.',\n",
              "  'pred_prob': array([-3.5823714e-03, -5.6335173e+00], dtype=float32),\n",
              "  'sentiment': 'Negative'},\n",
              " {'Entity': 'insurance customer service',\n",
              "  'Sentence': 'Tanya provided the best car insurance customer service I have experienced.',\n",
              "  'pred_prob': array([-7.893900e+00, -3.730555e-04], dtype=float32),\n",
              "  'sentiment': 'Positive'},\n",
              " {'Entity': 'mail or telephone',\n",
              "  'Sentence': 'do not agree that customers should have to e mail or telephone to opt out of automatic renewal a simple tick box is sufficient',\n",
              "  'pred_prob': array([-3.6910519e-03, -5.6036825e+00], dtype=float32),\n",
              "  'sentiment': 'Negative'},\n",
              " {'Entity': 'problems',\n",
              "  'Sentence': 'No problems good cover and very competitive price.',\n",
              "  'pred_prob': array([-7.113510e+00, -8.143446e-04], dtype=float32),\n",
              "  'sentiment': 'Positive'},\n",
              " {'Entity': 'process',\n",
              "  'Sentence': 'Very efficient with little fuss easy to follow with a robust process flow.',\n",
              "  'pred_prob': array([-7.4877710e+00, -5.6000764e-04], dtype=float32),\n",
              "  'sentiment': 'Positive'},\n",
              " {'Entity': 'questions',\n",
              "  'Sentence': 'The CSA was very helpful polite and patient and answered the questions I asked.',\n",
              "  'pred_prob': array([-7.7266803e+00, -4.4097714e-04], dtype=float32),\n",
              "  'sentiment': 'Positive'},\n",
              " {'Entity': 'questionaire',\n",
              "  'Sentence': 'This questionaire is a bit pointless!',\n",
              "  'pred_prob': array([-2.6638757e-03, -5.9293256e+00], dtype=float32),\n",
              "  'sentiment': 'Negative'},\n",
              " {'Entity': 'service',\n",
              "  'Sentence': 'Very good service for your money cheaper than anyone else but still get all the extras.',\n",
              "  'pred_prob': array([-6.9432616e+00, -9.6560572e-04], dtype=float32),\n",
              "  'sentiment': 'Positive'},\n",
              " {'Entity': 'customer service',\n",
              "  'Sentence': 'Superb customer service a very helpful and polite sales rep was able to answer all my questions and find the product that most suited my needs.',\n",
              "  'pred_prob': array([-7.816767e+00, -4.029654e-04], dtype=float32),\n",
              "  'sentiment': 'Positive'},\n",
              " {'Entity': 'confirmation',\n",
              "  'Sentence': 'pleased to get the confirmation emails very quickly - especially as have had to send in proof of NCD - you do worry that it gets lost in space when hitting send',\n",
              "  'pred_prob': array([-1.6110733, -0.2227351], dtype=float32),\n",
              "  'sentiment': 'Positive'},\n",
              " {'Entity': 'website',\n",
              "  'Sentence': 'is the 1st time in UK but found the website easy to understand the options and the staff on the phone made it easy and understandable.',\n",
              "  'pred_prob': array([-8.0346699e+00, -3.2407753e-04], dtype=float32),\n",
              "  'sentiment': 'Positive'},\n",
              " {'Entity': 'phone',\n",
              "  'Sentence': \"\\\\nI was able to talk to human beings on the phone who were extremely efficient when I couldn't find the answers to my queries online and all very pleasant and helpful.\",\n",
              "  'pred_prob': array([-7.1947427e+00, -7.5085578e-04], dtype=float32),\n",
              "  'sentiment': 'Positive'},\n",
              " {'Entity': 'prices',\n",
              "  'Sentence': 'Very help full man patient with the prices and made a saving',\n",
              "  'pred_prob': array([-7.010635e+00, -9.026029e-04], dtype=float32),\n",
              "  'sentiment': 'Positive'},\n",
              " {'Entity': 'insurances',\n",
              "  'Sentence': 'This was excruciating as I was buying two insurances',\n",
              "  'pred_prob': array([-0.00526079, -5.2500987 ], dtype=float32),\n",
              "  'sentiment': 'Negative'},\n",
              " {'Entity': 'phone',\n",
              "  'Sentence': 'Negative point is that they automatically renew after a year and you have to email or phone them to stop that.',\n",
              "  'pred_prob': array([-3.3700836e-03, -5.6945028e+00], dtype=float32),\n",
              "  'sentiment': 'Negative'},\n",
              " {'Entity': 'website',\n",
              "  'Sentence': 'website was easy to work round -- just 15 minutes to complete the application',\n",
              "  'pred_prob': array([-7.7834225e+00, -4.1666886e-04], dtype=float32),\n",
              "  'sentiment': 'Positive'},\n",
              " {'Entity': 'agent',\n",
              "  'Sentence': 'The agent was very polite and professional and I would recommend the service to everyone!',\n",
              "  'pred_prob': array([-7.7193499e+00, -4.4419436e-04], dtype=float32),\n",
              "  'sentiment': 'Positive'},\n",
              " {'Entity': 'car insurance',\n",
              "  'Sentence': 'I bought car insuranceand found Jake most helpfull',\n",
              "  'pred_prob': array([-7.5953298e+00, -5.0293672e-04], dtype=float32),\n",
              "  'sentiment': 'Positive'},\n",
              " {'Entity': 'price',\n",
              "  'Sentence': 'Home insurance quote process was quick easy and a good price.',\n",
              "  'pred_prob': array([-7.725829e+00, -4.413346e-04], dtype=float32),\n",
              "  'sentiment': 'Positive'},\n",
              " {'Entity': 'price',\n",
              "  'Sentence': 'I found the company of Compare the Market website and the price was certainly very competitive.',\n",
              "  'pred_prob': array([-7.7195258e+00, -4.4419436e-04], dtype=float32),\n",
              "  'sentiment': 'Positive'},\n",
              " {'Entity': 'service',\n",
              "  'Sentence': 'Great service & price from axa will certainly call again for any further quotes',\n",
              "  'pred_prob': array([-7.9496145e+00, -3.5291642e-04], dtype=float32),\n",
              "  'sentiment': 'Positive'},\n",
              " {'Entity': 'steps',\n",
              "  'Sentence': 'Easy to follow steps and cheap price too.',\n",
              "  'pred_prob': array([-7.8435655e+00, -3.9236000e-04], dtype=float32),\n",
              "  'sentiment': 'Positive'},\n",
              " {'Entity': 'detail',\n",
              "  'Sentence': 'wanted to change a detail but the detail l wanted to change was not available why are there only certain details that can be changed?',\n",
              "  'pred_prob': array([-2.2896521e-03, -6.0804825e+00], dtype=float32),\n",
              "  'sentiment': 'Negative'},\n",
              " {'Entity': 'account',\n",
              "  'Sentence': 'great no trouble getting what i wanted but trouble with the on line service will have to call during the week will not let m sign keeps saying i have an account when i do not.',\n",
              "  'pred_prob': array([-3.9496995e-03, -5.5360751e+00], dtype=float32),\n",
              "  'sentiment': 'Negative'},\n",
              " {'Entity': 'reminder',\n",
              "  'Sentence': 'So easy to re new insurance got a reminder & accepted  price was acceptable',\n",
              "  'pred_prob': array([-8.1863537e+00, -2.7843413e-04], dtype=float32),\n",
              "  'sentiment': 'Positive'},\n",
              " {'Entity': 'price',\n",
              "  'Sentence': 'Competitive price particularly with Quidco cash back.',\n",
              "  'pred_prob': array([-7.6034594e+00, -4.9888564e-04], dtype=float32),\n",
              "  'sentiment': 'Positive'},\n",
              " {'Entity': 'experience',\n",
              "  'Sentence': 'Notably the experience was professional hassle-free and took less than 10 minutes to resolve from start to finish.',\n",
              "  'pred_prob': array([-6.4959326e+00, -1.5106705e-03], dtype=float32),\n",
              "  'sentiment': 'Positive'},\n",
              " {'Entity': 'quotation',\n",
              "  'Sentence': 'I found the quotation really good but was confused at the buy now and I paid full price when I wanted to pay by instalments',\n",
              "  'pred_prob': array([-2.1529913 , -0.12345232], dtype=float32),\n",
              "  'sentiment': 'Positive'},\n",
              " {'Entity': 'user',\n",
              "  'Sentence': 'Website is user friendly and the offered rate is very competitive.',\n",
              "  'pred_prob': array([-7.8087230e+00, -4.0630193e-04], dtype=float32),\n",
              "  'sentiment': 'Positive'},\n",
              " {'Entity': 'people',\n",
              "  'Sentence': \"Very friendly clearly explained what's what super fast without failwen I asked questions got clear answer straight away recommend for everyone need more people like that 120%positive\",\n",
              "  'pred_prob': array([-6.8982706e+00, -1.0100269e-03], dtype=float32),\n",
              "  'sentiment': 'Positive'},\n",
              " {'Entity': 'pricing',\n",
              "  'Sentence': 'clear pricing easy to navigate website plain English timely follow up with online documents',\n",
              "  'pred_prob': array([-7.8814573e+00, -3.7770291e-04], dtype=float32),\n",
              "  'sentiment': 'Positive'},\n",
              " {'Entity': 'cover',\n",
              "  'Sentence': 'I found it quick and easy to apply for the insurance cover and great that they set you up an online account too',\n",
              "  'pred_prob': array([-7.7843432e+00, -4.1631138e-04], dtype=float32),\n",
              "  'sentiment': 'Positive'},\n",
              " {'Entity': 'transaction',\n",
              "  'Sentence': 'Very helpful staff easy transaction great prices',\n",
              "  'pred_prob': array([-8.1901560e+00, -2.7736154e-04], dtype=float32),\n",
              "  'sentiment': 'Positive'},\n",
              " {'Entity': 'fee',\n",
              "  'Sentence': \"Even more disappointed to discover that if I chose not to proceed there would be a £25 fee charged for something which I hadn't even purchased.\",\n",
              "  'pred_prob': array([-2.4182145e-03, -6.0259352e+00], dtype=float32),\n",
              "  'sentiment': 'Negative'},\n",
              " {'Entity': 'prices',\n",
              "  'Sentence': 'excellent prices when compared with other companies.',\n",
              "  'pred_prob': array([-7.188718e+00, -7.553823e-04], dtype=float32),\n",
              "  'sentiment': 'Positive'},\n",
              " {'Entity': 'service',\n",
              "  'Sentence': \"\\\\nDon't usually leave reviews but was really happy with the service!\",\n",
              "  'pred_prob': array([-7.6622453e+00, -4.7040841e-04], dtype=float32),\n",
              "  'sentiment': 'Positive'},\n",
              " {'Entity': 'insurance',\n",
              "  'Sentence': \"you don't know how good your insurance is until you need it and unfortunately we did need it and axa fell way short.\",\n",
              "  'pred_prob': array([-2.6127507e-03, -5.9486394e+00], dtype=float32),\n",
              "  'sentiment': 'Negative'},\n",
              " {'Entity': 'staff',\n",
              "  'Sentence': 'A a is one of my favourite insurers as it have good prices and very helpful and nice staff.',\n",
              "  'pred_prob': array([-7.6132555e+00, -4.9400044e-04], dtype=float32),\n",
              "  'sentiment': 'Positive'},\n",
              " {'Entity': 'online',\n",
              "  'Sentence': 'Very easy online quotes and very helpful sales persons.',\n",
              "  'pred_prob': array([-7.9416513e+00, -3.5565728e-04], dtype=float32),\n",
              "  'sentiment': 'Positive'},\n",
              " {'Entity': 'website',\n",
              "  'Sentence': 'Very easy once you have filled in details quick service would recommend the website and economic insurance.',\n",
              "  'pred_prob': array([-7.7933640e+00, -4.1249825e-04], dtype=float32),\n",
              "  'sentiment': 'Positive'},\n",
              " {'Entity': 'insurers',\n",
              "  'Sentence': 'I like the fact that there are a few options that can be added or removed to tailor the cover not all insurers do this.',\n",
              "  'pred_prob': array([-3.5581794 , -0.02890441], dtype=float32),\n",
              "  'sentiment': 'Positive'},\n",
              " {'Entity': 'sales',\n",
              "  'Sentence': 'Disappointed that I could not renew my policy all on lineas it would not accept my car registration so had to phone thus costing Me more money and time.Although the sales person was very helpfulbut still inconvienent.',\n",
              "  'pred_prob': array([-2.7563695e-03, -5.8952222e+00], dtype=float32),\n",
              "  'sentiment': 'Negative'},\n",
              " {'Entity': 'service',\n",
              "  'Sentence': 'Straight forward service at a good price.',\n",
              "  'pred_prob': array([-7.8973522e+00, -3.7174468e-04], dtype=float32),\n",
              "  'sentiment': 'Positive'},\n",
              " {'Entity': 'car',\n",
              "  'Sentence': 'I needed to add a car to my already existing insurance they were very helpful and I was very pleased that my NCD could be mirrored onto the new insurance.',\n",
              "  'pred_prob': array([-7.6474156e+00, -4.7743841e-04], dtype=float32),\n",
              "  'sentiment': 'Positive'},\n",
              " {'Entity': 'work',\n",
              "  'Sentence': 'It was difficult for me to speak at work so she called me back at a more convenient time to speak.',\n",
              "  'pred_prob': array([-3.5766696e-03, -5.6351137e+00], dtype=float32),\n",
              "  'sentiment': 'Negative'},\n",
              " {'Entity': 'staff',\n",
              "  'Sentence': \"couldn't find anyone cheaper and axa is a name you can trust would recommend to my friends easy to deal with and staff very pleasant rare nowdays\",\n",
              "  'pred_prob': array([-7.0281029e+00, -8.8700047e-04], dtype=float32),\n",
              "  'sentiment': 'Positive'},\n",
              " {'Entity': 'trouble',\n",
              "  'Sentence': 'very helpful and nothing too much trouble',\n",
              "  'pred_prob': array([-0.14525408, -2.0010185 ], dtype=float32),\n",
              "  'sentiment': 'Negative'},\n",
              " {'Entity': 'website',\n",
              "  'Sentence': 'Having not used AXA insurance before I found the website easy to use and very helpful.',\n",
              "  'pred_prob': array([-7.509377e+00, -5.480933e-04], dtype=float32),\n",
              "  'sentiment': 'Positive'},\n",
              " {'Entity': 'repair',\n",
              "  'Sentence': 'I have no issues with AXA but I did have a bad experience with the Company they use to assess the claim as they gave an inaccurate estimate of repair cost that was £800 less than the lowest quote I obtained and I found this very stressful!',\n",
              "  'pred_prob': array([-2.0939822e-03, -6.1697149e+00], dtype=float32),\n",
              "  'sentiment': 'Negative'},\n",
              " {'Entity': 'policy',\n",
              "  'Sentence': 'System was very easy to use new policy in place and paid for within 4 minutes cover was very clear and not too wordy - simple process would certainly recommend',\n",
              "  'pred_prob': array([-5.3927565e+00, -4.5598340e-03], dtype=float32),\n",
              "  'sentiment': 'Positive'},\n",
              " {'Entity': 'service',\n",
              "  'Sentence': 'Much cheaper than brightside my soon too be old insurer Â£960 they wantedaxa a really good service thanks',\n",
              "  'pred_prob': array([-7.7769165e+00, -4.1940954e-04], dtype=float32),\n",
              "  'sentiment': 'Positive'},\n",
              " {'Entity': 'axa',\n",
              "  'Sentence': 'The website very easy to get insurance quote I normally get insurance from brokers but first time try axa insurance and quite happy',\n",
              "  'pred_prob': array([-6.8488379e+00, -1.0612338e-03], dtype=float32),\n",
              "  'sentiment': 'Positive'},\n",
              " {'Entity': 'end',\n",
              "  'Sentence': 'i would have certainly given two pluses had it not been for the gobbledygook about marketing calls at the end.',\n",
              "  'pred_prob': array([-3.4793811e-03, -5.6626515e+00], dtype=float32),\n",
              "  'sentiment': 'Negative'},\n",
              " {'Entity': 'policy',\n",
              "  'Sentence': 'Pelita then confirmed all the information given checked if I needed any extras and explained concisely all the policy details and conditions.',\n",
              "  'pred_prob': array([-7.7694306e+00, -4.2250767e-04], dtype=float32),\n",
              "  'sentiment': 'Positive'},\n",
              " {'Entity': 'product',\n",
              "  'Sentence': 'Great price great product and great website!!',\n",
              "  'pred_prob': array([-7.8469019e+00, -3.9104922e-04], dtype=float32),\n",
              "  'sentiment': 'Positive'},\n",
              " {'Entity': 'website',\n",
              "  'Sentence': 'Quick and easy to use website  fair price from and brand name you can trust also have my home and contents with AXA insurance.',\n",
              "  'pred_prob': array([-8.0335522e+00, -3.2443504e-04], dtype=float32),\n",
              "  'sentiment': 'Positive'},\n",
              " {'Entity': 'website',\n",
              "  'Sentence': 'Excellent Value and the website was easy to use.',\n",
              "  'pred_prob': array([-7.988060e+00, -3.395696e-04], dtype=float32),\n",
              "  'sentiment': 'Positive'},\n",
              " {'Entity': 'product',\n",
              "  'Sentence': 'Used a comparison site but theirs was the best price for a comparable product.',\n",
              "  'pred_prob': array([-7.6595244e+00, -4.7159992e-04], dtype=float32),\n",
              "  'sentiment': 'Positive'},\n",
              " {'Entity': 'price',\n",
              "  'Sentence': 'My renewal quote came through at 15% more than the new customer price even though I had not made a claim.',\n",
              "  'pred_prob': array([-4.302635  , -0.01362524], dtype=float32),\n",
              "  'sentiment': 'Positive'},\n",
              " {'Entity': 'coverage items',\n",
              "  'Sentence': 'the insurance coverage items are good but legal and breakdown is not included and adds to the price if you want them so do check.',\n",
              "  'pred_prob': array([-0.6153265, -0.7775389], dtype=float32),\n",
              "  'sentiment': 'Negative'},\n",
              " {'Entity': 'service',\n",
              "  'Sentence': 'The final offer was very inclusive and competitive and I would definitely recommend this service.',\n",
              "  'pred_prob': array([-7.6279640e+00, -4.8673226e-04], dtype=float32),\n",
              "  'sentiment': 'Positive'},\n",
              " {'Entity': 'service',\n",
              "  'Sentence': \"the buying process was very quick and simple - I can't rate their actual service yet though as I haven't yet made a claim!\",\n",
              "  'pred_prob': array([-0.5368657 , -0.87845933], dtype=float32),\n",
              "  'sentiment': 'Negative'},\n",
              " {'Entity': 'website',\n",
              "  'Sentence': 'I initially conducted my request for a car insurance quotation via the AXA website which was very straightforward and easy to navigate.',\n",
              "  'pred_prob': array([-7.446167e+00, -5.838358e-04], dtype=float32),\n",
              "  'sentiment': 'Positive'},\n",
              " {'Entity': 'internet service',\n",
              "  'Sentence': 'telephone and internet service fast and efficient however would have liked hard copy of policy posted to me.',\n",
              "  'pred_prob': array([-6.4842548e+00, -1.5285248e-03], dtype=float32),\n",
              "  'sentiment': 'Positive'},\n",
              " {'Entity': 'insurer',\n",
              "  'Sentence': \"But I can't possibly rate you as an insurer until I've spent my time with you and seen how you deal with complaints queries or accidents.\",\n",
              "  'pred_prob': array([-3.1013032e-03, -5.7774997e+00], dtype=float32),\n",
              "  'sentiment': 'Negative'},\n",
              " {'Entity': 'service',\n",
              "  'Sentence': 'Fast efficient service and good value for money.',\n",
              "  'pred_prob': array([-8.0017319e+00, -3.3492202e-04], dtype=float32),\n",
              "  'sentiment': 'Positive'},\n",
              " {'Entity': 'password',\n",
              "  'Sentence': 'After numerous attempts to put in password which failed gave up feeling very annoyed and frustrated',\n",
              "  'pred_prob': array([-2.3121310e-03, -6.0707664e+00], dtype=float32),\n",
              "  'sentiment': 'Negative'},\n",
              " {'Entity': 'problems',\n",
              "  'Sentence': 'Very friendly & professional  no complaints hope its the same if any problems arise',\n",
              "  'pred_prob': array([-4.7280536 , -0.00888301], dtype=float32),\n",
              "  'sentiment': 'Positive'},\n",
              " {'Entity': 'service',\n",
              "  'Sentence': 'Spot on customer service really helpful lady on the phone and great price for my coach house insurance!',\n",
              "  'pred_prob': array([-8.0158415e+00, -3.3027440e-04], dtype=float32),\n",
              "  'sentiment': 'Positive'},\n",
              " {'Entity': 'axa',\n",
              "  'Sentence': 'i found axa car insurance to be easy to purchase with a good website which was easy to navigate and at a very competitive price for a good level of cover with a well known supplier.',\n",
              "  'pred_prob': array([-7.9593949e+00, -3.4946058e-04], dtype=float32),\n",
              "  'sentiment': 'Positive'},\n",
              " {'Entity': 'claims',\n",
              "  'Sentence': 'Not been told anything about claims bonus from previous years but still decided to go with AXA not happy.',\n",
              "  'pred_prob': array([-2.4310579e-03, -6.0206356e+00], dtype=float32),\n",
              "  'sentiment': 'Negative'},\n",
              " {'Entity': 'service',\n",
              "  'Sentence': 'Excellent service And great to mirror no claims bonus for 2nd car',\n",
              "  'pred_prob': array([-6.3324366e+00, -1.7792837e-03], dtype=float32),\n",
              "  'sentiment': 'Positive'},\n",
              " {'Entity': 'stage',\n",
              "  'Sentence': 'First attempt failed at payment stage so had to repeat whole process.',\n",
              "  'pred_prob': array([-3.0005218e-03, -5.8104577e+00], dtype=float32),\n",
              "  'sentiment': 'Negative'},\n",
              " {'Entity': 'process',\n",
              "  'Sentence': 'Easy to purchase in old-fashioned mode - telephone - pleasant manner simple easy process',\n",
              "  'pred_prob': array([-7.159179e+00, -7.780147e-04], dtype=float32),\n",
              "  'sentiment': 'Positive'},\n",
              " {'Entity': 'policy',\n",
              "  'Sentence': 'Chap I spoke to when just wanted to pay for the policy was a bit pushy on the extras repeating himself over and over and getting a \\\\ no thanks\\\\  from me.',\n",
              "  'pred_prob': array([-0.02024838, -3.9097884 ], dtype=float32),\n",
              "  'sentiment': 'Negative'},\n",
              " {'Entity': 'questions',\n",
              "  'Sentence': 'David at AXA was clear and precise when clarifying any questions I had prior to confirming my acceptance of the premium quoted',\n",
              "  'pred_prob': array([-6.987436e+00, -9.238028e-04], dtype=float32),\n",
              "  'sentiment': 'Positive'},\n",
              " {'Entity': 'cover',\n",
              "  'Sentence': 'Good fast serviceEasy to use website and a good price insurance cover.',\n",
              "  'pred_prob': array([-7.8624845e+00, -3.8497191e-04], dtype=float32),\n",
              "  'sentiment': 'Positive'},\n",
              " {'Entity': 'web site',\n",
              "  'Sentence': 'Easy too use web site appears too be good policy.',\n",
              "  'pred_prob': array([-5.9327445e+00, -2.6547210e-03], dtype=float32),\n",
              "  'sentiment': 'Positive'},\n",
              " {'Entity': 'quote',\n",
              "  'Sentence': '\\\\nGreat price in comparison to my current remewal quote.',\n",
              "  'pred_prob': array([-7.5200887e+00, -5.4225523e-04], dtype=float32),\n",
              "  'sentiment': 'Positive'},\n",
              " {'Entity': 'queries',\n",
              "  'Sentence': 'The sales person was easy to understand and spoke clearlyand answered all the queries I had',\n",
              "  'pred_prob': array([-8.0046959e+00, -3.3396867e-04], dtype=float32),\n",
              "  'sentiment': 'Positive'},\n",
              " {'Entity': 'insurance',\n",
              "  'Sentence': \"The insurance was so much cheaper than I'd been paying the site was so easy to use.\",\n",
              "  'pred_prob': array([-7.7092757e+00, -4.4872228e-04], dtype=float32),\n",
              "  'sentiment': 'Positive'},\n",
              " {'Entity': 'accident',\n",
              "  'Sentence': 'i telephoned to complain as i have never been asked to prove this before and also filled in that in over 60 years of driving have never had an accident.',\n",
              "  'pred_prob': array([-2.7142847e-03, -5.9105997e+00], dtype=float32),\n",
              "  'sentiment': 'Negative'},\n",
              " {'Entity': 'price',\n",
              "  'Sentence': 'Felt cheated with double price hike within minutes.',\n",
              "  'pred_prob': array([-2.6328445e-03, -5.9410224e+00], dtype=float32),\n",
              "  'sentiment': 'Negative'},\n",
              " {'Entity': 'service',\n",
              "  'Sentence': 'Went out of her way to get me through to other departments who very impolite compared to the service I just received.',\n",
              "  'pred_prob': array([-2.8916316 , -0.05708438], dtype=float32),\n",
              "  'sentiment': 'Positive'},\n",
              " {'Entity': 'price',\n",
              "  'Sentence': 'Really good service when I took out my insurance policy - agent was very helpful and knowledgeable - and the price was excellent compared to competitors.',\n",
              "  'pred_prob': array([-7.362755e+00, -6.347072e-04], dtype=float32),\n",
              "  'sentiment': 'Positive'},\n",
              " {'Entity': 'policy',\n",
              "  'Sentence': 'He asked whether I was aware of the multi-car discount available he applied it for me and resulted in getting the cheapest and most comprehensive policy I could get.',\n",
              "  'pred_prob': array([-7.2081418e+00, -7.4084965e-04], dtype=float32),\n",
              "  'sentiment': 'Positive'},\n",
              " {'Entity': 'customer service',\n",
              "  'Sentence': \"\\\\nI've worked in retail sales and customer service for many years and can't praise the service I received enough absolutely superb and perfect in every way.\",\n",
              "  'pred_prob': array([-7.593047e+00, -5.041282e-04], dtype=float32),\n",
              "  'sentiment': 'Positive'},\n",
              " {'Entity': 'telephone service',\n",
              "  'Sentence': 'Good price clear website great telephone service.',\n",
              "  'pred_prob': array([-7.4893279e+00, -5.5917364e-04], dtype=float32),\n",
              "  'sentiment': 'Positive'},\n",
              " {'Entity': 'renewal',\n",
              "  'Sentence': \"i don't like the automatic annual renewal.\",\n",
              "  'pred_prob': array([-3.4585916e-03, -5.6686115e+00], dtype=float32),\n",
              "  'sentiment': 'Negative'},\n",
              " {'Entity': 'insurers',\n",
              "  'Sentence': 'Quick and easy saved Â£120 over my previous insurers renewal quote.',\n",
              "  'pred_prob': array([-7.7167840e+00, -4.4538593e-04], dtype=float32),\n",
              "  'sentiment': 'Positive'},\n",
              " {'Entity': 'feedback',\n",
              "  'Sentence': 'The  purchase of my car insurance was straight forward no need for phone calls and quick feedback for my details.',\n",
              "  'pred_prob': array([-7.7272615e+00, -4.4073880e-04], dtype=float32),\n",
              "  'sentiment': 'Positive'},\n",
              " {'Entity': 'policy',\n",
              "  'Sentence': \"no facility for average and can hardly put poor or bad when i've bought a policy so i can't give an accurate rating\",\n",
              "  'pred_prob': array([-2.5005047e-03, -5.9925089e+00], dtype=float32),\n",
              "  'sentiment': 'Negative'},\n",
              " {'Entity': 'services',\n",
              "  'Sentence': \"The customer services team were rude and didn't listen to my needs.\",\n",
              "  'pred_prob': array([-2.8889133e-03, -5.8483367e+00], dtype=float32),\n",
              "  'sentiment': 'Negative'},\n",
              " {'Entity': 'questions',\n",
              "  'Sentence': \"Easy and painless liked that I didn't have to get on the phone for 2 hours whilst being asked loads of weird questions.\",\n",
              "  'pred_prob': array([-6.930957e+00, -9.775151e-04], dtype=float32),\n",
              "  'sentiment': 'Positive'},\n",
              " {'Entity': 'quality insurance',\n",
              "  'Sentence': 'They offer good quality insurance however they charge to pay via credit card which seems pretty dated.',\n",
              "  'pred_prob': array([-7.4907255e+00, -5.5833964e-04], dtype=float32),\n",
              "  'sentiment': 'Positive'},\n",
              " {'Entity': 'copies',\n",
              "  'Sentence': 'Difficult to get printed copies of documents.',\n",
              "  'pred_prob': array([-2.8092703e-03, -5.8762360e+00], dtype=float32),\n",
              "  'sentiment': 'Negative'},\n",
              " {'Entity': 'service',\n",
              "  'Sentence': 'Excellent service from Anthony Ward and another lady who assisted with a change',\n",
              "  'pred_prob': array([-7.912645e+00, -3.661439e-04], dtype=float32),\n",
              "  'sentiment': 'Positive'},\n",
              " {'Entity': 'policy',\n",
              "  'Sentence': 'The quote I had from a price commission site was reduced even more with a multi-car policy and a very good service from the person I talked to Assaf.',\n",
              "  'pred_prob': array([-7.7619462e+00, -4.2572495e-04], dtype=float32),\n",
              "  'sentiment': 'Positive'},\n",
              " {'Entity': 'insurance',\n",
              "  'Sentence': 'Quality covers at a fair premium not the cheapest on comparison site I was using in fact I had to make a phone before accepting cover phoned 2 insurance competitors who where cheaper both told me I was in  a queue  expect approx.',\n",
              "  'pred_prob': array([-2.2013755 , -0.11726537], dtype=float32),\n",
              "  'sentiment': 'Positive'},\n",
              " {'Entity': 'customer service',\n",
              "  'Sentence': 'I was so impressed with the customer service that i re-instated my car insurance even though the premiums were slightly higher.',\n",
              "  'pred_prob': array([-7.6823087e+00, -4.6099524e-04], dtype=float32),\n",
              "  'sentiment': 'Positive'},\n",
              " {'Entity': 'policy',\n",
              "  'Sentence': 'Really friendly staff explained everything in full regarding the policy.',\n",
              "  'pred_prob': array([-7.8741970e+00, -3.8056285e-04], dtype=float32),\n",
              "  'sentiment': 'Positive'},\n",
              " {'Entity': 'website',\n",
              "  'Sentence': '\\\\nCompletion of the form and submission was relatively easy and completion of policy docs on their website was quick and efficient',\n",
              "  'pred_prob': array([-7.757359e+00, -4.276315e-04], dtype=float32),\n",
              "  'sentiment': 'Positive'},\n",
              " {'Entity': 'process',\n",
              "  'Sentence': 'The online process was quick logical and hassle-free.',\n",
              "  'pred_prob': array([-7.8026452e+00, -4.0868513e-04], dtype=float32),\n",
              "  'sentiment': 'Positive'},\n",
              " {'Entity': 'insurance',\n",
              "  'Sentence': 'Already have my car insurance with AXA both at a great price.',\n",
              "  'pred_prob': array([-7.6570749e+00, -4.7279146e-04], dtype=float32),\n",
              "  'sentiment': 'Positive'},\n",
              " {'Entity': 'questions',\n",
              "  'Sentence': 'excellent friendly service answered all my questions gave me confidence to proceed with my policy found to be very polite as well',\n",
              "  'pred_prob': array([-7.685421e+00, -4.595654e-04], dtype=float32),\n",
              "  'sentiment': 'Positive'},\n",
              " {'Entity': 'questions',\n",
              "  'Sentence': 'It came to light during the telephone questions why the application originally failed and the assistant was very helpful in helping to resolve the problems.',\n",
              "  'pred_prob': array([-4.620823  , -0.00989343], dtype=float32),\n",
              "  'sentiment': 'Positive'},\n",
              " {'Entity': 'customer service',\n",
              "  'Sentence': 'Good customer service polite staff was dealt with efficiently.',\n",
              "  'pred_prob': array([-7.771145e+00, -4.217927e-04], dtype=float32),\n",
              "  'sentiment': 'Positive'},\n",
              " {'Entity': 'insurance cover',\n",
              "  'Sentence': 'I ran out of time initially but Jade offered to call me back 9am the next day which she did on the dot and quickly completed the insurance cover.',\n",
              "  'pred_prob': array([-2.6549854 , -0.07289319], dtype=float32),\n",
              "  'sentiment': 'Positive'},\n",
              " {'Entity': 'home',\n",
              "  'Sentence': 'Easy to use their  website  and reasonably priced home insurance',\n",
              "  'pred_prob': array([-7.8524656e+00, -3.8890427e-04], dtype=float32),\n",
              "  'sentiment': 'Positive'},\n",
              " {'Entity': 'website',\n",
              "  'Sentence': 'Easy to use website and very competitive prices',\n",
              "  'pred_prob': array([-7.9644680e+00, -3.4767305e-04], dtype=float32),\n",
              "  'sentiment': 'Positive'},\n",
              " {'Entity': 'website',\n",
              "  'Sentence': 'It took 5 minutes to purchase annual travel insurance via the website the documents appeared within minutes ready to be printed off or saved.',\n",
              "  'pred_prob': array([-7.3691230e+00, -6.3065666e-04], dtype=float32),\n",
              "  'sentiment': 'Positive'},\n",
              " {'Entity': 'price',\n",
              "  'Sentence': 'Brilliant price for new 2016 plate car',\n",
              "  'pred_prob': array([-7.55550e+00, -5.23311e-04], dtype=float32),\n",
              "  'sentiment': 'Positive'},\n",
              " {'Entity': 'questions',\n",
              "  'Sentence': 'The agent (Louise) that I dealt with today was knowledgeable professional and yet approachable in the way she answered all the questions I had.',\n",
              "  'pred_prob': array([-6.880958e+00, -1.027652e-03], dtype=float32),\n",
              "  'sentiment': 'Positive'},\n",
              " {'Entity': 'accidents',\n",
              "  'Sentence': 'After a few difficulties initially l decided to ring back and spoke to David  who guided me through the policy and the policy was taken out the main issue that l do not agree with is that insurance companies penalise non  blamers in accidents and hence are penalised by being made to pay more for there policy',\n",
              "  'pred_prob': array([-3.6255875 , -0.02699457], dtype=float32),\n",
              "  'sentiment': 'Positive'},\n",
              " {'Entity': 'colleague',\n",
              "  'Sentence': 'Eventually a colleague rung me and offered a cheaper replacement fro my phone that what it was worth.',\n",
              "  'pred_prob': array([-6.8968253e+00, -1.0114560e-03], dtype=float32),\n",
              "  'sentiment': 'Positive'},\n",
              " {'Entity': 'insurance',\n",
              "  'Sentence': 'However the insurance quote was good compared to my usual insurer therefore I chose AXA.',\n",
              "  'pred_prob': array([-3.3185394, -0.0368773], dtype=float32),\n",
              "  'sentiment': 'Positive'},\n",
              " {'Entity': 'questions',\n",
              "  'Sentence': 'They were Excellent answered all my questions and got the best quote.',\n",
              "  'pred_prob': array([-7.8677096e+00, -3.8294611e-04], dtype=float32),\n",
              "  'sentiment': 'Positive'},\n",
              " {'Entity': 'fee',\n",
              "  'Sentence': 'was a bit perplexed though why one should incur a fee if you wanted to make amendments to the policy over the phone which is unfair on those who may not be computer literate especially older people',\n",
              "  'pred_prob': array([-3.2769335e-03, -5.7224693e+00], dtype=float32),\n",
              "  'sentiment': 'Negative'},\n",
              " {'Entity': 'error',\n",
              "  'Sentence': 'An error message kept appearing with no explanation as how to fix it.',\n",
              "  'pred_prob': array([-3.6035145e-03, -5.6276488e+00], dtype=float32),\n",
              "  'sentiment': 'Negative'},\n",
              " {'Entity': 'cover',\n",
              "  'Sentence': 'Taking money from my account but refusing to cover me!',\n",
              "  'pred_prob': array([-2.5452145e-03, -5.9748249e+00], dtype=float32),\n",
              "  'sentiment': 'Negative'},\n",
              " {'Entity': 'insurance',\n",
              "  'Sentence': \"The service was great a little disappointed with the actual insurance as it did not cover me for outside of the home even tho I do pay for it but as it wasn't a valuable it isn't covered.\",\n",
              "  'pred_prob': array([-3.2651704e-03, -5.7260742e+00], dtype=float32),\n",
              "  'sentiment': 'Negative'},\n",
              " {'Entity': 'helpline',\n",
              "  'Sentence': 'The VFM is excellent; the staff are patient and helpful on the helpline and the online application form was pretty simple.',\n",
              "  'pred_prob': array([-7.9010162e+00, -3.7043385e-04], dtype=float32),\n",
              "  'sentiment': 'Positive'},\n",
              " {'Entity': 'service',\n",
              "  'Sentence': 'Very helpful service and easy to complete process.',\n",
              "  'pred_prob': array([-7.9042645e+00, -3.6924219e-04], dtype=float32),\n",
              "  'sentiment': 'Positive'},\n",
              " {'Entity': 'report',\n",
              "  'Sentence': 'i was disappointed that only in very small report did it say that the travel insurance we had bought would run continuously with axa taking further premiums unless we instructed otherwise and that it is not possible to issue such instruction until after purchasing the insurance.',\n",
              "  'pred_prob': array([-2.2821592e-03, -6.0837564e+00], dtype=float32),\n",
              "  'sentiment': 'Negative'},\n",
              " {'Entity': 'service',\n",
              "  'Sentence': 'Â£500 less than my former insurers for same service !',\n",
              "  'pred_prob': array([-6.997404e+00, -9.146321e-04], dtype=float32),\n",
              "  'sentiment': 'Positive'},\n",
              " {'Entity': 'site',\n",
              "  'Sentence': 'very informative web page and site easy access to everything very quick process from deciding options to getting covered.',\n",
              "  'pred_prob': array([-8.031386e+00, -3.251501e-04], dtype=float32),\n",
              "  'sentiment': 'Positive'},\n",
              " {'Entity': 'time',\n",
              "  'Sentence': 'Very frustrating  and time consuming.',\n",
              "  'pred_prob': array([-4.3757646e-03, -5.4338660e+00], dtype=float32),\n",
              "  'sentiment': 'Negative'},\n",
              " {'Entity': 'service',\n",
              "  'Sentence': 'Very good service and an excellent insurance package.',\n",
              "  'pred_prob': array([-7.9274468e+00, -3.6078144e-04], dtype=float32),\n",
              "  'sentiment': 'Positive'},\n",
              " {'Entity': 'customer',\n",
              "  'Sentence': 'Why would  any customer bother price matching?',\n",
              "  'pred_prob': array([-3.211462e-03, -5.742618e+00], dtype=float32),\n",
              "  'sentiment': 'Negative'},\n",
              " {'Entity': 'price',\n",
              "  'Sentence': 'Axa answered my questions and provided a good price.',\n",
              "  'pred_prob': array([-7.5969520e+00, -5.0210266e-04], dtype=float32),\n",
              "  'sentiment': 'Positive'},\n",
              " {'Entity': 'insurance group',\n",
              "  'Sentence': 'Found a lovely deal with this insurance group which was cheaper than all other insurers.',\n",
              "  'pred_prob': array([-7.627790e+00, -4.868514e-04], dtype=float32),\n",
              "  'sentiment': 'Positive'},\n",
              " {'Entity': 'charges',\n",
              "  'Sentence': 'no hidden charges either.',\n",
              "  'pred_prob': array([-3.1125930e-03, -5.7738705e+00], dtype=float32),\n",
              "  'sentiment': 'Negative'},\n",
              " {'Entity': 'time',\n",
              "  'Sentence': \"i supposed that i was being a useless idiot, until i just went to use the (extremely carefully) newly selected password for the third time and discovered their system won't recognise the password again.\",\n",
              "  'pred_prob': array([-0.08071453, -2.556923  ], dtype=float32),\n",
              "  'sentiment': 'Negative'},\n",
              " {'Entity': 'bit',\n",
              "  'Sentence': 'this is the first time i have ever had to do car insurance and i was a bit confused but this was quick and simple and the policy document is very clear and not full of jargon.',\n",
              "  'pred_prob': array([-5.6161504e+00, -3.6452056e-03], dtype=float32),\n",
              "  'sentiment': 'Positive'},\n",
              " {'Entity': 'team',\n",
              "  'Sentence': 'Sales team made an initial mistake in naming wrong driver as \\\\ Main Driver\\\\ .',\n",
              "  'pred_prob': array([-3.1248333e-03, -5.7699451e+00], dtype=float32),\n",
              "  'sentiment': 'Negative'},\n",
              " {'Entity': 'work',\n",
              "  'Sentence': 'my claim was handled efficiently and without delay as I had to get workmen in to do the work fairly quickly and needed to have the funds to do so.',\n",
              "  'pred_prob': array([-5.0098605 , -0.00669415], dtype=float32),\n",
              "  'sentiment': 'Positive'},\n",
              " {'Entity': 'customer',\n",
              "  'Sentence': 'After a really upsetting experience with a previous provider that has found me confused offended and feeling devalued as a customer I sought new insuranceThrough a comparison site.',\n",
              "  'pred_prob': array([-0.11452209, -2.223702  ], dtype=float32),\n",
              "  'sentiment': 'Negative'},\n",
              " {'Entity': 'web page',\n",
              "  'Sentence': \"I had some questions I needed answering and the web page for the online policy maker wouldn't have been able to answer them.\",\n",
              "  'pred_prob': array([-0.00851016, -4.7707505 ], dtype=float32),\n",
              "  'sentiment': 'Negative'},\n",
              " {'Entity': 'web',\n",
              "  'Sentence': 'The AXA web site application is terrible',\n",
              "  'pred_prob': array([-2.7000185e-03, -5.9158497e+00], dtype=float32),\n",
              "  'sentiment': 'Negative'},\n",
              " {'Entity': 'communication',\n",
              "  'Sentence': 'Excellent communication friendly staff and easy to navigate website.',\n",
              "  'pred_prob': array([-7.9368606e+00, -3.5744478e-04], dtype=float32),\n",
              "  'sentiment': 'Positive'},\n",
              " {'Entity': 'email',\n",
              "  'Sentence': \"what i don't like is that ive just had a email telling me the card i used to pay with.\",\n",
              "  'pred_prob': array([-2.7801455e-03, -5.8866429e+00], dtype=float32),\n",
              "  'sentiment': 'Negative'},\n",
              " {'Entity': 'customer advisor',\n",
              "  'Sentence': 'Taken out 2 car insurance policies today went through policies with customer advisor Paul who was very helpful and explained details to me so i could easily understand.',\n",
              "  'pred_prob': array([-7.8471279e+00, -3.9093004e-04], dtype=float32),\n",
              "  'sentiment': 'Positive'},\n",
              " {'Entity': 'quote',\n",
              "  'Sentence': 'Very quick quote simple process and very good value for money much better than other insurers.',\n",
              "  'pred_prob': array([-5.440736e+00, -4.345736e-03], dtype=float32),\n",
              "  'sentiment': 'Positive'},\n",
              " {'Entity': 'sales guy',\n",
              "  'Sentence': 'Bruce our sales guy was just great very helpful kind went through the whole process clearly and calmly  he was great as we had been talking to other insurance sales people and my husband commented they were like robots but not Bruce at axa a credit to any company',\n",
              "  'pred_prob': array([-6.7436318e+00, -1.1789998e-03], dtype=float32),\n",
              "  'sentiment': 'Positive'},\n",
              " {'Entity': 'product',\n",
              "  'Sentence': 'I have ordered the same product and paid for it twice in error.',\n",
              "  'pred_prob': array([-1.7416799e-03, -6.3537488e+00], dtype=float32),\n",
              "  'sentiment': 'Negative'},\n",
              " {'Entity': 'service',\n",
              "  'Sentence': 'Picked the best price easy to use service clear and fast.',\n",
              "  'pred_prob': array([-7.7403979e+00, -4.3501926e-04], dtype=float32),\n",
              "  'sentiment': 'Positive'},\n",
              " {'Entity': 'customer service',\n",
              "  'Sentence': 'Excellent customer service very friendly and happy to answer any questions',\n",
              "  'pred_prob': array([-8.0134859e+00, -3.3098942e-04], dtype=float32),\n",
              "  'sentiment': 'Positive'},\n",
              " {'Entity': 'charges',\n",
              "  'Sentence': 'I had clicked through to cheaper quotes but not impressed when those companies then quoted much higher prices than quoted earlier the same day plus hidden admin charges not shown on the comparison website.',\n",
              "  'pred_prob': array([-6.6445394e+00, -1.3019904e-03], dtype=float32),\n",
              "  'sentiment': 'Positive'},\n",
              " {'Entity': 'policy',\n",
              "  'Sentence': '\\\\nIt was the easiest and most friendliest telephone call I have ever had when buying an insurance policy.',\n",
              "  'pred_prob': array([-7.1831937e+00, -7.5955148e-04], dtype=float32),\n",
              "  'sentiment': 'Positive'},\n",
              " {'Entity': 'value insurance',\n",
              "  'Sentence': \"I wanted car insurance at a reasonable priceand I got it.I don't want toys or cinema ticketsjust great value insurance and I got it.\",\n",
              "  'pred_prob': array([-7.2183113e+00, -7.3334499e-04], dtype=float32),\n",
              "  'sentiment': 'Positive'},\n",
              " {'Entity': 'price',\n",
              "  'Sentence': 'Booked via compare the market butv when it came to book and go to the insurer website the price went up.',\n",
              "  'pred_prob': array([-3.219596  , -0.04079197], dtype=float32),\n",
              "  'sentiment': 'Positive'},\n",
              " {'Entity': 'insurance',\n",
              "  'Sentence': 'You never know how good insurance is until you need it.',\n",
              "  'pred_prob': array([-3.503615e-03, -5.655707e+00], dtype=float32),\n",
              "  'sentiment': 'Negative'},\n",
              " {'Entity': 'post',\n",
              "  'Sentence': 'Why not say at the beginning that proof of NCD is needed not until post purchase I now have to chase up my previous insurers.',\n",
              "  'pred_prob': array([-3.0309474e-03, -5.8003817e+00], dtype=float32),\n",
              "  'sentiment': 'Negative'},\n",
              " {'Entity': 'axa',\n",
              "  'Sentence': 'have used axa before have had no problems',\n",
              "  'pred_prob': array([-4.862774  , -0.00775907], dtype=float32),\n",
              "  'sentiment': 'Positive'},\n",
              " {'Entity': 'documents',\n",
              "  'Sentence': \"Easy website and competitive price - but no online chat or obvious 'phone number to answer questions so if my husband hadn't been insured with AXA and let me look at his documents I may not have had my questions answered.\",\n",
              "  'pred_prob': array([-2.177305  , -0.12030106], dtype=float32),\n",
              "  'sentiment': 'Positive'},\n",
              " {'Entity': 'quote',\n",
              "  'Sentence': \"Given that I linked to the 'get quote for travel insurance' page from my Axa existing customer account and that this is not the first time I've bought Axa travel insurance it's really tedious to have to enter all my traveller details afresh every single time.\",\n",
              "  'pred_prob': array([-0.10876289, -2.2724736 ], dtype=float32),\n",
              "  'sentiment': 'Negative'},\n",
              " {'Entity': 'background noise',\n",
              "  'Sentence': 'Took upwards of 20 mins to get through to the call center and encountered a lot of background noise making it difficult to communicate at times.I have hearing problems and the distraction made things unnecessarily awkward.',\n",
              "  'pred_prob': array([-4.1393084e-03, -5.4892879e+00], dtype=float32),\n",
              "  'sentiment': 'Negative'},\n",
              " {'Entity': 'car insurance',\n",
              "  'Sentence': 'this is my first time with AXA for car insurance and the way \\\\nthey dealt with me  was excellent i would buy from them again\\\\nand would highly recommend them to friends and family',\n",
              "  'pred_prob': array([-7.573715e+00, -5.138984e-04], dtype=float32),\n",
              "  'sentiment': 'Positive'},\n",
              " {'Entity': 'service',\n",
              "  'Sentence': 'Spoke to today with a colleague named Andie and she was a great help - made all the information understandable and simple and helped me with my quotation - excellent service',\n",
              "  'pred_prob': array([-7.718608e+00, -4.445518e-04], dtype=float32),\n",
              "  'sentiment': 'Positive'},\n",
              " {'Entity': 'cover',\n",
              "  'Sentence': 'good price better cover; easy to use',\n",
              "  'pred_prob': array([-7.487461e+00, -5.602459e-04], dtype=float32),\n",
              "  'sentiment': 'Positive'},\n",
              " {'Entity': 'company',\n",
              "  'Sentence': 'Very pleasent young lady\\\\nVery polite a credit to your company',\n",
              "  'pred_prob': array([-7.6518459e+00, -4.7529367e-04], dtype=float32),\n",
              "  'sentiment': 'Positive'},\n",
              " {'Entity': 'instructions',\n",
              "  'Sentence': 'Very good service.Easy to use the site and follow instructions.',\n",
              "  'pred_prob': array([-7.9598722e+00, -3.4922225e-04], dtype=float32),\n",
              "  'sentiment': 'Positive'},\n",
              " {'Entity': 'sevice',\n",
              "  'Sentence': 'first class sevice very polite and helpful answered all my questions many thanks',\n",
              "  'pred_prob': array([-7.9230385e+00, -3.6233058e-04], dtype=float32),\n",
              "  'sentiment': 'Positive'},\n",
              " {'Entity': 'online',\n",
              "  'Sentence': 'Just because it was online - no personal contact so hard to rate any higher.Just an online application - fairly straight forward but typically dull really!!!',\n",
              "  'pred_prob': array([-2.082919e-03, -6.175022e+00], dtype=float32),\n",
              "  'sentiment': 'Negative'},\n",
              " {'Entity': 'purchase',\n",
              "  'Sentence': 'As headline suggests easy to get quote then purchase insurance absolutly useless and frustrating when you get an email to register.',\n",
              "  'pred_prob': array([-0.00658272, -5.026603  ], dtype=float32),\n",
              "  'sentiment': 'Negative'},\n",
              " {'Entity': 'service',\n",
              "  'Sentence': 'I have just used AXA to renew my car insurance this year and it has not actually started yet so I can only comment on my experience of applying for/paying for the service which was fine',\n",
              "  'pred_prob': array([-4.639     , -0.00971435], dtype=float32),\n",
              "  'sentiment': 'Positive'},\n",
              " {'Entity': 'price',\n",
              "  'Sentence': 'We love our trusty motors so I was relieved to secure a much better price to insure mine  at AXA.The online information was clearly laid out and was clearly repeated by the girl when I phoned to complete payment.The previous company quoted more than twice last year`s figure for the same conditions!',\n",
              "  'pred_prob': array([-7.2890406e+00, -6.8319344e-04], dtype=float32),\n",
              "  'sentiment': 'Positive'},\n",
              " {'Entity': 'service',\n",
              "  'Sentence': 'Yes very happy with service I received from axa staff member who talked me through my purchase of car insurance',\n",
              "  'pred_prob': array([-8.021848e+00, -3.282485e-04], dtype=float32),\n",
              "  'sentiment': 'Positive'},\n",
              " {'Entity': 'cover',\n",
              "  'Sentence': '\\\\n\\\\nEverything was well explained including the discrepancy between the breakdown policy I was offered with my insurance cover and the identical breakdown cover with AXA that I purchased separately.',\n",
              "  'pred_prob': array([-7.8769593e+00, -3.7949038e-04], dtype=float32),\n",
              "  'sentiment': 'Positive'},\n",
              " {'Entity': 'service',\n",
              "  'Sentence': 'took 30 mins to be connected once connected service very good',\n",
              "  'pred_prob': array([-7.3566833e+00, -6.3851947e-04], dtype=float32),\n",
              "  'sentiment': 'Positive'},\n",
              " {'Entity': 'value',\n",
              "  'Sentence': 'Excellent service good value for money & super-quick cover.',\n",
              "  'pred_prob': array([-7.9764347e+00, -3.4350218e-04], dtype=float32),\n",
              "  'sentiment': 'Positive'},\n",
              " {'Entity': 'business',\n",
              "  'Sentence': 'However you nearly lost my business as I was getting fed up waiting to be answered.',\n",
              "  'pred_prob': array([-3.5894983e-03, -5.6315470e+00], dtype=float32),\n",
              "  'sentiment': 'Negative'},\n",
              " {'Entity': 'transaction',\n",
              "  'Sentence': 'Good price and smooth online transaction',\n",
              "  'pred_prob': array([-8.0391045e+00, -3.2264748e-04], dtype=float32),\n",
              "  'sentiment': 'Positive'},\n",
              " {'Entity': 'staff',\n",
              "  'Sentence': 'very easy to use website competitive pricing helpful staff.',\n",
              "  'pred_prob': array([-7.9964910e+00, -3.3670955e-04], dtype=float32),\n",
              "  'sentiment': 'Positive'},\n",
              " {'Entity': 'insurance',\n",
              "  'Sentence': 'Compared with some other insurance companies I feel that the home/buildings/contents insurance is good value for money.',\n",
              "  'pred_prob': array([-7.713510e+00, -4.468158e-04], dtype=float32),\n",
              "  'sentiment': 'Positive'},\n",
              " {'Entity': 'company',\n",
              "  'Sentence': 'I have used Axa in the past hence why I have returned a very competitive & professional company.',\n",
              "  'pred_prob': array([-8.1388693e+00, -2.9202012e-04], dtype=float32),\n",
              "  'sentiment': 'Positive'},\n",
              " {'Entity': 'service',\n",
              "  'Sentence': 'A very good easy to follow service to obtain car insurance.',\n",
              "  'pred_prob': array([-7.7005043e+00, -4.5265441e-04], dtype=float32),\n",
              "  'sentiment': 'Positive'},\n",
              " {'Entity': 'price and service',\n",
              "  'Sentence': 'Good price and service online portal is easy to use.',\n",
              "  'pred_prob': array([-8.2439823e+00, -2.6282194e-04], dtype=float32),\n",
              "  'sentiment': 'Positive'},\n",
              " {'Entity': 'quote',\n",
              "  'Sentence': 'Really easy to use the site easy to navigate and fill in relevant information in order to obtain a quote great service all round and very competitive prices',\n",
              "  'pred_prob': array([-7.985821e+00, -3.402846e-04], dtype=float32),\n",
              "  'sentiment': 'Positive'},\n",
              " {'Entity': 'customer service',\n",
              "  'Sentence': 'Good website and helpful customer service advisor.',\n",
              "  'pred_prob': array([-8.0362349e+00, -3.2360086e-04], dtype=float32),\n",
              "  'sentiment': 'Positive'},\n",
              " {'Entity': 'product',\n",
              "  'Sentence': 'After comparing various quotes on Compare the Market I chose Axa because  they quoted fairly for the product I was looking for.',\n",
              "  'pred_prob': array([-6.9686384e+00, -9.4142929e-04], dtype=float32),\n",
              "  'sentiment': 'Positive'},\n",
              " {'Entity': 'address',\n",
              "  'Sentence': 'trying to find an email address to complain is near on impossible and i refuse to pay £1.12 from a bt landline',\n",
              "  'pred_prob': array([-2.1109933e-03, -6.1616311e+00], dtype=float32),\n",
              "  'sentiment': 'Negative'},\n",
              " {'Entity': 'rates',\n",
              "  'Sentence': 'Easy to use great rates and clear questions',\n",
              "  'pred_prob': array([-7.8594465e+00, -3.8616353e-04], dtype=float32),\n",
              "  'sentiment': 'Positive'},\n",
              " {'Entity': 'company',\n",
              "  'Sentence': 'Easy straight forward but as the old saying goes you find out how good an insurance company is when you come to claim',\n",
              "  'pred_prob': array([-6.749370e+00, -1.172332e-03], dtype=float32),\n",
              "  'sentiment': 'Positive'},\n",
              " {'Entity': 'account',\n",
              "  'Sentence': 'I have had to go through having a refund of my  £240 taken out of my account which was very stressful.',\n",
              "  'pred_prob': array([-3.3544006e-03, -5.6991491e+00], dtype=float32),\n",
              "  'sentiment': 'Negative'},\n",
              " {'Entity': 'diver',\n",
              "  'Sentence': \"i had to ring up as i wanted to add another diver but couldn't seem to do so on the website.\",\n",
              "  'pred_prob': array([-1.9500303e-03, -6.2408967e+00], dtype=float32),\n",
              "  'sentiment': 'Negative'},\n",
              " {'Entity': 'website',\n",
              "  'Sentence': 'The website was user friendly',\n",
              "  'pred_prob': array([-8.0641022e+00, -3.1466302e-04], dtype=float32),\n",
              "  'sentiment': 'Positive'},\n",
              " {'Entity': 'time',\n",
              "  'Sentence': 'Customer service was excellent and they called me in different time and answer all my questions .',\n",
              "  'pred_prob': array([-7.5505967e+00, -5.2593229e-04], dtype=float32),\n",
              "  'sentiment': 'Positive'},\n",
              " {'Entity': 'axa',\n",
              "  'Sentence': \"Service seems ok but disappointed it was cheaper for us to cancel an existing policy with axa and the renew for a 12month period through comparethemarket and we've had to pay to pay a £52 cancelation and lose 6months of no claims.\",\n",
              "  'pred_prob': array([-0.01701507, -4.082151  ], dtype=float32),\n",
              "  'sentiment': 'Negative'},\n",
              " {'Entity': 'telephone',\n",
              "  'Sentence': 'As a fall-back no telephone number is given so I cannot contact the company.',\n",
              "  'pred_prob': array([-2.6133454e-03, -5.9484339e+00], dtype=float32),\n",
              "  'sentiment': 'Negative'},\n",
              " {'Entity': 'saving',\n",
              "  'Sentence': 'This was my second time using your company first time was ok but unfortunately this time I had to cancel my holiday and admittedly I failed to fill in and read part of form correctly may I add not intentionally this would not have been to my advantage and for the sake of saving about £20.00 .',\n",
              "  'pred_prob': array([-0.06284646, -2.7983196 ], dtype=float32),\n",
              "  'sentiment': 'Negative'},\n",
              " {'Entity': 'website',\n",
              "  'Sentence': \"All great except the website wouldn't process the payment so I had to call to finalise the payment.\",\n",
              "  'pred_prob': array([-3.4021612e-03, -5.6850495e+00], dtype=float32),\n",
              "  'sentiment': 'Negative'},\n",
              " {'Entity': 'customer service',\n",
              "  'Sentence': 'Excellent customer service very thorough explained the policy in full.',\n",
              "  'pred_prob': array([-7.8360400e+00, -3.9533907e-04], dtype=float32),\n",
              "  'sentiment': 'Positive'},\n",
              " {'Entity': 'Renewal costs',\n",
              "  'Sentence': 'Renewal costs were Â£40 dearer than previous year.',\n",
              "  'pred_prob': array([-3.1180596e-03, -5.7720952e+00], dtype=float32),\n",
              "  'sentiment': 'Negative'},\n",
              " {'Entity': 'axa',\n",
              "  'Sentence': \"you don't know how good an insurer is until you need them i have been disappointed in the past especially with car insurance \\\\ni have had a couple of claims in the last year which is not normal but the service efficiency and courtesy has been outstanding from axa home insurance \\\\nwould highly recommend 5 star\",\n",
              "  'pred_prob': array([-4.6891724e-03, -5.3648310e+00], dtype=float32),\n",
              "  'sentiment': 'Negative'},\n",
              " {'Entity': 'auto',\n",
              "  'Sentence': 'force the customer down the path of auto renewal and make it difficult to opt out.',\n",
              "  'pred_prob': array([-3.5805895e-03, -5.6340189e+00], dtype=float32),\n",
              "  'sentiment': 'Negative'},\n",
              " {'Entity': 'service',\n",
              "  'Sentence': 'Very efficient service your Admin staff Mr. Bruce was very professional and polite good talking skills on the phone.',\n",
              "  'pred_prob': array([-7.9685383e+00, -3.4624303e-04], dtype=float32),\n",
              "  'sentiment': 'Positive'},\n",
              " {'Entity': 'travel insurance',\n",
              "  'Sentence': 'No problems went on line got a quote for travel insurance which was competitively priced so I bought it.',\n",
              "  'pred_prob': array([-7.6665950e+00, -4.6826364e-04], dtype=float32),\n",
              "  'sentiment': 'Positive'},\n",
              " {'Entity': 'quote',\n",
              "  'Sentence': \"They told me they couldn't match my best quote elsewhere without even checking it.\",\n",
              "  'pred_prob': array([-2.1958067e-03, -6.1223106e+00], dtype=float32),\n",
              "  'sentiment': 'Negative'},\n",
              " {'Entity': 'team member',\n",
              "  'Sentence': 'Friendly polite and patient customer care by axa team members',\n",
              "  'pred_prob': array([-7.7532048e+00, -4.2941887e-04], dtype=float32),\n",
              "  'sentiment': 'Positive'},\n",
              " {'Entity': 'line',\n",
              "  'Sentence': 'On line service did not work and customer advisor was poor at his job',\n",
              "  'pred_prob': array([-2.3963326e-03, -6.0350180e+00], dtype=float32),\n",
              "  'sentiment': 'Negative'},\n",
              " {'Entity': 'quote',\n",
              "  'Sentence': 'Simple to use online system very prompt responses via email on ensuing follow up and best quote received.',\n",
              "  'pred_prob': array([-7.8898354e+00, -3.7460463e-04], dtype=float32),\n",
              "  'sentiment': 'Positive'},\n",
              " {'Entity': 'problems',\n",
              "  'Sentence': 'Easy  fast reasonable price  until now everything is perfect  just thinking if I will have any problems like \\\\  not received ncb\\\\ ...but we will see.',\n",
              "  'pred_prob': array([-4.8394485 , -0.00794288], dtype=float32),\n",
              "  'sentiment': 'Positive'},\n",
              " {'Entity': 'website',\n",
              "  'Sentence': 'Good service easy to navigate website',\n",
              "  'pred_prob': array([-7.8520155e+00, -3.8902345e-04], dtype=float32),\n",
              "  'sentiment': 'Positive'},\n",
              " {'Entity': 'pay section',\n",
              "  'Sentence': \"one of the things it didn't cover legal liability when i clicked on it it deleted it instead of adding it i did add it at the final pay section.\",\n",
              "  'pred_prob': array([-3.2150268e-03, -5.7415180e+00], dtype=float32),\n",
              "  'sentiment': 'Negative'},\n",
              " {'Entity': 'service',\n",
              "  'Sentence': \"Customer service at its very worst I'm really upset and angry.\",\n",
              "  'pred_prob': array([-2.4892080e-03, -5.9970584e+00], dtype=float32),\n",
              "  'sentiment': 'Negative'},\n",
              " {'Entity': 'pricing',\n",
              "  'Sentence': 'Layout of the website is very good the only thing I can suggest improving is making clearer the pricing just prior to purchasing!',\n",
              "  'pred_prob': array([-7.9202757e+00, -3.6340309e-04], dtype=float32),\n",
              "  'sentiment': 'Positive'},\n",
              " {'Entity': 'questions',\n",
              "  'Sentence': 'Any questions of which i had none were answwred in a professional way and i wouldnt hesitate in recommending Axa to my friends and family.',\n",
              "  'pred_prob': array([-3.3002794 , -0.03756987], dtype=float32),\n",
              "  'sentiment': 'Positive'},\n",
              " {'Entity': 'class',\n",
              "  'Sentence': 'First class service very helpful staff good prices!',\n",
              "  'pred_prob': array([-7.493310e+00, -5.569099e-04], dtype=float32),\n",
              "  'sentiment': 'Positive'},\n",
              " {'Entity': 'reference number',\n",
              "  'Sentence': \"subsequent quotes came up with the reference number \\\\ 1\\\\ which i couldn't access from the my axa site.\",\n",
              "  'pred_prob': array([-0.01405202, -4.272011  ], dtype=float32),\n",
              "  'sentiment': 'Negative'},\n",
              " {'Entity': 'experience',\n",
              "  'Sentence': 'What a horrible website experience in these days.',\n",
              "  'pred_prob': array([-2.6626869e-03, -5.9297476e+00], dtype=float32),\n",
              "  'sentiment': 'Negative'},\n",
              " {'Entity': 'insurance',\n",
              "  'Sentence': 'Cheapest I could find with all the benefits  I was getting with previous insurance  and saved myself 100 quid',\n",
              "  'pred_prob': array([-6.948511e+00, -9.604847e-04], dtype=float32),\n",
              "  'sentiment': 'Positive'},\n",
              " {'Entity': 'transaction',\n",
              "  'Sentence': 'The advisor gave me loads of options and was really really helpful and a genuinely nice pleasant guy to deal with who made the whole transaction smooth and efficient!',\n",
              "  'pred_prob': array([-7.6829686e+00, -4.6075694e-04], dtype=float32),\n",
              "  'sentiment': 'Positive'},\n",
              " {'Entity': 'web site',\n",
              "  'Sentence': 'easy to use web site product detaiis well explained ecxellent value',\n",
              "  'pred_prob': array([-7.8226366e+00, -4.0070133e-04], dtype=float32),\n",
              "  'sentiment': 'Positive'},\n",
              " {'Entity': 'contents insurance',\n",
              "  'Sentence': 'Bought contents insurance was a quick easy and understandable process.',\n",
              "  'pred_prob': array([-7.8462152e+00, -3.9128753e-04], dtype=float32),\n",
              "  'sentiment': 'Positive'},\n",
              " {'Entity': 'renewal',\n",
              "  'Sentence': 'Bit of a shame as I like the Axa policy so cancelled my auto renewal and took out the new policy same happened last year  but I wasted a phone call to be told to do what I have done myself this year - Axa obviously hope you will just renew automatically ....',\n",
              "  'pred_prob': array([-0.01238889, -4.397144  ], dtype=float32),\n",
              "  'sentiment': 'Negative'},\n",
              " {'Entity': 'staff',\n",
              "  'Sentence': 'I was able to speak with a member of staff who was very helpful and took the time out to assist me with my queries.',\n",
              "  'pred_prob': array([-7.8090529e+00, -4.0618275e-04], dtype=float32),\n",
              "  'sentiment': 'Positive'},\n",
              " {'Entity': 'staff',\n",
              "  'Sentence': 'Great level of cover at a very reasonable price Good telephone service and friendly staff.',\n",
              "  'pred_prob': array([-7.8707528e+00, -3.8187363e-04], dtype=float32),\n",
              "  'sentiment': 'Positive'},\n",
              " {'Entity': 'car insurance',\n",
              "  'Sentence': 'But i must say i found using and setting up my car insurance with Axa exceptionally easy and finally talking to a real person to go through my information and rechecking the details very easy as well.',\n",
              "  'pred_prob': array([-7.602631e+00, -4.992431e-04], dtype=float32),\n",
              "  'sentiment': 'Positive'},\n",
              " {'Entity': 'premium',\n",
              "  'Sentence': 'Very pleased with the premium considering my renewal with my previous company increased by over 50%.',\n",
              "  'pred_prob': array([-6.524873e+00, -1.467581e-03], dtype=float32),\n",
              "  'sentiment': 'Positive'},\n",
              " {'Entity': 'comments',\n",
              "  'Sentence': \"As a brand new customer it's early days yet to make accurate comments but so far so good.\",\n",
              "  'pred_prob': array([-7.5695353e+00, -5.1604304e-04], dtype=float32),\n",
              "  'sentiment': 'Positive'},\n",
              " {'Entity': 'cancer',\n",
              "  'Sentence': 'equally i had not been advised the cancer had travelled outside the prostate.',\n",
              "  'pred_prob': array([-3.1478875e-03, -5.7625818e+00], dtype=float32),\n",
              "  'sentiment': 'Negative'},\n",
              " {'Entity': 'minute',\n",
              "  'Sentence': 'Did not enjoy going all through a 15 minute interview.',\n",
              "  'pred_prob': array([-3.2749136e-03, -5.7231035e+00], dtype=float32),\n",
              "  'sentiment': 'Negative'},\n",
              " {'Entity': 'gentleman',\n",
              "  'Sentence': 'the gentleman that helped me had great patients with me and i would commend all his telephone skills   mr ian adams',\n",
              "  'pred_prob': array([-7.6347818e+00, -4.8351518e-04], dtype=float32),\n",
              "  'sentiment': 'Positive'},\n",
              " {'Entity': 'service',\n",
              "  'Sentence': 'Cheapest quote and great service.',\n",
              "  'pred_prob': array([-7.7605948e+00, -4.2632074e-04], dtype=float32),\n",
              "  'sentiment': 'Positive'},\n",
              " {'Entity': 'prices',\n",
              "  'Sentence': 'Good service from your call centre staff competitive prices.',\n",
              "  'pred_prob': array([-8.0278826e+00, -3.2634177e-04], dtype=float32),\n",
              "  'sentiment': 'Positive'},\n",
              " {'Entity': 'price',\n",
              "  'Sentence': 'Good price and easy to follow quotes.',\n",
              "  'pred_prob': array([-7.6504765e+00, -4.7588945e-04], dtype=float32),\n",
              "  'sentiment': 'Positive'},\n",
              " {'Entity': 'information',\n",
              "  'Sentence': 'Informative  person on the phone who explained my queries sadly you were closed when I wanted to ring back but I was able to make my transaction on the internet due to the information I had received on the phone.',\n",
              "  'pred_prob': array([-6.2389197e+00, -1.9538377e-03], dtype=float32),\n",
              "  'sentiment': 'Positive'},\n",
              " {'Entity': 'axa',\n",
              "  'Sentence': 'they gave me the insurance that i needed easy to talk with axa over the phone uk based which makes a nice change',\n",
              "  'pred_prob': array([-7.8519859e+00, -3.8902345e-04], dtype=float32),\n",
              "  'sentiment': 'Positive'},\n",
              " {'Entity': 'website',\n",
              "  'Sentence': 'Excellent website plenty of choice to customise the policy and clear fees and charges',\n",
              "  'pred_prob': array([-6.2876825e+00, -1.8607936e-03], dtype=float32),\n",
              "  'sentiment': 'Positive'},\n",
              " {'Entity': 'class service',\n",
              "  'Sentence': 'First class service no problems organising our new house and buildings insurance on the day we moved.',\n",
              "  'pred_prob': array([-7.4864006e+00, -5.6084164e-04], dtype=float32),\n",
              "  'sentiment': 'Positive'},\n",
              " {'Entity': 'time',\n",
              "  'Sentence': 'Very happy with the service I received tho the time I had to wait for an appointment was frustrating',\n",
              "  'pred_prob': array([-1.5974221 , -0.22617012], dtype=float32),\n",
              "  'sentiment': 'Positive'},\n",
              " {'Entity': 'price',\n",
              "  'Sentence': 'Great price and great web site.',\n",
              "  'pred_prob': array([-7.6672344e+00, -4.6802533e-04], dtype=float32),\n",
              "  'sentiment': 'Positive'},\n",
              " {'Entity': 'call taker',\n",
              "  'Sentence': 'spoke to one of the female call takers who was very helpful and did every thing to help with my car insurance  Very pleased',\n",
              "  'pred_prob': array([-7.7495828e+00, -4.3096792e-04], dtype=float32),\n",
              "  'sentiment': 'Positive'},\n",
              " {'Entity': 'renewal premium',\n",
              "  'Sentence': 'Great quote half my renewal premium and more cover',\n",
              "  'pred_prob': array([-6.923723e+00, -9.846606e-04], dtype=float32),\n",
              "  'sentiment': 'Positive'},\n",
              " {'Entity': 'agent',\n",
              "  'Sentence': 'The agent said he was obliged to give me this information.',\n",
              "  'pred_prob': array([-1.389806  , -0.28651422], dtype=float32),\n",
              "  'sentiment': 'Positive'},\n",
              " {'Entity': 'cover',\n",
              "  'Sentence': 'Great cover with quick user friendly system to tailor policy',\n",
              "  'pred_prob': array([-7.9203696e+00, -3.6328391e-04], dtype=float32),\n",
              "  'sentiment': 'Positive'},\n",
              " {'Entity': 'documentation',\n",
              "  'Sentence': 'Service very good only problem is postal documentation.',\n",
              "  'pred_prob': array([-3.9070714e-03, -5.5469084e+00], dtype=float32),\n",
              "  'sentiment': 'Negative'},\n",
              " {'Entity': 'service',\n",
              "  'Sentence': 'A very efficient system and excellent service.',\n",
              "  'pred_prob': array([-7.8758063e+00, -3.7984786e-04], dtype=float32),\n",
              "  'sentiment': 'Positive'},\n",
              " {'Entity': 'insurance',\n",
              "  'Sentence': 'Next day thought it might be covered under home insurance - phoned Axa and was offered immediate compensation by BACs to my bank account.',\n",
              "  'pred_prob': array([-6.5314493e+00, -1.4579392e-03], dtype=float32),\n",
              "  'sentiment': 'Positive'},\n",
              " {'Entity': 'car insurance',\n",
              "  'Sentence': 'I found the form easy to complete and understand and eventually had a much better car insurance  quote than my old supplier',\n",
              "  'pred_prob': array([-7.5011334e+00, -5.5262074e-04], dtype=float32),\n",
              "  'sentiment': 'Positive'},\n",
              " {'Entity': 'price',\n",
              "  'Sentence': \"Auto-renew should NEVER be the default setting withoit the option to decline BEFORE i prchase the policy - i will be turning it off but await my letter in 11 months time stating you will 'automatically' take out next years premium at a greatly increased price to this years premium!!\",\n",
              "  'pred_prob': array([-4.0965695e-03, -5.4996510e+00], dtype=float32),\n",
              "  'sentiment': 'Negative'},\n",
              " {'Entity': 'options',\n",
              "  'Sentence': 'Very easy to use web site good options',\n",
              "  'pred_prob': array([-8.3060341e+00, -2.4709033e-04], dtype=float32),\n",
              "  'sentiment': 'Positive'},\n",
              " {'Entity': 'm&s and axa',\n",
              "  'Sentence': \"new customer\\\\ price - would love loyalty discounts instead so that i don't have to keep flicking between m&s and axa every year !\",\n",
              "  'pred_prob': array([-5.9222946e+00, -2.6826605e-03], dtype=float32),\n",
              "  'sentiment': 'Positive'},\n",
              " {'Entity': 'site',\n",
              "  'Sentence': 'I found that the service was great value as it came up as one of the cheapest on the comparison site.',\n",
              "  'pred_prob': array([-7.254767e+00, -7.070187e-04], dtype=float32),\n",
              "  'sentiment': 'Positive'},\n",
              " {'Entity': 'premium',\n",
              "  'Sentence': 'I failed to make payment online but the phone on a Sunday was answered very helpfully and promptly and the  premium was a quarter of that quoted by my old insurer',\n",
              "  'pred_prob': array([-0.01341331, -4.318206  ], dtype=float32),\n",
              "  'sentiment': 'Negative'},\n",
              " {'Entity': 'price',\n",
              "  'Sentence': 'Purchasing and selecting the appropriate package was clear and easy-at a competitive price.',\n",
              "  'pred_prob': array([-7.9384899e+00, -3.5684893e-04], dtype=float32),\n",
              "  'sentiment': 'Positive'},\n",
              " {'Entity': 'service',\n",
              "  'Sentence': 'The service dealing with my enquiry and agreeing my policy was excellent but the IT  is rubbish.',\n",
              "  'pred_prob': array([-1.6019912 , -0.22501396], dtype=float32),\n",
              "  'sentiment': 'Positive'},\n",
              " {'Entity': 'website',\n",
              "  'Sentence': 'Easy to use website good price easy to understand policy schedule.',\n",
              "  'pred_prob': array([-7.4981842e+00, -5.5428874e-04], dtype=float32),\n",
              "  'sentiment': 'Positive'},\n",
              " {'Entity': 'operator',\n",
              "  'Sentence': 'It took  two attempts to take out car insurance as the operator could not provide a reason as to why the system would not give me a quote initially.',\n",
              "  'pred_prob': array([-3.1544233e-03, -5.7605371e+00], dtype=float32),\n",
              "  'sentiment': 'Negative'},\n",
              " {'Entity': 'experience',\n",
              "  'Sentence': 'A most helpful team that was a pleasure to communicate with making the purchase of car insurance an efficient experience.',\n",
              "  'pred_prob': array([-7.7258754e+00, -4.4133459e-04], dtype=float32),\n",
              "  'sentiment': 'Positive'},\n",
              " {'Entity': 'search',\n",
              "  'Sentence': 'Renewal cost was higher than last year search on their own web site gave lower cost for new policy \\\\ Customer Service\\\\  were unable to match this!!!',\n",
              "  'pred_prob': array([-0.00608259, -5.1053667 ], dtype=float32),\n",
              "  'sentiment': 'Negative'},\n",
              " {'Entity': 'insurance',\n",
              "  'Sentence': \"I can't comment on the service related to the insurance product but the site was very easy to navigate and make changes to your policy.\",\n",
              "  'pred_prob': array([-7.5981965e+00, -5.0150690e-04], dtype=float32),\n",
              "  'sentiment': 'Positive'},\n",
              " {'Entity': 'price',\n",
              "  'Sentence': \"REALLY REALLY frustrating that insurance companies can't reward loyal customers by giving them better quotes rather than giving them one worse than new customers get going of the proviso that most can't be bothered to look for cheaper quotes and just go with the new price they've been given.\",\n",
              "  'pred_prob': array([-2.7750337e-03, -5.8884830e+00], dtype=float32),\n",
              "  'sentiment': 'Negative'},\n",
              " {'Entity': 'comparison site',\n",
              "  'Sentence': 'Existing AXA home insurance policyholder very disappointed that I had to visit a comparison site to obtain best renewal price.',\n",
              "  'pred_prob': array([-0.10336795, -2.320699  ], dtype=float32),\n",
              "  'sentiment': 'Negative'},\n",
              " {'Entity': 'work',\n",
              "  'Sentence': \"The web site quote saving function doesn't work at all which makes it a pain.\",\n",
              "  'pred_prob': array([-2.3378204e-03, -6.0597186e+00], dtype=float32),\n",
              "  'sentiment': 'Negative'},\n",
              " {'Entity': 'number plate',\n",
              "  'Sentence': \"the quote i first got was â£523 then when i added the number plate it went upto â£610 so as far as i'm concerned i will never renew my policy with axa or take out any other policy with them or any subsidiary company.\",\n",
              "  'pred_prob': array([-2.2468341e-03, -6.0993447e+00], dtype=float32),\n",
              "  'sentiment': 'Negative'},\n",
              " {'Entity': 'quote',\n",
              "  'Sentence': '\\\\n\\\\nI feel very confident that I have a very good car insurance in place which only cost a little over half of the quote from my previous insurer.',\n",
              "  'pred_prob': array([-7.605631e+00, -4.978133e-04], dtype=float32),\n",
              "  'sentiment': 'Positive'},\n",
              " {'Entity': 'car insurance',\n",
              "  'Sentence': 'I found buying my car insurance was hastle-free and it was a pleasant experience with all questions competently answered.',\n",
              "  'pred_prob': array([-7.7762055e+00, -4.1964784e-04], dtype=float32),\n",
              "  'sentiment': 'Positive'},\n",
              " {'Entity': 'policy',\n",
              "  'Sentence': 'Great service with friendly efficient members of staff for a policy with great cover',\n",
              "  'pred_prob': array([-8.0540848e+00, -3.1788065e-04], dtype=float32),\n",
              "  'sentiment': 'Positive'},\n",
              " {'Entity': 'quote',\n",
              "  'Sentence': 'By far the best quote for my first car insurance by miles!!',\n",
              "  'pred_prob': array([-7.1844487e+00, -7.5859850e-04], dtype=float32),\n",
              "  'sentiment': 'Positive'},\n",
              " {'Entity': 'service',\n",
              "  'Sentence': \"Generally good service but had two cars to insure and was told that Axa don't do multi car policies.\",\n",
              "  'pred_prob': array([-0.02817209, -3.583476  ], dtype=float32),\n",
              "  'sentiment': 'Negative'},\n",
              " {'Entity': 'renewal',\n",
              "  'Sentence': \"I got my renewal price which didn't seem reasonable so I called them to be told they always send out their lowest quote.\",\n",
              "  'pred_prob': array([-2.3271164e-03, -6.0642805e+00], dtype=float32),\n",
              "  'sentiment': 'Negative'},\n",
              " {'Entity': 'insurance',\n",
              "  'Sentence': 'Extra discount for already having car insurance.',\n",
              "  'pred_prob': array([-6.7562938e+00, -1.1642352e-03], dtype=float32),\n",
              "  'sentiment': 'Positive'},\n",
              " {'Entity': 'call handler',\n",
              "  'Sentence': 'The call was answered promptly the call handler was polite friendly and efficient and explained the policy clearly.',\n",
              "  'pred_prob': array([-7.9017572e+00, -3.7019551e-04], dtype=float32),\n",
              "  'sentiment': 'Positive'},\n",
              " {'Entity': 'day',\n",
              "  'Sentence': '10 minute wait before call could be dealt with this was during the day not late at night, axa answered after 3 rings and we sorted out issue.',\n",
              "  'pred_prob': array([-0.01450529, -4.2404895 ], dtype=float32),\n",
              "  'sentiment': 'Negative'},\n",
              " {'Entity': 'car insurance',\n",
              "  'Sentence': 'It was a pleasure to get our car insurance sorted with keiren .',\n",
              "  'pred_prob': array([-6.9529920e+00, -9.5619727e-04], dtype=float32),\n",
              "  'sentiment': 'Positive'},\n",
              " {'Entity': 'class',\n",
              "  'Sentence': 'axa site is top class and easy to complete.',\n",
              "  'pred_prob': array([-7.8146911e+00, -4.0379952e-04], dtype=float32),\n",
              "  'sentiment': 'Positive'},\n",
              " {'Entity': 'phone',\n",
              "  'Sentence': 'This resulted in two phone calls a lot of wasted time .',\n",
              "  'pred_prob': array([-2.2053225e-03, -6.1179652e+00], dtype=float32),\n",
              "  'sentiment': 'Negative'},\n",
              " {'Entity': 'questions',\n",
              "  'Sentence': 'Did not ask me the correct questions and then increased my premiums',\n",
              "  'pred_prob': array([-3.3884987e-03, -5.6890574e+00], dtype=float32),\n",
              "  'sentiment': 'Negative'},\n",
              " {'Entity': 'service',\n",
              "  'Sentence': 'The quote on line was simple and when I had a query about wether it had gone through the phone service (Bob) was very helpful indeed.',\n",
              "  'pred_prob': array([-8.0383987e+00, -3.2288584e-04], dtype=float32),\n",
              "  'sentiment': 'Positive'},\n",
              " {'Entity': 'axa',\n",
              "  'Sentence': \"AXA is a company I've heard of and is reliable and very cheap compared to other quotes and decided to choose axa\",\n",
              "  'pred_prob': array([-6.944810e+00, -9.640575e-04], dtype=float32),\n",
              "  'sentiment': 'Positive'},\n",
              " {'Entity': 'insurers',\n",
              "  'Sentence': 'It as shame that both mot and car tax are electronic but apparently exLecturing ally exchanging no claims information is beyond the ability of the insurers.',\n",
              "  'pred_prob': array([-3.9120587e-03, -5.5456405e+00], dtype=float32),\n",
              "  'sentiment': 'Negative'},\n",
              " {'Entity': 'idea',\n",
              "  'Sentence': 'Started chatting to lady asking her prices and she said she had no idea and to phone insurance so it was very confusing as we had phoned the insurance!',\n",
              "  'pred_prob': array([-2.7016827e-03, -5.9152155e+00], dtype=float32),\n",
              "  'sentiment': 'Negative'},\n",
              " {'Entity': 'price',\n",
              "  'Sentence': 'Easy to use website and very competitive price.',\n",
              "  'pred_prob': array([-7.6249199e+00, -4.8828122e-04], dtype=float32),\n",
              "  'sentiment': 'Positive'},\n",
              " {'Entity': 'prices',\n",
              "  'Sentence': 'Easily understood products and very good prices.',\n",
              "  'pred_prob': array([-7.8683629e+00, -3.8270777e-04], dtype=float32),\n",
              "  'sentiment': 'Positive'},\n",
              " {'Entity': 'price',\n",
              "  'Sentence': \"Interesting that going direct via a comparison site and not via intermediary (Endsleigh) AXA's price was Â£200 cheaper for greater level of cover.\",\n",
              "  'pred_prob': array([-6.6528869e+00, -1.2911564e-03], dtype=float32),\n",
              "  'sentiment': 'Positive'},\n",
              " {'Entity': 'company',\n",
              "  'Sentence': 'For me that is great and the price is very good compared to my previous insurance company.',\n",
              "  'pred_prob': array([-7.2011118e+00, -7.4609095e-04], dtype=float32),\n",
              "  'sentiment': 'Positive'},\n",
              " {'Entity': 'debit card',\n",
              "  'Sentence': 'quote was good but problem with debit card acceptance which I dont understand as same card is used for my car insurance payment with axa',\n",
              "  'pred_prob': array([-0.02050465, -3.897339  ], dtype=float32),\n",
              "  'sentiment': 'Negative'},\n",
              " {'Entity': 'service',\n",
              "  'Sentence': 'Really easy service to use great customer service',\n",
              "  'pred_prob': array([-7.950335e+00, -3.525589e-04], dtype=float32),\n",
              "  'sentiment': 'Positive'},\n",
              " {'Entity': 'value',\n",
              "  'Sentence': 'Very good value and simple to choose the best options.',\n",
              "  'pred_prob': array([-7.8682919e+00, -3.8270777e-04], dtype=float32),\n",
              "  'sentiment': 'Positive'},\n",
              " {'Entity': 'km',\n",
              "  'Sentence': 'really not great considering my bag was lost twice and then delivered 160km away (side note- do not fly brussels airlines if your connection is less than 2 hours; they will lose your bags).',\n",
              "  'pred_prob': array([-1.9389654e-03, -6.2465820e+00], dtype=float32),\n",
              "  'sentiment': 'Negative'},\n",
              " {'Entity': 'travel insurance',\n",
              "  'Sentence': 'Surprised that the same travel insurance policy I took out for my holiday this year (2016) was over Â£20 cheaper than for my next holiday in 2017!!',\n",
              "  'pred_prob': array([-3.221738  , -0.04070293], dtype=float32),\n",
              "  'sentiment': 'Positive'},\n",
              " {'Entity': 'insurances',\n",
              "  'Sentence': \"I won't be renewing my car insurance next year and I will not use your company for any other insurances in the future.\",\n",
              "  'pred_prob': array([-2.7255788e-03, -5.9064178e+00], dtype=float32),\n",
              "  'sentiment': 'Negative'},\n",
              " {'Entity': 'site',\n",
              "  'Sentence': 'every other insurance company did the same on the comparison site so they are all as bad as each other',\n",
              "  'pred_prob': array([-0.00811967, -4.8175197 ], dtype=float32),\n",
              "  'sentiment': 'Negative'},\n",
              " {'Entity': 'claims',\n",
              "  'Sentence': \"We've made two other claims - one quite complex - in the last 12 months having never made a claim in the last 15 years (admittedly not all insured by AXA) and I can't believe what a poor experience we have had and what a poor and confusing service AXA offer.\",\n",
              "  'pred_prob': array([-3.622044e-03, -5.622527e+00], dtype=float32),\n",
              "  'sentiment': 'Negative'},\n",
              " {'Entity': 'website',\n",
              "  'Sentence': '\\\\nThe website is really quick and easy to use with clear options to increase or decrease cover and really clear pricing.',\n",
              "  'pred_prob': array([-7.6695962e+00, -4.6695294e-04], dtype=float32),\n",
              "  'sentiment': 'Positive'},\n",
              " {'Entity': 'insurer',\n",
              "  'Sentence': 'I saved 30% on my car insurance by switching to AXA and get exactly the same cover as my previous insurer.',\n",
              "  'pred_prob': array([-6.6195693e+00, -1.3348488e-03], dtype=float32),\n",
              "  'sentiment': 'Positive'},\n",
              " {'Entity': 'staff',\n",
              "  'Sentence': 'Good clear advice and information support staff were helpful and had a good sound knowledge base of the product.',\n",
              "  'pred_prob': array([-7.5252967e+00, -5.3939573e-04], dtype=float32),\n",
              "  'sentiment': 'Positive'},\n",
              " {'Entity': 'insurance',\n",
              "  'Sentence': \"I still managed to purchase my insurance with no problem .... I can't comment on anything other aspects of this company as I'm yet to experience anything but so far so good\",\n",
              "  'pred_prob': array([-7.2807131e+00, -6.8891153e-04], dtype=float32),\n",
              "  'sentiment': 'Positive'},\n",
              " {'Entity': 'staff',\n",
              "  'Sentence': 'When phoning although pleasant staff not always put to the correct department which can be frustrating.',\n",
              "  'pred_prob': array([-3.9361631e-03, -5.5395036e+00], dtype=float32),\n",
              "  'sentiment': 'Negative'},\n",
              " {'Entity': 'phone manner',\n",
              "  'Sentence': 'Faz explained all the costs found the cover I required at the best price a good phone manner took the time to listen  excellent',\n",
              "  'pred_prob': array([-7.7266212e+00, -4.4097714e-04], dtype=float32),\n",
              "  'sentiment': 'Positive'},\n",
              " {'Entity': 'quote',\n",
              "  'Sentence': 'Only thing I was confused about was I thought I was getting s quote on multi car insurance.',\n",
              "  'pred_prob': array([-2.6920529e-03, -5.9187889e+00], dtype=float32),\n",
              "  'sentiment': 'Negative'},\n",
              " {'Entity': 'quote',\n",
              "  'Sentence': \"Quick and expedient but was expected after I'd inputted all details in quote.\",\n",
              "  'pred_prob': array([-4.315095  , -0.01345542], dtype=float32),\n",
              "  'sentiment': 'Positive'},\n",
              " {'Entity': 'debit',\n",
              "  'Sentence': 'Would not accept my debit card!',\n",
              "  'pred_prob': array([-2.4791004e-03, -6.0011153e+00], dtype=float32),\n",
              "  'sentiment': 'Negative'},\n",
              " {'Entity': 'insurance product',\n",
              "  'Sentence': 'Helpful sellers and excellent insurance product',\n",
              "  'pred_prob': array([-7.9485216e+00, -3.5327394e-04], dtype=float32),\n",
              "  'sentiment': 'Positive'},\n",
              " {'Entity': 'service',\n",
              "  'Sentence': '\\\\nI tried one more time an hour later to find a quick response and happy with the phone service I received.',\n",
              "  'pred_prob': array([-7.224889e+00, -7.284610e-04], dtype=float32),\n",
              "  'sentiment': 'Positive'},\n",
              " {'Entity': 'service',\n",
              "  'Sentence': 'They have great customer service and take care of all your needs',\n",
              "  'pred_prob': array([-7.8057137e+00, -4.0749353e-04], dtype=float32),\n",
              "  'sentiment': 'Positive'},\n",
              " {'Entity': 'service',\n",
              "  'Sentence': 'Great service all questions answered',\n",
              "  'pred_prob': array([-7.6178498e+00, -4.9173663e-04], dtype=float32),\n",
              "  'sentiment': 'Positive'},\n",
              " {'Entity': 'internet',\n",
              "  'Sentence': 'Everything has been done over internet so no long waiting times on hold on the phone.',\n",
              "  'pred_prob': array([-4.3919059e-03, -5.4301767e+00], dtype=float32),\n",
              "  'sentiment': 'Negative'},\n",
              " {'Entity': 'payment',\n",
              "  'Sentence': \"it may have been a cheaper quote but it was useless when i couldn't proceed to payment.\",\n",
              "  'pred_prob': array([-3.0540037e-03, -5.7928271e+00], dtype=float32),\n",
              "  'sentiment': 'Negative'},\n",
              " {'Entity': 'service',\n",
              "  'Sentence': 'I want to thank you all for your excellent and prompt service throughout my claim it was really ready and finished in two days - Thank you so much.',\n",
              "  'pred_prob': array([-7.5298748e+00, -5.3689367e-04], dtype=float32),\n",
              "  'sentiment': 'Positive'},\n",
              " {'Entity': 'name company',\n",
              "  'Sentence': 'however i thought i was insuring with axa because that was the name all over the quote but after i had signed up the name swiftcover started appearing then it became apparent i am insured with zenith and i am not at all happy about this and feel duped as i want a household name company as i do not insure with companies i have never heard of who give crap service and have small print.',\n",
              "  'pred_prob': array([-0.01828458, -4.0108275 ], dtype=float32),\n",
              "  'sentiment': 'Negative'},\n",
              " {'Entity': 'renewal price',\n",
              "  'Sentence': 'I purchased Car Insurance for half the price of my current Insurers renewal price.',\n",
              "  'pred_prob': array([-7.731571e+00, -4.388323e-04], dtype=float32),\n",
              "  'sentiment': 'Positive'},\n",
              " {'Entity': 'credit',\n",
              "  'Sentence': \"The website was quite difficult to use  wouldn't except credit cards but got there in the end!\",\n",
              "  'pred_prob': array([-3.0536472e-03, -5.7929335e+00], dtype=float32),\n",
              "  'sentiment': 'Negative'},\n",
              " {'Entity': 'car insurance',\n",
              "  'Sentence': 'Very Poor because of the unnecessary automatic renewal of the car insurance policy which is designed to take money from unsuspecting policy holders.',\n",
              "  'pred_prob': array([-3.0347505e-03, -5.7991548e+00], dtype=float32),\n",
              "  'sentiment': 'Negative'},\n",
              " {'Entity': 'price',\n",
              "  'Sentence': 'good price ease of accessing application to purchase',\n",
              "  'pred_prob': array([-7.575328e+00, -5.130643e-04], dtype=float32),\n",
              "  'sentiment': 'Positive'},\n",
              " {'Entity': 'staff',\n",
              "  'Sentence': 'Very efficient I spoke to one of the the staff who gave me good advice .',\n",
              "  'pred_prob': array([-7.9572997e+00, -3.5017557e-04], dtype=float32),\n",
              "  'sentiment': 'Positive'},\n",
              " {'Entity': 'website',\n",
              "  'Sentence': 'Competitive and helpful service with a great website.',\n",
              "  'pred_prob': array([-7.7970705e+00, -4.1106835e-04], dtype=float32),\n",
              "  'sentiment': 'Positive'},\n",
              " {'Entity': 'quotation',\n",
              "  'Sentence': 'Easy to use website price matched the comparison site quotation exactly.',\n",
              "  'pred_prob': array([-7.7379670e+00, -4.3609168e-04], dtype=float32),\n",
              "  'sentiment': 'Positive'},\n",
              " {'Entity': 'axa insurance',\n",
              "  'Sentence': 'I have been using axa insurance for our travels for awhile now and the prices has always been reasonably good.',\n",
              "  'pred_prob': array([-7.4203873e+00, -5.9908559e-04], dtype=float32),\n",
              "  'sentiment': 'Positive'},\n",
              " {'Entity': 'class',\n",
              "  'Sentence': 'first class service the job was completed wthin the hpur',\n",
              "  'pred_prob': array([-7.387120e+00, -6.193388e-04], dtype=float32),\n",
              "  'sentiment': 'Positive'},\n",
              " {'Entity': 'companies',\n",
              "  'Sentence': 'also not many companies do more than three months.',\n",
              "  'pred_prob': array([-2.4285605e-03, -6.0216837e+00], dtype=float32),\n",
              "  'sentiment': 'Negative'},\n",
              " {'Entity': 'company',\n",
              "  'Sentence': 'The call taker was very helpful and made the process very simple I was treated as a customer should be treated unlike my previous insurance company.',\n",
              "  'pred_prob': array([-7.089783e+00, -8.338788e-04], dtype=float32),\n",
              "  'sentiment': 'Positive'},\n",
              " {'Entity': 'price',\n",
              "  'Sentence': 'A easy application from a well Known and respected company and a price compatible to my details',\n",
              "  'pred_prob': array([-7.8381190e+00, -3.9450492e-04], dtype=float32),\n",
              "  'sentiment': 'Positive'},\n",
              " {'Entity': 'advice',\n",
              "  'Sentence': \"Great very understandable service and good additional advice's.\",\n",
              "  'pred_prob': array([-7.9144201e+00, -3.6554807e-04], dtype=float32),\n",
              "  'sentiment': 'Positive'},\n",
              " {'Entity': 'customer service rep',\n",
              "  'Sentence': \"It wasn't the fault of the customer service rep who was very good and helpful polite and businesslike.\",\n",
              "  'pred_prob': array([-4.059419  , -0.01740972], dtype=float32),\n",
              "  'sentiment': 'Positive'},\n",
              " {'Entity': 'policy price',\n",
              "  'Sentence': 'easy to complete quotation form and competitive policy price.',\n",
              "  'pred_prob': array([-7.9460273e+00, -3.5410811e-04], dtype=float32),\n",
              "  'sentiment': 'Positive'},\n",
              " {'Entity': 'service',\n",
              "  'Sentence': 'Very helpful people with dealing whatever the problem you may have the team deals with it very professional manner well happy with the service',\n",
              "  'pred_prob': array([-7.477525e+00, -5.658456e-04], dtype=float32),\n",
              "  'sentiment': 'Positive'},\n",
              " {'Entity': 'customers',\n",
              "  'Sentence': 'phone staff are very good but as for your web site it is a joke doesnt work most of the time and doesnt help you at all like I opened a new car insurance with axa and it asks me for my log in details but gives no way for new customers to set up log in details its really a mess',\n",
              "  'pred_prob': array([-0.9357572 , -0.49805534], dtype=float32),\n",
              "  'sentiment': 'Positive'},\n",
              " {'Entity': 'website',\n",
              "  'Sentence': 'got this insurance through comparethemarket.com dead easy to use was re directed to AXA website and it was a simple few steps then creating a password for my account so my documents are available online anytime I need to get them',\n",
              "  'pred_prob': array([-7.6850939e+00, -4.5968455e-04], dtype=float32),\n",
              "  'sentiment': 'Positive'},\n",
              " {'Entity': 'link',\n",
              "  'Sentence': 'customer service very helpful but have still not been able to access my insurance details via link would be better if sent like they used to',\n",
              "  'pred_prob': array([-4.0932803 , -0.01682519], dtype=float32),\n",
              "  'sentiment': 'Positive'},\n",
              " {'Entity': 'service',\n",
              "  'Sentence': \"i haven't claimed anything - so can't talk about that part of their service.\",\n",
              "  'pred_prob': array([-2.2179307e-03, -6.1122661e+00], dtype=float32),\n",
              "  'sentiment': 'Negative'},\n",
              " {'Entity': 'service',\n",
              "  'Sentence': 'first class service simple to complete application on line easy to complete the policy',\n",
              "  'pred_prob': array([-7.6518884e+00, -4.7529367e-04], dtype=float32),\n",
              "  'sentiment': 'Positive'},\n",
              " {'Entity': 'price',\n",
              "  'Sentence': 'Website easy to use easy to send in proof of no claims good price for insurance too',\n",
              "  'pred_prob': array([-4.218174  , -0.01483504], dtype=float32),\n",
              "  'sentiment': 'Positive'},\n",
              " {'Entity': 'customer service',\n",
              "  'Sentence': 'The guy I spoke to gave me the best customer service I have received from any car insurance company.',\n",
              "  'pred_prob': array([-7.5208502e+00, -5.4177863e-04], dtype=float32),\n",
              "  'sentiment': 'Positive'},\n",
              " {'Entity': 'driver',\n",
              "  'Sentence': 'Cannot understand how a car that cost £1000 can cost equally much per year for a +50 driver with no claim over 25 years?!',\n",
              "  'pred_prob': array([-3.2006486e-03, -5.7460051e+00], dtype=float32),\n",
              "  'sentiment': 'Negative'},\n",
              " {'Entity': 'deal',\n",
              "  'Sentence': 'Easy to use website great deal and easy to find through compare the market',\n",
              "  'pred_prob': array([-8.047848e+00, -3.197874e-04], dtype=float32),\n",
              "  'sentiment': 'Positive'},\n",
              " {'Entity': 'renewal',\n",
              "  'Sentence': 'It leaves a bad taste when AXA deliberately make it awkward to opt out of auto renewal and junk mail.',\n",
              "  'pred_prob': array([-3.5708493e-03, -5.6367517e+00], dtype=float32),\n",
              "  'sentiment': 'Negative'},\n",
              " {'Entity': 'product',\n",
              "  'Sentence': 'Quick efficient service good product good value.',\n",
              "  'pred_prob': array([-7.7966366e+00, -4.1118750e-04], dtype=float32),\n",
              "  'sentiment': 'Positive'},\n",
              " {'Entity': 'process',\n",
              "  'Sentence': 'Despite the standard reams of questions the whole process was quite simple and was completed quickly.',\n",
              "  'pred_prob': array([-7.790811e+00, -4.135707e-04], dtype=float32),\n",
              "  'sentiment': 'Positive'},\n",
              " {'Entity': 'price',\n",
              "  'Sentence': 'Very good price compared with other companies for pre existing conditions.',\n",
              "  'pred_prob': array([-4.89531   , -0.00750969], dtype=float32),\n",
              "  'sentiment': 'Positive'},\n",
              " {'Entity': 'number',\n",
              "  'Sentence': 'only negative is that they do not give you a landline number to ring or an email address to contact',\n",
              "  'pred_prob': array([-2.9697386e-03, -5.8207703e+00], dtype=float32),\n",
              "  'sentiment': 'Negative'},\n",
              " {'Entity': 'questions',\n",
              "  'Sentence': 'simple to follow questions also benefitted by having a car already insured with AXA',\n",
              "  'pred_prob': array([-7.6548986e+00, -4.7386385e-04], dtype=float32),\n",
              "  'sentiment': 'Positive'},\n",
              " {'Entity': 'customer service',\n",
              "  'Sentence': \"The price given was very good for what was actually provided and I wouldn't hesitate to recommend AXA insurance services although I haven't had cause to make a claim or contact their customer services department.\",\n",
              "  'pred_prob': array([-6.2539253e+00, -1.9246879e-03], dtype=float32),\n",
              "  'sentiment': 'Positive'},\n",
              " {'Entity': 'renewal',\n",
              "  'Sentence': 'sorry nothing we can do you will need to cancel the renewal and then buy the new cover online\\\\ .',\n",
              "  'pred_prob': array([-0.04626924, -3.0963228 ], dtype=float32),\n",
              "  'sentiment': 'Negative'},\n",
              " {'Entity': 'renewal',\n",
              "  'Sentence': 'very good renewal premium & easy to set up new policy on-line',\n",
              "  'pred_prob': array([-7.5447679e+00, -5.2903005e-04], dtype=float32),\n",
              "  'sentiment': 'Positive'},\n",
              " {'Entity': 'customer service',\n",
              "  'Sentence': 'very prompt call to my online enquiry and customer services rep very helpful and thorough',\n",
              "  'pred_prob': array([-7.929217e+00, -3.601856e-04], dtype=float32),\n",
              "  'sentiment': 'Positive'},\n",
              " {'Entity': 'prices',\n",
              "  'Sentence': 'Very good experience - clear and easy to use website and one of the best prices around - I saved Â£120 compared to my current insurer!',\n",
              "  'pred_prob': array([-7.2257214e+00, -7.2786538e-04], dtype=float32),\n",
              "  'sentiment': 'Positive'},\n",
              " {'Entity': 'service',\n",
              "  'Sentence': 'The customer service agent was a real star.',\n",
              "  'pred_prob': array([-7.6033120e+00, -4.9888564e-04], dtype=float32),\n",
              "  'sentiment': 'Positive'},\n",
              " {'Entity': 'axa',\n",
              "  'Sentence': 'I would recommend axa car insurance the best online company I have visited.',\n",
              "  'pred_prob': array([-7.6002955e+00, -5.0043454e-04], dtype=float32),\n",
              "  'sentiment': 'Positive'},\n",
              " {'Entity': 'request',\n",
              "  'Sentence': 'This feedback request is useless.',\n",
              "  'pred_prob': array([-2.8775022e-03, -5.8522696e+00], dtype=float32),\n",
              "  'sentiment': 'Negative'},\n",
              " {'Entity': 'information',\n",
              "  'Sentence': 'There website was brilliant Plenty of information and easy to understand.',\n",
              "  'pred_prob': array([-8.070490e+00, -3.126371e-04], dtype=float32),\n",
              "  'sentiment': 'Positive'},\n",
              " {'Entity': 'company',\n",
              "  'Sentence': \"Only problem is the phone numbers 0330  are not not cheap or 0834 and company's like your self profit by this  it bad engough paying for car insurance with out extra expend  Other than that the operator I was dealing with  was very good\",\n",
              "  'pred_prob': array([-1.9073167e-03, -6.2630191e+00], dtype=float32),\n",
              "  'sentiment': 'Negative'},\n",
              " {'Entity': 'debit',\n",
              "  'Sentence': 'i received an email from AXA (which i never looked at until 4 days later) that the letter that i had been sent by my insurance broker and emailed to AXA was not acceptable and that AXA was going to take money from my debit card to make up the difference and/or cancel  the insurance i took this as AXA  was threatening me for no reason what so ever.',\n",
              "  'pred_prob': array([-3.3109153e-03, -5.7121873e+00], dtype=float32),\n",
              "  'sentiment': 'Negative'},\n",
              " {'Entity': 'payment',\n",
              "  'Sentence': 'Heard nothing- no email confirmation nothing through post payment had gone out of my bank on the day I bought it.',\n",
              "  'pred_prob': array([-4.5427456e-03, -5.3964877e+00], dtype=float32),\n",
              "  'sentiment': 'Negative'},\n",
              " {'Entity': 'price',\n",
              "  'Sentence': 'Able to change each option as many times as needed to look at the difference in the policy price.',\n",
              "  'pred_prob': array([-7.1219945e+00, -8.0743607e-04], dtype=float32),\n",
              "  'sentiment': 'Positive'},\n",
              " {'Entity': 'situation',\n",
              "  'Sentence': 'I spoke to a lady called Emma explained the situation to her & she assured me that we would be covered.',\n",
              "  'pred_prob': array([-6.5172858e+00, -1.4787702e-03], dtype=float32),\n",
              "  'sentiment': 'Positive'},\n",
              " {'Entity': 'price',\n",
              "  'Sentence': 'Tried AXA price was considerably cheaper for a better product',\n",
              "  'pred_prob': array([-5.1169863 , -0.00601209], dtype=float32),\n",
              "  'sentiment': 'Positive'},\n",
              " {'Entity': 'agent',\n",
              "  'Sentence': 'The agent spoke far too quickly and not clearly enough.',\n",
              "  'pred_prob': array([-2.9702140e-03, -5.8205953e+00], dtype=float32),\n",
              "  'sentiment': 'Negative'},\n",
              " {'Entity': 'provider',\n",
              "  'Sentence': 'My cheapest quote by far with great service and more than the basic cover offered by my existing provider.',\n",
              "  'pred_prob': array([-7.8576016e+00, -3.8687850e-04], dtype=float32),\n",
              "  'sentiment': 'Positive'},\n",
              " {'Entity': 'check',\n",
              "  'Sentence': 'I have cracks appearing in my ceiling and asked for someone to come out to check what was wrong.',\n",
              "  'pred_prob': array([-2.159408e-03, -6.139015e+00], dtype=float32),\n",
              "  'sentiment': 'Negative'},\n",
              " {'Entity': 'staff',\n",
              "  'Sentence': 'Polite staff that are clear and consise made this a doddle.',\n",
              "  'pred_prob': array([-4.4166303 , -0.01214832], dtype=float32),\n",
              "  'sentiment': 'Positive'},\n",
              " {'Entity': 'insurance',\n",
              "  'Sentence': 'Have renewed my car insurance and also house insurance excellent deals and service.',\n",
              "  'pred_prob': array([-7.6244659e+00, -4.8851955e-04], dtype=float32),\n",
              "  'sentiment': 'Positive'},\n",
              " {'Entity': 'website',\n",
              "  'Sentence': 'The website was very easy to use and additional information provided was helpful.',\n",
              "  'pred_prob': array([-7.605664e+00, -4.976941e-04], dtype=float32),\n",
              "  'sentiment': 'Positive'},\n",
              " {'Entity': 'queries',\n",
              "  'Sentence': 'My queries are always sorted out hassle free.',\n",
              "  'pred_prob': array([-7.403808e+00, -6.090932e-04], dtype=float32),\n",
              "  'sentiment': 'Positive'},\n",
              " {'Entity': 'comparison',\n",
              "  'Sentence': \"He kept saying that the underwriting process was more specific through their site - fair enough but if that's the case then they should not be quoting a significantly lower figure on comparison sites to get customers in - it's misrepresentation however you try and explain it.\",\n",
              "  'pred_prob': array([-2.8873680e-03, -5.8488326e+00], dtype=float32),\n",
              "  'sentiment': 'Negative'},\n",
              " {'Entity': 'staff',\n",
              "  'Sentence': 'Excellent friendly and knowledgeable sales staff made sure I got the right cover to suit my needs.',\n",
              "  'pred_prob': array([-7.9906702e+00, -3.3861626e-04], dtype=float32),\n",
              "  'sentiment': 'Positive'},\n",
              " {'Entity': 'insurance',\n",
              "  'Sentence': 'Having been used to pen and paper I find arranging insurance etc.online quite stressful.',\n",
              "  'pred_prob': array([-3.0608966e-03, -5.7905717e+00], dtype=float32),\n",
              "  'sentiment': 'Negative'},\n",
              " {'Entity': 'section',\n",
              "  'Sentence': 'Only difficulty was filling in the section re',\n",
              "  'pred_prob': array([-2.772894e-03, -5.889239e+00], dtype=float32),\n",
              "  'sentiment': 'Negative'},\n",
              " {'Entity': 'policy',\n",
              "  'Sentence': \"It was quick and was but I don't seem able to view download or print policy documents which isn't good!\",\n",
              "  'pred_prob': array([-3.6139670e-03, -5.6247516e+00], dtype=float32),\n",
              "  'sentiment': 'Negative'},\n",
              " {'Entity': 'money',\n",
              "  'Sentence': 'Great value for money and a really simple non-convoluted application process.',\n",
              "  'pred_prob': array([-8.0832367e+00, -3.0870442e-04], dtype=float32),\n",
              "  'sentiment': 'Positive'},\n",
              " {'Entity': 'services',\n",
              "  'Sentence': 'I was somewhat put off by the amount of extra services that the salesman was trying to get me to buy.',\n",
              "  'pred_prob': array([-3.5153755e-03, -5.6523571e+00], dtype=float32),\n",
              "  'sentiment': 'Negative'},\n",
              " {'Entity': 'insurance',\n",
              "  'Sentence': 'Having to print my Certificate of motor insurance I find Rather bizarre.',\n",
              "  'pred_prob': array([-3.6575580e-03, -5.6127996e+00], dtype=float32),\n",
              "  'sentiment': 'Negative'},\n",
              " {'Entity': 'process',\n",
              "  'Sentence': 'Ben was very helpful and informative he made the process easy clear and straight forward',\n",
              "  'pred_prob': array([-7.8576493e+00, -3.8687850e-04], dtype=float32),\n",
              "  'sentiment': 'Positive'},\n",
              " {'Entity': 'prices',\n",
              "  'Sentence': 'Having compared many different car insurers I was pleasantly surprised to find that my current insurers was one of best prices quoted I had expected it to have increased.',\n",
              "  'pred_prob': array([-7.273543e+00, -6.939149e-04], dtype=float32),\n",
              "  'sentiment': 'Positive'},\n",
              " {'Entity': 'minutes',\n",
              "  'Sentence': 'Competitive rates easy to apply online  only took 10 minutes.',\n",
              "  'pred_prob': array([-7.3878078e+00, -6.1898143e-04], dtype=float32),\n",
              "  'sentiment': 'Positive'},\n",
              " {'Entity': 'job',\n",
              "  'Sentence': 'Allen Hunter did excellent job when purchasing my car insurance',\n",
              "  'pred_prob': array([-7.9852962e+00, -3.4052297e-04], dtype=float32),\n",
              "  'sentiment': 'Positive'},\n",
              " {'Entity': 'post',\n",
              "  'Sentence': 'No post hastle/ no wait for document printing just super!!!!',\n",
              "  'pred_prob': array([-3.0048003e-03, -5.8090296e+00], dtype=float32),\n",
              "  'sentiment': 'Negative'},\n",
              " {'Entity': 'paperwork',\n",
              "  'Sentence': 'Very disappointed I will not receive any paperwork.will have to see how it works out; not sure about it; we seem to be going internet mad older people like paperwork for records!',\n",
              "  'pred_prob': array([-2.6595956e-03, -5.9309196e+00], dtype=float32),\n",
              "  'sentiment': 'Negative'},\n",
              " {'Entity': 'address',\n",
              "  'Sentence': 'now I am scared to death that I wont be covered ....   They got my address right why didnt they get all the cookies info right?',\n",
              "  'pred_prob': array([-3.4439794e-03, -5.6728616e+00], dtype=float32),\n",
              "  'sentiment': 'Negative'},\n",
              " {'Entity': 'website',\n",
              "  'Sentence': 'The website was user friendly and  I had no problems.',\n",
              "  'pred_prob': array([-7.6150599e+00, -4.9304724e-04], dtype=float32),\n",
              "  'sentiment': 'Positive'},\n",
              " {'Entity': 'customer service',\n",
              "  'Sentence': 'For me the opening hours for customer service is inconvenient as I am a full time working mum.',\n",
              "  'pred_prob': array([-3.7079084 , -0.02483458], dtype=float32),\n",
              "  'sentiment': 'Positive'},\n",
              " {'Entity': 'price',\n",
              "  'Sentence': 'I was very pleased with the easy way I could get the insurance on line and the main factor was the price it was very cheap for what it covers.',\n",
              "  'pred_prob': array([-7.170362e+00, -7.693192e-04], dtype=float32),\n",
              "  'sentiment': 'Positive'},\n",
              " {'Entity': 'insurance',\n",
              "  'Sentence': 'I lost the will to live when trying to pay for the insurance',\n",
              "  'pred_prob': array([-2.3679095e-03, -6.0469408e+00], dtype=float32),\n",
              "  'sentiment': 'Negative'},\n",
              " {'Entity': 'policy',\n",
              "  'Sentence': 'He got my new policy started quickly with no issues!',\n",
              "  'pred_prob': array([-4.5397606 , -0.01073337], dtype=float32),\n",
              "  'sentiment': 'Positive'},\n",
              " {'Entity': 'cover',\n",
              "  'Sentence': 'Quick and easy car now insured at the best price and cover',\n",
              "  'pred_prob': array([-8.1568422e+00, -2.8677643e-04], dtype=float32),\n",
              "  'sentiment': 'Positive'},\n",
              " {'Entity': 'claims proof',\n",
              "  'Sentence': 'No claims proof was requested and email was processed and acknowledged very quickly.',\n",
              "  'pred_prob': array([-2.9001503 , -0.05658614], dtype=float32),\n",
              "  'sentiment': 'Positive'},\n",
              " {'Entity': 'website',\n",
              "  'Sentence': 'Easy to use website with a helpful uk based customer service who could answer my enquiry without hassle.',\n",
              "  'pred_prob': array([-7.577669e+00, -5.118729e-04], dtype=float32),\n",
              "  'sentiment': 'Positive'},\n",
              " {'Entity': 'car insurance',\n",
              "  'Sentence': 'When our car insurance come up next year will defenetly get a quote from them .',\n",
              "  'pred_prob': array([-7.8114347e+00, -4.0511030e-04], dtype=float32),\n",
              "  'sentiment': 'Positive'},\n",
              " {'Entity': 'agent',\n",
              "  'Sentence': 'Although it took half an hour and the agent refused to call me back he dealt with my questions well.',\n",
              "  'pred_prob': array([-4.828977  , -0.00802684], dtype=float32),\n",
              "  'sentiment': 'Positive'},\n",
              " {'Entity': 'company',\n",
              "  'Sentence': 'So yes I will be using AXA again and yes I would recommend the company and frequently do.',\n",
              "  'pred_prob': array([-6.5745349e+00, -1.3963958e-03], dtype=float32),\n",
              "  'sentiment': 'Positive'},\n",
              " {'Entity': 'money',\n",
              "  'Sentence': 'Good value for money that met all my requirements.',\n",
              "  'pred_prob': array([-7.6584954e+00, -4.7207656e-04], dtype=float32),\n",
              "  'sentiment': 'Positive'},\n",
              " {'Entity': 'claim',\n",
              "  'Sentence': 'I was upset and shaken when I phoned to make the claim on my car insurance.',\n",
              "  'pred_prob': array([-2.3558978e-03, -6.0520134e+00], dtype=float32),\n",
              "  'sentiment': 'Negative'},\n",
              " {'Entity': 'contract',\n",
              "  'Sentence': 'Now waiting for cancelled contract to be refunded as had to pay for both',\n",
              "  'pred_prob': array([-4.4126762e-03, -5.4254875e+00], dtype=float32),\n",
              "  'sentiment': 'Negative'},\n",
              " {'Entity': 'car insurance',\n",
              "  'Sentence': \"I have just done my car insurance with AXA onlineit was easy to do my only quiery is I can't find it under my account yet but that might be once they confirm my NCD.\",\n",
              "  'pred_prob': array([-0.01061095, -4.5511746 ], dtype=float32),\n",
              "  'sentiment': 'Negative'},\n",
              " {'Entity': 'car',\n",
              "  'Sentence': 'I dealt with your mployee Jill who made my purchase of my car insurance easy.',\n",
              "  'pred_prob': array([-7.5407085e+00, -5.3117471e-04], dtype=float32),\n",
              "  'sentiment': 'Positive'},\n",
              " {'Entity': 'website',\n",
              "  'Sentence': 'using a mobile device i followed link from price comparison website to the AXA website site which was really well designed for mobile - simple intuitive clear and quick.',\n",
              "  'pred_prob': array([-7.3306794e+00, -6.5531710e-04], dtype=float32),\n",
              "  'sentiment': 'Positive'},\n",
              " {'Entity': 'insurance',\n",
              "  'Sentence': 'My insurance enquiry was dealt with by Andy McDonald a delightful chap who made it a quick and none stressful process.',\n",
              "  'pred_prob': array([-7.7552199e+00, -4.2858475e-04], dtype=float32),\n",
              "  'sentiment': 'Positive'},\n",
              " {'Entity': 'service',\n",
              "  'Sentence': 'Good customer service was able to answer my questions quickly and efficiently.',\n",
              "  'pred_prob': array([-8.0538006e+00, -3.1799983e-04], dtype=float32),\n",
              "  'sentiment': 'Positive'},\n",
              " {'Entity': 'terms',\n",
              "  'Sentence': 'i was told under no terms there was any discount what so ever!',\n",
              "  'pred_prob': array([-2.927306e-03, -5.835142e+00], dtype=float32),\n",
              "  'sentiment': 'Negative'},\n",
              " {'Entity': 'service',\n",
              "  'Sentence': 'Excellent customer service a pleasure to deal with',\n",
              "  'pred_prob': array([-7.9083929e+00, -3.6769305e-04], dtype=float32),\n",
              "  'sentiment': 'Positive'},\n",
              " {'Entity': 'fault',\n",
              "  'Sentence': 'I can find no fault in the service.',\n",
              "  'pred_prob': array([-2.0820862e-03, -6.1754036e+00], dtype=float32),\n",
              "  'sentiment': 'Negative'},\n",
              " {'Entity': 'time frames',\n",
              "  'Sentence': \"initial claim handling was good until settlement was passed to lmg and hallmark where i found them to be inept was told countless things that were not true given incorrect settlement time frames then told they couldn't help\",\n",
              "  'pred_prob': array([-3.9089713e-03, -5.5464239e+00], dtype=float32),\n",
              "  'sentiment': 'Negative'},\n",
              " {'Entity': 'conditions',\n",
              "  'Sentence': 'excellent web site so quick and easy to use especially with pre existing medical conditions',\n",
              "  'pred_prob': array([-6.5665712e+00, -1.4075858e-03], dtype=float32),\n",
              "  'sentiment': 'Positive'},\n",
              " {'Entity': 'line',\n",
              "  'Sentence': 'Unable to complete purchase on line as difficulty processing payment.',\n",
              "  'pred_prob': array([-2.4238038e-03, -6.0236406e+00], dtype=float32),\n",
              "  'sentiment': 'Negative'},\n",
              " {'Entity': 'quote',\n",
              "  'Sentence': \"These details were exactly the same as given for the initial quote so the premium should not have been affected unless the program is written to automatically increase once the reg number is entered - this is then 'justified' as being the 'true price' the previous was merely an estimate.\",\n",
              "  'pred_prob': array([-0.00779716, -4.85789   ], dtype=float32),\n",
              "  'sentiment': 'Negative'},\n",
              " {'Entity': 'service',\n",
              "  'Sentence': 'We were very impressed with the service we received last evening.',\n",
              "  'pred_prob': array([-7.0513864e+00, -8.6663355e-04], dtype=float32),\n",
              "  'sentiment': 'Positive'},\n",
              " {'Entity': 'service',\n",
              "  'Sentence': 'Have used Axa travel insurance before and always a professional service.',\n",
              "  'pred_prob': array([-7.8068643e+00, -4.0701689e-04], dtype=float32),\n",
              "  'sentiment': 'Positive'},\n",
              " {'Entity': 'website',\n",
              "  'Sentence': 'Not only were AXA the best value but the process was extremely easy using Go-Compare and the AXA website',\n",
              "  'pred_prob': array([-7.8974705e+00, -3.7174468e-04], dtype=float32),\n",
              "  'sentiment': 'Positive'},\n",
              " {'Entity': 'year',\n",
              "  'Sentence': \"same every year can't understand it\",\n",
              "  'pred_prob': array([-2.1578616e-03, -6.1397300e+00], dtype=float32),\n",
              "  'sentiment': 'Negative'},\n",
              " {'Entity': 'questions',\n",
              "  'Sentence': 'The questions were relevant and the cover adequate and good value.',\n",
              "  'pred_prob': array([-7.9376173e+00, -3.5708727e-04], dtype=float32),\n",
              "  'sentiment': 'Positive'},\n",
              " {'Entity': 'help and service',\n",
              "  'Sentence': 'Fantastic help and services which offer great value and cover.',\n",
              "  'pred_prob': array([-7.6864467e+00, -4.5908880e-04], dtype=float32),\n",
              "  'sentiment': 'Positive'},\n",
              " {'Entity': 'payment',\n",
              "  'Sentence': 'Absolutely clear instructions and details of all  charges including charge for credit payment if wished for.',\n",
              "  'pred_prob': array([-7.151731e+00, -7.838514e-04], dtype=float32),\n",
              "  'sentiment': 'Positive'},\n",
              " {'Entity': 'prices',\n",
              "  'Sentence': 'Really easy site to use online and great prices!!',\n",
              "  'pred_prob': array([-7.6225410e+00, -4.8947276e-04], dtype=float32),\n",
              "  'sentiment': 'Positive'},\n",
              " {'Entity': 'insurance',\n",
              "  'Sentence': 'I have had contact with staff this week about all option if car insurance and were all polite coherent and explained everything very well .',\n",
              "  'pred_prob': array([-7.8611441e+00, -3.8544854e-04], dtype=float32),\n",
              "  'sentiment': 'Positive'},\n",
              " {'Entity': 'renewal',\n",
              "  'Sentence': 'Good but annoying it is made deliberately hard to stop auto renewal of policy',\n",
              "  'pred_prob': array([-2.1747528e-03, -6.1319528e+00], dtype=float32),\n",
              "  'sentiment': 'Negative'},\n",
              " {'Entity': 'procedure',\n",
              "  'Sentence': 'This has made the procedure frustrating.',\n",
              "  'pred_prob': array([-3.8797597e-03, -5.5539193e+00], dtype=float32),\n",
              "  'sentiment': 'Negative'},\n",
              " {'Entity': 'discount',\n",
              "  'Sentence': 'The only thing that annoys me is the fact I had to register with them to get my certificate and the request for proof of no claims discount.',\n",
              "  'pred_prob': array([-3.0923903e-03, -5.7803388e+00], dtype=float32),\n",
              "  'sentiment': 'Negative'},\n",
              " {'Entity': 'price',\n",
              "  'Sentence': 'Saved half price on my existing home insurance for similar cover.',\n",
              "  'pred_prob': array([-7.6786017e+00, -4.6278257e-04], dtype=float32),\n",
              "  'sentiment': 'Positive'},\n",
              " {'Entity': 'insurance proivder',\n",
              "  'Sentence': 'i am very disappointed and now realise cheapest insurance proivder via a compare website is not always the better option.',\n",
              "  'pred_prob': array([-1.6838433e-03, -6.3875089e+00], dtype=float32),\n",
              "  'sentiment': 'Negative'},\n",
              " {'Entity': 'policy',\n",
              "  'Sentence': \"shame you get punished when paying monthly - they're all at it - i mean are they not making enough money out of the policy itself without charging a fortune for spreading the payments out over 10 months\",\n",
              "  'pred_prob': array([-3.2626751e-03, -5.7268367e+00], dtype=float32),\n",
              "  'sentiment': 'Negative'},\n",
              " {'Entity': 'service',\n",
              "  'Sentence': 'Efficient friendly service with no pressure to purchase additional cover with clearly communicated information about the policy and associated implications regarding what the cover provides.',\n",
              "  'pred_prob': array([-7.8889456e+00, -3.7496211e-04], dtype=float32),\n",
              "  'sentiment': 'Positive'},\n",
              " {'Entity': 'computer',\n",
              "  'Sentence': 'all of this assumes we are computer wizards which we are not finding it confusing and frustrating .',\n",
              "  'pred_prob': array([-3.4057254e-03, -5.6840105e+00], dtype=float32),\n",
              "  'sentiment': 'Negative'},\n",
              " {'Entity': 'customer',\n",
              "  'Sentence': 'I had a car insurance policy with Axa a few years ago that regrettably I had to change however the product offered and customer service provided resulted in me wanting to give Axa my future business not to mention possibly the best rate!',\n",
              "  'pred_prob': array([-6.6381502e+00, -1.3103242e-03], dtype=float32),\n",
              "  'sentiment': 'Positive'},\n",
              " {'Entity': 'insurance',\n",
              "  'Sentence': 'Easy to take out insurance on the net simple to follow and at at good price',\n",
              "  'pred_prob': array([-7.600591e+00, -5.003154e-04], dtype=float32),\n",
              "  'sentiment': 'Positive'},\n",
              " {'Entity': 'mistake',\n",
              "  'Sentence': \"I've paid additional money for AXA's mistake which doesn't sit comfortably with me.\",\n",
              "  'pred_prob': array([-2.2263760e-03, -6.1085196e+00], dtype=float32),\n",
              "  'sentiment': 'Negative'},\n",
              " {'Entity': 'insurers',\n",
              "  'Sentence': 'the insurance itself is good good price easy to book and i like that it tells you exactly what countries are covered by europe because not all insurers do this and it can be a worry.',\n",
              "  'pred_prob': array([-3.1526916 , -0.04367707], dtype=float32),\n",
              "  'sentiment': 'Positive'},\n",
              " {'Entity': 'experiance',\n",
              "  'Sentence': 'the experiance was great...thanx',\n",
              "  'pred_prob': array([-7.301508e+00, -6.747353e-04], dtype=float32),\n",
              "  'sentiment': 'Positive'},\n",
              " {'Entity': 'price',\n",
              "  'Sentence': 'Prompt and informative service and great price.',\n",
              "  'pred_prob': array([-7.929035e+00, -3.601856e-04], dtype=float32),\n",
              "  'sentiment': 'Positive'},\n",
              " {'Entity': 'house',\n",
              "  'Sentence': 'Helpful sorting out house insurance but I was not impressed with car insurance quote do went elsewhere.',\n",
              "  'pred_prob': array([-3.7686056e-03, -5.5829353e+00], dtype=float32),\n",
              "  'sentiment': 'Negative'},\n",
              " {'Entity': 'phone',\n",
              "  'Sentence': \"you spend the next 20 mins on the phone answering the same questions you just answered online, even telling them i don't want to buy anything else just the basic car insurance don't help they have to read their whole script and can't skip any parts.\",\n",
              "  'pred_prob': array([-4.5504593e-03, -5.3948064e+00], dtype=float32),\n",
              "  'sentiment': 'Negative'},\n",
              " {'Entity': 'cover',\n",
              "  'Sentence': 'Excellent website - very simple to navigate and my quote is half the renewal quote for my existing insurer with far better cover.',\n",
              "  'pred_prob': array([-7.983487e+00, -3.411188e-04], dtype=float32),\n",
              "  'sentiment': 'Positive'},\n",
              " {'Entity': 'price',\n",
              "  'Sentence': 'Very easy online service...good cover at a great price Thankyou',\n",
              "  'pred_prob': array([-7.8833995e+00, -3.7698791e-04], dtype=float32),\n",
              "  'sentiment': 'Positive'},\n",
              " {'Entity': 'customer',\n",
              "  'Sentence': 'The customer advisor Michelle was fab!!',\n",
              "  'pred_prob': array([-6.6518936e+00, -1.2924660e-03], dtype=float32),\n",
              "  'sentiment': 'Positive'},\n",
              " {'Entity': 'staff',\n",
              "  'Sentence': 'Brilliant staff who listen and help you choose the right insurance would definetely recommend.',\n",
              "  'pred_prob': array([-7.7362175e+00, -4.3680664e-04], dtype=float32),\n",
              "  'sentiment': 'Positive'},\n",
              " {'Entity': 'value cover',\n",
              "  'Sentence': 'simple well explained benefits of policy by customer service agent exceptional value cover low excess would highly recommend you approach Axa to quote for your needs you may be as pleased with the result as I was.',\n",
              "  'pred_prob': array([-7.480415e+00, -5.641776e-04], dtype=float32),\n",
              "  'sentiment': 'Positive'},\n",
              " {'Entity': 'price',\n",
              "  'Sentence': 'Instant access to policy and a very reasonable price.',\n",
              "  'pred_prob': array([-7.7307973e+00, -4.3918978e-04], dtype=float32),\n",
              "  'sentiment': 'Positive'},\n",
              " {'Entity': 'time',\n",
              "  'Sentence': 'Claim dealt with in quick time.',\n",
              "  'pred_prob': array([-6.5582862e+00, -1.4193709e-03], dtype=float32),\n",
              "  'sentiment': 'Positive'},\n",
              " {'Entity': 'customer',\n",
              "  'Sentence': 'I requested for the insurance to start on the 18th of this month and just paid my deposit of £232 to then receive documentation stating insurance to start on the 22nd called customer service to adjust this and response of \\\\ nothing we can do\\\\  not good at all.',\n",
              "  'pred_prob': array([-3.2977252, -0.0376678], dtype=float32),\n",
              "  'sentiment': 'Positive'},\n",
              " {'Entity': 'team',\n",
              "  'Sentence': 'I was given another number of validating team and nobody picked up at all.',\n",
              "  'pred_prob': array([-2.8395830e-03, -5.8655124e+00], dtype=float32),\n",
              "  'sentiment': 'Negative'},\n",
              " {'Entity': 'axa service',\n",
              "  'Sentence': 'If found the service from axa service team first class and hope it will continue Best regards Ken Buckenham',\n",
              "  'pred_prob': array([-7.7207999e+00, -4.4359858e-04], dtype=float32),\n",
              "  'sentiment': 'Positive'},\n",
              " {'Entity': 'patient',\n",
              "  'Sentence': 'The call handler -Matthew was very professional kind patient and fully explained everything',\n",
              "  'pred_prob': array([-7.8573790e+00, -3.8699768e-04], dtype=float32),\n",
              "  'sentiment': 'Positive'},\n",
              " {'Entity': 'home insurance',\n",
              "  'Sentence': 'Sent a renewal for my home insurance at 120% more than previous year - set to auto renew and debit my card.',\n",
              "  'pred_prob': array([-7.1097736e+00, -8.1744156e-04], dtype=float32),\n",
              "  'sentiment': 'Positive'},\n",
              " {'Entity': 'car',\n",
              "  'Sentence': 'I have my car insurance with this company and that was one of the reasons I bought their Contents Insurance as well they are certainly good value for money.',\n",
              "  'pred_prob': array([-7.6662116e+00, -4.6850197e-04], dtype=float32),\n",
              "  'sentiment': 'Positive'},\n",
              " {'Entity': 'telephone manner',\n",
              "  'Sentence': 'Good clear telephone manner explaining all relevant details corteously',\n",
              "  'pred_prob': array([-7.9485278e+00, -3.5327394e-04], dtype=float32),\n",
              "  'sentiment': 'Positive'},\n",
              " {'Entity': 'insurance company',\n",
              "  'Sentence': 'Very happy with the quote after previous insurance company put the price up again.',\n",
              "  'pred_prob': array([-7.7230625e+00, -4.4264531e-04], dtype=float32),\n",
              "  'sentiment': 'Positive'},\n",
              " {'Entity': 'time',\n",
              "  'Sentence': 'Nonetheless I have wasted my time by already asking Tesco Car Insurance to forward my NCD to me (in a phone call at 8',\n",
              "  'pred_prob': array([-0.02116476, -3.8659832 ], dtype=float32),\n",
              "  'sentiment': 'Negative'},\n",
              " {'Entity': 'cover',\n",
              "  'Sentence': 'I got the cover I wanted at a good price.',\n",
              "  'pred_prob': array([-7.4683323e+00, -5.7108782e-04], dtype=float32),\n",
              "  'sentiment': 'Positive'},\n",
              " {'Entity': 'service',\n",
              "  'Sentence': 'Alan checked the details provided and advise that my NCD this was fine and as long as I have no issues from here then the service to this point has been excellent.',\n",
              "  'pred_prob': array([-7.137881e+00, -7.946909e-04], dtype=float32),\n",
              "  'sentiment': 'Positive'},\n",
              " {'Entity': 'website',\n",
              "  'Sentence': '\\\\nHowever your website automatically completed my car details and the quote given was based on this correct information.',\n",
              "  'pred_prob': array([-7.5531731e+00, -5.2462163e-04], dtype=float32),\n",
              "  'sentiment': 'Positive'},\n",
              " {'Entity': 'comparison',\n",
              "  'Sentence': 'Good price based on other price comparison sites and my renewal quote.',\n",
              "  'pred_prob': array([-7.105008e+00, -8.213722e-04], dtype=float32),\n",
              "  'sentiment': 'Positive'},\n",
              " {'Entity': 'application',\n",
              "  'Sentence': 'Web site very easy to use with a positive reaction at each stage of the application.',\n",
              "  'pred_prob': array([-6.4930735e+00, -1.5150746e-03], dtype=float32),\n",
              "  'sentiment': 'Positive'},\n",
              " {'Entity': 'website',\n",
              "  'Sentence': 'Awesome Website easy to use very informative Buildings Insurance was set up swiftly.',\n",
              "  'pred_prob': array([-7.9526086e+00, -3.5184392e-04], dtype=float32),\n",
              "  'sentiment': 'Positive'},\n",
              " {'Entity': 'process',\n",
              "  'Sentence': 'Fab process and foolproof to the non internet savvy people.',\n",
              "  'pred_prob': array([-2.4902713 , -0.08652512], dtype=float32),\n",
              "  'sentiment': 'Positive'},\n",
              " {'Entity': 'company',\n",
              "  'Sentence': 'one of the cons that i have with this company is proving ncd why not just add a feature where you can upload a file on website instead of e-mailing the file(which is likely to get blocked by email filters).',\n",
              "  'pred_prob': array([-3.5948434e-03, -5.6300664e+00], dtype=float32),\n",
              "  'sentiment': 'Negative'},\n",
              " {'Entity': 'computer',\n",
              "  'Sentence': 'only negative was that i had to complete the purchase on the computer as one of the buttons would not work when answering a question on my ipad',\n",
              "  'pred_prob': array([-2.2299441e-03, -6.1069007e+00], dtype=float32),\n",
              "  'sentiment': 'Negative'},\n",
              " {'Entity': 'policy',\n",
              "  'Sentence': 'quick to answer phone not long to go over policy.',\n",
              "  'pred_prob': array([-0.0120475, -4.4249196], dtype=float32),\n",
              "  'sentiment': 'Negative'},\n",
              " {'Entity': 'company',\n",
              "  'Sentence': 'Excellent price but even as I try to change company every year I will contact AXA agin for a quote next year.',\n",
              "  'pred_prob': array([-7.450499e+00, -5.813339e-04], dtype=float32),\n",
              "  'sentiment': 'Positive'},\n",
              " {'Entity': 'service',\n",
              "  'Sentence': \"I am unsure how to complete this survey as I have only just taken out the insurance and won't know if the service is any good unless I make a claim.\",\n",
              "  'pred_prob': array([-0.00561458, -5.185188  ], dtype=float32),\n",
              "  'sentiment': 'Negative'},\n",
              " {'Entity': 'quote',\n",
              "  'Sentence': 'I started this insurance quote when I got yo the end it would not let me continue to payment but rather gave me a number to ring not really impressed with that however could have just been me going wrong or something.',\n",
              "  'pred_prob': array([-4.0819664e-03, -5.5032268e+00], dtype=float32),\n",
              "  'sentiment': 'Negative'},\n",
              " {'Entity': 'website',\n",
              "  'Sentence': 'Good website and very competitive premium',\n",
              "  'pred_prob': array([-7.5851307e+00, -5.0806010e-04], dtype=float32),\n",
              "  'sentiment': 'Positive'},\n",
              " {'Entity': 'customer care',\n",
              "  'Sentence': 'Very good recovery in terms of customer care after initially giving wrong advice!',\n",
              "  'pred_prob': array([-7.5551419e+00, -5.2354933e-04], dtype=float32),\n",
              "  'sentiment': 'Positive'},\n",
              " {'Entity': 'website',\n",
              "  'Sentence': 'website user friendly and staff very helpful when I called.',\n",
              "  'pred_prob': array([-7.9314585e+00, -3.5935143e-04], dtype=float32),\n",
              "  'sentiment': 'Positive'},\n",
              " {'Entity': 'review service',\n",
              "  'Sentence': 'so do better by not paying for this useless review service and stop giving out your customers information to these useless review services',\n",
              "  'pred_prob': array([-2.9256421e-03, -5.8357105e+00], dtype=float32),\n",
              "  'sentiment': 'Negative'},\n",
              " {'Entity': 'website',\n",
              "  'Sentence': 'I attempted to insure my car with AXA via the Google website for a cost of Â£165 however after 3 attempts and being advised that my bank account detail was incorrect even though I was providing this information from my cheque book.',\n",
              "  'pred_prob': array([-0.01626003, -4.127162  ], dtype=float32),\n",
              "  'sentiment': 'Negative'},\n",
              " {'Entity': 'transition',\n",
              "  'Sentence': 'Smooth and helpful transition process from my existing insurance company to AXA',\n",
              "  'pred_prob': array([-7.8122811e+00, -4.0487197e-04], dtype=float32),\n",
              "  'sentiment': 'Positive'},\n",
              " {'Entity': 'company',\n",
              "  'Sentence': \"i'm not happy with the website is not very good i try to put the date for my credit card and say is not correct i waist 1/2 hours and lost my time with it finished to ring the company whit the cost of the phone charge.\",\n",
              "  'pred_prob': array([-1.9046990e-03, -6.2643776e+00], dtype=float32),\n",
              "  'sentiment': 'Negative'},\n",
              " {'Entity': 'customer services',\n",
              "  'Sentence': 'Excellent service and good customer services',\n",
              "  'pred_prob': array([-7.8917484e+00, -3.7388963e-04], dtype=float32),\n",
              "  'sentiment': 'Positive'},\n",
              " {'Entity': 'service',\n",
              "  'Sentence': \"it wasn't the cheapest option but i looked through all the other insurance companies listed that were cheaper and came to find that although they were cheaper customer service the service they provided didn't compare to axa!\",\n",
              "  'pred_prob': array([-2.5238111e-03, -5.9832563e+00], dtype=float32),\n",
              "  'sentiment': 'Negative'},\n",
              " {'Entity': 'policy details',\n",
              "  'Sentence': 'easy to complete application but seem unable to get policy details.',\n",
              "  'pred_prob': array([-2.0296414 , -0.14085256], dtype=float32),\n",
              "  'sentiment': 'Positive'},\n",
              " {'Entity': 'information',\n",
              "  'Sentence': 'Really impressed with Lee Byers  very clear and concise with all information regarding the purchase of my car insurance.',\n",
              "  'pred_prob': array([-8.1022587e+00, -3.0286494e-04], dtype=float32),\n",
              "  'sentiment': 'Positive'},\n",
              " {'Entity': 'price',\n",
              "  'Sentence': 'would not have changed had they quoted the correct price at the outset.',\n",
              "  'pred_prob': array([-0.04504631, -3.1225016 ], dtype=float32),\n",
              "  'sentiment': 'Negative'},\n",
              " {'Entity': 'site',\n",
              "  'Sentence': '\\\\nI would recommend AXA to anyone who wants a straight forward web site and the best of all was that the insurance was cheap to buy.',\n",
              "  'pred_prob': array([-7.7266827e+00, -4.4097714e-04], dtype=float32),\n",
              "  'sentiment': 'Positive'},\n",
              " {'Entity': 'customer service',\n",
              "  'Sentence': \"It's very good customer serviceand reasonable able price\",\n",
              "  'pred_prob': array([-7.8491125e+00, -3.9021508e-04], dtype=float32),\n",
              "  'sentiment': 'Positive'},\n",
              " {'Entity': 'trouble',\n",
              "  'Sentence': 'I had trouble entering my Reg.',\n",
              "  'pred_prob': array([-0.15071592, -1.9667703 ], dtype=float32),\n",
              "  'sentiment': 'Negative'},\n",
              " {'Entity': 'policy',\n",
              "  'Sentence': 'Spoke with Jamie Thompson who answered all my queries and guided me through the purchase of my policy.',\n",
              "  'pred_prob': array([-7.6162939e+00, -4.9245154e-04], dtype=float32),\n",
              "  'sentiment': 'Positive'},\n",
              " {'Entity': 'car',\n",
              "  'Sentence': 'Purchased car insurance online with no problems.',\n",
              "  'pred_prob': array([-7.0374465e+00, -8.7878224e-04], dtype=float32),\n",
              "  'sentiment': 'Positive'},\n",
              " {'Entity': 'price',\n",
              "  'Sentence': 'If price is right next year will use again.',\n",
              "  'pred_prob': array([-6.6661954e+00, -1.2740123e-03], dtype=float32),\n",
              "  'sentiment': 'Positive'},\n",
              " {'Entity': 'passwords',\n",
              "  'Sentence': 'Very little about passwords and does not seem easy to use.',\n",
              "  'pred_prob': array([-2.4830245e-03, -5.9995146e+00], dtype=float32),\n",
              "  'sentiment': 'Negative'},\n",
              " {'Entity': 'insurance',\n",
              "  'Sentence': \"Looking for cheaper car insurance couldn't have been easier.\",\n",
              "  'pred_prob': array([-3.2390296e-03, -5.7341094e+00], dtype=float32),\n",
              "  'sentiment': 'Negative'},\n",
              " {'Entity': 'value',\n",
              "  'Sentence': 'Excellent value for money with the option  to add on to the insurance to tailer it to your personal requirements.',\n",
              "  'pred_prob': array([-7.592128e+00, -5.044856e-04], dtype=float32),\n",
              "  'sentiment': 'Positive'},\n",
              " {'Entity': 'claim',\n",
              "  'Sentence': 'The advisor whom I spoke to to register my claim was very friendly efficient and met my needs there and then.',\n",
              "  'pred_prob': array([-7.3774586e+00, -6.2541472e-04], dtype=float32),\n",
              "  'sentiment': 'Positive'},\n",
              " {'Entity': 'time',\n",
              "  'Sentence': \"The quote summary page was really confusing with too much information all I was looking for was the start dateIt took me a long time to figure out how to opt out of promotion emails too it's annoying that you have to log into your account and that there is not clear quick and easy way to do this.\",\n",
              "  'pred_prob': array([-3.9679855e-03, -5.5314746e+00], dtype=float32),\n",
              "  'sentiment': 'Negative'},\n",
              " {'Entity': 'website',\n",
              "  'Sentence': 'Website has clear layout easy to navigate.',\n",
              "  'pred_prob': array([-7.8081970e+00, -4.0642108e-04], dtype=float32),\n",
              "  'sentiment': 'Positive'},\n",
              " {'Entity': 'home insurance',\n",
              "  'Sentence': 'Would highly recommend you give them a try if you are looking for home insurance or about to renew your existing policy.',\n",
              "  'pred_prob': array([-6.1125073e+00, -2.2174551e-03], dtype=float32),\n",
              "  'sentiment': 'Positive'},\n",
              " {'Entity': 'mistake',\n",
              "  'Sentence': 'Had made a mistake and was given a refund very quickly',\n",
              "  'pred_prob': array([-2.2335125e-03, -6.1052704e+00], dtype=float32),\n",
              "  'sentiment': 'Negative'},\n",
              " {'Entity': 'caller',\n",
              "  'Sentence': 'Excellent service from AXA and the caller Caira was very polite and discussed all the options with me.',\n",
              "  'pred_prob': array([-7.8083925e+00, -4.0642108e-04], dtype=float32),\n",
              "  'sentiment': 'Positive'},\n",
              " {'Entity': 'customer service',\n",
              "  'Sentence': 'excellent customer service and answered evry question i had',\n",
              "  'pred_prob': array([-7.7920113e+00, -4.1309407e-04], dtype=float32),\n",
              "  'sentiment': 'Positive'},\n",
              " {'Entity': 'price',\n",
              "  'Sentence': 'easy to use good clear information fair price',\n",
              "  'pred_prob': array([-7.0930605e+00, -8.3113927e-04], dtype=float32),\n",
              "  'sentiment': 'Positive'},\n",
              " {'Entity': 'service',\n",
              "  'Sentence': 'Excellent price and good service from agents.',\n",
              "  'pred_prob': array([-7.6847105e+00, -4.5992286e-04], dtype=float32),\n",
              "  'sentiment': 'Positive'},\n",
              " {'Entity': 'service',\n",
              "  'Sentence': 'Very helpful in finding my quote and quick service also',\n",
              "  'pred_prob': array([-7.8866711e+00, -3.7579628e-04], dtype=float32),\n",
              "  'sentiment': 'Positive'},\n",
              " {'Entity': 'time',\n",
              "  'Sentence': 'My accident happened on 29th May and was resolved on 19th August in this period of time nobody contacted me to let me know what was happening it was up to me to do all of the chasing.',\n",
              "  'pred_prob': array([-0.00749372, -4.8974333 ], dtype=float32),\n",
              "  'sentiment': 'Negative'},\n",
              " {'Entity': 'application process',\n",
              "  'Sentence': 'Rapid application process good value for money and a quick answer to my problem.',\n",
              "  'pred_prob': array([-7.157746e+00, -7.790868e-04], dtype=float32),\n",
              "  'sentiment': 'Positive'},\n",
              " {'Entity': 'application process',\n",
              "  'Sentence': 'Clear information and application process l understood exactly what l was getting and how much it would cost',\n",
              "  'pred_prob': array([-7.1253157e+00, -8.0481562e-04], dtype=float32),\n",
              "  'sentiment': 'Positive'},\n",
              " {'Entity': 'quote',\n",
              "  'Sentence': 'Very easy to fill in questions and quick to give the quote.',\n",
              "  'pred_prob': array([-7.8257289e+00, -3.9939056e-04], dtype=float32),\n",
              "  'sentiment': 'Positive'},\n",
              " {'Entity': 'phone',\n",
              "  'Sentence': '\\\\ the chap on the phone was really argumentative too.',\n",
              "  'pred_prob': array([-1.8899451e-03, -6.2721806e+00], dtype=float32),\n",
              "  'sentiment': 'Negative'},\n",
              " {'Entity': 'steps',\n",
              "  'Sentence': 'I bought my car insurance online found it easy to do and was very clear steps as you go along',\n",
              "  'pred_prob': array([-7.962674e+00, -3.482689e-04], dtype=float32),\n",
              "  'sentiment': 'Positive'},\n",
              " {'Entity': 'website',\n",
              "  'Sentence': 'Bought car insurance website quick and easy recieved documents straight away and was able to log in and view to check all details quickly',\n",
              "  'pred_prob': array([-7.9236279e+00, -3.6221143e-04], dtype=float32),\n",
              "  'sentiment': 'Positive'},\n",
              " {'Entity': 'prices',\n",
              "  'Sentence': 'Easy to use website even for a 60 something year old competitive prices and good service',\n",
              "  'pred_prob': array([-7.501875e+00, -5.521442e-04], dtype=float32),\n",
              "  'sentiment': 'Positive'},\n",
              " {'Entity': 'phone',\n",
              "  'Sentence': 'as i am not too good on a phone my daughter handled the conversations for me and i was very pleased to see that the lady at axa made sure that she was properley authorised to deal with my enquiry.',\n",
              "  'pred_prob': array([-3.104986  , -0.04586089], dtype=float32),\n",
              "  'sentiment': 'Positive'},\n",
              " {'Entity': 'market',\n",
              "  'Sentence': \"It's not very good market research.\",\n",
              "  'pred_prob': array([-2.5555592e-03, -5.9707475e+00], dtype=float32),\n",
              "  'sentiment': 'Negative'},\n",
              " {'Entity': 'axa',\n",
              "  'Sentence': 'Would recommend axa to my family and friends so simple too book online !',\n",
              "  'pred_prob': array([-7.6863475e+00, -4.5920795e-04], dtype=float32),\n",
              "  'sentiment': 'Positive'},\n",
              " {'Entity': 'time',\n",
              "  'Sentence': \"Easy to get good value I'm a first time driver and was cheaper than expected super quick!\",\n",
              "  'pred_prob': array([-7.9479194e+00, -3.5351227e-04], dtype=float32),\n",
              "  'sentiment': 'Positive'},\n",
              " {'Entity': 'issues',\n",
              "  'Sentence': 'no issues',\n",
              "  'pred_prob': array([-2.826626e-03, -5.870093e+00], dtype=float32),\n",
              "  'sentiment': 'Negative'},\n",
              " {'Entity': 'issues',\n",
              "  'Sentence': 'no issues what so ever',\n",
              "  'pred_prob': array([-0.01399666, -4.275926  ], dtype=float32),\n",
              "  'sentiment': 'Negative'},\n",
              " {'Entity': 'issues',\n",
              "  'Sentence': 'no issues at all',\n",
              "  'pred_prob': array([-1.9653945 , -0.15093993], dtype=float32),\n",
              "  'sentiment': 'Positive'},\n",
              " {'Entity': 'issues',\n",
              "  'Sentence': 'not an issue at all',\n",
              "  'pred_prob': array([-3.4020424e-03, -5.6850796e+00], dtype=float32),\n",
              "  'sentiment': 'Negative'},\n",
              " {'Entity': 'issues',\n",
              "  'Sentence': 'never an issue',\n",
              "  'pred_prob': array([-3.1816359e-03, -5.7519393e+00], dtype=float32),\n",
              "  'sentiment': 'Negative'},\n",
              " {'Entity': 'issues',\n",
              "  'Sentence': 'not at all an issue',\n",
              "  'pred_prob': array([-2.4550795e-03, -6.0108047e+00], dtype=float32),\n",
              "  'sentiment': 'Negative'},\n",
              " {'Entity': 'issues',\n",
              "  'Sentence': \"didn't have an issue\",\n",
              "  'pred_prob': array([-2.4980074e-03, -5.9935236e+00], dtype=float32),\n",
              "  'sentiment': 'Negative'},\n",
              " {'Entity': 'issues',\n",
              "  'Sentence': \"haven't had an issue\",\n",
              "  'pred_prob': array([-3.556120e-03, -5.640847e+00], dtype=float32),\n",
              "  'sentiment': 'Negative'},\n",
              " {'Entity': 'issues',\n",
              "  'Sentence': \"wasn't an issue\",\n",
              "  'pred_prob': array([-2.9286137e-03, -5.8346901e+00], dtype=float32),\n",
              "  'sentiment': 'Negative'},\n",
              " {'Entity': 'issues',\n",
              "  'Sentence': \"hasn't been an issue\",\n",
              "  'pred_prob': array([-4.1003684e-03, -5.4987340e+00], dtype=float32),\n",
              "  'sentiment': 'Negative'},\n",
              " {'Entity': 'issues',\n",
              "  'Sentence': 'never been an issue',\n",
              "  'pred_prob': array([-2.0311694e-03, -6.2001514e+00], dtype=float32),\n",
              "  'sentiment': 'Negative'},\n",
              " {'Entity': 'issues',\n",
              "  'Sentence': \"shouldn't be an issue\",\n",
              "  'pred_prob': array([-2.2721684e-03, -6.0881324e+00], dtype=float32),\n",
              "  'sentiment': 'Negative'},\n",
              " {'Entity': 'issues',\n",
              "  'Sentence': 'without any issue',\n",
              "  'pred_prob': array([-4.3259137e-03, -5.4453020e+00], dtype=float32),\n",
              "  'sentiment': 'Negative'},\n",
              " {'Entity': 'issues',\n",
              "  'Sentence': 'rarely an issue',\n",
              "  'pred_prob': array([-2.8771455e-03, -5.8524055e+00], dtype=float32),\n",
              "  'sentiment': 'Negative'},\n",
              " {'Entity': 'issues',\n",
              "  'Sentence': \"hadn't been an issue\",\n",
              "  'pred_prob': array([-0.00558163, -5.1910677 ], dtype=float32),\n",
              "  'sentiment': 'Negative'},\n",
              " {'Entity': 'issues',\n",
              "  'Sentence': \"can't be an issue\",\n",
              "  'pred_prob': array([-3.1564436e-03, -5.7598753e+00], dtype=float32),\n",
              "  'sentiment': 'Negative'},\n",
              " {'Entity': 'issues',\n",
              "  'Sentence': 'aint an issue',\n",
              "  'pred_prob': array([-3.7487724e-03, -5.5882101e+00], dtype=float32),\n",
              "  'sentiment': 'Negative'},\n",
              " {'Entity': 'issues',\n",
              "  'Sentence': 'cannot be an issue',\n",
              "  'pred_prob': array([-2.9179160e-03, -5.8383536e+00], dtype=float32),\n",
              "  'sentiment': 'Negative'},\n",
              " {'Entity': 'problem',\n",
              "  'Sentence': 'no problem',\n",
              "  'pred_prob': array([-0.01411984, -4.2672276 ], dtype=float32),\n",
              "  'sentiment': 'Negative'},\n",
              " {'Entity': 'problem',\n",
              "  'Sentence': 'no problem what so ever',\n",
              "  'pred_prob': array([-0.01481871, -4.2192664 ], dtype=float32),\n",
              "  'sentiment': 'Negative'},\n",
              " {'Entity': 'problem',\n",
              "  'Sentence': 'no problem at all',\n",
              "  'pred_prob': array([-0.07821696, -2.587123  ], dtype=float32),\n",
              "  'sentiment': 'Negative'},\n",
              " {'Entity': 'problem',\n",
              "  'Sentence': 'not a problem at all',\n",
              "  'pred_prob': array([-0.8921823, -0.5272269], dtype=float32),\n",
              "  'sentiment': 'Positive'},\n",
              " {'Entity': 'problem',\n",
              "  'Sentence': 'never a problem',\n",
              "  'pred_prob': array([-0.01480779, -4.2199936 ], dtype=float32),\n",
              "  'sentiment': 'Negative'},\n",
              " {'Entity': 'problem',\n",
              "  'Sentence': 'not at all a problem',\n",
              "  'pred_prob': array([-2.5911112e-03, -5.9569778e+00], dtype=float32),\n",
              "  'sentiment': 'Negative'},\n",
              " {'Entity': 'problem',\n",
              "  'Sentence': \"didn't have a problem\",\n",
              "  'pred_prob': array([-6.0021095e+00, -2.4766030e-03], dtype=float32),\n",
              "  'sentiment': 'Positive'},\n",
              " {'Entity': 'problem',\n",
              "  'Sentence': \"haven't had a problem\",\n",
              "  'pred_prob': array([-3.5876758 , -0.02805236], dtype=float32),\n",
              "  'sentiment': 'Positive'},\n",
              " {'Entity': 'problem',\n",
              "  'Sentence': \"wasn't a problem\",\n",
              "  'pred_prob': array([-3.8902519 , -0.02065202], dtype=float32),\n",
              "  'sentiment': 'Positive'},\n",
              " {'Entity': 'problem',\n",
              "  'Sentence': \"hasn't been a problem\",\n",
              "  'pred_prob': array([-4.674463  , -0.00937429], dtype=float32),\n",
              "  'sentiment': 'Positive'},\n",
              " {'Entity': 'problem',\n",
              "  'Sentence': 'never been a problem',\n",
              "  'pred_prob': array([-3.580946e-03, -5.633932e+00], dtype=float32),\n",
              "  'sentiment': 'Negative'},\n",
              " {'Entity': 'problem',\n",
              "  'Sentence': \"shouldn't be a problem\",\n",
              "  'pred_prob': array([-4.3050237e-03, -5.4501271e+00], dtype=float32),\n",
              "  'sentiment': 'Negative'},\n",
              " {'Entity': 'problem',\n",
              "  'Sentence': 'without any problem',\n",
              "  'pred_prob': array([-0.12893708, -2.1122062 ], dtype=float32),\n",
              "  'sentiment': 'Negative'},\n",
              " {'Entity': 'problem',\n",
              "  'Sentence': 'rarely a problem',\n",
              "  'pred_prob': array([-4.860016e-03, -5.329130e+00], dtype=float32),\n",
              "  'sentiment': 'Negative'},\n",
              " {'Entity': 'problem',\n",
              "  'Sentence': \"hadn't been a problem\",\n",
              "  'pred_prob': array([-2.4200702 , -0.09311944], dtype=float32),\n",
              "  'sentiment': 'Positive'},\n",
              " {'Entity': 'problem',\n",
              "  'Sentence': \"can't be a problem\",\n",
              "  'pred_prob': array([-0.00605582, -5.109762  ], dtype=float32),\n",
              "  'sentiment': 'Negative'},\n",
              " {'Entity': 'problem',\n",
              "  'Sentence': 'aint a problem',\n",
              "  'pred_prob': array([-0.0148664, -4.216073 ], dtype=float32),\n",
              "  'sentiment': 'Negative'},\n",
              " {'Entity': 'problem',\n",
              "  'Sentence': 'cannot be a problem',\n",
              "  'pred_prob': array([-3.2673092e-03, -5.7254276e+00], dtype=float32),\n",
              "  'sentiment': 'Negative'},\n",
              " {'Entity': 'bad',\n",
              "  'Sentence': 'not bad',\n",
              "  'pred_prob': array([-3.4193879e-03, -5.6799979e+00], dtype=float32),\n",
              "  'sentiment': 'Negative'},\n",
              " {'Entity': 'bad',\n",
              "  'Sentence': 'not bad what so ever',\n",
              "  'pred_prob': array([-0.01415299, -4.2649016 ], dtype=float32),\n",
              "  'sentiment': 'Negative'},\n",
              " {'Entity': 'bad',\n",
              "  'Sentence': 'not bad at all',\n",
              "  'pred_prob': array([-4.514502e-03, -5.402707e+00], dtype=float32),\n",
              "  'sentiment': 'Negative'},\n",
              " {'Entity': 'bad',\n",
              "  'Sentence': 'not a problem at all',\n",
              "  'pred_prob': array([-0.00712047, -4.9483356 ], dtype=float32),\n",
              "  'sentiment': 'Negative'},\n",
              " {'Entity': 'bad',\n",
              "  'Sentence': 'never so bad',\n",
              "  'pred_prob': array([-2.9993332e-03, -5.8108711e+00], dtype=float32),\n",
              "  'sentiment': 'Negative'},\n",
              " {'Entity': 'bad',\n",
              "  'Sentence': 'not at all bad',\n",
              "  'pred_prob': array([-3.756492e-03, -5.586154e+00], dtype=float32),\n",
              "  'sentiment': 'Negative'},\n",
              " {'Entity': 'bad',\n",
              "  'Sentence': \"didn't think so bad\",\n",
              "  'pred_prob': array([-2.8419604e-03, -5.8646789e+00], dtype=float32),\n",
              "  'sentiment': 'Negative'},\n",
              " {'Entity': 'bad',\n",
              "  'Sentence': \"haven't been bad\",\n",
              "  'pred_prob': array([-0.00575184, -5.1611104 ], dtype=float32),\n",
              "  'sentiment': 'Negative'},\n",
              " {'Entity': 'bad',\n",
              "  'Sentence': \"wasn't so bad\",\n",
              "  'pred_prob': array([-4.4231201e-03, -5.4231105e+00], dtype=float32),\n",
              "  'sentiment': 'Negative'},\n",
              " {'Entity': 'bad',\n",
              "  'Sentence': \"hasn't been so bad\",\n",
              "  'pred_prob': array([-0.01111329, -4.505162  ], dtype=float32),\n",
              "  'sentiment': 'Negative'},\n",
              " {'Entity': 'bad',\n",
              "  'Sentence': 'never been so bad',\n",
              "  'pred_prob': array([-3.855891e-03, -5.560087e+00], dtype=float32),\n",
              "  'sentiment': 'Negative'},\n",
              " {'Entity': 'bad',\n",
              "  'Sentence': \"shouldn't be that bad\",\n",
              "  'pred_prob': array([-2.017369e-03, -6.206977e+00], dtype=float32),\n",
              "  'sentiment': 'Negative'},\n",
              " {'Entity': 'bad',\n",
              "  'Sentence': 'cannot be that bad',\n",
              "  'pred_prob': array([-2.4670900e-03, -6.0059733e+00], dtype=float32),\n",
              "  'sentiment': 'Negative'},\n",
              " {'Entity': 'problem',\n",
              "  'Sentence': 'would have no problem',\n",
              "  'pred_prob': array([-4.002765  , -0.01843392], dtype=float32),\n",
              "  'sentiment': 'Positive'},\n",
              " {'Entity': 'problem',\n",
              "  'Sentence': \"wasn't really a problem\",\n",
              "  'pred_prob': array([-3.5596538 , -0.02886122], dtype=float32),\n",
              "  'sentiment': 'Positive'},\n",
              " {'Entity': 'hassle',\n",
              "  'Sentence': \"wasn't a hassle\",\n",
              "  'pred_prob': array([-2.4942022e-03, -5.9950533e+00], dtype=float32),\n",
              "  'sentiment': 'Negative'},\n",
              " {'Entity': 'hassle',\n",
              "  'Sentence': 'not a hassle at all',\n",
              "  'pred_prob': array([-3.7737123e-03, -5.5815878e+00], dtype=float32),\n",
              "  'sentiment': 'Negative'},\n",
              " {'Entity': 'hassle',\n",
              "  'Sentence': 'not hassle what so ever',\n",
              "  'pred_prob': array([-3.3225592e-03, -5.7086897e+00], dtype=float32),\n",
              "  'sentiment': 'Negative'},\n",
              " {'Entity': 'hassle',\n",
              "  'Sentence': 'not a hassle at all',\n",
              "  'pred_prob': array([-3.2674279e-03, -5.7253733e+00], dtype=float32),\n",
              "  'sentiment': 'Negative'},\n",
              " {'Entity': 'hassle',\n",
              "  'Sentence': 'never a hassle',\n",
              "  'pred_prob': array([-3.0498442e-03, -5.7941856e+00], dtype=float32),\n",
              "  'sentiment': 'Negative'},\n",
              " {'Entity': 'hassle',\n",
              "  'Sentence': 'not at all a hassle',\n",
              "  'pred_prob': array([-3.7269199e-03, -5.5940247e+00], dtype=float32),\n",
              "  'sentiment': 'Negative'},\n",
              " {'Entity': 'hassle',\n",
              "  'Sentence': \"didn't think it is a hassle\",\n",
              "  'pred_prob': array([-2.3727855e-03, -6.0448790e+00], dtype=float32),\n",
              "  'sentiment': 'Negative'},\n",
              " {'Entity': 'hassle',\n",
              "  'Sentence': \"haven't been a hassle\",\n",
              "  'pred_prob': array([-2.4018032e-03, -6.0327210e+00], dtype=float32),\n",
              "  'sentiment': 'Negative'},\n",
              " {'Entity': 'hassle',\n",
              "  'Sentence': \"wasn't such a hassle\",\n",
              "  'pred_prob': array([-3.4465932e-03, -5.6720948e+00], dtype=float32),\n",
              "  'sentiment': 'Negative'},\n",
              " {'Entity': 'hassle',\n",
              "  'Sentence': \"hasn't been a hassle\",\n",
              "  'pred_prob': array([-2.7270056e-03, -5.9059086e+00], dtype=float32),\n",
              "  'sentiment': 'Negative'},\n",
              " {'Entity': 'hassle',\n",
              "  'Sentence': 'never been a hassle',\n",
              "  'pred_prob': array([-3.3731726e-03, -5.6935806e+00], dtype=float32),\n",
              "  'sentiment': 'Negative'},\n",
              " {'Entity': 'hassle',\n",
              "  'Sentence': \"shouldn't be a hassle\",\n",
              "  'pred_prob': array([-2.7071517e-03, -5.9131904e+00], dtype=float32),\n",
              "  'sentiment': 'Negative'},\n",
              " {'Entity': 'hassle',\n",
              "  'Sentence': 'cannot be a hassle',\n",
              "  'pred_prob': array([-3.6206187e-03, -5.6229124e+00], dtype=float32),\n",
              "  'sentiment': 'Negative'},\n",
              " {'Entity': 'saving',\n",
              "  'Sentence': 'massive saving',\n",
              "  'pred_prob': array([-2.651511e-03, -5.933944e+00], dtype=float32),\n",
              "  'sentiment': 'Negative'},\n",
              " {'Entity': 'marketing',\n",
              "  'Sentence': 'Particularly liked the big buttons to opt out of marketing and to add extras to the cover if you wanted.',\n",
              "  'pred_prob': array([-2.757207  , -0.06557248], dtype=float32),\n",
              "  'sentiment': 'Positive'},\n",
              " {'Entity': 'renewal',\n",
              "  'Sentence': \"However, it wasn't a hassle to scan a copy of my renewal notice and email it through.\",\n",
              "  'pred_prob': array([-0.00662867, -5.019668  ], dtype=float32),\n",
              "  'sentiment': 'Negative'},\n",
              " {'Entity': 'website',\n",
              "  'Sentence': \"Renewal premium couldn't be bettered by a comparison website.\",\n",
              "  'pred_prob': array([-4.339445e-03, -5.442169e+00], dtype=float32),\n",
              "  'sentiment': 'Negative'},\n",
              " {'Entity': 'better',\n",
              "  'Sentence': \"couldn't be better\",\n",
              "  'pred_prob': array([-2.1236029e-03, -6.1556835e+00], dtype=float32),\n",
              "  'sentiment': 'Negative'},\n",
              " {'Entity': 'loyalty',\n",
              "  'Sentence': 'Appreciated getting a loyalty discount.',\n",
              "  'pred_prob': array([-6.7445393e+00, -1.1779282e-03], dtype=float32),\n",
              "  'sentiment': 'Positive'},\n",
              " {'Entity': 'automatic renewal',\n",
              "  'Sentence': 'Very helpful to find details on how to contact you to opt out of automatic renewal.',\n",
              "  'pred_prob': array([-3.862185e-03, -5.558468e+00], dtype=float32),\n",
              "  'sentiment': 'Negative'},\n",
              " {'Entity': 'claim',\n",
              "  'Sentence': 'The claim has practically been settled.',\n",
              "  'pred_prob': array([-3.3093293 , -0.03722503], dtype=float32),\n",
              "  'sentiment': 'Positive'},\n",
              " {'Entity': 'account',\n",
              "  'Sentence': 'Having a online account with your policy details is very convenient.',\n",
              "  'pred_prob': array([-7.6374507e+00, -4.8220452e-04], dtype=float32),\n",
              "  'sentiment': 'Positive'},\n",
              " {'Entity': 'problem',\n",
              "  'Sentence': 'Not a big problem',\n",
              "  'pred_prob': array([-5.0704461e-03, -5.2868695e+00], dtype=float32),\n",
              "  'sentiment': 'Negative'},\n",
              " {'Entity': 'problem',\n",
              "  'Sentence': 'no problem to call for advice',\n",
              "  'pred_prob': array([-2.0913925 , -0.13183573], dtype=float32),\n",
              "  'sentiment': 'Positive'},\n",
              " {'Entity': 'AXA',\n",
              "  'Sentence': 'I would have no problem in recomending AXA to anyone.',\n",
              "  'pred_prob': array([-2.9059763 , -0.05624802], dtype=float32),\n",
              "  'sentiment': 'Positive'},\n",
              " {'Entity': 'issues',\n",
              "  'Sentence': 'No issues to much info on site',\n",
              "  'pred_prob': array([-1.8830626 , -0.16502026], dtype=float32),\n",
              "  'sentiment': 'Positive'},\n",
              " {'Entity': 'issues',\n",
              "  'Sentence': 'There were no issues with ot',\n",
              "  'pred_prob': array([-2.2823422 , -0.10763527], dtype=float32),\n",
              "  'sentiment': 'Positive'},\n",
              " {'Entity': 'issues',\n",
              "  'Sentence': 'Absolutely no issues on renewal of policy!',\n",
              "  'pred_prob': array([-0.00774405, -4.8647056 ], dtype=float32),\n",
              "  'sentiment': 'Negative'},\n",
              " {'Entity': 'issues',\n",
              "  'Sentence': 'No issues straight forward',\n",
              "  'pred_prob': array([-0.02979809, -3.5281725 ], dtype=float32),\n",
              "  'sentiment': 'Negative'},\n",
              " {'Entity': 'issues',\n",
              "  'Sentence': 'Following appointment no issues just a shame/',\n",
              "  'pred_prob': array([-2.9322982e-03, -5.8334441e+00], dtype=float32),\n",
              "  'sentiment': 'Negative'},\n",
              " {'Entity': 'issues',\n",
              "  'Sentence': 'Straightforward with no issues.',\n",
              "  'pred_prob': array([-5.460897e+00, -4.258849e-03], dtype=float32),\n",
              "  'sentiment': 'Positive'},\n",
              " {'Entity': 'issues',\n",
              "  'Sentence': 'I had no issues with the site.',\n",
              "  'pred_prob': array([-4.385075 , -0.0125403], dtype=float32),\n",
              "  'sentiment': 'Positive'},\n",
              " {'Entity': 'issues',\n",
              "  'Sentence': 'All done on line no issues.',\n",
              "  'pred_prob': array([-2.1875427 , -0.11899982], dtype=float32),\n",
              "  'sentiment': 'Positive'},\n",
              " {'Entity': 'hassle',\n",
              "  'Sentence': 'No hassle applying',\n",
              "  'pred_prob': array([-2.2445743e-03, -6.1003366e+00], dtype=float32),\n",
              "  'sentiment': 'Negative'},\n",
              " {'Entity': 'hassle',\n",
              "  'Sentence': 'I had an accident and these guys are no hassle.',\n",
              "  'pred_prob': array([-2.631061e-03, -5.941703e+00], dtype=float32),\n",
              "  'sentiment': 'Negative'},\n",
              " {'Entity': 'hassle',\n",
              "  'Sentence': 'Did what it said on the tin. . . arranged my policy with no hassle.',\n",
              "  'pred_prob': array([-0.01820767, -4.015001  ], dtype=float32),\n",
              "  'sentiment': 'Negative'},\n",
              " {'Entity': 'hassle',\n",
              "  'Sentence': \"Done on line, No hassle, What's not to like!Would consider them in the future.\",\n",
              "  'pred_prob': array([-2.3847970e-03, -6.0398273e+00], dtype=float32),\n",
              "  'sentiment': 'Negative'},\n",
              " {'Entity': 'hassle',\n",
              "  'Sentence': 'Found quote via U Switch and signed up and paid on line with no hassle.',\n",
              "  'pred_prob': array([-0.17934538, -1.8067746 ], dtype=float32),\n",
              "  'sentiment': 'Negative'},\n",
              " {'Entity': 'hassle',\n",
              "  'Sentence': \"I've not had to do that with any other insurance provider, as I've always been able to buy the policy online, with no hassle.\",\n",
              "  'pred_prob': array([-0.03354768, -3.411515  ], dtype=float32),\n",
              "  'sentiment': 'Negative'},\n",
              " {'Entity': 'hassle',\n",
              "  'Sentence': 'quick, simple, no hassle.',\n",
              "  'pred_prob': array([-2.4599549e-03, -6.0088425e+00], dtype=float32),\n",
              "  'sentiment': 'Negative'},\n",
              " {'Entity': 'hassle',\n",
              "  'Sentence': \"No hassle whatsoever and didn't have to make a single phone call.\",\n",
              "  'pred_prob': array([-2.8896264e-03, -5.8480644e+00], dtype=float32),\n",
              "  'sentiment': 'Negative'},\n",
              " {'Entity': 'hassle',\n",
              "  'Sentence': 'No hassle and so efficient!!',\n",
              "  'pred_prob': array([-0.15237124, -1.9566536 ], dtype=float32),\n",
              "  'sentiment': 'Negative'},\n",
              " {'Entity': 'hassle',\n",
              "  'Sentence': 'o Hassle from start to Finish',\n",
              "  'pred_prob': array([-0.21227886, -1.6541171 ], dtype=float32),\n",
              "  'sentiment': 'Negative'},\n",
              " {'Entity': 'hassle',\n",
              "  'Sentence': 'No hassle.',\n",
              "  'pred_prob': array([-2.6882484e-03, -5.9202170e+00], dtype=float32),\n",
              "  'sentiment': 'Negative'},\n",
              " {'Entity': 'hassle',\n",
              "  'Sentence': 'No hassle!',\n",
              "  'pred_prob': array([-2.7770547e-03, -5.8877630e+00], dtype=float32),\n",
              "  'sentiment': 'Negative'},\n",
              " {'Entity': 'hassle',\n",
              "  'Sentence': 'All done on line with no hassle.',\n",
              "  'pred_prob': array([-2.5153684e-03, -5.9865909e+00], dtype=float32),\n",
              "  'sentiment': 'Negative'},\n",
              " {'Entity': 'hassle',\n",
              "  'Sentence': 'everything went smoothly with no hassle.',\n",
              "  'pred_prob': array([-2.704655e-03, -5.914113e+00], dtype=float32),\n",
              "  'sentiment': 'Negative'},\n",
              " {'Entity': 'hassle',\n",
              "  'Sentence': 'They did what they said on the tin, quick, no hassle, what I needed and best of all £200 cheaper than all the rest . . . .',\n",
              "  'pred_prob': array([-2.5406919 , -0.08209101], dtype=float32),\n",
              "  'sentiment': 'Positive'},\n",
              " {'Entity': 'hassle',\n",
              "  'Sentence': 'Straight forward no hassle on line procedure.',\n",
              "  'pred_prob': array([-3.943288e-03, -5.537701e+00], dtype=float32),\n",
              "  'sentiment': 'Negative'},\n",
              " {'Entity': 'hassle',\n",
              "  'Sentence': 'no hassle experience',\n",
              "  'pred_prob': array([-4.981369e-03, -5.304548e+00], dtype=float32),\n",
              "  'sentiment': 'Negative'},\n",
              " {'Entity': 'hassle',\n",
              "  'Sentence': 'From the bike being stolen on Friday we had a new like for like replacement delivered on Wednesday with no hassle.',\n",
              "  'pred_prob': array([-4.530404e-03, -5.399210e+00], dtype=float32),\n",
              "  'sentiment': 'Negative'},\n",
              " {'Entity': 'hassle',\n",
              "  'Sentence': 'Very quick, no hassle and no hidden extras that increase the final cost.',\n",
              "  'pred_prob': array([-0.4056369, -1.0982686], dtype=float32),\n",
              "  'sentiment': 'Negative'},\n",
              " {'Entity': 'hassle',\n",
              "  'Sentence': 'Quick no hassle',\n",
              "  'pred_prob': array([-2.6343900e-03, -5.9404387e+00], dtype=float32),\n",
              "  'sentiment': 'Negative'},\n",
              " {'Entity': 'hassle',\n",
              "  'Sentence': 'Simple, no hassle service.',\n",
              "  'pred_prob': array([-0.00553551, -5.1993423 ], dtype=float32),\n",
              "  'sentiment': 'Negative'},\n",
              " {'Entity': 'hassle',\n",
              "  'Sentence': 'No hassle so far.',\n",
              "  'pred_prob': array([-2.2726441e-03, -6.0879374e+00], dtype=float32),\n",
              "  'sentiment': 'Negative'},\n",
              " {'Entity': 'hassle',\n",
              "  'Sentence': 'A 5 minute phone call later and AXA added an extra day on for free and most importantly with no hassle.',\n",
              "  'pred_prob': array([-0.18357936, -1.7854942 ], dtype=float32),\n",
              "  'sentiment': 'Negative'},\n",
              " {'Entity': 'hassle',\n",
              "  'Sentence': 'Straight forward no hassle',\n",
              "  'pred_prob': array([-0.00618129, -5.089317  ], dtype=float32),\n",
              "  'sentiment': 'Negative'},\n",
              " {'Entity': 'hassle',\n",
              "  'Sentence': 'this was very quick to do, no hassle!!',\n",
              "  'pred_prob': array([-2.9509591e-03, -5.8271017e+00], dtype=float32),\n",
              "  'sentiment': 'Negative'},\n",
              " {'Entity': 'hassle',\n",
              "  'Sentence': 'No hassle',\n",
              "  'pred_prob': array([-3.5113366e-03, -5.6535020e+00], dtype=float32),\n",
              "  'sentiment': 'Negative'},\n",
              " {'Entity': 'hassle',\n",
              "  'Sentence': 'No hassle at all.',\n",
              "  'pred_prob': array([-2.7371107e-03, -5.9022093e+00], dtype=float32),\n",
              "  'sentiment': 'Negative'},\n",
              " {'Entity': 'hassle',\n",
              "  'Sentence': 'Easy to deal with. . . understanding and most of all no hassle and pushy sales gimmicks.',\n",
              "  'pred_prob': array([-4.0705547 , -0.01721523], dtype=float32),\n",
              "  'sentiment': 'Positive'},\n",
              " {'Entity': 'hassle',\n",
              "  'Sentence': 'No fuss, no hassle, no hoops to jump through.',\n",
              "  'pred_prob': array([-2.2778774e-03, -6.0856595e+00], dtype=float32),\n",
              "  'sentiment': 'Negative'},\n",
              " {'Entity': 'hassle',\n",
              "  'Sentence': 'no hassle.',\n",
              "  'pred_prob': array([-2.7126204e-03, -5.9112134e+00], dtype=float32),\n",
              "  'sentiment': 'Negative'},\n",
              " {'Entity': 'hassle',\n",
              "  'Sentence': 'no hassle',\n",
              "  'pred_prob': array([-2.8259126e-03, -5.8703203e+00], dtype=float32),\n",
              "  'sentiment': 'Negative'},\n",
              " {'Entity': 'hassle',\n",
              "  'Sentence': 'no hassle transaction',\n",
              "  'pred_prob': array([-2.2630100e-03, -6.0921803e+00], dtype=float32),\n",
              "  'sentiment': 'Negative'},\n",
              " {'Entity': 'discount',\n",
              "  'Sentence': \"also, not all of the benefits are relevant, so i'd prefer a discount rather than things i do not use.\",\n",
              "  'pred_prob': array([-2.4113171e-03, -6.0287914e+00], dtype=float32),\n",
              "  'sentiment': 'Negative'},\n",
              " {'Entity': 'price',\n",
              "  'Sentence': 'i was asked to pay for the cost of seeing a consultant as it was considered a pre-existing condition.',\n",
              "  'pred_prob': array([-3.4640564e-03, -5.6670489e+00], dtype=float32),\n",
              "  'sentiment': 'Negative'},\n",
              " {'Entity': 'insurance',\n",
              "  'Sentence': \"we really enjoy the benefits system of our health which encourages us to be healthier but when we have gone to use our private medical insurance the rules have been very strict and we haven't benefited much more than we would have done if we're using the nhs .\",\n",
              "  'pred_prob': array([-6.6888342e+00, -1.2455571e-03], dtype=float32),\n",
              "  'sentiment': 'Positive'},\n",
              " {'Entity': 'claim',\n",
              "  'Sentence': 'they are extremely helpful and never had a problem with them paying a claim',\n",
              "  'pred_prob': array([-2.330835  , -0.10227029], dtype=float32),\n",
              "  'sentiment': 'Positive'},\n",
              " {'Entity': 'staff',\n",
              "  'Sentence': 'the procedures for claiming are tortuous and communication with the relevant staff is through phone rather than being able to exchange emails',\n",
              "  'pred_prob': array([-6.4976859e+00, -1.5080519e-03], dtype=float32),\n",
              "  'sentiment': 'Positive'},\n",
              " {'Entity': 'claim',\n",
              "  'Sentence': 'they have always been very good at dealing with my claim',\n",
              "  'pred_prob': array([-0.6741106 , -0.71255314], dtype=float32),\n",
              "  'sentiment': 'Negative'},\n",
              " {'Entity': 'service',\n",
              "  'Sentence': 'can improve customer service',\n",
              "  'pred_prob': array([-7.862057e+00, -3.852102e-04], dtype=float32),\n",
              "  'sentiment': 'Positive'},\n",
              " {'Entity': 'premium',\n",
              "  'Sentence': 'too expensive and the premium is always increasing - this is a common aspect with any insurance product related to prudential.',\n",
              "  'pred_prob': array([-4.9536121e-03, -5.3101234e+00], dtype=float32),\n",
              "  'sentiment': 'Negative'},\n",
              " {'Entity': 'claim',\n",
              "  'Sentence': 'they have always been very good at dealing with my claim',\n",
              "  'pred_prob': array([-0.80086905, -0.5959092 ], dtype=float32),\n",
              "  'sentiment': 'Positive'},\n",
              " {'Entity': 'discount',\n",
              "  'Sentence': \"also, not all of the benefits are relevant, so i'd prefer a discount rather than things i do not use.\",\n",
              "  'pred_prob': array([-1.8841149e-03, -6.2752118e+00], dtype=float32),\n",
              "  'sentiment': 'Negative'},\n",
              " {'Entity': 'problem',\n",
              "  'Sentence': 'they are extremely helpful and never had a problem with them paying a claim',\n",
              "  'pred_prob': array([-4.485039  , -0.01134056], dtype=float32),\n",
              "  'sentiment': 'Positive'},\n",
              " {'Entity': 'claim',\n",
              "  'Sentence': 'they are extremely helpful and never had a problem with them paying a claim',\n",
              "  'pred_prob': array([-2.2544358 , -0.11085641], dtype=float32),\n",
              "  'sentiment': 'Positive'},\n",
              " {'Entity': 'staff',\n",
              "  'Sentence': 'it is very stressful dealing with unqualified staff who are paid exclusively to fob you off rather than to help you!',\n",
              "  'pred_prob': array([-2.9084070e-03, -5.8415875e+00], dtype=float32),\n",
              "  'sentiment': 'Negative'},\n",
              " {'Entity': 'premium',\n",
              "  'Sentence': 'too expensive and the premium is always increasing - this is a common aspect with any insurance product related to prudential.',\n",
              "  'pred_prob': array([-4.071875e-03, -5.505689e+00], dtype=float32),\n",
              "  'sentiment': 'Negative'},\n",
              " {'Entity': 'price',\n",
              "  'Sentence': 'i was asked to pay for the cost of seeing a consultant as it was considered a pre-existing condition.',\n",
              "  'pred_prob': array([-3.8452034e-03, -5.5628581e+00], dtype=float32),\n",
              "  'sentiment': 'Negative'},\n",
              " {'Entity': 'lot',\n",
              "  'Sentence': 'always have to object to annual increases to obtain a fair deal',\n",
              "  'pred_prob': array([-0.00747869, -4.8994417 ], dtype=float32),\n",
              "  'sentiment': 'Negative'},\n",
              " {'Entity': 'insurance',\n",
              "  'Sentence': 'i dont recommend insurance products',\n",
              "  'pred_prob': array([-2.9708082e-03, -5.8204203e+00], dtype=float32),\n",
              "  'sentiment': 'Negative'},\n",
              " {'Entity': 'deal',\n",
              "  'Sentence': 'however, it is only by switching each year that i can get the best deal, never by using renewal.',\n",
              "  'pred_prob': array([-2.213744  , -0.11573722], dtype=float32),\n",
              "  'sentiment': 'Positive'},\n",
              " {'Entity': 'deal',\n",
              "  'Sentence': 'i have to go elsewhere to get a better deal.',\n",
              "  'pred_prob': array([-1.6866995e-03, -6.3858571e+00], dtype=float32),\n",
              "  'sentiment': 'Negative'},\n",
              " {'Entity': 'discount',\n",
              "  'Sentence': \"it's good for me because i get a discount but not for everyone.\",\n",
              "  'pred_prob': array([-5.2418178e-03, -5.2537084e+00], dtype=float32),\n",
              "  'sentiment': 'Negative'},\n",
              " {'Entity': 'problem',\n",
              "  'Sentence': 'so far i have never had a problem with them.',\n",
              "  'pred_prob': array([-2.9070997e-03, -5.8420568e+00], dtype=float32),\n",
              "  'sentiment': 'Negative'},\n",
              " {'Entity': 'deal',\n",
              "  'Sentence': 'have to phone up every year to get the best deal',\n",
              "  'pred_prob': array([-6.4283366e+00, -1.6164820e-03], dtype=float32),\n",
              "  'sentiment': 'Positive'},\n",
              " {'Entity': 'premium',\n",
              "  'Sentence': 'the premium did not increase very much at the renewal.',\n",
              "  'pred_prob': array([-2.7646914e-03, -5.8921947e+00], dtype=float32),\n",
              "  'sentiment': 'Negative'},\n",
              " {'Entity': 'renewal',\n",
              "  'Sentence': 'the premium did not increase very much at the renewal.',\n",
              "  'pred_prob': array([-3.1463427e-03, -5.7630854e+00], dtype=float32),\n",
              "  'sentiment': 'Negative'},\n",
              " {'Entity': 'problem',\n",
              "  'Sentence': \"well i've never had any problem with then, but that's not to say others wouldn't !\",\n",
              "  'pred_prob': array([-3.6721672e-03, -5.6088195e+00], dtype=float32),\n",
              "  'sentiment': 'Negative'},\n",
              " {'Entity': 'auto renewal',\n",
              "  'Sentence': \"Very easy to book online, managed to save £220 on my automatic renewal for a like-for-like quote (never accept auto renewal with admiral - they will rinse you dry) haven't had to contact axa yet but so far so good.\",\n",
              "  'pred_prob': array([-0.45819348, -1.0008283 ], dtype=float32),\n",
              "  'sentiment': 'Negative'},\n",
              " {'Entity': 'ncb',\n",
              "  'Sentence': \"Didn't have to prove ncb\",\n",
              "  'pred_prob': array([-3.8334471e-03, -5.5658998e+00], dtype=float32),\n",
              "  'sentiment': 'Negative'},\n",
              " {'Entity': 'ncb',\n",
              "  'Sentence': 'They requested proof of my NCB & that was simple to send to them.',\n",
              "  'pred_prob': array([-7.126428e+00, -8.038627e-04], dtype=float32),\n",
              "  'sentiment': 'Positive'},\n",
              " {'Entity': 'insurance certificate',\n",
              "  'Sentence': 'I have had no difficulty accessing my account and printing my Insurance certificate.',\n",
              "  'pred_prob': array([-2.5955634 , -0.07753334], dtype=float32),\n",
              "  'sentiment': 'Positive'},\n",
              " {'Entity': 'claims proof',\n",
              "  'Sentence': 'Was not the least expensive but was so easy to buy andupload my no claims proof.',\n",
              "  'pred_prob': array([-0.14808726, -1.9830835 ], dtype=float32),\n",
              "  'sentiment': 'Negative'},\n",
              " {'Entity': 'claim',\n",
              "  'Sentence': 'This is the the third time I have used AXA - once for Car breakdown insurance when holidaying in France and when the car failed to start because of a failed battery it was soon fixed, once for travel insurance (no claim had to be made), and no once more.',\n",
              "  'pred_prob': array([-0.00541162, -5.221907  ], dtype=float32),\n",
              "  'sentiment': 'Negative'},\n",
              " {'Entity': 'auto renewal',\n",
              "  'Sentence': \"Very easy to book online, managed to save £220 on my automatic renewal for a like-for-like quote (never accept auto renewal with admiral - they will rinse you dry) haven't had to contact axa yet but so far so good.\",\n",
              "  'pred_prob': array([-0.37170672, -1.1697531 ], dtype=float32),\n",
              "  'sentiment': 'Negative'},\n",
              " {'Entity': 'repair',\n",
              "  'Sentence': 'Repair carried out to my satisfaction no problems',\n",
              "  'pred_prob': array([-7.3428926e+00, -6.4733531e-04], dtype=float32),\n",
              "  'sentiment': 'Positive'},\n",
              " {'Entity': 'claim',\n",
              "  'Sentence': \"Axa, you should be running masterclasses in this, just don't let me down if I'm ever unfortunate enough to have to make a claim.\",\n",
              "  'pred_prob': array([-4.2942218e-03, -5.4526424e+00], dtype=float32),\n",
              "  'sentiment': 'Negative'},\n",
              " {'Entity': 'claims discount',\n",
              "  'Sentence': 'Also very rapid response to receipt of proof of no claims discount.',\n",
              "  'pred_prob': array([-7.016588e+00, -8.972433e-04], dtype=float32),\n",
              "  'sentiment': 'Positive'},\n",
              " {'Entity': 'claims proof',\n",
              "  'Sentence': 'Was not the least expensive but was so easy to buy andupload my no claims proof.',\n",
              "  'pred_prob': array([-0.11809685, -2.1947174 ], dtype=float32),\n",
              "  'sentiment': 'Negative'},\n",
              " {'Entity': 'claims bonus',\n",
              "  'Sentence': 'They were able to save me money and I gain with protecting the no claims bonus.',\n",
              "  'pred_prob': array([-5.059124  , -0.00637142], dtype=float32),\n",
              "  'sentiment': 'Positive'},\n",
              " {'Entity': 'renewal premium',\n",
              "  'Sentence': 'Pleased with my renewal premium.',\n",
              "  'pred_prob': array([-6.8283958e+00, -1.0831448e-03], dtype=float32),\n",
              "  'sentiment': 'Positive'},\n",
              " {'Entity': 'renewal premium',\n",
              "  'Sentence': \"Renewal premium couldn't be bettered by a comparison website.\",\n",
              "  'pred_prob': array([-3.1910236e-03, -5.7490187e+00], dtype=float32),\n",
              "  'sentiment': 'Negative'},\n",
              " {'Entity': 'claim',\n",
              "  'Sentence': 'as far as i know they are good to look after someone if they had a claim',\n",
              "  'pred_prob': array([-0.8218212, -0.5791585], dtype=float32),\n",
              "  'sentiment': 'Positive'},\n",
              " {'Entity': 'price',\n",
              "  'Sentence': 'they reluctant to negotiate on price and you have to really push them to give lower price at renewal',\n",
              "  'pred_prob': array([-0.02493168, -3.704056  ], dtype=float32),\n",
              "  'sentiment': 'Negative'},\n",
              " {'Entity': 'quote',\n",
              "  'Sentence': 'they give me a great service however recently refused to give me a quote for yound drivers',\n",
              "  'pred_prob': array([-2.7797234 , -0.06406472], dtype=float32),\n",
              "  'sentiment': 'Positive'},\n",
              " {'Entity': 'offers',\n",
              "  'Sentence': 'other companies have good offers for new customers',\n",
              "  'pred_prob': array([-7.849463e+00, -3.900959e-04], dtype=float32),\n",
              "  'sentiment': 'Positive'},\n",
              " {'Entity': 'quote',\n",
              "  'Sentence': 'i have had a quote from another company which gives us much better cover for less than half of what we are currently paying.',\n",
              "  'pred_prob': array([-7.4449139e+00, -5.8455067e-04], dtype=float32),\n",
              "  'sentiment': 'Positive'},\n",
              " {'Entity': 'advertising',\n",
              "  'Sentence': 'in the advert it looks like you get a .',\n",
              "  'pred_prob': array([-0.00830719, -4.794787  ], dtype=float32),\n",
              "  'sentiment': 'Negative'},\n",
              " {'Entity': 'provider',\n",
              "  'Sentence': \"price isn't super competitive, cover not as good as some other providers\",\n",
              "  'pred_prob': array([-2.6743382e-03, -5.9254079e+00], dtype=float32),\n",
              "  'sentiment': 'Negative'},\n",
              " {'Entity': 'problem',\n",
              "  'Sentence': 'not had a problem with them.',\n",
              "  'pred_prob': array([-3.7066105e-03, -5.5994973e+00], dtype=float32),\n",
              "  'sentiment': 'Negative'},\n",
              " {'Entity': 'problem',\n",
              "  'Sentence': 'i have never had a problem with this provider.',\n",
              "  'pred_prob': array([-3.3814891e-03, -5.6911173e+00], dtype=float32),\n",
              "  'sentiment': 'Negative'},\n",
              " {'Entity': 'claim',\n",
              "  'Sentence': 'whenever i have had to make a claim in the past, they have be incredibly efficient in helping.',\n",
              "  'pred_prob': array([-0.01280985, -4.3639345 ], dtype=float32),\n",
              "  'sentiment': 'Negative'},\n",
              " {'Entity': 'claim',\n",
              "  'Sentence': 'i had a large claim 3yrs.',\n",
              "  'pred_prob': array([-0.01667397, -4.102229  ], dtype=float32),\n",
              "  'sentiment': 'Negative'},\n",
              " {'Entity': 'problem',\n",
              "  'Sentence': 'never had a problem with them',\n",
              "  'pred_prob': array([-0.01152394, -4.469087  ], dtype=float32),\n",
              "  'sentiment': 'Negative'},\n",
              " {'Entity': 'problem',\n",
              "  'Sentence': 'we have had no trouble with direct line, but we also have not had a claim.',\n",
              "  'pred_prob': array([-3.5318872e-03, -5.6476970e+00], dtype=float32),\n",
              "  'sentiment': 'Negative'},\n",
              " {'Entity': 'insurance',\n",
              "  'Sentence': 'their rates fluctuate a lot and their loyalty discount (for multiple insurance) with them is meaningless.',\n",
              "  'pred_prob': array([-2.3453131e-03, -6.0565248e+00], dtype=float32),\n",
              "  'sentiment': 'Negative'},\n",
              " {'Entity': 'problem',\n",
              "  'Sentence': 'i have many policies with direct line and never had a problem.',\n",
              "  'pred_prob': array([-4.638964  , -0.00971471], dtype=float32),\n",
              "  'sentiment': 'Positive'},\n",
              " {'Entity': 'problem',\n",
              "  'Sentence': 'just never had a problem with them.',\n",
              "  'pred_prob': array([-3.5747692e-03, -5.6356578e+00], dtype=float32),\n",
              "  'sentiment': 'Negative'},\n",
              " {'Entity': 'renewal premium',\n",
              "  'Sentence': 'they never give their best renewal premium first time',\n",
              "  'pred_prob': array([-3.5468545e-03, -5.6434803e+00], dtype=float32),\n",
              "  'sentiment': 'Negative'},\n",
              " {'Entity': 'discount',\n",
              "  'Sentence': 'didnt give much of a discount for loyalty',\n",
              "  'pred_prob': array([-0.00657313, -5.0280557 ], dtype=float32),\n",
              "  'sentiment': 'Negative'},\n",
              " {'Entity': 'problems',\n",
              "  'Sentence': 'had no major problems',\n",
              "  'pred_prob': array([-5.7385364e+00, -3.2246518e-03], dtype=float32),\n",
              "  'sentiment': 'Positive'},\n",
              " {'Entity': 'quote',\n",
              "  'Sentence': \"why wasn't i offered this quote in the first place.\",\n",
              "  'pred_prob': array([-2.6526998e-03, -5.9334817e+00], dtype=float32),\n",
              "  'sentiment': 'Negative'},\n",
              " {'Entity': 'quote',\n",
              "  'Sentence': 'could be better quote',\n",
              "  'pred_prob': array([-0.00648774, -5.0410805 ], dtype=float32),\n",
              "  'sentiment': 'Negative'},\n",
              " {'Entity': 'insurance',\n",
              "  'Sentence': 'i wanted a better quote for car and home insurance but it was cheaper to go with tesco .',\n",
              "  'pred_prob': array([-6.4684091e+00, -1.5529251e-03], dtype=float32),\n",
              "  'sentiment': 'Positive'},\n",
              " {'Entity': 'quote',\n",
              "  'Sentence': 'quote went up this year',\n",
              "  'pred_prob': array([-6.5799170e+00, -1.3888961e-03], dtype=float32),\n",
              "  'sentiment': 'Positive'},\n",
              " {'Entity': 'problem',\n",
              "  'Sentence': 'i have no problem with bupa, but also i have no particular good feel of them',\n",
              "  'pred_prob': array([-2.8450525 , -0.05988935], dtype=float32),\n",
              "  'sentiment': 'Positive'},\n",
              " {'Entity': 'provider',\n",
              "  'Sentence': 'i know i can trust them, i believe they are better than the other providers.',\n",
              "  'pred_prob': array([-0.9978562 , -0.45992494], dtype=float32),\n",
              "  'sentiment': 'Positive'},\n",
              " {'Entity': 'problem',\n",
              "  'Sentence': 'i have no problem with bupa, but also i have no particular good feel of them',\n",
              "  'pred_prob': array([-2.9865139 , -0.05178086], dtype=float32),\n",
              "  'sentiment': 'Positive'},\n",
              " {'Entity': 'provider',\n",
              "  'Sentence': 'i know i can trust them, i believe they are better than the other providers.',\n",
              "  'pred_prob': array([-1.0394552 , -0.43640998], dtype=float32),\n",
              "  'sentiment': 'Positive'},\n",
              " {'Entity': 'provider',\n",
              "  'Sentence': 'they have the facilities that can treat you that other providers do not',\n",
              "  'pred_prob': array([-0.0489125, -3.04208  ], dtype=float32),\n",
              "  'sentiment': 'Negative'},\n",
              " {'Entity': 'problem',\n",
              "  'Sentence': 'we have no problem with authorisation or payments',\n",
              "  'pred_prob': array([-1.7602599 , -0.18874231], dtype=float32),\n",
              "  'sentiment': 'Positive'},\n",
              " {'Entity': 'price',\n",
              "  'Sentence': \"it's a great service but cones at a price\",\n",
              "  'pred_prob': array([-4.073783  , -0.01715933], dtype=float32),\n",
              "  'sentiment': 'Positive'},\n",
              " {'Entity': 'problem',\n",
              "  'Sentence': 'we have no problem with authorisation or payments',\n",
              "  'pred_prob': array([-1.7290022 , -0.19535989], dtype=float32),\n",
              "  'sentiment': 'Positive'},\n",
              " {'Entity': 'provider',\n",
              "  'Sentence': 'they have the facilities that can treat you that other providers do not',\n",
              "  'pred_prob': array([-0.04397851, -3.145964  ], dtype=float32),\n",
              "  'sentiment': 'Negative'},\n",
              " {'Entity': 'problem',\n",
              "  'Sentence': \"i've never had a problem with them and been with them for over 10years\",\n",
              "  'pred_prob': array([-0.01813755, -4.018828  ], dtype=float32),\n",
              "  'sentiment': 'Negative'},\n",
              " {'Entity': 'problem',\n",
              "  'Sentence': \"i've never had a problem with them and been with them for over 10years\",\n",
              "  'pred_prob': array([-0.01784402, -4.034993  ], dtype=float32),\n",
              "  'sentiment': 'Negative'},\n",
              " {'Entity': 'value',\n",
              "  'Sentence': 'not good value for money',\n",
              "  'pred_prob': array([-2.6330822e-03, -5.9408941e+00], dtype=float32),\n",
              "  'sentiment': 'Negative'},\n",
              " {'Entity': 'price',\n",
              "  'Sentence': 'price hikes each year',\n",
              "  'pred_prob': array([-0.00541008, -5.2222004 ], dtype=float32),\n",
              "  'sentiment': 'Negative'},\n",
              " {'Entity': 'value',\n",
              "  'Sentence': 'feel that the value for money is limited despite receiving the best possible care within the uk',\n",
              "  'pred_prob': array([-1.0485944 , -0.43144462], dtype=float32),\n",
              "  'sentiment': 'Positive'},\n",
              " {'Entity': 'value',\n",
              "  'Sentence': 'not good value for money',\n",
              "  'pred_prob': array([-2.9800790e-03, -5.8173094e+00], dtype=float32),\n",
              "  'sentiment': 'Negative'},\n",
              " {'Entity': 'insurance',\n",
              "  'Sentence': 'have used two other insurance providers who were very helpful.',\n",
              "  'pred_prob': array([-7.8123159e+00, -4.0475282e-04], dtype=float32),\n",
              "  'sentiment': 'Positive'},\n",
              " {'Entity': 'quote',\n",
              "  'Sentence': 'because i always have to ring up at renewal time to get the \"real\" best quote.',\n",
              "  'pred_prob': array([-6.6172400e+00, -1.3380632e-03], dtype=float32),\n",
              "  'sentiment': 'Positive'},\n",
              " {'Entity': 'quote',\n",
              "  'Sentence': 'initially renewal quote was higher than what i was paying',\n",
              "  'pred_prob': array([-0.00955426, -4.655536  ], dtype=float32),\n",
              "  'sentiment': 'Negative'},\n",
              " {'Entity': 'value',\n",
              "  'Sentence': \"i don't believe car insurance companies give value for money.\",\n",
              "  'pred_prob': array([-2.3430532e-03, -6.0574675e+00], dtype=float32),\n",
              "  'sentiment': 'Negative'},\n",
              " {'Entity': 'customer',\n",
              "  'Sentence': 'and on renewal they always have a better deal on their website than they offer me as an existing customer.',\n",
              "  'pred_prob': array([-7.7127666e+00, -4.4717325e-04], dtype=float32),\n",
              "  'sentiment': 'Positive'},\n",
              " {'Entity': 'customer',\n",
              "  'Sentence': 'we only hear from them when renewing our insurance, would be nice to get discounts for being a loyal customer',\n",
              "  'pred_prob': array([-5.9197111e+00, -2.6895562e-03], dtype=float32),\n",
              "  'sentiment': 'Positive'},\n",
              " {'Entity': 'insurance',\n",
              "  'Sentence': 'i have had this policy for quite few years, but so far i have had any issues with it.',\n",
              "  'pred_prob': array([-2.5664656 , -0.07991641], dtype=float32),\n",
              "  'sentiment': 'Positive'},\n",
              " {'Entity': 'customer',\n",
              "  'Sentence': 'they will always consider themselves first before any customer',\n",
              "  'pred_prob': array([-6.0455871e+00, -2.3711205e-03], dtype=float32),\n",
              "  'sentiment': 'Positive'},\n",
              " {'Entity': 'price',\n",
              "  'Sentence': 'when my renew date came round they quoted me a ridiculous price.',\n",
              "  'pred_prob': array([-3.5245223e-03, -5.6497793e+00], dtype=float32),\n",
              "  'sentiment': 'Negative'},\n",
              " {'Entity': 'insurance',\n",
              "  'Sentence': \"insurance is no longer about loyalty it's simply about price therefore i wouldn't recommend any insurance company unless they were constantly the cheapest year on year\",\n",
              "  'pred_prob': array([-0.00640483, -5.0539055 ], dtype=float32),\n",
              "  'sentiment': 'Negative'},\n",
              " {'Entity': 'insurance',\n",
              "  'Sentence': \"like all insurance company's i fell i'm not getting value for money\",\n",
              "  'pred_prob': array([-2.7530410e-03, -5.8964214e+00], dtype=float32),\n",
              "  'sentiment': 'Negative'},\n",
              " {'Entity': 'insurance',\n",
              "  'Sentence': \"there's no great insurance company.\",\n",
              "  'pred_prob': array([-2.2656266e-03, -6.0910287e+00], dtype=float32),\n",
              "  'sentiment': 'Negative'},\n",
              " {'Entity': 'deal',\n",
              "  'Sentence': 'i know if i shop around i could get a better deal',\n",
              "  'pred_prob': array([-5.2045574 , -0.00550659], dtype=float32),\n",
              "  'sentiment': 'Positive'},\n",
              " {'Entity': 'experience',\n",
              "  'Sentence': 'my experience with axa has been positive.',\n",
              "  'pred_prob': array([-7.432132e+00, -5.920564e-04], dtype=float32),\n",
              "  'sentiment': 'Positive'},\n",
              " {'Entity': 'price',\n",
              "  'Sentence': 'the nature of insurance means no client can ever be happy - cost of coverage - restrictions in coverage - dealing with a claim',\n",
              "  'pred_prob': array([-0.01740749, -4.0595455 ], dtype=float32),\n",
              "  'sentiment': 'Negative'},\n",
              " {'Entity': 'loyalty',\n",
              "  'Sentence': 'high policy costs regardless of years of loyalty and zero claims',\n",
              "  'pred_prob': array([-3.5046842e-03, -5.6554222e+00], dtype=float32),\n",
              "  'sentiment': 'Negative'},\n",
              " {'Entity': 'deal',\n",
              "  'Sentence': 'just that insurance went up a lot',\n",
              "  'pred_prob': array([-0.02419283, -3.733769  ], dtype=float32),\n",
              "  'sentiment': 'Negative'},\n",
              " {'Entity': 'value',\n",
              "  'Sentence': 'never fully happy with value for money, premium had gone up a bit',\n",
              "  'pred_prob': array([-0.00539217, -5.2255025 ], dtype=float32),\n",
              "  'sentiment': 'Negative'},\n",
              " {'Entity': 'payment',\n",
              "  'Sentence': 'every three months my monthly payment goes down as i have not had a claim.',\n",
              "  'pred_prob': array([-2.2477857e-03, -6.0989318e+00], dtype=float32),\n",
              "  'sentiment': 'Negative'},\n",
              " {'Entity': 'problem',\n",
              "  'Sentence': 'it is sometimes a problem to get customer support to answer queries',\n",
              "  'pred_prob': array([-0.01056176, -4.555791  ], dtype=float32),\n",
              "  'sentiment': 'Negative'},\n",
              " {'Entity': 'renewal',\n",
              "  'Sentence': 'i have found them to be the cheapest at the time of renewal',\n",
              "  'pred_prob': array([-5.6732078e+00, -3.4427915e-03], dtype=float32),\n",
              "  'sentiment': 'Positive'},\n",
              " {'Entity': 'deal',\n",
              "  'Sentence': 'because prices for motor insurance seem to vary greatly and axa may not give the best deal to another customer (compared to other companies)',\n",
              "  'pred_prob': array([-0.02208893, -3.8237028 ], dtype=float32),\n",
              "  'sentiment': 'Negative'},\n",
              " {'Entity': 'deal',\n",
              "  'Sentence': \"don't get a lot for the price.\",\n",
              "  'pred_prob': array([-1.9626420e-03, -6.2344394e+00], dtype=float32),\n",
              "  'sentiment': 'Negative'},\n",
              " {'Entity': 'insurance',\n",
              "  'Sentence': 'axa is not the cheapest insurance provider',\n",
              "  'pred_prob': array([-2.381586e-03, -6.041167e+00], dtype=float32),\n",
              "  'sentiment': 'Negative'},\n",
              " {'Entity': 'insurance',\n",
              "  'Sentence': 'just that insurance went up a lot',\n",
              "  'pred_prob': array([-0.0143375, -4.252036 ], dtype=float32),\n",
              "  'sentiment': 'Negative'},\n",
              " {'Entity': 'cost',\n",
              "  'Sentence': \"don't suit everyone, cost of premium, unfriendly staff\",\n",
              "  'pred_prob': array([-3.5539817e-03, -5.6414609e+00], dtype=float32),\n",
              "  'sentiment': 'Negative'},\n",
              " {'Entity': 'hassle',\n",
              "  'Sentence': 'because the billing is sometimes a hassle',\n",
              "  'pred_prob': array([-2.4656630e-03, -6.0065475e+00], dtype=float32),\n",
              "  'sentiment': 'Negative'},\n",
              " {'Entity': 'excess',\n",
              "  'Sentence': 'to little cover, to much excess',\n",
              "  'pred_prob': array([-1.9275434e-03, -6.2524948e+00], dtype=float32),\n",
              "  'sentiment': 'Negative'},\n",
              " {'Entity': 'help',\n",
              "  'Sentence': 'they have been a help',\n",
              "  'pred_prob': array([-6.9836888e+00, -9.2725665e-04], dtype=float32),\n",
              "  'sentiment': 'Positive'},\n",
              " {'Entity': 'claim',\n",
              "  'Sentence': \"my late husband's cancer care was covered, no quibbles, no fuss, a huge claim.\",\n",
              "  'pred_prob': array([-3.798345  , -0.02266269], dtype=float32),\n",
              "  'sentiment': 'Positive'},\n",
              " {'Entity': 'policy',\n",
              "  'Sentence': \"i haven't used the insurance as of yet but from what has been offered i am happy\",\n",
              "  'pred_prob': array([-0.26052323, -1.4724985 ], dtype=float32),\n",
              "  'sentiment': 'Negative'},\n",
              " {'Entity': 'excess',\n",
              "  'Sentence': 'it is quite expensive, high excess and you cant have some benefits unless you pay a lot more',\n",
              "  'pred_prob': array([-4.2796219e-03, -5.4560385e+00], dtype=float32),\n",
              "  'sentiment': 'Negative'},\n",
              " {'Entity': 'cost',\n",
              "  'Sentence': \"don't suit everyone, cost of premium, unfriendly staff\",\n",
              "  'pred_prob': array([-2.1735632e-03, -6.1324787e+00], dtype=float32),\n",
              "  'sentiment': 'Negative'},\n",
              " {'Entity': 'providers',\n",
              "  'Sentence': 'price competitiveness could be called into question given that many providers have recently lowered their offer',\n",
              "  'pred_prob': array([-0.16725798, -1.8706815 ], dtype=float32),\n",
              "  'sentiment': 'Negative'},\n",
              " {'Entity': 'staff',\n",
              "  'Sentence': \"don't suit everyone, cost of premium, unfriendly staff\",\n",
              "  'pred_prob': array([-2.9263552e-03, -5.8354535e+00], dtype=float32),\n",
              "  'sentiment': 'Negative'},\n",
              " {'Entity': 'policy',\n",
              "  'Sentence': \"i haven't used the insurance as of yet but from what has been offered i am happy\",\n",
              "  'pred_prob': array([-0.20483494, -1.6862205 ], dtype=float32),\n",
              "  'sentiment': 'Negative'},\n",
              " {'Entity': 'providers',\n",
              "  'Sentence': 'price competitiveness could be called into question given that many providers have recently lowered their offer',\n",
              "  'pred_prob': array([-0.2868884, -1.388679 ], dtype=float32),\n",
              "  'sentiment': 'Negative'},\n",
              " {'Entity': 'staff',\n",
              "  'Sentence': \"don't suit everyone, cost of premium, unfriendly staff\",\n",
              "  'pred_prob': array([-3.2067089e-03, -5.7441106e+00], dtype=float32),\n",
              "  'sentiment': 'Negative'},\n",
              " {'Entity': 'hassle',\n",
              "  'Sentence': 'because the billing is sometimes a hassle',\n",
              "  'pred_prob': array([-3.1598897e-03, -5.7588058e+00], dtype=float32),\n",
              "  'sentiment': 'Negative'},\n",
              " {'Entity': 'excess',\n",
              "  'Sentence': 'to little cover, to much excess',\n",
              "  'pred_prob': array([-1.6882466e-03, -6.3849072e+00], dtype=float32),\n",
              "  'sentiment': 'Negative'},\n",
              " {'Entity': 'help',\n",
              "  'Sentence': 'they have been a help',\n",
              "  'pred_prob': array([-6.8469915e+00, -1.0632583e-03], dtype=float32),\n",
              "  'sentiment': 'Positive'},\n",
              " {'Entity': 'policy',\n",
              "  'Sentence': 'never had to use policy',\n",
              "  'pred_prob': array([-2.5541324e-03, -5.9713316e+00], dtype=float32),\n",
              "  'sentiment': 'Negative'},\n",
              " {'Entity': 'excess',\n",
              "  'Sentence': 'it is quite expensive, high excess and you cant have some benefits unless you pay a lot more',\n",
              "  'pred_prob': array([-2.787516e-03, -5.884019e+00], dtype=float32),\n",
              "  'sentiment': 'Negative'},\n",
              " {'Entity': 'claim',\n",
              "  'Sentence': 'i have only had one small claim and it was handled promptly and efficiently.',\n",
              "  'pred_prob': array([-5.7012453e+00, -3.3473910e-03], dtype=float32),\n",
              "  'sentiment': 'Positive'},\n",
              " {'Entity': 'claim',\n",
              "  'Sentence': 'good service, but i have never made a claim.',\n",
              "  'pred_prob': array([-2.0233176e-03, -6.2040052e+00], dtype=float32),\n",
              "  'sentiment': 'Negative'},\n",
              " {'Entity': 'offer',\n",
              "  'Sentence': 'its okay but offer for motor insurance was a wild estimate compared with reentering details on website and getting a new quote, about 30% different.',\n",
              "  'pred_prob': array([-6.6294112e+00, -1.3218722e-03], dtype=float32),\n",
              "  'sentiment': 'Positive'},\n",
              " {'Entity': 'hassle',\n",
              "  'Sentence': 'i think they charge too much but then think that all insurance charge as much as they can get away with and friends who have had claims tell me of the quibbles and hassle they have',\n",
              "  'pred_prob': array([-4.0664137e-03, -5.5070391e+00], dtype=float32),\n",
              "  'sentiment': 'Negative'},\n",
              " {'Entity': 'service',\n",
              "  'Sentence': 'good policy but customer service issues',\n",
              "  'pred_prob': array([-7.0514097e+00, -8.6651440e-04], dtype=float32),\n",
              "  'sentiment': 'Positive'},\n",
              " {'Entity': 'insurance',\n",
              "  'Sentence': \"my son has had different experience of them and didn't get such a good quote forequest motor insurance\",\n",
              "  'pred_prob': array([-0.06618588, -2.7481987 ], dtype=float32),\n",
              "  'sentiment': 'Negative'},\n",
              " {'Entity': 'renewal quote',\n",
              "  'Sentence': 'found cheaper renewal quote',\n",
              "  'pred_prob': array([-7.8179188e+00, -4.0248877e-04], dtype=float32),\n",
              "  'sentiment': 'Positive'},\n",
              " {'Entity': 'insurance',\n",
              "  'Sentence': 'its okay but offer for motor insurance was a wild estimate compared with reentering details on website and getting a new quote, about 30% different.',\n",
              "  'pred_prob': array([-6.4899969e+00, -1.5197168e-03], dtype=float32),\n",
              "  'sentiment': 'Positive'},\n",
              " {'Entity': 'deal',\n",
              "  'Sentence': 'they are not always the best deal.',\n",
              "  'pred_prob': array([-2.6549587e-03, -5.9326391e+00], dtype=float32),\n",
              "  'sentiment': 'Negative'},\n",
              " {'Entity': 'claims',\n",
              "  'Sentence': 'took a lot of phones to get them to complete on a claim',\n",
              "  'pred_prob': array([-0.00678107, -4.9970183 ], dtype=float32),\n",
              "  'sentiment': 'Negative'},\n",
              " {'Entity': 'problem',\n",
              "  'Sentence': 'never had a problem with them',\n",
              "  'pred_prob': array([-0.01373754, -4.2944813 ], dtype=float32),\n",
              "  'sentiment': 'Negative'},\n",
              " {'Entity': 'claims',\n",
              "  'Sentence': \"there price for renewal jumps up massively even if you haven't made a claim\",\n",
              "  'pred_prob': array([-2.6291588e-03, -5.9424095e+00], dtype=float32),\n",
              "  'sentiment': 'Negative'},\n",
              " {'Entity': 'insurance',\n",
              "  'Sentence': 'prices for car insurance could be lower',\n",
              "  'pred_prob': array([-0.00594301, -5.1285005 ], dtype=float32),\n",
              "  'sentiment': 'Negative'},\n",
              " {'Entity': 'problem',\n",
              "  'Sentence': 'i have been with aviva for some time and have not had a problem with them at all.',\n",
              "  'pred_prob': array([-2.0541217 , -0.13720146], dtype=float32),\n",
              "  'sentiment': 'Positive'},\n",
              " {'Entity': 'problem',\n",
              "  'Sentence': 'never had a problem with them neither with premium or claim.',\n",
              "  'pred_prob': array([-2.6122753e-03, -5.9488435e+00], dtype=float32),\n",
              "  'sentiment': 'Negative'},\n",
              " {'Entity': 'problem',\n",
              "  'Sentence': 'never had a problem with aviva and',\n",
              "  'pred_prob': array([-4.683952e-03, -5.365947e+00], dtype=float32),\n",
              "  'sentiment': 'Negative'},\n",
              " {'Entity': 'quote',\n",
              "  'Sentence': 'can always get a few bob knocked off quote when i phone.',\n",
              "  'pred_prob': array([-4.3706610e-03, -5.4350233e+00], dtype=float32),\n",
              "  'sentiment': 'Negative'},\n",
              " {'Entity': 'quote',\n",
              "  'Sentence': 'loyal customers always have to shop around, get a better quote and aviva then find a discount.',\n",
              "  'pred_prob': array([-7.2266898e+00, -7.2715065e-04], dtype=float32),\n",
              "  'sentiment': 'Positive'},\n",
              " {'Entity': 'quote',\n",
              "  'Sentence': 'i had to get back to them for a better quote when renewing i think they could have given me the lower quote in the first place',\n",
              "  'pred_prob': array([-0.045141 , -3.1204488], dtype=float32),\n",
              "  'sentiment': 'Negative'},\n",
              " {'Entity': 'insurance',\n",
              "  'Sentence': 'insurance cost are to high',\n",
              "  'pred_prob': array([-0.00606956, -5.1074963 ], dtype=float32),\n",
              "  'sentiment': 'Negative'},\n",
              " {'Entity': 'service',\n",
              "  'Sentence': 'i dont like the customer service',\n",
              "  'pred_prob': array([-0.16771734, -1.8681623 ], dtype=float32),\n",
              "  'sentiment': 'Negative'},\n",
              " {'Entity': 'insurance',\n",
              "  'Sentence': 'their car insurance is to high',\n",
              "  'pred_prob': array([-6.6965156e+00, -1.2359131e-03], dtype=float32),\n",
              "  'sentiment': 'Positive'},\n",
              " {'Entity': 'insurance',\n",
              "  'Sentence': 'no insurance company is perfect',\n",
              "  'pred_prob': array([-3.131488e-03, -5.767807e+00], dtype=float32),\n",
              "  'sentiment': 'Negative'},\n",
              " {'Entity': 'insurance',\n",
              "  'Sentence': 'they have remained more realistic with insurance prices than other companies',\n",
              "  'pred_prob': array([-3.636716  , -0.02669179], dtype=float32),\n",
              "  'sentiment': 'Positive'},\n",
              " {'Entity': 'deal',\n",
              "  'Sentence': 'could give a better deal on my own car insurance',\n",
              "  'pred_prob': array([-6.0459991e+00, -2.3701692e-03], dtype=float32),\n",
              "  'sentiment': 'Positive'},\n",
              " {'Entity': 'renewal',\n",
              "  'Sentence': \"because they've never let me down and are only charging a below inflation charge for my renewal\",\n",
              "  'pred_prob': array([-0.01700499, -4.082741  ], dtype=float32),\n",
              "  'sentiment': 'Negative'},\n",
              " {'Entity': 'discount',\n",
              "  'Sentence': 'never had any trouble with them and i get a discount as the people i work for use them',\n",
              "  'pred_prob': array([-0.25834745, -1.4798441 ], dtype=float32),\n",
              "  'sentiment': 'Negative'},\n",
              " {'Entity': 'service',\n",
              "  'Sentence': 'some customer service issues',\n",
              "  'pred_prob': array([-2.966746  , -0.05284239], dtype=float32),\n",
              "  'sentiment': 'Positive'},\n",
              " {'Entity': 'service',\n",
              "  'Sentence': 'rubbish customer service',\n",
              "  'pred_prob': array([-0.0103178, -4.579035 ], dtype=float32),\n",
              "  'sentiment': 'Negative'},\n",
              " {'Entity': 'service',\n",
              "  'Sentence': 'rubbish customer service',\n",
              "  'pred_prob': array([-0.01103701, -4.5120106 ], dtype=float32),\n",
              "  'sentiment': 'Negative'},\n",
              " {'Entity': 'renewal',\n",
              "  'Sentence': \"because they've never let me down and are only charging a below inflation charge for my renewal\",\n",
              "  'pred_prob': array([-0.0157436, -4.159181 ], dtype=float32),\n",
              "  'sentiment': 'Negative'},\n",
              " {'Entity': 'experience',\n",
              "  'Sentence': 'good service, but not enough experience to recommend fully',\n",
              "  'pred_prob': array([-0.0769453, -2.6028857], dtype=float32),\n",
              "  'sentiment': 'Negative'},\n",
              " {'Entity': 'premium',\n",
              "  'Sentence': 'the premium has gone up a lot this month',\n",
              "  'pred_prob': array([-4.77092e-03, -5.34761e+00], dtype=float32),\n",
              "  'sentiment': 'Negative'},\n",
              " {'Entity': 'premium',\n",
              "  'Sentence': 'the premium has gone up a lot this month',\n",
              "  'pred_prob': array([-3.9998065e-03, -5.5235186e+00], dtype=float32),\n",
              "  'sentiment': 'Negative'},\n",
              " {'Entity': 'information',\n",
              "  'Sentence': 'i would like more communication and information from their part.',\n",
              "  'pred_prob': array([-6.6389966e+00, -1.3092527e-03], dtype=float32),\n",
              "  'sentiment': 'Positive'},\n",
              " {'Entity': 'service',\n",
              "  'Sentence': 'some customer service issues',\n",
              "  'pred_prob': array([-3.2150779 , -0.04098056], dtype=float32),\n",
              "  'sentiment': 'Positive'},\n",
              " {'Entity': 'information',\n",
              "  'Sentence': 'i would like more communication and information from their part.',\n",
              "  'pred_prob': array([-6.5098076e+00, -1.4898402e-03], dtype=float32),\n",
              "  'sentiment': 'Positive'},\n",
              " {'Entity': 'customer',\n",
              "  'Sentence': \"compnay's interest overshadows the customer's interest\",\n",
              "  'pred_prob': array([-3.4155583 , -0.03341003], dtype=float32),\n",
              "  'sentiment': 'Positive'},\n",
              " {'Entity': 'claim',\n",
              "  'Sentence': 'good so far but never having to make a claim',\n",
              "  'pred_prob': array([-5.0310679e-03, -5.2946305e+00], dtype=float32),\n",
              "  'sentiment': 'Negative'},\n",
              " {'Entity': 'customer',\n",
              "  'Sentence': \"compnay's interest overshadows the customer's interest\",\n",
              "  'pred_prob': array([-3.3738048 , -0.03485958], dtype=float32),\n",
              "  'sentiment': 'Positive'},\n",
              " {'Entity': 'premium',\n",
              "  'Sentence': 'premiums are quite high for the insurance',\n",
              "  'pred_prob': array([-0.00884177, -4.732692  ], dtype=float32),\n",
              "  'sentiment': 'Negative'},\n",
              " {'Entity': 'discount',\n",
              "  'Sentence': 'never had any trouble with them and i get a discount as the people i work for use them',\n",
              "  'pred_prob': array([-0.26046076, -1.4727081 ], dtype=float32),\n",
              "  'sentiment': 'Negative'},\n",
              " {'Entity': 'renewal',\n",
              "  'Sentence': \"because they've never let me down and are only charging a below inflation charge for my renewal\",\n",
              "  'pred_prob': array([-0.01972804, -3.9355597 ], dtype=float32),\n",
              "  'sentiment': 'Negative'},\n",
              " {'Entity': 'discount',\n",
              "  'Sentence': 'never had any trouble with them and i get a discount as the people i work for use them',\n",
              "  'pred_prob': array([-0.25657162, -1.4858918 ], dtype=float32),\n",
              "  'sentiment': 'Negative'},\n",
              " {'Entity': 'information',\n",
              "  'Sentence': 'i would like more communication and information from their part.',\n",
              "  'pred_prob': array([-7.150973e+00, -7.844470e-04], dtype=float32),\n",
              "  'sentiment': 'Positive'},\n",
              " {'Entity': 'information',\n",
              "  'Sentence': 'i would like more communication and information from their part.',\n",
              "  'pred_prob': array([-6.9012318e+00, -1.0070497e-03], dtype=float32),\n",
              "  'sentiment': 'Positive'},\n",
              " {'Entity': 'customer',\n",
              "  'Sentence': \"compnay's interest overshadows the customer's interest\",\n",
              "  'pred_prob': array([-3.3629467 , -0.03524702], dtype=float32),\n",
              "  'sentiment': 'Positive'},\n",
              " {'Entity': 'service',\n",
              "  'Sentence': 'some customer service issues',\n",
              "  'pred_prob': array([-2.8982964 , -0.05669416], dtype=float32),\n",
              "  'sentiment': 'Positive'},\n",
              " {'Entity': 'service',\n",
              "  'Sentence': 'some customer service issues',\n",
              "  'pred_prob': array([-3.1572628 , -0.04347347], dtype=float32),\n",
              "  'sentiment': 'Positive'},\n",
              " {'Entity': 'service',\n",
              "  'Sentence': 'rubbish customer service',\n",
              "  'pred_prob': array([-0.01262812, -4.3781347 ], dtype=float32),\n",
              "  'sentiment': 'Negative'},\n",
              " {'Entity': 'service',\n",
              "  'Sentence': 'rubbish customer service',\n",
              "  'pred_prob': array([-0.01135565, -4.483716  ], dtype=float32),\n",
              "  'sentiment': 'Negative'},\n",
              " {'Entity': 'renewal',\n",
              "  'Sentence': \"because they've never let me down and are only charging a below inflation charge for my renewal\",\n",
              "  'pred_prob': array([-0.01574454, -4.1591215 ], dtype=float32),\n",
              "  'sentiment': 'Negative'},\n",
              " {'Entity': 'experience',\n",
              "  'Sentence': 'good service, but not enough experience to recommend fully',\n",
              "  'pred_prob': array([-0.08548137, -2.5018935 ], dtype=float32),\n",
              "  'sentiment': 'Negative'},\n",
              " {'Entity': 'premium',\n",
              "  'Sentence': 'the premium has gone up a lot this month',\n",
              "  'pred_prob': array([-5.0777998e-03, -5.2854223e+00], dtype=float32),\n",
              "  'sentiment': 'Negative'},\n",
              " {'Entity': 'premium',\n",
              "  'Sentence': 'the premium has gone up a lot this month',\n",
              "  'pred_prob': array([-2.7422227e-03, -5.9003577e+00], dtype=float32),\n",
              "  'sentiment': 'Negative'},\n",
              " {'Entity': 'claim',\n",
              "  'Sentence': 'good so far but never having to make a claim',\n",
              "  'pred_prob': array([-3.6153924e-03, -5.6243768e+00], dtype=float32),\n",
              "  'sentiment': 'Negative'},\n",
              " {'Entity': 'customer',\n",
              "  'Sentence': \"compnay's interest overshadows the customer's interest\",\n",
              "  'pred_prob': array([-3.6158357 , -0.02726269], dtype=float32),\n",
              "  'sentiment': 'Positive'},\n",
              " {'Entity': 'premium',\n",
              "  'Sentence': 'premiums are quite high for the insurance',\n",
              "  'pred_prob': array([-0.01074694, -4.5385084 ], dtype=float32),\n",
              "  'sentiment': 'Negative'},\n",
              " {'Entity': 'discount',\n",
              "  'Sentence': 'never had any trouble with them and i get a discount as the people i work for use them',\n",
              "  'pred_prob': array([-0.2887855, -1.3829913], dtype=float32),\n",
              "  'sentiment': 'Negative'},\n",
              " {'Entity': 'offer',\n",
              "  'Sentence': 'its okay but offer for motor insurance was a wild estimate compared with reentering details on website and getting a new quote, about 30% different.',\n",
              "  'pred_prob': array([-6.6127534e+00, -1.3440156e-03], dtype=float32),\n",
              "  'sentiment': 'Positive'},\n",
              " {'Entity': 'hassle',\n",
              "  'Sentence': 'i think they charge too much but then think that all insurance charge as much as they can get away with and friends who have had claims tell me of the quibbles and hassle they have',\n",
              "  'pred_prob': array([-3.657558e-03, -5.612775e+00], dtype=float32),\n",
              "  'sentiment': 'Negative'},\n",
              " {'Entity': 'service',\n",
              "  'Sentence': 'good policy but customer service issues',\n",
              "  'pred_prob': array([-6.9695301e+00, -9.4059564e-04], dtype=float32),\n",
              "  'sentiment': 'Positive'},\n",
              " {'Entity': 'insurance',\n",
              "  'Sentence': \"my son has had different experience of them and didn't get such a good quote forequest motor insurance\",\n",
              "  'pred_prob': array([-0.0598633, -2.8454738], dtype=float32),\n",
              "  'sentiment': 'Negative'},\n",
              " {'Entity': 'renewal quote',\n",
              "  'Sentence': 'found cheaper renewal quote',\n",
              "  'pred_prob': array([-7.5686431e+00, -5.1651965e-04], dtype=float32),\n",
              "  'sentiment': 'Positive'},\n",
              " {'Entity': 'insurance',\n",
              "  'Sentence': 'prices for car insurance could be lower',\n",
              "  'pred_prob': array([-0.00584085, -5.1457973 ], dtype=float32),\n",
              "  'sentiment': 'Negative'},\n",
              " {'Entity': 'claims',\n",
              "  'Sentence': \"there price for renewal jumps up massively even if you haven't made a claim\",\n",
              "  'pred_prob': array([-2.2063931e-03, -6.1174955e+00], dtype=float32),\n",
              "  'sentiment': 'Negative'},\n",
              " {'Entity': 'insurance',\n",
              "  'Sentence': 'its okay but offer for motor insurance was a wild estimate compared with reentering details on website and getting a new quote, about 30% different.',\n",
              "  'pred_prob': array([-6.1981287e+00, -2.0353333e-03], dtype=float32),\n",
              "  'sentiment': 'Positive'},\n",
              " {'Entity': 'deal',\n",
              "  'Sentence': 'they are not always the best deal.',\n",
              "  'pred_prob': array([-2.1841498e-03, -6.1276407e+00], dtype=float32),\n",
              "  'sentiment': 'Negative'},\n",
              " {'Entity': 'claims',\n",
              "  'Sentence': 'took a lot of phones to get them to complete on a claim',\n",
              "  'pred_prob': array([-4.9871807e-03, -5.3033881e+00], dtype=float32),\n",
              "  'sentiment': 'Negative'},\n",
              " {'Entity': 'problem',\n",
              "  'Sentence': 'never had a problem with them',\n",
              "  'pred_prob': array([-0.01670433, -4.100431  ], dtype=float32),\n",
              "  'sentiment': 'Negative'},\n",
              " {'Entity': 'discount',\n",
              "  'Sentence': 'they look after me and are very reasonable, i always get a discount when i ring them.',\n",
              "  'pred_prob': array([-7.1918206e+00, -7.5299991e-04], dtype=float32),\n",
              "  'sentiment': 'Positive'},\n",
              " {'Entity': 'problem',\n",
              "  'Sentence': 'i have been with aviva for some time and have not had a problem with them at all.',\n",
              "  'pred_prob': array([-2.264103  , -0.10972913], dtype=float32),\n",
              "  'sentiment': 'Positive'},\n",
              " {'Entity': 'problem',\n",
              "  'Sentence': 'never had a problem with them neither with premium or claim.',\n",
              "  'pred_prob': array([-4.052879e-03, -5.510350e+00], dtype=float32),\n",
              "  'sentiment': 'Negative'},\n",
              " {'Entity': 'problem',\n",
              "  'Sentence': 'never had a problem with aviva and',\n",
              "  'pred_prob': array([-0.00606601, -5.10809   ], dtype=float32),\n",
              "  'sentiment': 'Negative'},\n",
              " {'Entity': 'hassle',\n",
              "  'Sentence': 'because the billing is sometimes a hassle',\n",
              "  'pred_prob': array([-2.4450903e-03, -6.0148973e+00], dtype=float32),\n",
              "  'sentiment': 'Negative'},\n",
              " {'Entity': 'excess',\n",
              "  'Sentence': 'to little cover, to much excess',\n",
              "  'pred_prob': array([-1.8306893e-03, -6.3039975e+00], dtype=float32),\n",
              "  'sentiment': 'Negative'},\n",
              " {'Entity': 'cost',\n",
              "  'Sentence': \"don't suit everyone, cost of premium, unfriendly staff\",\n",
              "  'pred_prob': array([-3.5746503e-03, -5.6356893e+00], dtype=float32),\n",
              "  'sentiment': 'Negative'},\n",
              " {'Entity': 'cost',\n",
              "  'Sentence': \"don't suit everyone, cost of premium, unfriendly staff\",\n",
              "  'pred_prob': array([-2.7731317e-03, -5.8891473e+00], dtype=float32),\n",
              "  'sentiment': 'Negative'},\n",
              " {'Entity': 'excess',\n",
              "  'Sentence': 'it is quite expensive, high excess and you cant have some benefits unless you pay a lot more',\n",
              "  'pred_prob': array([-3.0233411e-03, -5.8029222e+00], dtype=float32),\n",
              "  'sentiment': 'Negative'},\n",
              " {'Entity': 'providers',\n",
              "  'Sentence': 'price competitiveness could be called into question given that many providers have recently lowered their offer',\n",
              "  'pred_prob': array([-0.18885453, -1.7597196 ], dtype=float32),\n",
              "  'sentiment': 'Negative'},\n",
              " {'Entity': 'staff',\n",
              "  'Sentence': \"don't suit everyone, cost of premium, unfriendly staff\",\n",
              "  'pred_prob': array([-3.1425399e-03, -5.7642989e+00], dtype=float32),\n",
              "  'sentiment': 'Negative'},\n",
              " {'Entity': 'policy',\n",
              "  'Sentence': \"i haven't used the insurance as of yet but from what has been offered i am happy\",\n",
              "  'pred_prob': array([-0.2173433, -1.6329815], dtype=float32),\n",
              "  'sentiment': 'Negative'},\n",
              " {'Entity': 'claim',\n",
              "  'Sentence': \"my late husband's cancer care was covered, no quibbles, no fuss, a huge claim.\",\n",
              "  'pred_prob': array([-4.075173  , -0.01713519], dtype=float32),\n",
              "  'sentiment': 'Positive'},\n",
              " {'Entity': 'providers',\n",
              "  'Sentence': 'price competitiveness could be called into question given that many providers have recently lowered their offer',\n",
              "  'pred_prob': array([-0.21768683, -1.6315675 ], dtype=float32),\n",
              "  'sentiment': 'Negative'},\n",
              " {'Entity': 'staff',\n",
              "  'Sentence': \"don't suit everyone, cost of premium, unfriendly staff\",\n",
              "  'pred_prob': array([-3.0560242e-03, -5.7921729e+00], dtype=float32),\n",
              "  'sentiment': 'Negative'},\n",
              " {'Entity': 'hassle',\n",
              "  'Sentence': 'because the billing is sometimes a hassle',\n",
              "  'pred_prob': array([-3.4629873e-03, -5.6673679e+00], dtype=float32),\n",
              "  'sentiment': 'Negative'},\n",
              " ...]"
            ]
          },
          "metadata": {
            "tags": []
          },
          "execution_count": 254
        }
      ]
    },
    {
      "cell_type": "code",
      "metadata": {
        "id": "uMjuVw6WUHcE",
        "colab_type": "code",
        "colab": {}
      },
      "source": [
        ""
      ],
      "execution_count": 0,
      "outputs": []
    }
  ]
}
